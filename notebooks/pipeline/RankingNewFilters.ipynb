{
 "cells": [
  {
   "cell_type": "code",
   "execution_count": 8,
   "id": "6a863de5",
   "metadata": {
    "scrolled": true
   },
   "outputs": [
    {
     "name": "stdout",
     "output_type": "stream",
     "text": [
      "Requirement already satisfied: pyarrow in /Users/rose/opt/anaconda3/lib/python3.9/site-packages (11.0.0)\r\n",
      "Requirement already satisfied: numpy>=1.16.6 in /Users/rose/opt/anaconda3/lib/python3.9/site-packages (from pyarrow) (1.21.5)\r\n"
     ]
    }
   ],
   "source": [
    "%run Imports.ipynb"
   ]
  },
  {
   "cell_type": "code",
   "execution_count": 9,
   "id": "0949cff6",
   "metadata": {},
   "outputs": [],
   "source": [
    "import warnings\n",
    "warnings.simplefilter('ignore')"
   ]
  },
  {
   "cell_type": "code",
   "execution_count": 10,
   "id": "cad0eadf",
   "metadata": {
    "scrolled": true
   },
   "outputs": [],
   "source": [
    "conf = pyspark.SparkConf()\n",
    "spark = SparkSession.builder.appName(\"Rank\").getOrCreate()"
   ]
  },
  {
   "cell_type": "code",
   "execution_count": 11,
   "id": "021fabff",
   "metadata": {},
   "outputs": [],
   "source": [
    "#df1=spark.read.parquet(\"output_2202508.parquet\")"
   ]
  },
  {
   "cell_type": "code",
   "execution_count": 12,
   "id": "e8c7a72e",
   "metadata": {},
   "outputs": [],
   "source": [
    "df1=spark.read.parquet(\"/Users/rose/Documents/CleanDuneData/*\")"
   ]
  },
  {
   "cell_type": "code",
   "execution_count": 13,
   "id": "b9eb1102",
   "metadata": {},
   "outputs": [],
   "source": [
    "#path = \"C:/Users/MAITRI/OneDrive/Documents/load_m/*\"\n",
    "#path = \"C:/path/to/parquet/files\"\n",
    "\n",
    "# Use spark.read.parquet() to read all the Parquet files in the folder\n",
    "#df = spark.read.parquet(path)\n"
   ]
  },
  {
   "cell_type": "code",
   "execution_count": 14,
   "id": "982c8775",
   "metadata": {},
   "outputs": [
    {
     "data": {
      "text/plain": [
       "3898970"
      ]
     },
     "execution_count": 14,
     "metadata": {},
     "output_type": "execute_result"
    }
   ],
   "source": [
    "df1.count()"
   ]
  },
  {
   "cell_type": "code",
   "execution_count": 15,
   "id": "a09902d3",
   "metadata": {},
   "outputs": [],
   "source": [
    "df1.createOrReplaceTempView(\"Load\")"
   ]
  },
  {
   "cell_type": "markdown",
   "id": "381768bf",
   "metadata": {},
   "source": [
    "Main Query"
   ]
  },
  {
   "cell_type": "code",
   "execution_count": 16,
   "id": "beba8ea8",
   "metadata": {},
   "outputs": [],
   "source": [
    "df_all = spark.sql(\"SELECT * FROM ( SELECT n1.buyer, n1.original_currency, n1.nft_token_id, n1.nft_contract_address, n1.original_amount as Bought, n2.original_amount as Sold, n1.block_time as Bought_Timestamp, n2.block_time as Sold_Timestamp,n1.usd_amount as Bought_amount, n2.usd_amount as Sold_amount, (n2.usd_amount - n1.usd_amount) as net, n1.platform as n1platform, n2.platform as n2platform FROM Load n1, Load n2 where n1.buyer = n2.seller AND  n2.block_time > n1.block_time AND  n1.nft_token_id is not null AND n1.nft_token_id = n2.nft_token_id AND n1.nft_contract_address = n2.nft_contract_address) holdings\")"
   ]
  },
  {
   "cell_type": "code",
   "execution_count": 17,
   "id": "6bffd600",
   "metadata": {},
   "outputs": [
    {
     "data": {
      "text/plain": [
       "['buyer',\n",
       " 'original_currency',\n",
       " 'nft_token_id',\n",
       " 'nft_contract_address',\n",
       " 'Bought',\n",
       " 'Sold',\n",
       " 'Bought_Timestamp',\n",
       " 'Sold_Timestamp',\n",
       " 'Bought_amount',\n",
       " 'Sold_amount',\n",
       " 'net',\n",
       " 'n1platform',\n",
       " 'n2platform']"
      ]
     },
     "execution_count": 17,
     "metadata": {},
     "output_type": "execute_result"
    }
   ],
   "source": [
    "df_all.columns"
   ]
  },
  {
   "cell_type": "code",
   "execution_count": 18,
   "id": "5707991c",
   "metadata": {},
   "outputs": [
    {
     "data": {
      "text/plain": [
       "StructType([StructField('buyer', StringType(), True), StructField('original_currency', StringType(), True), StructField('nft_token_id', StringType(), True), StructField('nft_contract_address', StringType(), True), StructField('Bought', DoubleType(), True), StructField('Sold', DoubleType(), True), StructField('Bought_Timestamp', TimestampType(), True), StructField('Sold_Timestamp', TimestampType(), True), StructField('Bought_amount', DoubleType(), True), StructField('Sold_amount', DoubleType(), True), StructField('net', DoubleType(), True), StructField('n1platform', StringType(), True), StructField('n2platform', StringType(), True)])"
      ]
     },
     "execution_count": 18,
     "metadata": {},
     "output_type": "execute_result"
    }
   ],
   "source": [
    "df_all.schema"
   ]
  },
  {
   "cell_type": "code",
   "execution_count": 19,
   "id": "457f8936",
   "metadata": {},
   "outputs": [
    {
     "data": {
      "text/plain": [
       "pyspark.sql.dataframe.DataFrame"
      ]
     },
     "execution_count": 19,
     "metadata": {},
     "output_type": "execute_result"
    }
   ],
   "source": [
    "type(df_all)"
   ]
  },
  {
   "cell_type": "code",
   "execution_count": 20,
   "id": "28063341",
   "metadata": {
    "scrolled": false
   },
   "outputs": [
    {
     "name": "stderr",
     "output_type": "stream",
     "text": [
      "[Stage 9:>                                                          (0 + 1) / 1]\r"
     ]
    },
    {
     "name": "stdout",
     "output_type": "stream",
     "text": [
      "+--------------------+-------------+------------+-------------------+\n",
      "|               buyer|Bought_amount| Sold_amount|                net|\n",
      "+--------------------+-------------+------------+-------------------+\n",
      "|\\x0000005c7dc69d4...|    837.48308|    1078.273| 240.78991999999994|\n",
      "|\\x00003e81818a2f1...|   125.698549|  173.522188|          47.823639|\n",
      "|\\x0005bb8bdcbbf4a...|     775.9004|   1133.2491|           357.3487|\n",
      "|\\x00079e801ad1382...|    178.37568|   1289.0346| 1110.6589199999999|\n",
      "|\\x000cd27f10dffac...|     1405.935|   55277.167|          53871.232|\n",
      "|\\x000cef8f0ab0a2f...|    694.86968|1094.2062762| 399.33659620000003|\n",
      "|\\x000e0ed8a7307e1...|      905.931|   519.35032|-386.58068000000003|\n",
      "|\\x00110e09134aec0...|   200.720832|   188.68224|-12.038591999999994|\n",
      "|\\x00110e09134aec0...|   200.720832|  250.395432|            49.6746|\n",
      "|\\x00110e09134aec0...|   200.720832|   278.09376|  77.37292799999997|\n",
      "|\\x00110e09134aec0...|   200.720832|  248.424224|  47.70339200000001|\n",
      "|\\x00110e09134aec0...|   200.720832|  292.940582|           92.21975|\n",
      "|\\x00110e09134aec0...|   200.720832|  283.329662|  82.60882999999998|\n",
      "|\\x00110e09134aec0...|   200.720832|  230.800152| 30.079319999999996|\n",
      "|\\x00110e09134aec0...|   200.720832|  290.128548|  89.40771600000002|\n",
      "|\\x00110e09134aec0...|   268.121488|   278.09376|  9.972271999999975|\n",
      "|\\x00110e09134aec0...|   268.121488|  248.424224| -19.69726399999999|\n",
      "|\\x00110e09134aec0...|   268.121488|  292.940582| 24.819094000000007|\n",
      "|\\x00110e09134aec0...|   268.121488|  283.329662| 15.208173999999985|\n",
      "|\\x00110e09134aec0...|   268.121488|  230.800152|         -37.321336|\n",
      "+--------------------+-------------+------------+-------------------+\n",
      "only showing top 20 rows\n",
      "\n"
     ]
    },
    {
     "name": "stderr",
     "output_type": "stream",
     "text": [
      "                                                                                \r"
     ]
    }
   ],
   "source": [
    "df_all.select('buyer','Bought_amount','Sold_amount','net').show(20)"
   ]
  },
  {
   "cell_type": "markdown",
   "id": "9e81195c",
   "metadata": {},
   "source": [
    "# Ranking 1 - average amount spent (here profit , loss automatically done)"
   ]
  },
  {
   "cell_type": "code",
   "execution_count": 21,
   "id": "de84dae1",
   "metadata": {},
   "outputs": [
    {
     "name": "stderr",
     "output_type": "stream",
     "text": [
      "[Stage 14:>                                                        (0 + 8) / 10]\r"
     ]
    },
    {
     "name": "stdout",
     "output_type": "stream",
     "text": [
      "23/04/19 11:47:13 WARN RowBasedKeyValueBatch: Calling spill() on RowBasedKeyValueBatch. Will not spill but return 0.\n",
      "23/04/19 11:47:13 WARN RowBasedKeyValueBatch: Calling spill() on RowBasedKeyValueBatch. Will not spill but return 0.\n",
      "23/04/19 11:47:13 WARN RowBasedKeyValueBatch: Calling spill() on RowBasedKeyValueBatch. Will not spill but return 0.\n",
      "23/04/19 11:47:13 WARN RowBasedKeyValueBatch: Calling spill() on RowBasedKeyValueBatch. Will not spill but return 0.\n",
      "23/04/19 11:47:13 WARN RowBasedKeyValueBatch: Calling spill() on RowBasedKeyValueBatch. Will not spill but return 0.\n",
      "23/04/19 11:47:13 WARN RowBasedKeyValueBatch: Calling spill() on RowBasedKeyValueBatch. Will not spill but return 0.\n",
      "23/04/19 11:47:13 WARN RowBasedKeyValueBatch: Calling spill() on RowBasedKeyValueBatch. Will not spill but return 0.\n",
      "23/04/19 11:47:13 WARN RowBasedKeyValueBatch: Calling spill() on RowBasedKeyValueBatch. Will not spill but return 0.\n",
      "23/04/19 11:47:15 WARN RowBasedKeyValueBatch: Calling spill() on RowBasedKeyValueBatch. Will not spill but return 0.\n",
      "23/04/19 11:47:15 WARN RowBasedKeyValueBatch: Calling spill() on RowBasedKeyValueBatch. Will not spill but return 0.\n",
      "23/04/19 11:47:15 WARN RowBasedKeyValueBatch: Calling spill() on RowBasedKeyValueBatch. Will not spill but return 0.\n",
      "23/04/19 11:47:15 WARN RowBasedKeyValueBatch: Calling spill() on RowBasedKeyValueBatch. Will not spill but return 0.\n",
      "23/04/19 11:47:16 WARN RowBasedKeyValueBatch: Calling spill() on RowBasedKeyValueBatch. Will not spill but return 0.\n",
      "23/04/19 11:47:16 WARN RowBasedKeyValueBatch: Calling spill() on RowBasedKeyValueBatch. Will not spill but return 0.\n",
      "23/04/19 11:47:16 WARN RowBasedKeyValueBatch: Calling spill() on RowBasedKeyValueBatch. Will not spill but return 0.\n",
      "23/04/19 11:47:16 WARN RowBasedKeyValueBatch: Calling spill() on RowBasedKeyValueBatch. Will not spill but return 0.\n",
      "23/04/19 11:47:16 WARN RowBasedKeyValueBatch: Calling spill() on RowBasedKeyValueBatch. Will not spill but return 0.\n",
      "23/04/19 11:47:16 WARN RowBasedKeyValueBatch: Calling spill() on RowBasedKeyValueBatch. Will not spill but return 0.\n",
      "23/04/19 11:47:16 WARN RowBasedKeyValueBatch: Calling spill() on RowBasedKeyValueBatch. Will not spill but return 0.\n",
      "23/04/19 11:47:16 WARN RowBasedKeyValueBatch: Calling spill() on RowBasedKeyValueBatch. Will not spill but return 0.\n",
      "23/04/19 11:47:16 WARN RowBasedKeyValueBatch: Calling spill() on RowBasedKeyValueBatch. Will not spill but return 0.\n",
      "23/04/19 11:47:16 WARN RowBasedKeyValueBatch: Calling spill() on RowBasedKeyValueBatch. Will not spill but return 0.\n",
      "23/04/19 11:47:16 WARN RowBasedKeyValueBatch: Calling spill() on RowBasedKeyValueBatch. Will not spill but return 0.\n",
      "23/04/19 11:47:17 WARN RowBasedKeyValueBatch: Calling spill() on RowBasedKeyValueBatch. Will not spill but return 0.\n"
     ]
    },
    {
     "name": "stderr",
     "output_type": "stream",
     "text": [
      "                                                                                \r"
     ]
    },
    {
     "name": "stdout",
     "output_type": "stream",
     "text": [
      "                                             buyer    avg_spent     Score1\n",
      "1       \\x014fd068938fa1965be36a9244ddf6d37f6b88cb    89.940925  29.780646\n",
      "3       \\x0312b9e6627d9a49cf07a3b5af1f18ad8d8e39db  1866.865157  87.709605\n",
      "6       \\x06085d8c8d119a8a922c49610efb493f6f910772    41.081660  18.506226\n",
      "7       \\x0979ce762b7433fdce2a54cfef107d5295b81c4a   135.453858  37.572691\n",
      "8       \\x0a52279e62a5b7a9c1f3d4afa439e4fb9ec07edc    42.250928  18.829403\n",
      "...                                            ...          ...        ...\n",
      "186022  \\xc0c8146b7ba7be02b8bbb2c858f0633f223637d7  -318.002800   0.000000\n",
      "186027  \\xcfadfb9eebbaf3b5e85a256f260c195826bb5352  -488.890500   0.000000\n",
      "186029  \\xe0d3851eb01cde810436a054f4211e31a2fe0a82  -809.368120   0.000000\n",
      "186031  \\xe282780e50937a2490831e4539bbb5f3f564e004  -588.149493   0.000000\n",
      "186033  \\xed1efb8184a6d9498e98695087da3903376b925a -3484.871500   0.000000\n",
      "\n",
      "[186035 rows x 3 columns]\n",
      "[29.78064616 87.70960532 18.50622648 ... 37.86974233 31.29009473\n",
      "  0.        ]\n"
     ]
    }
   ],
   "source": [
    "df_avg = df_all.groupBy(\"buyer\").agg(avg(\"net\").alias(\"avg_spent\"))\n",
    "# score1 based on avg_spent\n",
    "df_rule_avg_spent_pd=df_avg.toPandas()\n",
    "\n",
    "# Calculate percentiles for customers with avg_spent > 0\n",
    "df_positive = df_rule_avg_spent_pd[df_rule_avg_spent_pd['avg_spent'] > 0]\n",
    "percentiles = df_positive['avg_spent'].rank(pct=True)\n",
    "df_positive['Score1'] = percentiles * 100\n",
    "\n",
    "# Set score to 0 for customers with avg_spent < 0\n",
    "df_negative = df_rule_avg_spent_pd[df_rule_avg_spent_pd['avg_spent'] <= 0]\n",
    "df_negative['Score1'] = 0\n",
    "\n",
    "# Combine positive and negative dataframes\n",
    "df_combined = pd.concat([df_positive, df_negative], axis=0)\n",
    "\n",
    "# Print result\n",
    "print(df_combined)\n",
    "print(df_combined['Score1'].unique())\n",
    "df_rule_avg_spent=spark.createDataFrame(df_combined)"
   ]
  },
  {
   "cell_type": "code",
   "execution_count": 22,
   "id": "4d60c3e0",
   "metadata": {},
   "outputs": [
    {
     "data": {
      "image/png": "[encoded data removed]",
      "text/plain": [
       "<Figure size 640x480 with 1 Axes>"
      ]
     },
     "metadata": {},
     "output_type": "display_data"
    }
   ],
   "source": [
    "plt.hist(df_combined[\"Score1\"])\n",
    "plt.xlabel(\"Score assigned\")\n",
    "plt.ylabel(\"No of users\")\n",
    "plt.title(\"\")\n",
    "plt.show()"
   ]
  },
  {
   "cell_type": "code",
   "execution_count": 23,
   "id": "e0d959c9",
   "metadata": {},
   "outputs": [
    {
     "data": {
      "image/png": "[encoded data removed]",
      "text/plain": [
       "<Figure size 640x480 with 1 Axes>"
      ]
     },
     "metadata": {},
     "output_type": "display_data"
    },
    {
     "data": {
      "image/png": "[encoded data removed]",
      "text/plain": [
       "<Figure size 640x480 with 1 Axes>"
      ]
     },
     "metadata": {},
     "output_type": "display_data"
    }
   ],
   "source": [
    "# import seaborn as sns\n",
    "df_combined['avg_spent'].plot.kde()\n",
    "plt.xlabel('avg_spent')\n",
    "plt.ylabel('Density')\n",
    "plt.title(\"\")\n",
    "plt.xlim(-25000,25000)\n",
    "plt.show()\n",
    "df_combined['Score1'].plot.kde()\n",
    "plt.xlabel('Score')\n",
    "plt.ylabel('Density')\n",
    "plt.title(\"\")\n",
    "plt.xlim(0,100)\n",
    "plt.show()\n",
    "\n",
    "# sns.kdeplot(data=df_rule_avg_spent_pd, x='avg_spent')\n",
    "# sns.set_xlim(0,2)\n",
    "# plt.show()"
   ]
  },
  {
   "cell_type": "code",
   "execution_count": 24,
   "id": "fb0e0fab",
   "metadata": {},
   "outputs": [
    {
     "name": "stderr",
     "output_type": "stream",
     "text": [
      "[Stage 20:==============================================>          (9 + 2) / 11]\r"
     ]
    },
    {
     "name": "stdout",
     "output_type": "stream",
     "text": [
      "23/04/19 11:47:50 WARN RowBasedKeyValueBatch: Calling spill() on RowBasedKeyValueBatch. Will not spill but return 0.\n",
      "23/04/19 11:47:50 WARN RowBasedKeyValueBatch: Calling spill() on RowBasedKeyValueBatch. Will not spill but return 0.\n",
      "23/04/19 11:47:50 WARN RowBasedKeyValueBatch: Calling spill() on RowBasedKeyValueBatch. Will not spill but return 0.\n",
      "23/04/19 11:47:50 WARN RowBasedKeyValueBatch: Calling spill() on RowBasedKeyValueBatch. Will not spill but return 0.\n",
      "23/04/19 11:47:50 WARN RowBasedKeyValueBatch: Calling spill() on RowBasedKeyValueBatch. Will not spill but return 0.\n",
      "23/04/19 11:47:50 WARN RowBasedKeyValueBatch: Calling spill() on RowBasedKeyValueBatch. Will not spill but return 0.\n",
      "23/04/19 11:47:50 WARN RowBasedKeyValueBatch: Calling spill() on RowBasedKeyValueBatch. Will not spill but return 0.\n",
      "23/04/19 11:47:50 WARN RowBasedKeyValueBatch: Calling spill() on RowBasedKeyValueBatch. Will not spill but return 0.\n"
     ]
    },
    {
     "name": "stderr",
     "output_type": "stream",
     "text": [
      "[Stage 23:>                                                        (0 + 8) / 10]\r"
     ]
    },
    {
     "name": "stdout",
     "output_type": "stream",
     "text": [
      "23/04/19 11:47:51 WARN RowBasedKeyValueBatch: Calling spill() on RowBasedKeyValueBatch. Will not spill but return 0.\n",
      "23/04/19 11:47:51 WARN RowBasedKeyValueBatch: Calling spill() on RowBasedKeyValueBatch. Will not spill but return 0.\n",
      "23/04/19 11:47:51 WARN RowBasedKeyValueBatch: Calling spill() on RowBasedKeyValueBatch. Will not spill but return 0.\n",
      "23/04/19 11:47:52 WARN RowBasedKeyValueBatch: Calling spill() on RowBasedKeyValueBatch. Will not spill but return 0.\n",
      "23/04/19 11:47:52 WARN RowBasedKeyValueBatch: Calling spill() on RowBasedKeyValueBatch. Will not spill but return 0.\n",
      "23/04/19 11:47:52 WARN RowBasedKeyValueBatch: Calling spill() on RowBasedKeyValueBatch. Will not spill but return 0.\n",
      "23/04/19 11:47:52 WARN RowBasedKeyValueBatch: Calling spill() on RowBasedKeyValueBatch. Will not spill but return 0.\n",
      "23/04/19 11:47:52 WARN RowBasedKeyValueBatch: Calling spill() on RowBasedKeyValueBatch. Will not spill but return 0.\n",
      "23/04/19 11:47:52 WARN RowBasedKeyValueBatch: Calling spill() on RowBasedKeyValueBatch. Will not spill but return 0.\n",
      "23/04/19 11:47:52 WARN RowBasedKeyValueBatch: Calling spill() on RowBasedKeyValueBatch. Will not spill but return 0.\n",
      "23/04/19 11:47:52 WARN RowBasedKeyValueBatch: Calling spill() on RowBasedKeyValueBatch. Will not spill but return 0.\n",
      "23/04/19 11:47:52 WARN RowBasedKeyValueBatch: Calling spill() on RowBasedKeyValueBatch. Will not spill but return 0.\n",
      "23/04/19 11:47:52 WARN RowBasedKeyValueBatch: Calling spill() on RowBasedKeyValueBatch. Will not spill but return 0.\n",
      "23/04/19 11:47:52 WARN RowBasedKeyValueBatch: Calling spill() on RowBasedKeyValueBatch. Will not spill but return 0.\n",
      "23/04/19 11:47:52 WARN RowBasedKeyValueBatch: Calling spill() on RowBasedKeyValueBatch. Will not spill but return 0.\n",
      "23/04/19 11:47:52 WARN RowBasedKeyValueBatch: Calling spill() on RowBasedKeyValueBatch. Will not spill but return 0.\n"
     ]
    },
    {
     "name": "stderr",
     "output_type": "stream",
     "text": [
      "                                                                                \r"
     ]
    },
    {
     "name": "stdout",
     "output_type": "stream",
     "text": [
      "                                             buyer    avg_spent  Score1\n",
      "0       \\x006b82530c7985fd0084382e866db39a6c5c0578  -252.267914      27\n",
      "1       \\x014fd068938fa1965be36a9244ddf6d37f6b88cb    89.940925      27\n",
      "2       \\x01981e7284ade335883f75927fae1b70fac44d71  -128.700244      27\n",
      "3       \\x0312b9e6627d9a49cf07a3b5af1f18ad8d8e39db  1866.865157      27\n",
      "4       \\x05379b307e6ae02e522fb134fad1254a4e7fbac1   -80.200510      27\n",
      "...                                            ...          ...     ...\n",
      "186030  \\xe25cf7322526cfef5ca841deb14323f9ada1234a  1839.846200      27\n",
      "186031  \\xe282780e50937a2490831e4539bbb5f3f564e004  -588.149493      27\n",
      "186032  \\xe73a7a0d3163d12ddf749c97433fac227e4cec3d   137.396000      27\n",
      "186033  \\xed1efb8184a6d9498e98695087da3903376b925a -3484.871500      27\n",
      "186034  \\xf49b67a2b2fc0904cb12a2c41c7d2007841c04a0    97.844091      27\n",
      "\n",
      "[186035 rows x 3 columns]\n"
     ]
    }
   ],
   "source": [
    "df_avg = df_all.groupBy(\"buyer\").agg(avg(\"net\").alias(\"avg_spent\"))\n",
    "# score1 based on avg_spent\n",
    "df_rule_avg_spent_pd=df_avg.toPandas()\n",
    "\n",
    "df_rule_avg_spent_pd.loc[df_rule_avg_spent_pd['avg_spent'] <= 0, 'Score1'] = 0\n",
    "\n",
    "\n",
    "hist, bins = pd.cut(df_rule_avg_spent_pd['avg_spent'], bins=100, labels=False, retbins=True, right=False)\n",
    "df_rule_avg_spent_pd['Score1'] = hist + 1\n",
    "\n",
    "print(df_rule_avg_spent_pd)"
   ]
  },
  {
   "cell_type": "markdown",
   "id": "49396215",
   "metadata": {},
   "source": [
    "# Ranking 2 - number of transactions"
   ]
  },
  {
   "cell_type": "code",
   "execution_count": 25,
   "id": "36b219fb",
   "metadata": {
    "scrolled": true
   },
   "outputs": [
    {
     "name": "stderr",
     "output_type": "stream",
     "text": [
      "[Stage 29:==============================================>          (9 + 2) / 11]\r"
     ]
    },
    {
     "name": "stdout",
     "output_type": "stream",
     "text": [
      "23/04/19 11:48:09 WARN RowBasedKeyValueBatch: Calling spill() on RowBasedKeyValueBatch. Will not spill but return 0.\n",
      "23/04/19 11:48:09 WARN RowBasedKeyValueBatch: Calling spill() on RowBasedKeyValueBatch. Will not spill but return 0.\n",
      "23/04/19 11:48:09 WARN RowBasedKeyValueBatch: Calling spill() on RowBasedKeyValueBatch. Will not spill but return 0.\n",
      "23/04/19 11:48:09 WARN RowBasedKeyValueBatch: Calling spill() on RowBasedKeyValueBatch. Will not spill but return 0.\n",
      "23/04/19 11:48:09 WARN RowBasedKeyValueBatch: Calling spill() on RowBasedKeyValueBatch. Will not spill but return 0.\n",
      "23/04/19 11:48:09 WARN RowBasedKeyValueBatch: Calling spill() on RowBasedKeyValueBatch. Will not spill but return 0.\n",
      "23/04/19 11:48:09 WARN RowBasedKeyValueBatch: Calling spill() on RowBasedKeyValueBatch. Will not spill but return 0.\n",
      "23/04/19 11:48:09 WARN RowBasedKeyValueBatch: Calling spill() on RowBasedKeyValueBatch. Will not spill but return 0.\n"
     ]
    },
    {
     "name": "stderr",
     "output_type": "stream",
     "text": [
      "[Stage 32:>                                                         (0 + 8) / 9]\r"
     ]
    },
    {
     "name": "stdout",
     "output_type": "stream",
     "text": [
      "23/04/19 11:48:10 WARN RowBasedKeyValueBatch: Calling spill() on RowBasedKeyValueBatch. Will not spill but return 0.\n",
      "23/04/19 11:48:10 WARN RowBasedKeyValueBatch: Calling spill() on RowBasedKeyValueBatch. Will not spill but return 0.\n",
      "23/04/19 11:48:11 WARN RowBasedKeyValueBatch: Calling spill() on RowBasedKeyValueBatch. Will not spill but return 0.\n",
      "23/04/19 11:48:11 WARN RowBasedKeyValueBatch: Calling spill() on RowBasedKeyValueBatch. Will not spill but return 0.\n",
      "23/04/19 11:48:11 WARN RowBasedKeyValueBatch: Calling spill() on RowBasedKeyValueBatch. Will not spill but return 0.\n",
      "23/04/19 11:48:11 WARN RowBasedKeyValueBatch: Calling spill() on RowBasedKeyValueBatch. Will not spill but return 0.\n",
      "23/04/19 11:48:11 WARN RowBasedKeyValueBatch: Calling spill() on RowBasedKeyValueBatch. Will not spill but return 0.\n",
      "23/04/19 11:48:11 WARN RowBasedKeyValueBatch: Calling spill() on RowBasedKeyValueBatch. Will not spill but return 0.\n",
      "23/04/19 11:48:11 WARN RowBasedKeyValueBatch: Calling spill() on RowBasedKeyValueBatch. Will not spill but return 0.\n",
      "23/04/19 11:48:11 WARN RowBasedKeyValueBatch: Calling spill() on RowBasedKeyValueBatch. Will not spill but return 0.\n",
      "23/04/19 11:48:11 WARN RowBasedKeyValueBatch: Calling spill() on RowBasedKeyValueBatch. Will not spill but return 0.\n",
      "23/04/19 11:48:11 WARN RowBasedKeyValueBatch: Calling spill() on RowBasedKeyValueBatch. Will not spill but return 0.\n",
      "23/04/19 11:48:11 WARN RowBasedKeyValueBatch: Calling spill() on RowBasedKeyValueBatch. Will not spill but return 0.\n",
      "23/04/19 11:48:11 WARN RowBasedKeyValueBatch: Calling spill() on RowBasedKeyValueBatch. Will not spill but return 0.\n",
      "23/04/19 11:48:12 WARN RowBasedKeyValueBatch: Calling spill() on RowBasedKeyValueBatch. Will not spill but return 0.\n",
      "23/04/19 11:48:12 WARN RowBasedKeyValueBatch: Calling spill() on RowBasedKeyValueBatch. Will not spill but return 0.\n"
     ]
    },
    {
     "name": "stderr",
     "output_type": "stream",
     "text": [
      "[Stage 32:===================>                                      (3 + 6) / 9]\r"
     ]
    },
    {
     "name": "stdout",
     "output_type": "stream",
     "text": [
      "23/04/19 11:48:16 WARN RowBasedKeyValueBatch: Calling spill() on RowBasedKeyValueBatch. Will not spill but return 0.\n"
     ]
    },
    {
     "name": "stderr",
     "output_type": "stream",
     "text": [
      "                                                                                \r"
     ]
    },
    {
     "name": "stdout",
     "output_type": "stream",
     "text": [
      "                                             buyer  number_txns     Score2\n",
      "0       \\x006b82530c7985fd0084382e866db39a6c5c0578           12  96.970194\n",
      "1       \\x014fd068938fa1965be36a9244ddf6d37f6b88cb           19  98.658586\n",
      "2       \\x01981e7284ade335883f75927fae1b70fac44d71           18  98.525009\n",
      "3       \\x0312b9e6627d9a49cf07a3b5af1f18ad8d8e39db            6  90.421964\n",
      "4       \\x03a3da04bd4a888ed473a9c6bd90a13165f78e72            1  26.398527\n",
      "...                                            ...          ...        ...\n",
      "186030  \\xe0d3851eb01cde810436a054f4211e31a2fe0a82            1  26.398527\n",
      "186031  \\xe25cf7322526cfef5ca841deb14323f9ada1234a            1  26.398527\n",
      "186032  \\xe282780e50937a2490831e4539bbb5f3f564e004            2  61.975166\n",
      "186033  \\xe73a7a0d3163d12ddf749c97433fac227e4cec3d            1  26.398527\n",
      "186034  \\xf49b67a2b2fc0904cb12a2c41c7d2007841c04a0            1  26.398527\n",
      "\n",
      "[186035 rows x 3 columns]\n",
      "[ 96.97019378  98.65858575  98.52500873  90.42196361  26.39852716\n",
      "  75.70134652  61.97516596  87.50208294  95.05576908  83.04431962\n",
      "  95.87927003  92.50275486  99.33614642  98.36670519  93.95785739\n",
      "  98.18179375  99.70758191  97.37952536  96.48103851  99.45064101\n",
      "  97.95683608  97.68995082  99.10473836  99.5207891   99.38667455\n",
      "  99.84949069  99.77181713  98.94992878  99.28024297  99.02894617\n",
      "  99.47939904  99.5022442   98.76743624  99.91910124  98.86392346\n",
      "  99.80165023  99.83228962  99.96425404  99.90351278  99.86534792\n",
      "  99.89706238  99.66162281  99.93710861  99.71752627  99.93898998\n",
      "  99.94033381  99.67398608  99.22863977  99.88738678  99.17219878\n",
      "  99.54229043  99.58663692  99.69656247  99.73230844  99.42053915\n",
      "  99.56647943  99.88228022  99.87824872  99.86051012  99.94920311\n",
      "  99.77907383  99.975811    99.88899938  99.74010267  99.97715484\n",
      "  99.98494907  99.61808262  99.74843443  99.60195662  99.96962937\n",
      "  99.7648292   99.88523665  99.63447738  99.97634854  99.94570914\n",
      "  99.99731233  99.90001881  99.92823931  99.92044508  99.9862929\n",
      "  99.91050071  99.94302147  99.72585804  99.68527428  99.82207649\n",
      "  99.95645981  99.75649743  99.89141828  99.99892493  99.91802618\n",
      "  99.99247453  99.85379095  99.64872201  99.9822614   99.90727551\n",
      "  99.81320719  99.98763674  99.97043567  99.95027817  99.90835058\n",
      "  99.83900879  99.82583922  99.97957374  99.98333647  99.94785927\n",
      "  99.79546859  99.80729433  99.96076007  99.95162201  99.84519042\n",
      "  99.89329965  99.9790362   99.87421722  99.983874    99.81885129\n",
      "  99.85701615  99.99462467  99.92608918  99.94087134  99.96640417\n",
      "  99.99328083  99.97231704  99.9983874   99.78794313  99.95941624\n",
      "  99.82906442  99.93119574  99.99946247  99.92340151  99.86857312\n",
      "  99.98817427  99.9733921   99.991937    99.95834117  99.94624667\n",
      "  99.93576478  99.90539415  99.96882307  99.88039885  99.97473594\n",
      "  99.9967748   99.97796114  99.96237267  99.96801677  99.98441154\n",
      "  99.97124197  99.91480098  99.98118634  99.89491225  99.93818368\n",
      "  99.91668234  99.95484721  99.87126078  99.95350337  99.9911307\n",
      "  99.90915688  99.94705297  99.98038004  99.93468971  99.9870992\n",
      "  99.9854866   99.93361464  99.86991695  99.99569973  99.98898057\n",
      "  99.91265085  99.98978687 100.          99.94517161  99.90243771\n",
      "  99.9903244   99.95753487  99.95538474  99.98279894  99.98172387\n",
      "  99.96183514  99.92152014  99.99623727  99.93979627  99.97849867\n",
      "  99.96721047  99.94839681  99.99784987]\n"
     ]
    }
   ],
   "source": [
    "df_count = df_all.groupBy(\"buyer\").agg(count(\"*\").alias(\"number_txns\"))\n",
    "\n",
    "# score2 based on number_txns\n",
    "df_rule_number_txns_pd=df_count.toPandas()\n",
    "\n",
    "df_negative = df_rule_number_txns_pd[df_rule_number_txns_pd['number_txns'] <= 1]\n",
    "df_negative['Score'] = 0\n",
    "\n",
    "percentiles = df_rule_number_txns_pd['number_txns'].rank(pct=True)\n",
    "df_rule_number_txns_pd['Score2'] = percentiles * 100\n",
    "\n",
    "# Print result\n",
    "print(df_rule_number_txns_pd)\n",
    "print(df_rule_number_txns_pd['Score2'].unique())\n",
    "df_rule_number_txns=spark.createDataFrame(df_rule_number_txns_pd)"
   ]
  },
  {
   "cell_type": "code",
   "execution_count": 26,
   "id": "9ac44658",
   "metadata": {},
   "outputs": [
    {
     "name": "stderr",
     "output_type": "stream",
     "text": [
      "[Stage 38:==============================================>          (9 + 2) / 11]\r"
     ]
    },
    {
     "name": "stdout",
     "output_type": "stream",
     "text": [
      "23/04/19 11:48:35 WARN RowBasedKeyValueBatch: Calling spill() on RowBasedKeyValueBatch. Will not spill but return 0.\n",
      "23/04/19 11:48:35 WARN RowBasedKeyValueBatch: Calling spill() on RowBasedKeyValueBatch. Will not spill but return 0.\n",
      "23/04/19 11:48:35 WARN RowBasedKeyValueBatch: Calling spill() on RowBasedKeyValueBatch. Will not spill but return 0.\n",
      "23/04/19 11:48:35 WARN RowBasedKeyValueBatch: Calling spill() on RowBasedKeyValueBatch. Will not spill but return 0.\n",
      "23/04/19 11:48:35 WARN RowBasedKeyValueBatch: Calling spill() on RowBasedKeyValueBatch. Will not spill but return 0.\n",
      "23/04/19 11:48:35 WARN RowBasedKeyValueBatch: Calling spill() on RowBasedKeyValueBatch. Will not spill but return 0.\n",
      "23/04/19 11:48:35 WARN RowBasedKeyValueBatch: Calling spill() on RowBasedKeyValueBatch. Will not spill but return 0.\n",
      "23/04/19 11:48:35 WARN RowBasedKeyValueBatch: Calling spill() on RowBasedKeyValueBatch. Will not spill but return 0.\n"
     ]
    },
    {
     "name": "stderr",
     "output_type": "stream",
     "text": [
      "[Stage 41:>                                                         (0 + 8) / 9]\r"
     ]
    },
    {
     "name": "stdout",
     "output_type": "stream",
     "text": [
      "23/04/19 11:48:37 WARN RowBasedKeyValueBatch: Calling spill() on RowBasedKeyValueBatch. Will not spill but return 0.\n",
      "23/04/19 11:48:37 WARN RowBasedKeyValueBatch: Calling spill() on RowBasedKeyValueBatch. Will not spill but return 0.\n",
      "23/04/19 11:48:37 WARN RowBasedKeyValueBatch: Calling spill() on RowBasedKeyValueBatch. Will not spill but return 0.\n",
      "23/04/19 11:48:37 WARN RowBasedKeyValueBatch: Calling spill() on RowBasedKeyValueBatch. Will not spill but return 0.\n",
      "23/04/19 11:48:37 WARN RowBasedKeyValueBatch: Calling spill() on RowBasedKeyValueBatch. Will not spill but return 0.\n",
      "23/04/19 11:48:37 WARN RowBasedKeyValueBatch: Calling spill() on RowBasedKeyValueBatch. Will not spill but return 0.\n",
      "23/04/19 11:48:37 WARN RowBasedKeyValueBatch: Calling spill() on RowBasedKeyValueBatch. Will not spill but return 0.\n",
      "23/04/19 11:48:37 WARN RowBasedKeyValueBatch: Calling spill() on RowBasedKeyValueBatch. Will not spill but return 0.\n",
      "23/04/19 11:48:37 WARN RowBasedKeyValueBatch: Calling spill() on RowBasedKeyValueBatch. Will not spill but return 0.\n",
      "23/04/19 11:48:37 WARN RowBasedKeyValueBatch: Calling spill() on RowBasedKeyValueBatch. Will not spill but return 0.\n",
      "23/04/19 11:48:38 WARN RowBasedKeyValueBatch: Calling spill() on RowBasedKeyValueBatch. Will not spill but return 0.\n",
      "23/04/19 11:48:38 WARN RowBasedKeyValueBatch: Calling spill() on RowBasedKeyValueBatch. Will not spill but return 0.\n",
      "23/04/19 11:48:38 WARN RowBasedKeyValueBatch: Calling spill() on RowBasedKeyValueBatch. Will not spill but return 0.\n",
      "23/04/19 11:48:38 WARN RowBasedKeyValueBatch: Calling spill() on RowBasedKeyValueBatch. Will not spill but return 0.\n",
      "23/04/19 11:48:38 WARN RowBasedKeyValueBatch: Calling spill() on RowBasedKeyValueBatch. Will not spill but return 0.\n",
      "23/04/19 11:48:38 WARN RowBasedKeyValueBatch: Calling spill() on RowBasedKeyValueBatch. Will not spill but return 0.\n"
     ]
    },
    {
     "name": "stderr",
     "output_type": "stream",
     "text": [
      "                                                                                \r"
     ]
    },
    {
     "name": "stdout",
     "output_type": "stream",
     "text": [
      "                                             buyer  number_txns  \\\n",
      "0       \\x006b82530c7985fd0084382e866db39a6c5c0578           12   \n",
      "1       \\x014fd068938fa1965be36a9244ddf6d37f6b88cb           19   \n",
      "2       \\x01981e7284ade335883f75927fae1b70fac44d71           18   \n",
      "3       \\x0312b9e6627d9a49cf07a3b5af1f18ad8d8e39db            6   \n",
      "4       \\x03a3da04bd4a888ed473a9c6bd90a13165f78e72            1   \n",
      "...                                            ...          ...   \n",
      "186030  \\xe0d3851eb01cde810436a054f4211e31a2fe0a82            1   \n",
      "186031  \\xe25cf7322526cfef5ca841deb14323f9ada1234a            1   \n",
      "186032  \\xe282780e50937a2490831e4539bbb5f3f564e004            2   \n",
      "186033  \\xe73a7a0d3163d12ddf749c97433fac227e4cec3d            1   \n",
      "186034  \\xf49b67a2b2fc0904cb12a2c41c7d2007841c04a0            1   \n",
      "\n",
      "        winsorized_transactions   z_value zscore  \n",
      "0                          12.0  2.696353     50  \n",
      "1                          19.0  4.728664     90  \n",
      "2                          18.0  4.438333     80  \n",
      "3                           6.0  0.954373     30  \n",
      "4                           1.0 -0.497278     10  \n",
      "...                         ...       ...    ...  \n",
      "186030                      1.0 -0.497278     10  \n",
      "186031                      1.0 -0.497278     10  \n",
      "186032                      2.0 -0.206948     10  \n",
      "186033                      1.0 -0.497278     10  \n",
      "186034                      1.0 -0.497278     10  \n",
      "\n",
      "[186035 rows x 5 columns]\n"
     ]
    }
   ],
   "source": [
    "import pandas as pd\n",
    "import numpy as np\n",
    "\n",
    "df_count = df_all.groupBy(\"buyer\").agg(count(\"*\").alias(\"number_txns\"))\n",
    "\n",
    "# score2 based on number_txns\n",
    "df_rule_number_txns_pd=df_count.toPandas()\n",
    "\n",
    "# winsorize the transaction counts\n",
    "p1, p99 = np.percentile(df_rule_number_txns_pd['number_txns'], [1, 99])\n",
    "df_rule_number_txns_pd['winsorized_transactions'] = np.clip(df_rule_number_txns_pd['number_txns'], p1, p99)\n",
    "\n",
    "# calculate the winsorized z-score of each transaction count\n",
    "mean = df_rule_number_txns_pd['winsorized_transactions'].mean()\n",
    "std = df_rule_number_txns_pd['winsorized_transactions'].std()\n",
    "df_rule_number_txns_pd['z_value'] = (df_rule_number_txns_pd['winsorized_transactions'] - mean) / std\n",
    "\n",
    "# assign scores based on the z-score\n",
    "df_rule_number_txns_pd['zscore'] = pd.cut(df_rule_number_txns_pd['z_value'],bins=10, labels=[10, 20, 30, 40, 50, 60, 70, 80, 90,100])\n",
    "\n",
    "print(df_rule_number_txns_pd)\n"
   ]
  },
  {
   "cell_type": "code",
   "execution_count": 27,
   "id": "82c4a419",
   "metadata": {},
   "outputs": [
    {
     "data": {
      "text/plain": [
       "10     149291\n",
       "20      16586\n",
       "30       7742\n",
       "40       4085\n",
       "50       3149\n",
       "100      2196\n",
       "60       1155\n",
       "70        837\n",
       "80        589\n",
       "90        405\n",
       "Name: zscore, dtype: int64"
      ]
     },
     "execution_count": 27,
     "metadata": {},
     "output_type": "execute_result"
    }
   ],
   "source": [
    "df_rule_number_txns_pd['zscore'].value_counts()"
   ]
  },
  {
   "cell_type": "code",
   "execution_count": 28,
   "id": "7db038ef",
   "metadata": {},
   "outputs": [],
   "source": [
    "# df_rule_number_txns_pd['Score3t'] = pd.qcut(df_rule_number_txns_pd['number_txns'], q=100, labels=False, duplicates='drop')\n",
    "\n",
    "# # normalize the scores to a scale of 1 to 100\n",
    "# max_score = df_rule_number_txns_pd['Score3t'].max()\n",
    "# df_rule_number_txns_pd['Score3t'] = (df_rule_number_txns_pd['Score3t'] / max_score) * 100\n",
    "\n",
    "# # set the score of the top 1% customers to 100\n",
    "# top_1_percent = int(len(df_rule_number_txns_pd) * 0.01)\n",
    "# top_1_percent_customers = df_rule_number_txns_pd.nlargest(top_1_percent, 'number_txns')\n",
    "# df_rule_number_txns_pd.loc[top_1_percent_customers.index, 'Score3t'] = 100\n",
    "\n",
    "# # print the dataframe with scores\n",
    "# print(df_rule_number_txns_pd)"
   ]
  },
  {
   "cell_type": "code",
   "execution_count": 29,
   "id": "9234d5e2",
   "metadata": {},
   "outputs": [
    {
     "data": {
      "text/plain": [
       "count    186035.000000\n",
       "mean          2.969624\n",
       "std           7.031336\n",
       "min           1.000000\n",
       "25%           1.000000\n",
       "50%           1.000000\n",
       "75%           3.000000\n",
       "max         605.000000\n",
       "Name: number_txns, dtype: float64"
      ]
     },
     "execution_count": 29,
     "metadata": {},
     "output_type": "execute_result"
    }
   ],
   "source": [
    "df_rule_number_txns_pd['number_txns'].describe()"
   ]
  },
  {
   "cell_type": "code",
   "execution_count": 30,
   "id": "45de9fc2",
   "metadata": {},
   "outputs": [
    {
     "data": {
      "text/html": [
       "<div>\n",
       "<style scoped>\n",
       "    .dataframe tbody tr th:only-of-type {\n",
       "        vertical-align: middle;\n",
       "    }\n",
       "\n",
       "    .dataframe tbody tr th {\n",
       "        vertical-align: top;\n",
       "    }\n",
       "\n",
       "    .dataframe thead th {\n",
       "        text-align: right;\n",
       "    }\n",
       "</style>\n",
       "<table border=\"1\" class=\"dataframe\">\n",
       "  <thead>\n",
       "    <tr style=\"text-align: right;\">\n",
       "      <th></th>\n",
       "      <th>buyer</th>\n",
       "      <th>number_txns</th>\n",
       "      <th>winsorized_transactions</th>\n",
       "      <th>z_value</th>\n",
       "      <th>zscore</th>\n",
       "    </tr>\n",
       "  </thead>\n",
       "  <tbody>\n",
       "    <tr>\n",
       "      <th>145824</th>\n",
       "      <td>\\xa43958e85e4a64977a9d3d2c6a053808aa5a9ed6</td>\n",
       "      <td>605</td>\n",
       "      <td>23.0</td>\n",
       "      <td>5.889984</td>\n",
       "      <td>100</td>\n",
       "    </tr>\n",
       "    <tr>\n",
       "      <th>48009</th>\n",
       "      <td>\\x6599ec8d67f5258409cd0b01d320abc08b74ddb6</td>\n",
       "      <td>588</td>\n",
       "      <td>23.0</td>\n",
       "      <td>5.889984</td>\n",
       "      <td>100</td>\n",
       "    </tr>\n",
       "    <tr>\n",
       "      <th>20004</th>\n",
       "      <td>\\x2727d7080c10b6cb66f176e6a897dd82eaf7e2b8</td>\n",
       "      <td>485</td>\n",
       "      <td>23.0</td>\n",
       "      <td>5.889984</td>\n",
       "      <td>100</td>\n",
       "    </tr>\n",
       "    <tr>\n",
       "      <th>44544</th>\n",
       "      <td>\\x0b3e6c6b9ce74f891dda7dab07d21149ab0ec09c</td>\n",
       "      <td>339</td>\n",
       "      <td>23.0</td>\n",
       "      <td>5.889984</td>\n",
       "      <td>100</td>\n",
       "    </tr>\n",
       "    <tr>\n",
       "      <th>184539</th>\n",
       "      <td>\\xc154b8b310461716d50b18980a84444c1c780ba4</td>\n",
       "      <td>332</td>\n",
       "      <td>23.0</td>\n",
       "      <td>5.889984</td>\n",
       "      <td>100</td>\n",
       "    </tr>\n",
       "    <tr>\n",
       "      <th>...</th>\n",
       "      <td>...</td>\n",
       "      <td>...</td>\n",
       "      <td>...</td>\n",
       "      <td>...</td>\n",
       "      <td>...</td>\n",
       "    </tr>\n",
       "    <tr>\n",
       "      <th>102285</th>\n",
       "      <td>\\xf47f2edaa3b1308e53a093797ebf42e1bbd72d63</td>\n",
       "      <td>1</td>\n",
       "      <td>1.0</td>\n",
       "      <td>-0.497278</td>\n",
       "      <td>10</td>\n",
       "    </tr>\n",
       "    <tr>\n",
       "      <th>102283</th>\n",
       "      <td>\\xf3442dd014446b60d19cdcce0313160c3e515d41</td>\n",
       "      <td>1</td>\n",
       "      <td>1.0</td>\n",
       "      <td>-0.497278</td>\n",
       "      <td>10</td>\n",
       "    </tr>\n",
       "    <tr>\n",
       "      <th>29407</th>\n",
       "      <td>\\x0f7de8cd5e0fd700af34c5d5ff214b0aca5c49d7</td>\n",
       "      <td>1</td>\n",
       "      <td>1.0</td>\n",
       "      <td>-0.497278</td>\n",
       "      <td>10</td>\n",
       "    </tr>\n",
       "    <tr>\n",
       "      <th>29409</th>\n",
       "      <td>\\x109a63fd467c7dc684583db607f8a19bb11749d8</td>\n",
       "      <td>1</td>\n",
       "      <td>1.0</td>\n",
       "      <td>-0.497278</td>\n",
       "      <td>10</td>\n",
       "    </tr>\n",
       "    <tr>\n",
       "      <th>186034</th>\n",
       "      <td>\\xf49b67a2b2fc0904cb12a2c41c7d2007841c04a0</td>\n",
       "      <td>1</td>\n",
       "      <td>1.0</td>\n",
       "      <td>-0.497278</td>\n",
       "      <td>10</td>\n",
       "    </tr>\n",
       "  </tbody>\n",
       "</table>\n",
       "<p>186035 rows × 5 columns</p>\n",
       "</div>"
      ],
      "text/plain": [
       "                                             buyer  number_txns  \\\n",
       "145824  \\xa43958e85e4a64977a9d3d2c6a053808aa5a9ed6          605   \n",
       "48009   \\x6599ec8d67f5258409cd0b01d320abc08b74ddb6          588   \n",
       "20004   \\x2727d7080c10b6cb66f176e6a897dd82eaf7e2b8          485   \n",
       "44544   \\x0b3e6c6b9ce74f891dda7dab07d21149ab0ec09c          339   \n",
       "184539  \\xc154b8b310461716d50b18980a84444c1c780ba4          332   \n",
       "...                                            ...          ...   \n",
       "102285  \\xf47f2edaa3b1308e53a093797ebf42e1bbd72d63            1   \n",
       "102283  \\xf3442dd014446b60d19cdcce0313160c3e515d41            1   \n",
       "29407   \\x0f7de8cd5e0fd700af34c5d5ff214b0aca5c49d7            1   \n",
       "29409   \\x109a63fd467c7dc684583db607f8a19bb11749d8            1   \n",
       "186034  \\xf49b67a2b2fc0904cb12a2c41c7d2007841c04a0            1   \n",
       "\n",
       "        winsorized_transactions   z_value zscore  \n",
       "145824                     23.0  5.889984    100  \n",
       "48009                      23.0  5.889984    100  \n",
       "20004                      23.0  5.889984    100  \n",
       "44544                      23.0  5.889984    100  \n",
       "184539                     23.0  5.889984    100  \n",
       "...                         ...       ...    ...  \n",
       "102285                      1.0 -0.497278     10  \n",
       "102283                      1.0 -0.497278     10  \n",
       "29407                       1.0 -0.497278     10  \n",
       "29409                       1.0 -0.497278     10  \n",
       "186034                      1.0 -0.497278     10  \n",
       "\n",
       "[186035 rows x 5 columns]"
      ]
     },
     "execution_count": 30,
     "metadata": {},
     "output_type": "execute_result"
    }
   ],
   "source": [
    "df_rule_number_txns_pd.sort_values(by = 'number_txns', ascending = False)"
   ]
  },
  {
   "cell_type": "code",
   "execution_count": 31,
   "id": "0ed01e30",
   "metadata": {
    "scrolled": true
   },
   "outputs": [],
   "source": [
    "# df_count = df_all.groupBy(\"buyer\").agg(count(\"*\").alias(\"number_txns\"))\n",
    "# # score2 based on number_txns\n",
    "# df_rule_number_txns_pd=df_count.toPandas()\n",
    "# hist, bins=pd.cut(df_rule_number_txns_pd['number_txns'],bins=100,labels=False,retbins=True,right=False)\n",
    "# df_rule_number_txns_pd['Score2']=hist\n",
    "# df_rule_number_txns_pd['Score2']+=1\n",
    "# print(df_rule_number_txns_pd)\n",
    "# #print unique score2 values assigned\n",
    "# print(df_rule_number_txns_pd['Score2'].unique())\n",
    "# #converting to sparkdf\n",
    "# df_rule_number_txns=spark.createDataFrame(df_rule_number_txns_pd)"
   ]
  },
  {
   "cell_type": "code",
   "execution_count": 32,
   "id": "aa6cb6c6",
   "metadata": {},
   "outputs": [
    {
     "data": {
      "image/png": "[encoded data removed]",
      "text/plain": [
       "<Figure size 640x480 with 1 Axes>"
      ]
     },
     "metadata": {},
     "output_type": "display_data"
    },
    {
     "data": {
      "image/png": "[encoded data removed]",
      "text/plain": [
       "<Figure size 640x480 with 1 Axes>"
      ]
     },
     "metadata": {},
     "output_type": "display_data"
    }
   ],
   "source": [
    "df_rule_number_txns_pd['number_txns'].plot.kde()\n",
    "plt.xlabel('Number of Transactions')\n",
    "plt.ylabel('Density')\n",
    "plt.title(\"\")\n",
    "plt.xlim(-50,50)\n",
    "plt.show()\n",
    "\n",
    "df_rule_number_txns_pd['zscore'].astype(int).plot.kde()\n",
    "plt.xlabel('Score')\n",
    "plt.ylabel('Density')\n",
    "plt.title(\"\")\n",
    "plt.xlim(-20,120)\n",
    "plt.show()"
   ]
  },
  {
   "cell_type": "markdown",
   "id": "181a6eb5",
   "metadata": {},
   "source": [
    "# Diversity Ranking 3 - Number of Nft contract address held"
   ]
  },
  {
   "cell_type": "code",
   "execution_count": 33,
   "id": "797c8714",
   "metadata": {},
   "outputs": [
    {
     "name": "stderr",
     "output_type": "stream",
     "text": [
      "                                                                                \r"
     ]
    },
    {
     "name": "stdout",
     "output_type": "stream",
     "text": [
      "                                             buyer  num_nftcontract     Score3\n",
      "0       \\x431e83d651c30ef4f9c950a7e82fbf9c58ce5efa                1  33.447738\n",
      "1       \\x70299f32683e4dee59f96e37c95bbff2f39cfbf2                2  75.545731\n",
      "2       \\xde827780ddc18752064e9d8d31ec9cd7f5f5bb7f                2  75.545731\n",
      "3       \\x32488429c7693cde04605ec65fa56207c8f290b2                2  75.545731\n",
      "4       \\x9035b2dec8bac0bcc6fd34e8299c32db698b67db                1  33.447738\n",
      "...                                            ...              ...        ...\n",
      "186030  \\x7a44d5004b9498534c44c5fe21620e183f13546d                1  33.447738\n",
      "186031  \\x0430bac0344e152ade170ffa4c0e3140dc7def41                1  33.447738\n",
      "186032  \\x3f1da7d513d359a4aa4fced8ab1bb92501fb5dff                1  33.447738\n",
      "186033  \\xf49b67a2b2fc0904cb12a2c41c7d2007841c04a0                1  33.447738\n",
      "186034  \\x92218940e9ae133cf887632db0ad07c57048fd8d                1  33.447738\n",
      "\n",
      "[186035 rows x 3 columns]\n",
      "[ 33.44773833  75.54573064  93.33324374  87.85766119  97.68188782\n",
      "  96.129223    98.57849329  99.12113312  99.46112291  99.76939823\n",
      "  99.90458785  99.94087134  99.9733921   99.65221598  99.85002822\n",
      "  99.96076007  99.98978687  99.99650603  99.99328083  99.9862929\n",
      "  99.98172387  99.99784987  99.99892493 100.          99.9983874\n",
      "  99.99946247]\n"
     ]
    }
   ],
   "source": [
    "df_num_nftcontract = df_all.groupBy(\"buyer\").agg(countDistinct(\"nft_contract_address\").alias(\"num_nftcontract\"))\n",
    "# score3 based on num_nftcontract\n",
    "df_rule_num_nftcontract_pd=df_num_nftcontract.toPandas()\n",
    "\n",
    "percentiles = df_rule_num_nftcontract_pd['num_nftcontract'].rank(pct=True)\n",
    "df_rule_num_nftcontract_pd['Score3'] = percentiles * 100\n",
    "\n",
    "print(df_rule_num_nftcontract_pd)\n",
    "#print unique score3 values assigned\n",
    "print(df_rule_num_nftcontract_pd['Score3'].unique())\n",
    "#converting to sparkdf\n",
    "df_rule_num_nftcontract=spark.createDataFrame(df_rule_num_nftcontract_pd)"
   ]
  },
  {
   "cell_type": "code",
   "execution_count": 65,
   "id": "4e648996",
   "metadata": {},
   "outputs": [],
   "source": [
    "# min_score = 10\n",
    "# max_score = 100\n",
    "\n",
    "\n",
    "# df_rule_num_nftcontract_pd['Score3'] = min_score + (df['value'] - df['value'].min()) * (max_score - min_score) / (df['value'].max() - df['value'].min())\n",
    "\n",
    "# print(df)\n"
   ]
  },
  {
   "cell_type": "code",
   "execution_count": 35,
   "id": "0438d649",
   "metadata": {},
   "outputs": [
    {
     "data": {
      "text/plain": [
       "1     124448\n",
       "2      32186\n",
       "3      13623\n",
       "4       6750\n",
       "5       3653\n",
       "6       2124\n",
       "7       1212\n",
       "8        807\n",
       "9        458\n",
       "10       253\n",
       "11       183\n",
       "12       117\n",
       "13        86\n",
       "14        49\n",
       "15        25\n",
       "16        22\n",
       "17         9\n",
       "20         8\n",
       "18         8\n",
       "19         5\n",
       "21         4\n",
       "23         1\n",
       "26         1\n",
       "28         1\n",
       "24         1\n",
       "27         1\n",
       "Name: num_nftcontract, dtype: int64"
      ]
     },
     "execution_count": 35,
     "metadata": {},
     "output_type": "execute_result"
    }
   ],
   "source": [
    "df_rule_num_nftcontract_pd['num_nftcontract'].value_counts()"
   ]
  },
  {
   "cell_type": "code",
   "execution_count": 95,
   "id": "9db1ed6d",
   "metadata": {
    "scrolled": false
   },
   "outputs": [
    {
     "data": {
      "image/png": "[encoded data removed]",
      "text/plain": [
       "<Figure size 640x480 with 1 Axes>"
      ]
     },
     "metadata": {},
     "output_type": "display_data"
    },
    {
     "name": "stdout",
     "output_type": "stream",
     "text": [
      "1    124448\n",
      "2     32186\n",
      "3     13623\n",
      "Name: num_nftcontract, dtype: int64\n"
     ]
    },
    {
     "data": {
      "image/png": "[encoded data removed]",
      "text/plain": [
       "<Figure size 640x480 with 1 Axes>"
      ]
     },
     "metadata": {},
     "output_type": "display_data"
    }
   ],
   "source": [
    "plt.boxplot(df_rule_num_nftcontract_pd['num_nftcontract'])\n",
    "plt.title('With Outliers')\n",
    "plt.show()\n",
    "Q1 = df_rule_num_nftcontract_pd['num_nftcontract'].quantile(0.25)\n",
    "Q3 = df_rule_num_nftcontract_pd['num_nftcontract'].quantile(0.75)\n",
    "IQR = Q3 - Q1\n",
    "\n",
    "# Identify any values that fall outside of 1.5 times the IQR\n",
    "#outliers = df_rule_num_nftcontract_pd[(df_rule_num_nftcontract_pd['num_nftcontract'] < Q1 - 1.5*IQR) | (df_rule_num_nftcontract_pd['num_nftcontract'] > Q3 + 1.5*IQR)]\n",
    "outliers_df_rule_num_nftcontract_pd = df_rule_num_nftcontract_pd[(df_rule_num_nftcontract_pd['num_nftcontract'] >= Q1 - 1.5*IQR) & (df_rule_num_nftcontract_pd['num_nftcontract'] <= Q3 + 1.5*IQR)]\n",
    "print(outliers_df_rule_num_nftcontract_pd['num_nftcontract'].value_counts())\n",
    "plt.boxplot(outliers_df_rule_num_nftcontract_pd['num_nftcontract'])\n",
    "plt.title('After removing Outliers')\n",
    "plt.show()"
   ]
  },
  {
   "cell_type": "code",
   "execution_count": 36,
   "id": "a443c9cb",
   "metadata": {},
   "outputs": [
    {
     "data": {
      "text/html": [
       "<div>\n",
       "<style scoped>\n",
       "    .dataframe tbody tr th:only-of-type {\n",
       "        vertical-align: middle;\n",
       "    }\n",
       "\n",
       "    .dataframe tbody tr th {\n",
       "        vertical-align: top;\n",
       "    }\n",
       "\n",
       "    .dataframe thead th {\n",
       "        text-align: right;\n",
       "    }\n",
       "</style>\n",
       "<table border=\"1\" class=\"dataframe\">\n",
       "  <thead>\n",
       "    <tr style=\"text-align: right;\">\n",
       "      <th></th>\n",
       "      <th>buyer</th>\n",
       "      <th>num_nftcontract</th>\n",
       "      <th>Score3</th>\n",
       "    </tr>\n",
       "  </thead>\n",
       "  <tbody>\n",
       "    <tr>\n",
       "      <th>0</th>\n",
       "      <td>\\x431e83d651c30ef4f9c950a7e82fbf9c58ce5efa</td>\n",
       "      <td>1</td>\n",
       "      <td>33.447738</td>\n",
       "    </tr>\n",
       "    <tr>\n",
       "      <th>111851</th>\n",
       "      <td>\\x2b0ec94e217d27b4b9a4b9cdcefb682309cd2331</td>\n",
       "      <td>1</td>\n",
       "      <td>33.447738</td>\n",
       "    </tr>\n",
       "    <tr>\n",
       "      <th>111853</th>\n",
       "      <td>\\xe0428643becaddc2f6b110446f75a712200c1a97</td>\n",
       "      <td>1</td>\n",
       "      <td>33.447738</td>\n",
       "    </tr>\n",
       "    <tr>\n",
       "      <th>111854</th>\n",
       "      <td>\\x176bc0375ab4980b4f999db8215f1998434842fa</td>\n",
       "      <td>1</td>\n",
       "      <td>33.447738</td>\n",
       "    </tr>\n",
       "    <tr>\n",
       "      <th>111855</th>\n",
       "      <td>\\xcc33e540c7efc17c05b7d98347b540cf15fcd1a3</td>\n",
       "      <td>1</td>\n",
       "      <td>33.447738</td>\n",
       "    </tr>\n",
       "    <tr>\n",
       "      <th>...</th>\n",
       "      <td>...</td>\n",
       "      <td>...</td>\n",
       "      <td>...</td>\n",
       "    </tr>\n",
       "    <tr>\n",
       "      <th>45101</th>\n",
       "      <td>\\xb1468e7020a5b309f9d4e2a5c857ecac96de5f64</td>\n",
       "      <td>23</td>\n",
       "      <td>99.997850</td>\n",
       "    </tr>\n",
       "    <tr>\n",
       "      <th>160341</th>\n",
       "      <td>\\xbc4cd003b24d0d46ad229bc707b77fae8446d6af</td>\n",
       "      <td>24</td>\n",
       "      <td>99.998387</td>\n",
       "    </tr>\n",
       "    <tr>\n",
       "      <th>45314</th>\n",
       "      <td>\\x365c211f49ee7f3667456abb3a130c738884099d</td>\n",
       "      <td>26</td>\n",
       "      <td>99.998925</td>\n",
       "    </tr>\n",
       "    <tr>\n",
       "      <th>164203</th>\n",
       "      <td>\\x78f0803235057a902373e915c0c833c4aa154e13</td>\n",
       "      <td>27</td>\n",
       "      <td>99.999462</td>\n",
       "    </tr>\n",
       "    <tr>\n",
       "      <th>92454</th>\n",
       "      <td>\\xe213f227684fc01b67d86d056b31a9e738963cf8</td>\n",
       "      <td>28</td>\n",
       "      <td>100.000000</td>\n",
       "    </tr>\n",
       "  </tbody>\n",
       "</table>\n",
       "<p>186035 rows × 3 columns</p>\n",
       "</div>"
      ],
      "text/plain": [
       "                                             buyer  num_nftcontract  \\\n",
       "0       \\x431e83d651c30ef4f9c950a7e82fbf9c58ce5efa                1   \n",
       "111851  \\x2b0ec94e217d27b4b9a4b9cdcefb682309cd2331                1   \n",
       "111853  \\xe0428643becaddc2f6b110446f75a712200c1a97                1   \n",
       "111854  \\x176bc0375ab4980b4f999db8215f1998434842fa                1   \n",
       "111855  \\xcc33e540c7efc17c05b7d98347b540cf15fcd1a3                1   \n",
       "...                                            ...              ...   \n",
       "45101   \\xb1468e7020a5b309f9d4e2a5c857ecac96de5f64               23   \n",
       "160341  \\xbc4cd003b24d0d46ad229bc707b77fae8446d6af               24   \n",
       "45314   \\x365c211f49ee7f3667456abb3a130c738884099d               26   \n",
       "164203  \\x78f0803235057a902373e915c0c833c4aa154e13               27   \n",
       "92454   \\xe213f227684fc01b67d86d056b31a9e738963cf8               28   \n",
       "\n",
       "            Score3  \n",
       "0        33.447738  \n",
       "111851   33.447738  \n",
       "111853   33.447738  \n",
       "111854   33.447738  \n",
       "111855   33.447738  \n",
       "...            ...  \n",
       "45101    99.997850  \n",
       "160341   99.998387  \n",
       "45314    99.998925  \n",
       "164203   99.999462  \n",
       "92454   100.000000  \n",
       "\n",
       "[186035 rows x 3 columns]"
      ]
     },
     "execution_count": 36,
     "metadata": {},
     "output_type": "execute_result"
    }
   ],
   "source": [
    "df_rule_num_nftcontract_pd.sort_values(by = 'num_nftcontract', ascending = True)"
   ]
  },
  {
   "cell_type": "code",
   "execution_count": 37,
   "id": "53530b63",
   "metadata": {},
   "outputs": [],
   "source": [
    "#df_rule_num_nftcontract_pd.sort_values(by = \"num_nftcontract\", ascending = False)"
   ]
  },
  {
   "cell_type": "code",
   "execution_count": 38,
   "id": "35fd90be",
   "metadata": {},
   "outputs": [],
   "source": [
    "# df_num_nftcontract = df_all.groupBy(\"buyer\").agg(countDistinct(\"nft_contract_address\").alias(\"num_nftcontract\"))\n",
    "# # score3 based on num_nftcontract\n",
    "# df_rule_num_nftcontract_pd=df_num_nftcontract.toPandas()\n",
    "# hist, bins=pd.cut(df_rule_num_nftcontract_pd['num_nftcontract'],bins=100,labels=False,retbins=True,right=False)\n",
    "# df_rule_num_nftcontract_pd['Score3']=hist\n",
    "# df_rule_num_nftcontract_pd['Score3']+=1\n",
    "# print(df_rule_num_nftcontract_pd)\n",
    "# #print unique score3 values assigned\n",
    "# print(df_rule_num_nftcontract_pd['Score3'].unique())\n",
    "# #converting to sparkdf\n",
    "# df_rule_num_nftcontract=spark.createDataFrame(df_rule_num_nftcontract_pd)"
   ]
  },
  {
   "cell_type": "code",
   "execution_count": 39,
   "id": "5d3f8c33",
   "metadata": {},
   "outputs": [
    {
     "data": {
      "image/png": "[encoded data removed]",
      "text/plain": [
       "<Figure size 640x480 with 1 Axes>"
      ]
     },
     "metadata": {},
     "output_type": "display_data"
    },
    {
     "data": {
      "image/png": "[encoded data removed]",
      "text/plain": [
       "<Figure size 640x480 with 1 Axes>"
      ]
     },
     "metadata": {},
     "output_type": "display_data"
    }
   ],
   "source": [
    "df_rule_num_nftcontract_pd['num_nftcontract'].plot.kde()\n",
    "plt.xlabel('Number of NFT contracts owned')\n",
    "plt.ylabel('Density')\n",
    "plt.title(\"\")\n",
    "plt.xlim(-10,10)\n",
    "plt.show()\n",
    "\n",
    "df_rule_num_nftcontract_pd['Score3'].plot.kde()\n",
    "plt.xlabel('Score')\n",
    "plt.ylabel('Density')\n",
    "plt.title(\"\")\n",
    "plt.xlim(20,115)\n",
    "plt.show()"
   ]
  },
  {
   "cell_type": "markdown",
   "id": "349eb336",
   "metadata": {},
   "source": [
    "# Diversity Ranking 4 - Number of unique currencies transaction done in"
   ]
  },
  {
   "cell_type": "code",
   "execution_count": 40,
   "id": "17116c88",
   "metadata": {},
   "outputs": [
    {
     "name": "stderr",
     "output_type": "stream",
     "text": [
      "                                                                                \r"
     ]
    }
   ],
   "source": [
    "unique_names = df_all.select(col(\"original_currency\")).distinct().rdd.flatMap(lambda x: x).collect()"
   ]
  },
  {
   "cell_type": "code",
   "execution_count": 42,
   "id": "0291f3ad",
   "metadata": {},
   "outputs": [
    {
     "name": "stderr",
     "output_type": "stream",
     "text": [
      "                                                                                \r"
     ]
    },
    {
     "name": "stdout",
     "output_type": "stream",
     "text": [
      "                                             buyer  num_currency     Score4\n",
      "0       \\x375751f0159c9bb29ec2945a5767bb9d3874712f             1  48.130728\n",
      "1       \\x3bd12ee645be8734170c4e7a86448a410903eaed             1  48.130728\n",
      "2       \\xf9e5db0610350385f83e6290e040fe99365548da             1  48.130728\n",
      "3       \\x1773fb4569491ccd6da5f4eed8359bf61f9bf095             1  48.130728\n",
      "4       \\x890652186e45f7be558eadfdde949307249a47f0             1  48.130728\n",
      "...                                            ...           ...        ...\n",
      "186030  \\xe73a7a0d3163d12ddf749c97433fac227e4cec3d             1  48.130728\n",
      "186031  \\xb40cab161bf5f5f0669ce661c7d9d6e269461d9a             1  48.130728\n",
      "186032  \\x69942f8e403b9d505e2da8a7a2056d9638805dcd             1  48.130728\n",
      "186033  \\x7a44d5004b9498534c44c5fe21620e183f13546d             1  48.130728\n",
      "186034  \\xc5bd99f6fd29d26beba91a171d519107c6d60201             1  48.130728\n",
      "\n",
      "[186035 rows x 3 columns]\n",
      "[48.13072809 98.11970866 99.9887118  99.99973123]\n"
     ]
    }
   ],
   "source": [
    "df_currency = df_all.groupBy(\"buyer\").agg(countDistinct(\"original_currency\").alias(\"num_currency\"))\n",
    "# score4 based on num_currency\n",
    "df_rule_num_currency_pd=df_currency.toPandas()\n",
    "\n",
    "percentiles = df_rule_num_currency_pd['num_currency'].rank(pct=True)\n",
    "df_rule_num_currency_pd['Score4'] = percentiles * 100\n",
    "\n",
    "print(df_rule_num_currency_pd)\n",
    "#print unique score4 values assigned\n",
    "print(df_rule_num_currency_pd['Score4'].unique())\n",
    "#converting back to spark df\n",
    "df_rule_num_currency=spark.createDataFrame(df_rule_num_currency_pd)"
   ]
  },
  {
   "cell_type": "code",
   "execution_count": 43,
   "id": "44aaca5c",
   "metadata": {},
   "outputs": [
    {
     "data": {
      "text/plain": [
       "1    179079\n",
       "2      6915\n",
       "3        39\n",
       "4         2\n",
       "Name: num_currency, dtype: int64"
      ]
     },
     "execution_count": 43,
     "metadata": {},
     "output_type": "execute_result"
    }
   ],
   "source": [
    "df_rule_num_currency_pd['num_currency'].value_counts()"
   ]
  },
  {
   "cell_type": "code",
   "execution_count": 96,
   "id": "1b568bb5",
   "metadata": {},
   "outputs": [
    {
     "data": {
      "image/png": "[encoded data removed]",
      "text/plain": [
       "<Figure size 640x480 with 1 Axes>"
      ]
     },
     "metadata": {},
     "output_type": "display_data"
    },
    {
     "name": "stdout",
     "output_type": "stream",
     "text": [
      "1    179079\n",
      "Name: num_currency, dtype: int64\n"
     ]
    },
    {
     "data": {
      "image/png": "[encoded data removed]",
      "text/plain": [
       "<Figure size 640x480 with 1 Axes>"
      ]
     },
     "metadata": {},
     "output_type": "display_data"
    }
   ],
   "source": [
    "plt.boxplot(df_rule_num_currency_pd['num_currency'])\n",
    "plt.title('With Outliers')\n",
    "plt.show()\n",
    "Q1 = df_rule_num_currency_pd['num_currency'].quantile(0.25)\n",
    "Q3 = df_rule_num_currency_pd['num_currency'].quantile(0.75)\n",
    "IQR = Q3 - Q1\n",
    "\n",
    "# Identify any values that fall outside of 1.5 times the IQR\n",
    "outliers_df_rule_num_currency_pd = df_rule_num_currency_pd[(df_rule_num_currency_pd['num_currency'] >= Q1 - 1.5*IQR) & (df_rule_num_currency_pd['num_currency'] <= Q3 + 1.5*IQR)]\n",
    "print(outliers_df_rule_num_currency_pd['num_currency'].value_counts())\n",
    "plt.boxplot(outliers_df_rule_num_currency_pd['num_currency'])\n",
    "plt.title('After removing Outliers')\n",
    "plt.show()"
   ]
  },
  {
   "cell_type": "code",
   "execution_count": 44,
   "id": "058353a7",
   "metadata": {},
   "outputs": [],
   "source": [
    "# # df_currency = df_all.groupBy(\"buyer\").agg(countDistinct(\"original_currency\").alias(\"num_currency\")).orderBy(desc(\"num_currency\"))\n",
    "# df_currency = df_all.groupBy(\"buyer\").agg(countDistinct(\"original_currency\").alias(\"num_currency\"))\n",
    "# # score4 based on num_currency\n",
    "# df_rule_num_currency_pd=df_currency.toPandas()\n",
    "# hist, bins=pd.cut(df_rule_num_currency_pd['num_currency'],bins=100,labels=False,retbins=True,right=False)\n",
    "# df_rule_num_currency_pd['Score4']=hist\n",
    "# df_rule_num_currency_pd['Score4']+=1\n",
    "# print(df_rule_num_currency_pd)\n",
    "# #print unique score4 values assigned\n",
    "# print(df_rule_num_currency_pd['Score4'].unique())\n",
    "# #converting back to spark df\n",
    "# df_rule_num_currency=spark.createDataFrame(df_rule_num_currency_pd)"
   ]
  },
  {
   "cell_type": "code",
   "execution_count": 45,
   "id": "cee25725",
   "metadata": {},
   "outputs": [
    {
     "data": {
      "image/png": "[encoded data removed]",
      "text/plain": [
       "<Figure size 640x480 with 1 Axes>"
      ]
     },
     "metadata": {},
     "output_type": "display_data"
    },
    {
     "data": {
      "image/png": "[encoded data removed]",
      "text/plain": [
       "<Figure size 640x480 with 1 Axes>"
      ]
     },
     "metadata": {},
     "output_type": "display_data"
    }
   ],
   "source": [
    "df_rule_num_currency_pd['num_currency'].plot.kde()\n",
    "plt.xlabel('Number of currencies owned')\n",
    "plt.ylabel('Density')\n",
    "plt.title(\"\")\n",
    "plt.xlim(0,3)\n",
    "plt.show()\n",
    "\n",
    "df_rule_num_currency_pd['Score4'].plot.kde()\n",
    "plt.xlabel('Score')\n",
    "plt.ylabel('Density')\n",
    "plt.title(\"\")\n",
    "plt.xlim(20,110)\n",
    "plt.show()"
   ]
  },
  {
   "cell_type": "code",
   "execution_count": 46,
   "id": "8343fe47",
   "metadata": {},
   "outputs": [],
   "source": [
    "# data_collect = df_all.collect()"
   ]
  },
  {
   "cell_type": "markdown",
   "id": "3de7b98e",
   "metadata": {},
   "source": [
    "# Diversity Ranking 5 - Average Duration (in seconds)"
   ]
  },
  {
   "cell_type": "code",
   "execution_count": 47,
   "id": "aed31f7c",
   "metadata": {},
   "outputs": [],
   "source": [
    "# df_all = df_all.withColumn(\"duration\", (col(\"Sold_Timestamp\") - col(\"Bought_Timestamp\")))\n",
    "df_all = df_all.withColumn(\"duration\", (unix_timestamp(col(\"Sold_Timestamp\")) - unix_timestamp(col(\"Bought_Timestamp\"))))"
   ]
  },
  {
   "cell_type": "code",
   "execution_count": 48,
   "id": "0e888142",
   "metadata": {
    "scrolled": true
   },
   "outputs": [
    {
     "name": "stderr",
     "output_type": "stream",
     "text": [
      "[Stage 87:>                                                         (0 + 1) / 1]\r"
     ]
    },
    {
     "name": "stdout",
     "output_type": "stream",
     "text": [
      "+--------+\n",
      "|duration|\n",
      "+--------+\n",
      "|  298840|\n",
      "|   37944|\n",
      "|   91081|\n",
      "| 4252760|\n",
      "| 6705652|\n",
      "+--------+\n",
      "only showing top 5 rows\n",
      "\n"
     ]
    },
    {
     "name": "stderr",
     "output_type": "stream",
     "text": [
      "                                                                                \r"
     ]
    }
   ],
   "source": [
    "df_all.select('duration').show(5)"
   ]
  },
  {
   "cell_type": "code",
   "execution_count": 49,
   "id": "68d650d9",
   "metadata": {},
   "outputs": [
    {
     "name": "stderr",
     "output_type": "stream",
     "text": [
      "[Stage 89:====================================>                    (7 + 4) / 11]\r"
     ]
    },
    {
     "name": "stdout",
     "output_type": "stream",
     "text": [
      "23/04/19 11:56:48 WARN RowBasedKeyValueBatch: Calling spill() on RowBasedKeyValueBatch. Will not spill but return 0.\n",
      "23/04/19 11:56:48 WARN RowBasedKeyValueBatch: Calling spill() on RowBasedKeyValueBatch. Will not spill but return 0.\n",
      "23/04/19 11:56:48 WARN RowBasedKeyValueBatch: Calling spill() on RowBasedKeyValueBatch. Will not spill but return 0.\n",
      "23/04/19 11:56:48 WARN RowBasedKeyValueBatch: Calling spill() on RowBasedKeyValueBatch. Will not spill but return 0.\n",
      "23/04/19 11:56:48 WARN RowBasedKeyValueBatch: Calling spill() on RowBasedKeyValueBatch. Will not spill but return 0.\n",
      "23/04/19 11:56:48 WARN RowBasedKeyValueBatch: Calling spill() on RowBasedKeyValueBatch. Will not spill but return 0.\n",
      "23/04/19 11:56:48 WARN RowBasedKeyValueBatch: Calling spill() on RowBasedKeyValueBatch. Will not spill but return 0.\n",
      "23/04/19 11:56:48 WARN RowBasedKeyValueBatch: Calling spill() on RowBasedKeyValueBatch. Will not spill but return 0.\n"
     ]
    },
    {
     "name": "stderr",
     "output_type": "stream",
     "text": [
      "[Stage 92:>                                                         (0 + 8) / 9]\r"
     ]
    },
    {
     "name": "stdout",
     "output_type": "stream",
     "text": [
      "23/04/19 11:56:49 WARN RowBasedKeyValueBatch: Calling spill() on RowBasedKeyValueBatch. Will not spill but return 0.\n",
      "23/04/19 11:56:49 WARN RowBasedKeyValueBatch: Calling spill() on RowBasedKeyValueBatch. Will not spill but return 0.\n",
      "23/04/19 11:56:49 WARN RowBasedKeyValueBatch: Calling spill() on RowBasedKeyValueBatch. Will not spill but return 0.\n",
      "23/04/19 11:56:49 WARN RowBasedKeyValueBatch: Calling spill() on RowBasedKeyValueBatch. Will not spill but return 0.\n",
      "23/04/19 11:56:49 WARN RowBasedKeyValueBatch: Calling spill() on RowBasedKeyValueBatch. Will not spill but return 0.\n",
      "23/04/19 11:56:49 WARN RowBasedKeyValueBatch: Calling spill() on RowBasedKeyValueBatch. Will not spill but return 0.\n",
      "23/04/19 11:56:49 WARN RowBasedKeyValueBatch: Calling spill() on RowBasedKeyValueBatch. Will not spill but return 0.\n",
      "23/04/19 11:56:49 WARN RowBasedKeyValueBatch: Calling spill() on RowBasedKeyValueBatch. Will not spill but return 0.\n",
      "23/04/19 11:56:50 WARN RowBasedKeyValueBatch: Calling spill() on RowBasedKeyValueBatch. Will not spill but return 0.\n",
      "23/04/19 11:56:50 WARN RowBasedKeyValueBatch: Calling spill() on RowBasedKeyValueBatch. Will not spill but return 0.\n",
      "23/04/19 11:56:50 WARN RowBasedKeyValueBatch: Calling spill() on RowBasedKeyValueBatch. Will not spill but return 0.\n",
      "23/04/19 11:56:50 WARN RowBasedKeyValueBatch: Calling spill() on RowBasedKeyValueBatch. Will not spill but return 0.\n",
      "23/04/19 11:56:50 WARN RowBasedKeyValueBatch: Calling spill() on RowBasedKeyValueBatch. Will not spill but return 0.\n",
      "23/04/19 11:56:50 WARN RowBasedKeyValueBatch: Calling spill() on RowBasedKeyValueBatch. Will not spill but return 0.\n",
      "23/04/19 11:56:50 WARN RowBasedKeyValueBatch: Calling spill() on RowBasedKeyValueBatch. Will not spill but return 0.\n",
      "23/04/19 11:56:50 WARN RowBasedKeyValueBatch: Calling spill() on RowBasedKeyValueBatch. Will not spill but return 0.\n"
     ]
    },
    {
     "name": "stderr",
     "output_type": "stream",
     "text": [
      "                                                                                \r"
     ]
    },
    {
     "name": "stdout",
     "output_type": "stream",
     "text": [
      "                                             buyer  avg_duration     Score5\n",
      "0       \\x006b82530c7985fd0084382e866db39a6c5c0578  3.849958e+06  83.455264\n",
      "1       \\x014fd068938fa1965be36a9244ddf6d37f6b88cb  1.528443e+06  64.541619\n",
      "2       \\x01981e7284ade335883f75927fae1b70fac44d71  8.420664e+05  51.706937\n",
      "3       \\x0312b9e6627d9a49cf07a3b5af1f18ad8d8e39db  2.391315e+06  74.150026\n",
      "4       \\x03a3da04bd4a888ed473a9c6bd90a13165f78e72  8.280000e+02   1.190636\n",
      "...                                            ...           ...        ...\n",
      "186030  \\xe0d3851eb01cde810436a054f4211e31a2fe0a82  1.754641e+06  67.550730\n",
      "186031  \\xe25cf7322526cfef5ca841deb14323f9ada1234a  5.060740e+05  41.046040\n",
      "186032  \\xe282780e50937a2490831e4539bbb5f3f564e004  6.212410e+05  45.393071\n",
      "186033  \\xe73a7a0d3163d12ddf749c97433fac227e4cec3d  9.421300e+04  17.636466\n",
      "186034  \\xf49b67a2b2fc0904cb12a2c41c7d2007841c04a0  1.046440e+07  95.764238\n",
      "\n",
      "[186035 rows x 3 columns]\n",
      "[83.45526379 64.54161851 51.70693687 ... 45.3930712  17.63646626\n",
      " 95.76423791]\n"
     ]
    }
   ],
   "source": [
    "df_avg_duration = df_all.groupBy(\"buyer\").agg(avg(\"duration\").alias(\"avg_duration\"))\n",
    "# score4 based on num_currency\n",
    "df_rule_avg_duration_pd=df_avg_duration.toPandas()\n",
    "\n",
    "percentiles = df_rule_avg_duration_pd['avg_duration'].rank(pct=True)\n",
    "df_rule_avg_duration_pd['Score5'] = percentiles * 100\n",
    "\n",
    "print(df_rule_avg_duration_pd)\n",
    "#print unique score5 values assigned\n",
    "print(df_rule_avg_duration_pd['Score5'].unique())\n",
    "#converting to sparkdf\n",
    "df_rule_avg_duration=spark.createDataFrame(df_rule_avg_duration_pd)"
   ]
  },
  {
   "cell_type": "code",
   "execution_count": 104,
   "id": "90303927",
   "metadata": {},
   "outputs": [
    {
     "data": {
      "image/png": "[encoded data removed]",
      "text/plain": [
       "<Figure size 640x480 with 1 Axes>"
      ]
     },
     "metadata": {},
     "output_type": "display_data"
    },
    {
     "name": "stdout",
     "output_type": "stream",
     "text": [
      "312.0        31\n",
      "228.0        29\n",
      "384.0        28\n",
      "300.0        27\n",
      "252.0        27\n",
      "             ..\n",
      "2393177.0     1\n",
      "1563804.0     1\n",
      "45235.0       1\n",
      "168366.0      1\n",
      "94213.0       1\n",
      "Name: avg_duration, Length: 138817, dtype: int64\n"
     ]
    },
    {
     "data": {
      "image/png": "[encoded data removed]",
      "text/plain": [
       "<Figure size 640x480 with 1 Axes>"
      ]
     },
     "metadata": {},
     "output_type": "display_data"
    }
   ],
   "source": [
    "plt.boxplot(df_rule_avg_duration_pd['avg_duration'])\n",
    "plt.title('avg_duration With Outliers')\n",
    "plt.show()\n",
    "Q1 = df_rule_avg_duration_pd['avg_duration'].quantile(0.25)\n",
    "Q3 = df_rule_avg_duration_pd['avg_duration'].quantile(0.75)\n",
    "IQR = Q3 - Q1\n",
    "\n",
    "# Identify any values that fall outside of 1.5 times the IQR\n",
    "outliers_df_rule_avg_duration_pd = df_rule_avg_duration_pd[(df_rule_avg_duration_pd['avg_duration'] >= Q1 - 0.25*IQR) & (df_rule_avg_duration_pd['avg_duration'] <= Q3 + 0.25*IQR)]\n",
    "print(outliers_df_rule_avg_duration_pd['avg_duration'].value_counts())\n",
    "plt.boxplot(outliers_df_rule_avg_duration_pd['avg_duration'])\n",
    "plt.title('avg_duration After removing Outliers')\n",
    "plt.show()"
   ]
  },
  {
   "cell_type": "code",
   "execution_count": 50,
   "id": "e7591f78",
   "metadata": {},
   "outputs": [
    {
     "data": {
      "text/html": [
       "<div>\n",
       "<style scoped>\n",
       "    .dataframe tbody tr th:only-of-type {\n",
       "        vertical-align: middle;\n",
       "    }\n",
       "\n",
       "    .dataframe tbody tr th {\n",
       "        vertical-align: top;\n",
       "    }\n",
       "\n",
       "    .dataframe thead th {\n",
       "        text-align: right;\n",
       "    }\n",
       "</style>\n",
       "<table border=\"1\" class=\"dataframe\">\n",
       "  <thead>\n",
       "    <tr style=\"text-align: right;\">\n",
       "      <th></th>\n",
       "      <th>buyer</th>\n",
       "      <th>avg_duration</th>\n",
       "      <th>Score5</th>\n",
       "    </tr>\n",
       "  </thead>\n",
       "  <tbody>\n",
       "    <tr>\n",
       "      <th>59922</th>\n",
       "      <td>\\x9efea04be978275426e5e6c7ecd10206d47cfa0d</td>\n",
       "      <td>91290008.0</td>\n",
       "      <td>100.000000</td>\n",
       "    </tr>\n",
       "    <tr>\n",
       "      <th>7763</th>\n",
       "      <td>\\x3311d07b4cb4450778fa036aaf1b1ceed4b39b4f</td>\n",
       "      <td>86507489.0</td>\n",
       "      <td>99.999462</td>\n",
       "    </tr>\n",
       "    <tr>\n",
       "      <th>177845</th>\n",
       "      <td>\\xbaba92b7822a56c05554ab5d1bc1d0b7e212499d</td>\n",
       "      <td>85695646.0</td>\n",
       "      <td>99.998925</td>\n",
       "    </tr>\n",
       "    <tr>\n",
       "      <th>113481</th>\n",
       "      <td>\\xc553ab5a21735bf3fe2949a9f7df8c25263a694b</td>\n",
       "      <td>81611792.0</td>\n",
       "      <td>99.998387</td>\n",
       "    </tr>\n",
       "    <tr>\n",
       "      <th>15726</th>\n",
       "      <td>\\x569dc44572acace7fc76933f2117f4cbe7b3f435</td>\n",
       "      <td>78396754.0</td>\n",
       "      <td>99.997850</td>\n",
       "    </tr>\n",
       "    <tr>\n",
       "      <th>...</th>\n",
       "      <td>...</td>\n",
       "      <td>...</td>\n",
       "      <td>...</td>\n",
       "    </tr>\n",
       "    <tr>\n",
       "      <th>157420</th>\n",
       "      <td>\\xd80e6f9e2671ae642fe87f420c24a689bece20e1</td>\n",
       "      <td>78.0</td>\n",
       "      <td>0.002688</td>\n",
       "    </tr>\n",
       "    <tr>\n",
       "      <th>49829</th>\n",
       "      <td>\\xb0e96cbfb2fbe55f719027e5950edb6a52c50675</td>\n",
       "      <td>68.0</td>\n",
       "      <td>0.002150</td>\n",
       "    </tr>\n",
       "    <tr>\n",
       "      <th>181564</th>\n",
       "      <td>\\xd98e11a622f2d8c7b1d56fe4af2f54325aa83e0a</td>\n",
       "      <td>66.0</td>\n",
       "      <td>0.001613</td>\n",
       "    </tr>\n",
       "    <tr>\n",
       "      <th>2442</th>\n",
       "      <td>\\xc1893824757174868c312748868592a5bf17c7b2</td>\n",
       "      <td>61.0</td>\n",
       "      <td>0.001075</td>\n",
       "    </tr>\n",
       "    <tr>\n",
       "      <th>86713</th>\n",
       "      <td>\\x8acd8a9ad33d6f00eb4a85f9ae6160530333e5fc</td>\n",
       "      <td>60.0</td>\n",
       "      <td>0.000538</td>\n",
       "    </tr>\n",
       "  </tbody>\n",
       "</table>\n",
       "<p>186035 rows × 3 columns</p>\n",
       "</div>"
      ],
      "text/plain": [
       "                                             buyer  avg_duration      Score5\n",
       "59922   \\x9efea04be978275426e5e6c7ecd10206d47cfa0d    91290008.0  100.000000\n",
       "7763    \\x3311d07b4cb4450778fa036aaf1b1ceed4b39b4f    86507489.0   99.999462\n",
       "177845  \\xbaba92b7822a56c05554ab5d1bc1d0b7e212499d    85695646.0   99.998925\n",
       "113481  \\xc553ab5a21735bf3fe2949a9f7df8c25263a694b    81611792.0   99.998387\n",
       "15726   \\x569dc44572acace7fc76933f2117f4cbe7b3f435    78396754.0   99.997850\n",
       "...                                            ...           ...         ...\n",
       "157420  \\xd80e6f9e2671ae642fe87f420c24a689bece20e1          78.0    0.002688\n",
       "49829   \\xb0e96cbfb2fbe55f719027e5950edb6a52c50675          68.0    0.002150\n",
       "181564  \\xd98e11a622f2d8c7b1d56fe4af2f54325aa83e0a          66.0    0.001613\n",
       "2442    \\xc1893824757174868c312748868592a5bf17c7b2          61.0    0.001075\n",
       "86713   \\x8acd8a9ad33d6f00eb4a85f9ae6160530333e5fc          60.0    0.000538\n",
       "\n",
       "[186035 rows x 3 columns]"
      ]
     },
     "execution_count": 50,
     "metadata": {},
     "output_type": "execute_result"
    }
   ],
   "source": [
    "df_rule_avg_duration_pd.sort_values(by = \"avg_duration\", ascending = False)"
   ]
  },
  {
   "cell_type": "code",
   "execution_count": 51,
   "id": "49ff4691",
   "metadata": {},
   "outputs": [],
   "source": [
    "# df_avg_duration = df_all.groupBy(\"buyer\").agg(avg(\"duration\").alias(\"avg_duration\"))\n",
    "# # score4 based on num_currency\n",
    "# df_rule_avg_duration_pd=df_avg_duration.toPandas()\n",
    "# hist, bins=pd.cut(df_rule_avg_duration_pd['avg_duration'],bins=100,labels=False,retbins=True,right=False)\n",
    "# df_rule_avg_duration_pd['Score5']=hist\n",
    "# df_rule_avg_duration_pd['Score5']+=1\n",
    "# print(df_rule_avg_duration_pd)\n",
    "# #print unique score5 values assigned\n",
    "# print(df_rule_avg_duration_pd['Score5'].unique())\n",
    "# #converting to sparkdf\n",
    "# df_rule_avg_duration=spark.createDataFrame(df_rule_avg_duration_pd)"
   ]
  },
  {
   "cell_type": "code",
   "execution_count": 52,
   "id": "33d91f40",
   "metadata": {},
   "outputs": [
    {
     "data": {
      "image/png": "[encoded data removed]",
      "text/plain": [
       "<Figure size 640x480 with 1 Axes>"
      ]
     },
     "metadata": {},
     "output_type": "display_data"
    },
    {
     "data": {
      "image/png": "[encoded data removed]",
      "text/plain": [
       "<Figure size 640x480 with 1 Axes>"
      ]
     },
     "metadata": {},
     "output_type": "display_data"
    }
   ],
   "source": [
    "df_rule_avg_duration_pd['avg_duration'].plot.kde()\n",
    "plt.xlabel('Average duration')\n",
    "plt.ylabel('Density')\n",
    "plt.title(\"\")\n",
    "plt.xlim(0e+8,0.50e+8)\n",
    "plt.show()\n",
    "\n",
    "df_rule_avg_duration_pd['Score5'].plot.kde()\n",
    "plt.xlabel('Score')\n",
    "plt.ylabel('Density')\n",
    "plt.title(\"\")\n",
    "plt.xlim(-10,110)\n",
    "plt.show()"
   ]
  },
  {
   "cell_type": "code",
   "execution_count": 53,
   "id": "1198a960",
   "metadata": {},
   "outputs": [
    {
     "data": {
      "text/plain": [
       "pyspark.sql.dataframe.DataFrame"
      ]
     },
     "execution_count": 53,
     "metadata": {},
     "output_type": "execute_result"
    }
   ],
   "source": [
    "type(df_avg_duration)"
   ]
  },
  {
   "cell_type": "markdown",
   "id": "c9f43872",
   "metadata": {},
   "source": [
    "# Ranking 6 - Frequency of each transaction"
   ]
  },
  {
   "cell_type": "code",
   "execution_count": 54,
   "id": "5b400165",
   "metadata": {},
   "outputs": [],
   "source": [
    "from pyspark.sql.functions import split\n",
    "df_all = df_all.withColumn(\"date\", split(\"Bought_Timestamp\", \" \")[0])\n",
    "df_all = df_all.withColumn(\"time\", split(\"Bought_Timestamp\", \" \")[1])"
   ]
  },
  {
   "cell_type": "code",
   "execution_count": 55,
   "id": "13f954a1",
   "metadata": {},
   "outputs": [
    {
     "name": "stderr",
     "output_type": "stream",
     "text": [
      "                                                                                \r"
     ]
    },
    {
     "name": "stdout",
     "output_type": "stream",
     "text": [
      "                                             buyer  frequency     Score6\n",
      "0       \\x2fddb28767a612ce6e76da99a32b1e9a69f8e432          4  85.276964\n",
      "1       \\x79141804d6c87dcb4e7ebb7d8aeb4db782518ec9          4  85.276964\n",
      "2       \\xaa145a17cab61c4bfcfa30d1a80229852f1bdb8c          3  77.613084\n",
      "3       \\xbdbb84bc1d8106b20b7ee96a7227e7544ef1fc2b          2  63.160964\n",
      "4       \\x2821b96b96e8e85dad078eefbd98662a4df8ec0b         10  97.788051\n",
      "...                                            ...        ...        ...\n",
      "186030  \\xe282780e50937a2490831e4539bbb5f3f564e004          1  26.794420\n",
      "186031  \\xe0d3851eb01cde810436a054f4211e31a2fe0a82          1  26.794420\n",
      "186032  \\xe73a7a0d3163d12ddf749c97433fac227e4cec3d          1  26.794420\n",
      "186033  \\xafee0a90deb063c23b8ca78a19669c09ac53b8c4          1  26.794420\n",
      "186034  \\x3e59244480f4941076aea8d5083dc0309bac2992          1  26.794420\n",
      "\n",
      "[186035 rows x 3 columns]\n",
      "[ 85.27696401  77.61308356  63.16096433  97.78805064  26.7944204\n",
      "  89.83927756  94.76227592  98.94777864  99.17542398  97.09517026\n",
      "  92.77528422  96.14319886  98.28822533  98.65966082  99.58959336\n",
      "  99.35603515  99.85083452  99.7825678   99.48746204  99.90055635\n",
      "  99.73714624  99.91937001  99.67532991  99.9854866   99.98898057\n",
      "  99.87744242  99.99381837  99.97070444  99.9750047   99.94436531\n",
      "  99.9661354   99.95457844  99.97957374  99.81992636  99.93253958\n",
      "  99.9903244   99.96156637  99.99731233  99.9991937   99.98333647\n",
      "  99.99489343  99.98736797  99.99623727  99.99301207  99.97715484\n",
      "  99.99569973  99.98199264  99.99139947 100.          99.9983874\n",
      "  99.99247453]\n"
     ]
    }
   ],
   "source": [
    "df_frequency = df_all.groupBy(\"buyer\").agg(countDistinct(\"time\").alias(\"frequency\"))\n",
    "df_rule_frequency_pd = df_frequency.toPandas()\n",
    "\n",
    "percentiles = df_rule_frequency_pd['frequency'].rank(pct=True)\n",
    "df_rule_frequency_pd['Score6'] = percentiles * 100\n",
    "\n",
    "print(df_rule_frequency_pd)\n",
    "#print unique score5 values assigned\n",
    "print(df_rule_frequency_pd['Score6'].unique())\n",
    "#converting to sparkdf\n",
    "df_rule_frequency=spark.createDataFrame(df_rule_frequency_pd)"
   ]
  },
  {
   "cell_type": "code",
   "execution_count": 99,
   "id": "02acf239",
   "metadata": {},
   "outputs": [
    {
     "data": {
      "text/plain": [
       "1     99693\n",
       "2     35616\n",
       "3     18156\n",
       "4     10359\n",
       "5      6616\n",
       "6      4308\n",
       "7      3085\n",
       "8      2053\n",
       "9      1489\n",
       "10     1089\n",
       "11      772\n",
       "12      610\n",
       "13      462\n",
       "14      385\n",
       "15      287\n",
       "16      202\n",
       "17      178\n",
       "18      141\n",
       "19       89\n",
       "20       80\n",
       "21       59\n",
       "22       56\n",
       "23       43\n",
       "24       43\n",
       "25       27\n",
       "27       22\n",
       "26       22\n",
       "28       16\n",
       "31       10\n",
       "29       10\n",
       "30        7\n",
       "34        7\n",
       "32        6\n",
       "37        5\n",
       "40        4\n",
       "42        3\n",
       "36        3\n",
       "52        3\n",
       "55        2\n",
       "47        2\n",
       "38        2\n",
       "33        2\n",
       "35        2\n",
       "46        2\n",
       "41        1\n",
       "50        1\n",
       "45        1\n",
       "48        1\n",
       "57        1\n",
       "53        1\n",
       "44        1\n",
       "Name: frequency, dtype: int64"
      ]
     },
     "execution_count": 99,
     "metadata": {},
     "output_type": "execute_result"
    }
   ],
   "source": [
    "df_rule_frequency_pd['frequency'].value_counts()"
   ]
  },
  {
   "cell_type": "code",
   "execution_count": 112,
   "id": "ad22f0ad",
   "metadata": {},
   "outputs": [
    {
     "data": {
      "image/png": "[encoded data removed]",
      "text/plain": [
       "<Figure size 640x480 with 1 Axes>"
      ]
     },
     "metadata": {},
     "output_type": "display_data"
    },
    {
     "name": "stdout",
     "output_type": "stream",
     "text": [
      "1    99693\n",
      "2    35616\n",
      "3    18156\n",
      "Name: frequency, dtype: int64\n"
     ]
    },
    {
     "data": {
      "image/png": "[encoded data removed]",
      "text/plain": [
       "<Figure size 640x480 with 1 Axes>"
      ]
     },
     "metadata": {},
     "output_type": "display_data"
    }
   ],
   "source": [
    "plt.boxplot(df_rule_frequency_pd['frequency'])\n",
    "plt.title('frequency With Outliers')\n",
    "plt.show()\n",
    "Q1 = df_rule_frequency_pd['frequency'].quantile(0.25)\n",
    "Q3 = df_rule_frequency_pd['frequency'].quantile(0.75)\n",
    "IQR = Q3 - Q1\n",
    "\n",
    "# Identify any values that fall outside of 1.5 times the IQR\n",
    "outliers_df_rule_frequency_pd = df_rule_frequency_pd[(df_rule_frequency_pd['frequency'] >= Q1 - 0.4*IQR) & (df_rule_frequency_pd['frequency'] <= Q3 + 0.4*IQR)]\n",
    "print(outliers_df_rule_frequency_pd['frequency'].value_counts())\n",
    "plt.boxplot(outliers_df_rule_frequency_pd['frequency'])\n",
    "plt.title('frequency After removing Outliers')\n",
    "plt.show()"
   ]
  },
  {
   "cell_type": "code",
   "execution_count": 57,
   "id": "c627bf08",
   "metadata": {},
   "outputs": [
    {
     "data": {
      "text/html": [
       "<div>\n",
       "<style scoped>\n",
       "    .dataframe tbody tr th:only-of-type {\n",
       "        vertical-align: middle;\n",
       "    }\n",
       "\n",
       "    .dataframe tbody tr th {\n",
       "        vertical-align: top;\n",
       "    }\n",
       "\n",
       "    .dataframe thead th {\n",
       "        text-align: right;\n",
       "    }\n",
       "</style>\n",
       "<table border=\"1\" class=\"dataframe\">\n",
       "  <thead>\n",
       "    <tr style=\"text-align: right;\">\n",
       "      <th></th>\n",
       "      <th>buyer</th>\n",
       "      <th>frequency</th>\n",
       "      <th>Score6</th>\n",
       "    </tr>\n",
       "  </thead>\n",
       "  <tbody>\n",
       "    <tr>\n",
       "      <th>138897</th>\n",
       "      <td>\\xa43958e85e4a64977a9d3d2c6a053808aa5a9ed6</td>\n",
       "      <td>57</td>\n",
       "      <td>100.000000</td>\n",
       "    </tr>\n",
       "    <tr>\n",
       "      <th>48482</th>\n",
       "      <td>\\x6599ec8d67f5258409cd0b01d320abc08b74ddb6</td>\n",
       "      <td>55</td>\n",
       "      <td>99.999194</td>\n",
       "    </tr>\n",
       "    <tr>\n",
       "      <th>25016</th>\n",
       "      <td>\\xbf90e9e29f342a5de69aad99a6f307f9b9a373d1</td>\n",
       "      <td>55</td>\n",
       "      <td>99.999194</td>\n",
       "    </tr>\n",
       "    <tr>\n",
       "      <th>140692</th>\n",
       "      <td>\\xc3e546894d06575593caf275bd068be0e8e8a907</td>\n",
       "      <td>53</td>\n",
       "      <td>99.998387</td>\n",
       "    </tr>\n",
       "    <tr>\n",
       "      <th>68228</th>\n",
       "      <td>\\x23f838dd79fb3e5dc82b6b311eec2f4a14591bf9</td>\n",
       "      <td>52</td>\n",
       "      <td>99.997312</td>\n",
       "    </tr>\n",
       "    <tr>\n",
       "      <th>...</th>\n",
       "      <td>...</td>\n",
       "      <td>...</td>\n",
       "      <td>...</td>\n",
       "    </tr>\n",
       "    <tr>\n",
       "      <th>92760</th>\n",
       "      <td>\\x8bbd915fb30dec224dd760da37bb15f7cac653b2</td>\n",
       "      <td>1</td>\n",
       "      <td>26.794420</td>\n",
       "    </tr>\n",
       "    <tr>\n",
       "      <th>18808</th>\n",
       "      <td>\\xb42ee7ae1f983db010f55bbeac9c01cd07bb539f</td>\n",
       "      <td>1</td>\n",
       "      <td>26.794420</td>\n",
       "    </tr>\n",
       "    <tr>\n",
       "      <th>18809</th>\n",
       "      <td>\\xe969fcbdf0a2e361d0b33981ee94f68aff2c8db5</td>\n",
       "      <td>1</td>\n",
       "      <td>26.794420</td>\n",
       "    </tr>\n",
       "    <tr>\n",
       "      <th>92756</th>\n",
       "      <td>\\xb2c0329bb51f17396083528eed22e0299e18e842</td>\n",
       "      <td>1</td>\n",
       "      <td>26.794420</td>\n",
       "    </tr>\n",
       "    <tr>\n",
       "      <th>186034</th>\n",
       "      <td>\\x3e59244480f4941076aea8d5083dc0309bac2992</td>\n",
       "      <td>1</td>\n",
       "      <td>26.794420</td>\n",
       "    </tr>\n",
       "  </tbody>\n",
       "</table>\n",
       "<p>186035 rows × 3 columns</p>\n",
       "</div>"
      ],
      "text/plain": [
       "                                             buyer  frequency      Score6\n",
       "138897  \\xa43958e85e4a64977a9d3d2c6a053808aa5a9ed6         57  100.000000\n",
       "48482   \\x6599ec8d67f5258409cd0b01d320abc08b74ddb6         55   99.999194\n",
       "25016   \\xbf90e9e29f342a5de69aad99a6f307f9b9a373d1         55   99.999194\n",
       "140692  \\xc3e546894d06575593caf275bd068be0e8e8a907         53   99.998387\n",
       "68228   \\x23f838dd79fb3e5dc82b6b311eec2f4a14591bf9         52   99.997312\n",
       "...                                            ...        ...         ...\n",
       "92760   \\x8bbd915fb30dec224dd760da37bb15f7cac653b2          1   26.794420\n",
       "18808   \\xb42ee7ae1f983db010f55bbeac9c01cd07bb539f          1   26.794420\n",
       "18809   \\xe969fcbdf0a2e361d0b33981ee94f68aff2c8db5          1   26.794420\n",
       "92756   \\xb2c0329bb51f17396083528eed22e0299e18e842          1   26.794420\n",
       "186034  \\x3e59244480f4941076aea8d5083dc0309bac2992          1   26.794420\n",
       "\n",
       "[186035 rows x 3 columns]"
      ]
     },
     "execution_count": 57,
     "metadata": {},
     "output_type": "execute_result"
    }
   ],
   "source": [
    "df_rule_frequency_pd.sort_values(by = 'frequency', ascending = False)"
   ]
  },
  {
   "cell_type": "code",
   "execution_count": 58,
   "id": "50320f3a",
   "metadata": {},
   "outputs": [],
   "source": [
    "# df_frequency = df_all.groupBy(\"buyer\").agg(countDistinct(\"time\").alias(\"frequency\"))\n",
    "# df_rule_frequency_pd = df_frequency.toPandas()\n",
    "# hist, bins=pd.cut(df_rule_frequency_pd['frequency'],bins=100,labels=False,retbins=True,right=False)\n",
    "# df_rule_frequency_pd['Score6']=hist\n",
    "# df_rule_frequency_pd['Score6']+=1\n",
    "# print(df_rule_frequency_pd)\n",
    "# #print unique score5 values assigned\n",
    "# print(df_rule_frequency_pd['Score6'].unique())\n",
    "# #converting to sparkdf\n",
    "# df_frequency=spark.createDataFrame(df_rule_frequency_pd)"
   ]
  },
  {
   "cell_type": "code",
   "execution_count": 59,
   "id": "918ceb81",
   "metadata": {},
   "outputs": [
    {
     "data": {
      "image/png": "[encoded data removed]",
      "text/plain": [
       "<Figure size 640x480 with 1 Axes>"
      ]
     },
     "metadata": {},
     "output_type": "display_data"
    },
    {
     "data": {
      "image/png": "[encoded data removed]",
      "text/plain": [
       "<Figure size 640x480 with 1 Axes>"
      ]
     },
     "metadata": {},
     "output_type": "display_data"
    }
   ],
   "source": [
    "df_rule_frequency_pd['frequency'].plot.kde()\n",
    "plt.xlabel('Frequency')\n",
    "plt.ylabel('Density')\n",
    "plt.title(\"\")\n",
    "plt.xlim(-10,100)\n",
    "plt.show()\n",
    "\n",
    "df_rule_frequency_pd['Score6'].plot.kde()\n",
    "plt.xlabel('Score')\n",
    "plt.ylabel('Density')\n",
    "plt.title(\"\")\n",
    "plt.xlim(0,110)\n",
    "plt.show()"
   ]
  },
  {
   "cell_type": "markdown",
   "id": "8fc3fc65",
   "metadata": {},
   "source": [
    "# Feature Extraction for Model"
   ]
  },
  {
   "cell_type": "code",
   "execution_count": 60,
   "id": "662b1fd3",
   "metadata": {},
   "outputs": [],
   "source": [
    "# modeldata = reduce(lambda x,y: pd.merge(x,y, on='buyer', how='outer'), [df_avg, df_count, df_num_nftcontract, df_currency, df_avg_duration])\n",
    "joined_df = df_avg.join(df_count, on='buyer', how='inner').join(df_num_nftcontract, on='buyer', how='inner').join(df_currency, on='buyer', how='inner').join(df_avg_duration, on='buyer', how='inner').join(df_frequency, on='buyer', how='inner')"
   ]
  },
  {
   "cell_type": "code",
   "execution_count": 61,
   "id": "36d41480",
   "metadata": {},
   "outputs": [
    {
     "name": "stderr",
     "output_type": "stream",
     "text": [
      "[Stage 115:=>(9 + 2) / 11][Stage 118:> (0 + 6) / 10][Stage 121:>  (0 + 0) / 9]0]\r"
     ]
    },
    {
     "name": "stdout",
     "output_type": "stream",
     "text": [
      "23/04/19 11:58:05 WARN RowBasedKeyValueBatch: Calling spill() on RowBasedKeyValueBatch. Will not spill but return 0.\n",
      "23/04/19 11:58:05 WARN RowBasedKeyValueBatch: Calling spill() on RowBasedKeyValueBatch. Will not spill but return 0.\n",
      "23/04/19 11:58:05 WARN RowBasedKeyValueBatch: Calling spill() on RowBasedKeyValueBatch. Will not spill but return 0.\n",
      "23/04/19 11:58:05 WARN RowBasedKeyValueBatch: Calling spill() on RowBasedKeyValueBatch. Will not spill but return 0.\n",
      "23/04/19 11:58:06 WARN RowBasedKeyValueBatch: Calling spill() on RowBasedKeyValueBatch. Will not spill but return 0.\n",
      "23/04/19 11:58:06 WARN RowBasedKeyValueBatch: Calling spill() on RowBasedKeyValueBatch. Will not spill but return 0.\n"
     ]
    },
    {
     "name": "stderr",
     "output_type": "stream",
     "text": [
      "[Stage 118:> (0 + 8) / 10][Stage 121:>  (0 + 0) / 9][Stage 122:>  (0 + 0) / 9]\r"
     ]
    },
    {
     "name": "stdout",
     "output_type": "stream",
     "text": [
      "23/04/19 11:58:07 WARN RowBasedKeyValueBatch: Calling spill() on RowBasedKeyValueBatch. Will not spill but return 0.\n",
      "23/04/19 11:58:07 WARN RowBasedKeyValueBatch: Calling spill() on RowBasedKeyValueBatch. Will not spill but return 0.\n",
      "23/04/19 11:58:07 WARN RowBasedKeyValueBatch: Calling spill() on RowBasedKeyValueBatch. Will not spill but return 0.\n",
      "23/04/19 11:58:07 WARN RowBasedKeyValueBatch: Calling spill() on RowBasedKeyValueBatch. Will not spill but return 0.\n",
      "23/04/19 11:58:08 WARN RowBasedKeyValueBatch: Calling spill() on RowBasedKeyValueBatch. Will not spill but return 0.\n",
      "23/04/19 11:58:08 WARN RowBasedKeyValueBatch: Calling spill() on RowBasedKeyValueBatch. Will not spill but return 0.\n",
      "23/04/19 11:58:08 WARN RowBasedKeyValueBatch: Calling spill() on RowBasedKeyValueBatch. Will not spill but return 0.\n",
      "23/04/19 11:58:08 WARN RowBasedKeyValueBatch: Calling spill() on RowBasedKeyValueBatch. Will not spill but return 0.\n",
      "23/04/19 11:58:08 WARN RowBasedKeyValueBatch: Calling spill() on RowBasedKeyValueBatch. Will not spill but return 0.\n",
      "23/04/19 11:58:08 WARN RowBasedKeyValueBatch: Calling spill() on RowBasedKeyValueBatch. Will not spill but return 0.\n",
      "23/04/19 11:58:08 WARN RowBasedKeyValueBatch: Calling spill() on RowBasedKeyValueBatch. Will not spill but return 0.\n",
      "23/04/19 11:58:08 WARN RowBasedKeyValueBatch: Calling spill() on RowBasedKeyValueBatch. Will not spill but return 0.\n",
      "23/04/19 11:58:09 WARN RowBasedKeyValueBatch: Calling spill() on RowBasedKeyValueBatch. Will not spill but return 0.\n",
      "23/04/19 11:58:09 WARN RowBasedKeyValueBatch: Calling spill() on RowBasedKeyValueBatch. Will not spill but return 0.\n"
     ]
    },
    {
     "name": "stderr",
     "output_type": "stream",
     "text": [
      "[Stage 118:> (1 + 8) / 10][Stage 121:>  (0 + 0) / 9][Stage 122:>  (0 + 0) / 9]\r"
     ]
    },
    {
     "name": "stdout",
     "output_type": "stream",
     "text": [
      "23/04/19 11:58:11 WARN RowBasedKeyValueBatch: Calling spill() on RowBasedKeyValueBatch. Will not spill but return 0.\n"
     ]
    },
    {
     "name": "stderr",
     "output_type": "stream",
     "text": [
      "[Stage 118:> (3 + 7) / 10][Stage 121:>  (0 + 1) / 9][Stage 122:>  (0 + 0) / 9]\r"
     ]
    },
    {
     "name": "stdout",
     "output_type": "stream",
     "text": [
      "23/04/19 11:58:12 WARN RowBasedKeyValueBatch: Calling spill() on RowBasedKeyValueBatch. Will not spill but return 0.\n"
     ]
    },
    {
     "name": "stderr",
     "output_type": "stream",
     "text": [
      "[Stage 118:> (4 + 6) / 10][Stage 121:>  (0 + 2) / 9][Stage 122:>  (0 + 0) / 9]\r"
     ]
    },
    {
     "name": "stdout",
     "output_type": "stream",
     "text": [
      "23/04/19 11:58:12 WARN RowBasedKeyValueBatch: Calling spill() on RowBasedKeyValueBatch. Will not spill but return 0.\n"
     ]
    },
    {
     "name": "stderr",
     "output_type": "stream",
     "text": [
      "[Stage 118:=>(7 + 3) / 10][Stage 121:>  (0 + 5) / 9][Stage 122:>  (0 + 0) / 9]\r"
     ]
    },
    {
     "name": "stdout",
     "output_type": "stream",
     "text": [
      "23/04/19 11:58:12 WARN RowBasedKeyValueBatch: Calling spill() on RowBasedKeyValueBatch. Will not spill but return 0.\n",
      "23/04/19 11:58:13 WARN RowBasedKeyValueBatch: Calling spill() on RowBasedKeyValueBatch. Will not spill but return 0.\n",
      "23/04/19 11:58:13 WARN RowBasedKeyValueBatch: Calling spill() on RowBasedKeyValueBatch. Will not spill but return 0.\n",
      "23/04/19 11:58:13 WARN RowBasedKeyValueBatch: Calling spill() on RowBasedKeyValueBatch. Will not spill but return 0.\n"
     ]
    },
    {
     "name": "stderr",
     "output_type": "stream",
     "text": [
      "[Stage 118:=>(8 + 2) / 10][Stage 121:>  (0 + 6) / 9][Stage 122:>  (0 + 0) / 9]\r"
     ]
    },
    {
     "name": "stdout",
     "output_type": "stream",
     "text": [
      "23/04/19 11:58:13 WARN RowBasedKeyValueBatch: Calling spill() on RowBasedKeyValueBatch. Will not spill but return 0.\n",
      "23/04/19 11:58:13 WARN RowBasedKeyValueBatch: Calling spill() on RowBasedKeyValueBatch. Will not spill but return 0.\n",
      "23/04/19 11:58:14 WARN RowBasedKeyValueBatch: Calling spill() on RowBasedKeyValueBatch. Will not spill but return 0.\n",
      "23/04/19 11:58:15 WARN RowBasedKeyValueBatch: Calling spill() on RowBasedKeyValueBatch. Will not spill but return 0.\n",
      "23/04/19 11:58:15 WARN RowBasedKeyValueBatch: Calling spill() on RowBasedKeyValueBatch. Will not spill but return 0.\n",
      "23/04/19 11:58:15 WARN RowBasedKeyValueBatch: Calling spill() on RowBasedKeyValueBatch. Will not spill but return 0.\n",
      "23/04/19 11:58:15 WARN RowBasedKeyValueBatch: Calling spill() on RowBasedKeyValueBatch. Will not spill but return 0.\n",
      "23/04/19 11:58:15 WARN RowBasedKeyValueBatch: Calling spill() on RowBasedKeyValueBatch. Will not spill but return 0.\n",
      "23/04/19 11:58:15 WARN RowBasedKeyValueBatch: Calling spill() on RowBasedKeyValueBatch. Will not spill but return 0.\n",
      "23/04/19 11:58:15 WARN RowBasedKeyValueBatch: Calling spill() on RowBasedKeyValueBatch. Will not spill but return 0.\n",
      "23/04/19 11:58:15 WARN RowBasedKeyValueBatch: Calling spill() on RowBasedKeyValueBatch. Will not spill but return 0.\n",
      "23/04/19 11:58:15 WARN RowBasedKeyValueBatch: Calling spill() on RowBasedKeyValueBatch. Will not spill but return 0.\n",
      "23/04/19 11:58:16 WARN RowBasedKeyValueBatch: Calling spill() on RowBasedKeyValueBatch. Will not spill but return 0.\n",
      "23/04/19 11:58:16 WARN RowBasedKeyValueBatch: Calling spill() on RowBasedKeyValueBatch. Will not spill but return 0.\n",
      "23/04/19 11:58:16 WARN RowBasedKeyValueBatch: Calling spill() on RowBasedKeyValueBatch. Will not spill but return 0.\n"
     ]
    },
    {
     "name": "stderr",
     "output_type": "stream",
     "text": [
      "[Stage 118:=>(9 + 1) / 10][Stage 121:>  (0 + 7) / 9][Stage 122:>  (0 + 0) / 9]\r"
     ]
    },
    {
     "name": "stdout",
     "output_type": "stream",
     "text": [
      "23/04/19 11:58:16 WARN RowBasedKeyValueBatch: Calling spill() on RowBasedKeyValueBatch. Will not spill but return 0.\n"
     ]
    },
    {
     "name": "stderr",
     "output_type": "stream",
     "text": [
      "[Stage 121:>  (0 + 8) / 9][Stage 122:>  (0 + 0) / 9][Stage 123:>  (0 + 0) / 9]\r"
     ]
    },
    {
     "name": "stdout",
     "output_type": "stream",
     "text": [
      "23/04/19 11:58:17 WARN RowBasedKeyValueBatch: Calling spill() on RowBasedKeyValueBatch. Will not spill but return 0.\n",
      "23/04/19 11:58:18 WARN RowBasedKeyValueBatch: Calling spill() on RowBasedKeyValueBatch. Will not spill but return 0.\n",
      "23/04/19 11:58:18 WARN RowBasedKeyValueBatch: Calling spill() on RowBasedKeyValueBatch. Will not spill but return 0.\n",
      "23/04/19 11:58:18 WARN RowBasedKeyValueBatch: Calling spill() on RowBasedKeyValueBatch. Will not spill but return 0.\n",
      "23/04/19 11:58:19 WARN RowBasedKeyValueBatch: Calling spill() on RowBasedKeyValueBatch. Will not spill but return 0.\n"
     ]
    },
    {
     "name": "stderr",
     "output_type": "stream",
     "text": [
      "[Stage 121:==>(6 + 3) / 9][Stage 122:>  (0 + 5) / 9][Stage 123:>  (0 + 0) / 9]\r"
     ]
    },
    {
     "name": "stdout",
     "output_type": "stream",
     "text": [
      "23/04/19 11:58:21 WARN RowBasedKeyValueBatch: Calling spill() on RowBasedKeyValueBatch. Will not spill but return 0.\n",
      "23/04/19 11:58:22 WARN RowBasedKeyValueBatch: Calling spill() on RowBasedKeyValueBatch. Will not spill but return 0.\n",
      "23/04/19 11:58:22 WARN RowBasedKeyValueBatch: Calling spill() on RowBasedKeyValueBatch. Will not spill but return 0.\n"
     ]
    },
    {
     "name": "stderr",
     "output_type": "stream",
     "text": [
      "[Stage 122:=> (4 + 5) / 9][Stage 123:>  (0 + 3) / 9][Stage 124:>  (0 + 0) / 9]\r"
     ]
    },
    {
     "name": "stdout",
     "output_type": "stream",
     "text": [
      "23/04/19 11:58:28 WARN RowBasedKeyValueBatch: Calling spill() on RowBasedKeyValueBatch. Will not spill but return 0.\n",
      "23/04/19 11:58:28 WARN RowBasedKeyValueBatch: Calling spill() on RowBasedKeyValueBatch. Will not spill but return 0.\n",
      "23/04/19 11:58:28 WARN RowBasedKeyValueBatch: Calling spill() on RowBasedKeyValueBatch. Will not spill but return 0.\n"
     ]
    },
    {
     "name": "stderr",
     "output_type": "stream",
     "text": [
      "[Stage 122:=> (5 + 4) / 9][Stage 123:>  (0 + 4) / 9][Stage 124:>  (0 + 0) / 9]\r"
     ]
    },
    {
     "name": "stdout",
     "output_type": "stream",
     "text": [
      "23/04/19 11:58:28 WARN RowBasedKeyValueBatch: Calling spill() on RowBasedKeyValueBatch. Will not spill but return 0.\n"
     ]
    },
    {
     "name": "stderr",
     "output_type": "stream",
     "text": [
      "[Stage 122:==>(6 + 3) / 9][Stage 123:>  (0 + 5) / 9][Stage 124:>  (0 + 0) / 9]\r"
     ]
    },
    {
     "name": "stdout",
     "output_type": "stream",
     "text": [
      "23/04/19 11:58:30 WARN RowBasedKeyValueBatch: Calling spill() on RowBasedKeyValueBatch. Will not spill but return 0.\n",
      "23/04/19 11:58:30 WARN RowBasedKeyValueBatch: Calling spill() on RowBasedKeyValueBatch. Will not spill but return 0.\n",
      "23/04/19 11:58:30 WARN RowBasedKeyValueBatch: Calling spill() on RowBasedKeyValueBatch. Will not spill but return 0.\n",
      "23/04/19 11:58:30 WARN RowBasedKeyValueBatch: Calling spill() on RowBasedKeyValueBatch. Will not spill but return 0.\n"
     ]
    },
    {
     "name": "stderr",
     "output_type": "stream",
     "text": [
      "[Stage 122:==>(7 + 2) / 9][Stage 123:>  (0 + 6) / 9][Stage 124:>  (0 + 0) / 9]\r"
     ]
    },
    {
     "name": "stdout",
     "output_type": "stream",
     "text": [
      "23/04/19 11:58:30 WARN RowBasedKeyValueBatch: Calling spill() on RowBasedKeyValueBatch. Will not spill but return 0.\n",
      "23/04/19 11:58:30 WARN RowBasedKeyValueBatch: Calling spill() on RowBasedKeyValueBatch. Will not spill but return 0.\n",
      "23/04/19 11:58:30 WARN RowBasedKeyValueBatch: Calling spill() on RowBasedKeyValueBatch. Will not spill but return 0.\n",
      "23/04/19 11:58:30 WARN RowBasedKeyValueBatch: Calling spill() on RowBasedKeyValueBatch. Will not spill but return 0.\n",
      "23/04/19 11:58:30 WARN RowBasedKeyValueBatch: Calling spill() on RowBasedKeyValueBatch. Will not spill but return 0.\n",
      "23/04/19 11:58:31 WARN RowBasedKeyValueBatch: Calling spill() on RowBasedKeyValueBatch. Will not spill but return 0.\n"
     ]
    },
    {
     "name": "stderr",
     "output_type": "stream",
     "text": [
      "[Stage 123:>  (0 + 8) / 9][Stage 124:>  (0 + 0) / 9][Stage 126:>  (0 + 0) / 9]\r"
     ]
    },
    {
     "name": "stdout",
     "output_type": "stream",
     "text": [
      "23/04/19 11:58:32 WARN RowBasedKeyValueBatch: Calling spill() on RowBasedKeyValueBatch. Will not spill but return 0.\n",
      "23/04/19 11:58:32 WARN RowBasedKeyValueBatch: Calling spill() on RowBasedKeyValueBatch. Will not spill but return 0.\n",
      "23/04/19 11:58:32 WARN RowBasedKeyValueBatch: Calling spill() on RowBasedKeyValueBatch. Will not spill but return 0.\n",
      "23/04/19 11:58:32 WARN RowBasedKeyValueBatch: Calling spill() on RowBasedKeyValueBatch. Will not spill but return 0.\n",
      "23/04/19 11:58:33 WARN RowBasedKeyValueBatch: Calling spill() on RowBasedKeyValueBatch. Will not spill but return 0.\n",
      "23/04/19 11:58:34 WARN RowBasedKeyValueBatch: Calling spill() on RowBasedKeyValueBatch. Will not spill but return 0.\n",
      "23/04/19 11:58:34 WARN RowBasedKeyValueBatch: Calling spill() on RowBasedKeyValueBatch. Will not spill but return 0.\n"
     ]
    },
    {
     "name": "stderr",
     "output_type": "stream",
     "text": [
      "[Stage 123:>  (2 + 7) / 9][Stage 124:>  (0 + 1) / 9][Stage 126:>  (0 + 0) / 9]\r"
     ]
    },
    {
     "name": "stdout",
     "output_type": "stream",
     "text": [
      "23/04/19 11:58:35 WARN RowBasedKeyValueBatch: Calling spill() on RowBasedKeyValueBatch. Will not spill but return 0.\n"
     ]
    },
    {
     "name": "stderr",
     "output_type": "stream",
     "text": [
      "[Stage 123:=> (3 + 6) / 9][Stage 124:>  (0 + 2) / 9][Stage 126:>  (0 + 0) / 9]\r"
     ]
    },
    {
     "name": "stdout",
     "output_type": "stream",
     "text": [
      "23/04/19 11:58:35 WARN RowBasedKeyValueBatch: Calling spill() on RowBasedKeyValueBatch. Will not spill but return 0.\n"
     ]
    },
    {
     "name": "stderr",
     "output_type": "stream",
     "text": [
      "[Stage 123:=> (4 + 5) / 9][Stage 124:>  (0 + 3) / 9][Stage 126:>  (0 + 0) / 9]\r"
     ]
    },
    {
     "name": "stdout",
     "output_type": "stream",
     "text": [
      "23/04/19 11:58:36 WARN RowBasedKeyValueBatch: Calling spill() on RowBasedKeyValueBatch. Will not spill but return 0.\n"
     ]
    },
    {
     "name": "stderr",
     "output_type": "stream",
     "text": [
      "[Stage 123:==>(6 + 3) / 9][Stage 124:>  (0 + 5) / 9][Stage 126:>  (0 + 0) / 9]\r"
     ]
    },
    {
     "name": "stdout",
     "output_type": "stream",
     "text": [
      "23/04/19 11:58:37 WARN RowBasedKeyValueBatch: Calling spill() on RowBasedKeyValueBatch. Will not spill but return 0.\n"
     ]
    },
    {
     "name": "stderr",
     "output_type": "stream",
     "text": [
      "[Stage 134:=======>                                                 (1 + 7) / 8]\r"
     ]
    },
    {
     "name": "stdout",
     "output_type": "stream",
     "text": [
      "+--------------------+-------------------+-----------+---------------+------------+------------------+---------+\n",
      "|               buyer|          avg_spent|number_txns|num_nftcontract|num_currency|      avg_duration|frequency|\n",
      "+--------------------+-------------------+-----------+---------------+------------+------------------+---------+\n",
      "|\\x000000000027634...|-1094.1415000000002|          2|              2|           1|         1012977.0|        2|\n",
      "|\\x0000002b94395a5...| 18.830347000000003|          1|              1|           1|           53640.0|        1|\n",
      "|\\x00052fb2f4c461b...|         5686.01735|          2|              1|           2|         1696346.0|        2|\n",
      "|\\x0005bb8bdcbbf4a...| 288.20619921428573|          7|              1|           1|256193.85714285713|        7|\n",
      "|\\x0007a07be3fc1a3...|-305.52065600000003|          1|              1|           1|          208449.0|        1|\n",
      "+--------------------+-------------------+-----------+---------------+------------+------------------+---------+\n",
      "only showing top 5 rows\n",
      "\n"
     ]
    },
    {
     "name": "stderr",
     "output_type": "stream",
     "text": [
      "                                                                                \r"
     ]
    }
   ],
   "source": [
    "joined_df.show(5)"
   ]
  },
  {
   "cell_type": "code",
   "execution_count": 62,
   "id": "73025c8f",
   "metadata": {},
   "outputs": [
    {
     "name": "stderr",
     "output_type": "stream",
     "text": [
      "                                                                                \r"
     ]
    },
    {
     "data": {
      "text/plain": [
       "186035"
      ]
     },
     "execution_count": 62,
     "metadata": {},
     "output_type": "execute_result"
    }
   ],
   "source": [
    "joined_df.count()"
   ]
  },
  {
   "cell_type": "code",
   "execution_count": 63,
   "id": "a81f5897",
   "metadata": {
    "scrolled": true
   },
   "outputs": [
    {
     "name": "stdout",
     "output_type": "stream",
     "text": [
      "23/04/19 11:59:18 WARN TaskSetManager: Stage 164 contains a task of very large size (1435 KiB). The maximum recommended task size is 1000 KiB.\n",
      "23/04/19 11:59:18 WARN TaskSetManager: Stage 165 contains a task of very large size (1280 KiB). The maximum recommended task size is 1000 KiB.\n"
     ]
    },
    {
     "name": "stderr",
     "output_type": "stream",
     "text": [
      "[Stage 164:=> (5 + 3) / 8][Stage 165:>  (0 + 5) / 8][Stage 166:>  (0 + 0) / 8]\r"
     ]
    },
    {
     "name": "stdout",
     "output_type": "stream",
     "text": [
      "23/04/19 11:59:19 WARN TaskSetManager: Stage 166 contains a task of very large size (1280 KiB). The maximum recommended task size is 1000 KiB.\n"
     ]
    },
    {
     "name": "stderr",
     "output_type": "stream",
     "text": [
      "[Stage 166:=> (3 + 5) / 8][Stage 167:>  (0 + 3) / 8][Stage 168:>  (0 + 0) / 8]\r"
     ]
    },
    {
     "name": "stdout",
     "output_type": "stream",
     "text": [
      "23/04/19 11:59:19 WARN TaskSetManager: Stage 167 contains a task of very large size (1280 KiB). The maximum recommended task size is 1000 KiB.\n"
     ]
    },
    {
     "name": "stderr",
     "output_type": "stream",
     "text": [
      "[Stage 167:=> (3 + 5) / 8][Stage 168:>  (0 + 3) / 8][Stage 169:>  (0 + 0) / 8]\r"
     ]
    },
    {
     "name": "stdout",
     "output_type": "stream",
     "text": [
      "23/04/19 11:59:20 WARN TaskSetManager: Stage 168 contains a task of very large size (1435 KiB). The maximum recommended task size is 1000 KiB.\n"
     ]
    },
    {
     "name": "stderr",
     "output_type": "stream",
     "text": [
      "[Stage 167:==>(7 + 1) / 8][Stage 168:>  (0 + 7) / 8][Stage 169:>  (0 + 0) / 8]\r"
     ]
    },
    {
     "name": "stdout",
     "output_type": "stream",
     "text": [
      "23/04/19 11:59:20 WARN TaskSetManager: Stage 169 contains a task of very large size (1280 KiB). The maximum recommended task size is 1000 KiB.\n"
     ]
    },
    {
     "name": "stderr",
     "output_type": "stream",
     "text": [
      "[Stage 169:==============>                                          (2 + 6) / 8]\r"
     ]
    },
    {
     "name": "stdout",
     "output_type": "stream",
     "text": [
      "+--------------------+-------------------+------------------+-----------+------------------+---------------+------------------+------------+------------------+------------------+------------------+---------+------------------+\n",
      "|               buyer|          avg_spent|            Score1|number_txns|            Score2|num_nftcontract|            Score3|num_currency|            Score4|      avg_duration|            Score5|frequency|            Score6|\n",
      "+--------------------+-------------------+------------------+-----------+------------------+---------------+------------------+------------+------------------+------------------+------------------+---------+------------------+\n",
      "|\\x000000000027634...|-1094.1415000000002|               0.0|          2|61.975165963393984|              2| 75.54573064208347|           1|48.130728088800495|         1012977.0| 55.64383046200984|        2|63.160964334668215|\n",
      "|\\x0000002b94395a5...| 18.830347000000003|11.084771018587505|          1|26.398527158867957|              1|33.447738328809095|           1|48.130728088800495|           53640.0|12.840594511785417|        1| 26.79442040476254|\n",
      "|\\x00052fb2f4c461b...|         5686.01735| 96.10736436733785|          2|61.975165963393984|              1|33.447738328809095|           2| 98.11970865697315|         1696346.0| 66.81484666863761|        2|63.160964334668215|\n",
      "|\\x0005bb8bdcbbf4a...| 288.20619921428573|54.220166619899565|          7| 92.50275485795683|              1|33.447738328809095|           1|48.130728088800495|256193.85714285713| 28.97519284005698|        7| 94.76227591582229|\n",
      "|\\x0007a07be3fc1a3...|-305.52065600000003|               0.0|          1|26.398527158867957|              1|33.447738328809095|           1|48.130728088800495|          208449.0|26.113903297766548|        1| 26.79442040476254|\n",
      "+--------------------+-------------------+------------------+-----------+------------------+---------------+------------------+------------+------------------+------------------+------------------+---------+------------------+\n",
      "only showing top 5 rows\n",
      "\n"
     ]
    },
    {
     "name": "stderr",
     "output_type": "stream",
     "text": [
      "                                                                                \r"
     ]
    }
   ],
   "source": [
    "joined_scores = df_rule_avg_spent.join(df_rule_number_txns, on='buyer', how='inner').join(df_rule_num_nftcontract, on='buyer', how='inner').join(df_rule_num_currency, on='buyer', how='inner').join(df_rule_avg_duration, on='buyer', how='inner').join(df_rule_frequency, on='buyer', how='inner')\n",
    "joined_scores.show(5)"
   ]
  },
  {
   "cell_type": "code",
   "execution_count": 64,
   "id": "adb2421c",
   "metadata": {},
   "outputs": [
    {
     "name": "stdout",
     "output_type": "stream",
     "text": [
      "23/04/19 11:59:22 WARN TaskSetManager: Stage 177 contains a task of very large size (1435 KiB). The maximum recommended task size is 1000 KiB.\n",
      "23/04/19 11:59:22 WARN TaskSetManager: Stage 178 contains a task of very large size (1280 KiB). The maximum recommended task size is 1000 KiB.\n",
      "23/04/19 11:59:22 WARN TaskSetManager: Stage 179 contains a task of very large size (1280 KiB). The maximum recommended task size is 1000 KiB.\n"
     ]
    },
    {
     "name": "stderr",
     "output_type": "stream",
     "text": [
      "[Stage 179:>  (2 + 6) / 8][Stage 180:>  (0 + 2) / 8][Stage 181:>  (0 + 0) / 8]\r"
     ]
    },
    {
     "name": "stdout",
     "output_type": "stream",
     "text": [
      "23/04/19 11:59:23 WARN TaskSetManager: Stage 180 contains a task of very large size (1280 KiB). The maximum recommended task size is 1000 KiB.\n"
     ]
    },
    {
     "name": "stderr",
     "output_type": "stream",
     "text": [
      "[Stage 179:=> (5 + 3) / 8][Stage 180:>  (0 + 5) / 8][Stage 181:>  (0 + 0) / 8]\r"
     ]
    },
    {
     "name": "stdout",
     "output_type": "stream",
     "text": [
      "23/04/19 11:59:23 WARN TaskSetManager: Stage 181 contains a task of very large size (1435 KiB). The maximum recommended task size is 1000 KiB.\n"
     ]
    },
    {
     "name": "stderr",
     "output_type": "stream",
     "text": [
      "[Stage 180:==>(6 + 2) / 8][Stage 181:>  (1 + 7) / 8][Stage 182:>  (0 + 0) / 8]\r"
     ]
    },
    {
     "name": "stdout",
     "output_type": "stream",
     "text": [
      "23/04/19 11:59:24 WARN TaskSetManager: Stage 182 contains a task of very large size (1280 KiB). The maximum recommended task size is 1000 KiB.\n"
     ]
    },
    {
     "name": "stderr",
     "output_type": "stream",
     "text": [
      "[Stage 189:>                                                        (0 + 8) / 8]\r"
     ]
    },
    {
     "name": "stdout",
     "output_type": "stream",
     "text": [
      "23/04/19 11:59:25 WARN MemoryManager: Total allocation exceeds 95.00% (1,020,054,720 bytes) of heap memory\n",
      "Scaling row group sizes to 95.00% for 8 writers\n"
     ]
    },
    {
     "name": "stderr",
     "output_type": "stream",
     "text": [
      "                                                                                \r"
     ]
    }
   ],
   "source": [
    "joined_scores.write.parquet(\"/Users/rose/Documents/ModelScores/\")\n"
   ]
  },
  {
   "cell_type": "code",
   "execution_count": null,
   "id": "f01e0b84",
   "metadata": {},
   "outputs": [],
   "source": []
  }
 ],
 "metadata": {
  "kernelspec": {
   "display_name": "Python 3 (ipykernel)",
   "language": "python",
   "name": "python3"
  },
  "language_info": {
   "codemirror_mode": {
    "name": "ipython",
    "version": 3
   },
   "file_extension": ".py",
   "mimetype": "text/x-python",
   "name": "python",
   "nbconvert_exporter": "python",
   "pygments_lexer": "ipython3",
   "version": "3.9.13"
  }
 },
 "nbformat": 4,
 "nbformat_minor": 5
}
