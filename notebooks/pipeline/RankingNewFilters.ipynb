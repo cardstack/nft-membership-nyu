{
 "cells": [
  {
   "cell_type": "code",
   "execution_count": 1,
   "id": "6a863de5",
   "metadata": {
    "scrolled": true
   },
   "outputs": [
    {
     "name": "stderr",
     "output_type": "stream",
     "text": [
      "C:\\Users\\MAITRI\\anaconda3\\envs\\itp\\lib\\site-packages\\tqdm\\auto.py:21: TqdmWarning: IProgress not found. Please update jupyter and ipywidgets. See https://ipywidgets.readthedocs.io/en/stable/user_install.html\n",
      "  from .autonotebook import tqdm as notebook_tqdm\n"
     ]
    },
    {
     "name": "stdout",
     "output_type": "stream",
     "text": [
      "Requirement already satisfied: pyarrow in c:\\users\\maitri\\anaconda3\\envs\\itp\\lib\\site-packages (11.0.0)\n",
      "Requirement already satisfied: numpy>=1.16.6 in c:\\users\\maitri\\anaconda3\\envs\\itp\\lib\\site-packages (from pyarrow) (1.23.5)\n",
      "Note: you may need to restart the kernel to use updated packages.\n"
     ]
    },
    {
     "name": "stderr",
     "output_type": "stream",
     "text": [
      "WARNING: Ignoring invalid distribution -yspark (c:\\users\\maitri\\anaconda3\\envs\\itp\\lib\\site-packages)\n",
      "WARNING: Ignoring invalid distribution -yspark (c:\\users\\maitri\\anaconda3\\envs\\itp\\lib\\site-packages)\n",
      "WARNING: Ignoring invalid distribution -yspark (c:\\users\\maitri\\anaconda3\\envs\\itp\\lib\\site-packages)\n",
      "WARNING: Ignoring invalid distribution -yspark (c:\\users\\maitri\\anaconda3\\envs\\itp\\lib\\site-packages)\n",
      "WARNING: Ignoring invalid distribution -yspark (c:\\users\\maitri\\anaconda3\\envs\\itp\\lib\\site-packages)\n",
      "WARNING: Ignoring invalid distribution -yspark (c:\\users\\maitri\\anaconda3\\envs\\itp\\lib\\site-packages)\n"
     ]
    }
   ],
   "source": [
    "%run Imports.ipynb"
   ]
  },
  {
   "cell_type": "code",
   "execution_count": 2,
   "id": "0949cff6",
   "metadata": {},
   "outputs": [],
   "source": [
    "import warnings\n",
    "warnings.simplefilter('ignore')"
   ]
  },
  {
   "cell_type": "code",
   "execution_count": 3,
   "id": "cad0eadf",
   "metadata": {
    "scrolled": true
   },
   "outputs": [],
   "source": [
    "conf = pyspark.SparkConf()\n",
    "spark = SparkSession.builder.appName(\"Rank\").getOrCreate()"
   ]
  },
  {
   "cell_type": "code",
   "execution_count": 4,
   "id": "021fabff",
   "metadata": {},
   "outputs": [],
   "source": [
    "df1=spark.read.parquet(\"output_2202508.parquet\")"
   ]
  },
  {
   "cell_type": "code",
   "execution_count": 4,
   "id": "e8c7a72e",
   "metadata": {},
   "outputs": [
    {
     "name": "stderr",
     "output_type": "stream",
     "text": [
      "                                                                                \r"
     ]
    }
   ],
   "source": [
    "#df1=spark.read.parquet(\"/Users/rose/Documents/CleanDuneData/*\")"
   ]
  },
  {
   "cell_type": "code",
   "execution_count": null,
   "id": "b9eb1102",
   "metadata": {},
   "outputs": [],
   "source": [
    "path = \"C:/Users/MAITRI/OneDrive/Documents/load_m/*\"\n",
    "#path = \"C:/path/to/parquet/files\"\n",
    "\n",
    "# Use spark.read.parquet() to read all the Parquet files in the folder\n",
    "df = spark.read.parquet(path)\n"
   ]
  },
  {
   "cell_type": "code",
   "execution_count": 5,
   "id": "982c8775",
   "metadata": {},
   "outputs": [
    {
     "data": {
      "text/plain": [
       "95561"
      ]
     },
     "execution_count": 5,
     "metadata": {},
     "output_type": "execute_result"
    }
   ],
   "source": [
    "df1.count()"
   ]
  },
  {
   "cell_type": "code",
   "execution_count": 6,
   "id": "a09902d3",
   "metadata": {},
   "outputs": [],
   "source": [
    "df1.createOrReplaceTempView(\"Load\")"
   ]
  },
  {
   "cell_type": "markdown",
   "id": "381768bf",
   "metadata": {},
   "source": [
    "Main Query"
   ]
  },
  {
   "cell_type": "code",
   "execution_count": 7,
   "id": "beba8ea8",
   "metadata": {},
   "outputs": [],
   "source": [
    "df_all = spark.sql(\"SELECT * FROM ( SELECT n1.buyer, n1.original_currency, n1.nft_token_id, n1.nft_contract_address, n1.original_amount as Bought, n2.original_amount as Sold, n1.block_time as Bought_Timestamp, n2.block_time as Sold_Timestamp,n1.usd_amount as Bought_amount, n2.usd_amount as Sold_amount, (n2.usd_amount - n1.usd_amount) as net, n1.platform as n1platform, n2.platform as n2platform FROM Load n1, Load n2 where n1.buyer = n2.seller AND  n2.block_time > n1.block_time AND  n1.nft_token_id is not null AND n1.nft_token_id = n2.nft_token_id AND n1.nft_contract_address = n2.nft_contract_address) holdings\")"
   ]
  },
  {
   "cell_type": "code",
   "execution_count": 8,
   "id": "6bffd600",
   "metadata": {},
   "outputs": [
    {
     "data": {
      "text/plain": [
       "['buyer',\n",
       " 'original_currency',\n",
       " 'nft_token_id',\n",
       " 'nft_contract_address',\n",
       " 'Bought',\n",
       " 'Sold',\n",
       " 'Bought_Timestamp',\n",
       " 'Sold_Timestamp',\n",
       " 'Bought_amount',\n",
       " 'Sold_amount',\n",
       " 'net',\n",
       " 'n1platform',\n",
       " 'n2platform']"
      ]
     },
     "execution_count": 8,
     "metadata": {},
     "output_type": "execute_result"
    }
   ],
   "source": [
    "df_all.columns"
   ]
  },
  {
   "cell_type": "code",
   "execution_count": 9,
   "id": "5707991c",
   "metadata": {},
   "outputs": [
    {
     "data": {
      "text/plain": [
       "StructType(List(StructField(buyer,StringType,true),StructField(original_currency,StringType,true),StructField(nft_token_id,StringType,true),StructField(nft_contract_address,StringType,true),StructField(Bought,DoubleType,true),StructField(Sold,DoubleType,true),StructField(Bought_Timestamp,TimestampType,true),StructField(Sold_Timestamp,TimestampType,true),StructField(Bought_amount,DoubleType,true),StructField(Sold_amount,DoubleType,true),StructField(net,DoubleType,true),StructField(n1platform,StringType,true),StructField(n2platform,StringType,true)))"
      ]
     },
     "execution_count": 9,
     "metadata": {},
     "output_type": "execute_result"
    }
   ],
   "source": [
    "df_all.schema"
   ]
  },
  {
   "cell_type": "code",
   "execution_count": 10,
   "id": "457f8936",
   "metadata": {},
   "outputs": [
    {
     "data": {
      "text/plain": [
       "pyspark.sql.dataframe.DataFrame"
      ]
     },
     "execution_count": 10,
     "metadata": {},
     "output_type": "execute_result"
    }
   ],
   "source": [
    "type(df_all)"
   ]
  },
  {
   "cell_type": "code",
   "execution_count": 11,
   "id": "28063341",
   "metadata": {
    "scrolled": false
   },
   "outputs": [
    {
     "name": "stdout",
     "output_type": "stream",
     "text": [
      "+--------------------+-------------+-----------+-------------------+\n",
      "|               buyer|Bought_amount|Sold_amount|                net|\n",
      "+--------------------+-------------+-----------+-------------------+\n",
      "|\\xcb865da3b161540...|      198.744|   247.6384|  48.89439999999999|\n",
      "|\\x8101d355e8f64f8...|     369.5349|    36.1827|          -333.3522|\n",
      "|\\x017e0a684d90bce...|     295.5402|  494.96608| 199.42587999999995|\n",
      "|\\x017e0a684d90bce...|     262.7024|  494.87966|          232.17726|\n",
      "|\\xdf0e4a2cd7b1f84...|    182.58405|   489.0776|          306.49355|\n",
      "|\\xdf0e4a2cd7b1f84...|     165.9855|  489.28322| 323.29771999999997|\n",
      "|\\xe835c95a856cfb3...|       365.56|  507.85515| 142.29514999999998|\n",
      "|\\x86f2fa88d91421d...|    363.01856|  22.216095|        -340.802465|\n",
      "|\\x86f2fa88d91421d...|    355.85372|   17.99775|         -337.85597|\n",
      "|\\xde5129fdfeab742...|     543.6832|  452.73705| -90.94615000000005|\n",
      "|\\xe2f551cdc357609...|   538.829421|203.3826597|-335.44676130000005|\n",
      "|\\xe2f551cdc357609...|   538.829421|203.2706709|       -335.5587501|\n",
      "|\\xe2f551cdc357609...|   538.829421| 202.709088|        -336.120333|\n",
      "|\\xe2f551cdc357609...|   538.829421|   251.1456|        -287.683821|\n",
      "|\\xe2f551cdc357609...|   538.829421|   388.5183|        -150.311121|\n",
      "|\\xe2f551cdc357609...|   538.829421| 505.137517| -33.69190400000002|\n",
      "|\\x833505cc4e4a484...|    237.31438|  279.17019|  41.85580999999999|\n",
      "|\\x71e9ca9e48eb2d6...|     496.1565|  566.97792|  70.82142000000005|\n",
      "|\\x9e5435685733787...|     396.2088|  591.47865| 195.26985000000002|\n",
      "|\\xc97646ffe6b828e...|     427.1046|  612.85875| 185.75414999999998|\n",
      "+--------------------+-------------+-----------+-------------------+\n",
      "only showing top 20 rows\n",
      "\n"
     ]
    }
   ],
   "source": [
    "df_all.select('buyer','Bought_amount','Sold_amount','net').show(20)"
   ]
  },
  {
   "cell_type": "markdown",
   "id": "9e81195c",
   "metadata": {},
   "source": [
    "# Ranking 1 - average amount spent (here profit , loss automatically done)"
   ]
  },
  {
   "cell_type": "code",
   "execution_count": 12,
   "id": "de84dae1",
   "metadata": {},
   "outputs": [
    {
     "name": "stdout",
     "output_type": "stream",
     "text": [
      "                                            buyer   avg_spent     Score1\n",
      "3      \\x715cda131c5a036f733ecd5d58796d0e48e21043   80.910900  45.418537\n",
      "7      \\x66d3d42490b3053e3a6d29013d21dd0291b49a7b  228.237700  80.116187\n",
      "13     \\x8aa37718399e274e3f2f994ef393c4d7e0126955  202.490580  76.485345\n",
      "14     \\x3ff9cffda13189398e637f22e4e8e4620a034cc7   75.519503  43.160813\n",
      "16     \\xec8b35466f537bb2b138a778a5a3353d32c18810  175.520265  71.705836\n",
      "...                                           ...         ...        ...\n",
      "14538  \\x85c35570fec7d32b3834ca5b85f1a5ce6016e0d8  -45.795150   0.000000\n",
      "14542  \\xbecff511eb1f5889f07f79af7954c2271d5b4b78  -93.452376   0.000000\n",
      "14546  \\x44440aa675ae3196e2614c1a9ac897e5cd6f8545  -33.330515   0.000000\n",
      "14548  \\x45411ab2652a29601c8f23fca501a7b0b396ef56  -40.406890   0.000000\n",
      "14550  \\x4c38a6962c8226ff4a7003cb66ca5c644ce0d1d2  -73.830730   0.000000\n",
      "\n",
      "[14551 rows x 3 columns]\n",
      "[45.4185371  80.11618696 76.4853446  ... 16.39820438 63.50673356\n",
      "  0.        ]\n"
     ]
    }
   ],
   "source": [
    "df_avg = df_all.groupBy(\"buyer\").agg(avg(\"net\").alias(\"avg_spent\"))\n",
    "# score1 based on avg_spent\n",
    "df_rule_avg_spent_pd=df_avg.toPandas()\n",
    "\n",
    "# Calculate percentiles for customers with avg_spent > 0\n",
    "df_positive = df_rule_avg_spent_pd[df_rule_avg_spent_pd['avg_spent'] > 0]\n",
    "percentiles = df_positive['avg_spent'].rank(pct=True)\n",
    "df_positive['Score1'] = percentiles * 100\n",
    "\n",
    "# Set score to 0 for customers with avg_spent < 0\n",
    "df_negative = df_rule_avg_spent_pd[df_rule_avg_spent_pd['avg_spent'] <= 0]\n",
    "df_negative['Score1'] = 0\n",
    "\n",
    "# Combine positive and negative dataframes\n",
    "df_combined = pd.concat([df_positive, df_negative], axis=0)\n",
    "\n",
    "# Print result\n",
    "print(df_combined)\n",
    "print(df_combined['Score1'].unique())\n",
    "df_rule_avg_spent=spark.createDataFrame(df_combined)"
   ]
  },
  {
   "cell_type": "code",
   "execution_count": 13,
   "id": "4d60c3e0",
   "metadata": {},
   "outputs": [
    {
     "data": {
      "image/png": "[encoded data removed]",
      "text/plain": [
       "<Figure size 640x480 with 1 Axes>"
      ]
     },
     "metadata": {},
     "output_type": "display_data"
    }
   ],
   "source": [
    "plt.hist(df_combined[\"Score1\"])\n",
    "plt.xlabel(\"Score assigned\")\n",
    "plt.ylabel(\"No of users\")\n",
    "plt.title(\"\")\n",
    "plt.show()"
   ]
  },
  {
   "cell_type": "code",
   "execution_count": 14,
   "id": "e0d959c9",
   "metadata": {},
   "outputs": [
    {
     "data": {
      "image/png": "[encoded data removed]",
      "text/plain": [
       "<Figure size 640x480 with 1 Axes>"
      ]
     },
     "metadata": {},
     "output_type": "display_data"
    },
    {
     "data": {
      "image/png": "[encoded data removed]",
      "text/plain": [
       "<Figure size 640x480 with 1 Axes>"
      ]
     },
     "metadata": {},
     "output_type": "display_data"
    }
   ],
   "source": [
    "# import seaborn as sns\n",
    "df_combined['avg_spent'].plot.kde()\n",
    "plt.xlabel('avg_spent')\n",
    "plt.ylabel('Density')\n",
    "plt.title(\"\")\n",
    "plt.xlim(-25000,25000)\n",
    "plt.show()\n",
    "df_combined['Score1'].plot.kde()\n",
    "plt.xlabel('Score')\n",
    "plt.ylabel('Density')\n",
    "plt.title(\"\")\n",
    "plt.xlim(0,100)\n",
    "plt.show()\n",
    "\n",
    "# sns.kdeplot(data=df_rule_avg_spent_pd, x='avg_spent')\n",
    "# sns.set_xlim(0,2)\n",
    "# plt.show()"
   ]
  },
  {
   "cell_type": "code",
   "execution_count": 15,
   "id": "fb0e0fab",
   "metadata": {},
   "outputs": [
    {
     "name": "stdout",
     "output_type": "stream",
     "text": [
      "                                            buyer   avg_spent  Score1\n",
      "0      \\x19fc1b0697ea155a96b0824bd5a32492e01987ab -549.265120      35\n",
      "1      \\x0c3e947cea964408987fe43e817613ebdcc1065b   -2.202986      38\n",
      "2      \\x4eb42eb130995a5205db7388d5efa95da295dca1 -155.524750      37\n",
      "3      \\x715cda131c5a036f733ecd5d58796d0e48e21043   80.910900      38\n",
      "4      \\x65ed9e91a1479aa16b2a51f8bc34ff24fc346d3d -178.590195      37\n",
      "...                                           ...         ...     ...\n",
      "14546  \\x44440aa675ae3196e2614c1a9ac897e5cd6f8545  -33.330515      37\n",
      "14547  \\xec0adac48bff8373da4e56ce3523d6b6fe9b1c11   21.244450      38\n",
      "14548  \\x45411ab2652a29601c8f23fca501a7b0b396ef56  -40.406890      37\n",
      "14549  \\xb7286b33f2b81d8275abb442f61dd2f9e07a747a  137.508372      38\n",
      "14550  \\x4c38a6962c8226ff4a7003cb66ca5c644ce0d1d2  -73.830730      37\n",
      "\n",
      "[14551 rows x 3 columns]\n"
     ]
    }
   ],
   "source": [
    "df_avg = df_all.groupBy(\"buyer\").agg(avg(\"net\").alias(\"avg_spent\"))\n",
    "# score1 based on avg_spent\n",
    "df_rule_avg_spent_pd=df_avg.toPandas()\n",
    "\n",
    "df_rule_avg_spent_pd.loc[df_rule_avg_spent_pd['avg_spent'] <= 0, 'Score1'] = 0\n",
    "\n",
    "\n",
    "hist, bins = pd.cut(df_rule_avg_spent_pd['avg_spent'], bins=100, labels=False, retbins=True, right=False)\n",
    "df_rule_avg_spent_pd['Score1'] = hist + 1\n",
    "\n",
    "print(df_rule_avg_spent_pd)"
   ]
  },
  {
   "cell_type": "markdown",
   "id": "49396215",
   "metadata": {},
   "source": [
    "# Ranking 2 - number of transactions"
   ]
  },
  {
   "cell_type": "code",
   "execution_count": 25,
   "id": "36b219fb",
   "metadata": {
    "scrolled": true
   },
   "outputs": [
    {
     "name": "stdout",
     "output_type": "stream",
     "text": [
      "                                            buyer  number_txns     Score2\n",
      "0      \\x19fc1b0697ea155a96b0824bd5a32492e01987ab            1  28.908666\n",
      "1      \\x0c3e947cea964408987fe43e817613ebdcc1065b            9  91.605388\n",
      "2      \\x4eb42eb130995a5205db7388d5efa95da295dca1            1  28.908666\n",
      "3      \\x715cda131c5a036f733ecd5d58796d0e48e21043            1  28.908666\n",
      "4      \\x65ed9e91a1479aa16b2a51f8bc34ff24fc346d3d           16  95.433304\n",
      "...                                           ...          ...        ...\n",
      "14546  \\x44440aa675ae3196e2614c1a9ac897e5cd6f8545            2  64.596935\n",
      "14547  \\xec0adac48bff8373da4e56ce3523d6b6fe9b1c11            2  64.596935\n",
      "14548  \\x45411ab2652a29601c8f23fca501a7b0b396ef56            1  28.908666\n",
      "14549  \\xb7286b33f2b81d8275abb442f61dd2f9e07a747a            5  85.523332\n",
      "14550  \\x4c38a6962c8226ff4a7003cb66ca5c644ce0d1d2           79  99.219985\n",
      "\n",
      "[14551 rows x 3 columns]\n",
      "[ 28.90866607  91.60538795  95.43330355  64.59693492  80.8466772\n",
      "  74.26637345  96.84557762  87.62284379  95.75630541  93.80454952\n",
      "  85.52333173  89.26534259  94.97629029  96.0312006   92.74276682\n",
      "  98.94165349  90.30307195  94.63954367  96.26142533  97.0929833\n",
      "  98.69081163  99.61514673  98.83513161  99.42272009  97.71836987\n",
      "  93.27194007  94.32685039  96.6153529   99.24403821  97.30602708\n",
      "  99.56360388  99.28527249  99.94502096  98.97601539  98.769844\n",
      "  96.49852244  99.32307058  98.74922686  98.00357364  98.58428974\n",
      "  99.50518865  99.91065906  98.23723455  97.40567659  98.87980208\n",
      "  95.89031682  99.89004192  97.59123084  99.86942478  99.04817538\n",
      "  99.70448766  98.53274689  97.89017937  99.72854099  97.96233936\n",
      "  98.40560786  98.34375644  99.6907429   99.77321146  97.49501752\n",
      "  99.37804962  99.07910109  99.81444574  99.90035049  98.14445743\n",
      "  99.60827435  99.44677342  99.92440382  98.92790873  99.17187822\n",
      "  99.18562298  96.70469384  99.82131812  99.10315442  99.06535633\n",
      "  98.50182118  99.78695622  99.3505601   99.45708199  99.85911621\n",
      "  98.27846883  98.49151261  99.38835819  99.98625524  98.71486496\n",
      "  99.53611436  99.68387052  99.97251048  99.01724967  99.93814858\n",
      "  99.13408013  99.15813346  97.81801938  99.65294481  98.56710879\n",
      "  98.64957735  98.45715071  99.51893341  99.41241152  99.20280393\n",
      "  99.99312762  99.52580579  99.62201911  99.47769913  98.95196206\n",
      "  98.04824411  99.67699814  98.79733352 100.          98.91072779\n",
      "  99.8281905   98.72860972  99.95876572  98.2200536   99.57391245\n",
      "  99.80757336  99.63920005  99.60140197  99.62889149  98.61177926\n",
      "  99.74572194  99.5910934   99.71136004  99.67012576  99.36430486\n",
      "  99.43302866  99.83506288  99.66325338  99.9656381   99.80070098\n",
      "  99.97938286  99.69761528  99.84537145  99.55329531  99.49144389\n",
      "  99.7938286   99.71823242  99.21998488  99.76633908  99.47082675\n",
      "  99.14782489  99.91753144  99.7594667   99.34025153  99.9312762\n",
      "  99.40210295  99.54642293  99.58078483  99.78008384  99.87629716\n",
      "  99.88316954  99.46395437  99.95189334  99.39523057  99.48457151]\n"
     ]
    }
   ],
   "source": [
    "df_count = df_all.groupBy(\"buyer\").agg(count(\"*\").alias(\"number_txns\"))\n",
    "\n",
    "# score2 based on number_txns\n",
    "df_rule_number_txns_pd=df_count.toPandas()\n",
    "\n",
    "df_negative = df_rule_number_txns_pd[df_rule_number_txns_pd['number_txns'] <= 1]\n",
    "df_negative['Score'] = 0\n",
    "\n",
    "percentiles = df_rule_number_txns_pd['number_txns'].rank(pct=True)\n",
    "df_rule_number_txns_pd['Score2'] = percentiles * 100\n",
    "\n",
    "# Print result\n",
    "print(df_rule_number_txns_pd)\n",
    "print(df_rule_number_txns_pd['Score2'].unique())\n",
    "df_rule_number_txns=spark.createDataFrame(df_rule_number_txns_pd)"
   ]
  },
  {
   "cell_type": "code",
   "execution_count": 23,
   "id": "9ac44658",
   "metadata": {},
   "outputs": [
    {
     "name": "stdout",
     "output_type": "stream",
     "text": [
      "                                            buyer  number_txns  \\\n",
      "0      \\x19fc1b0697ea155a96b0824bd5a32492e01987ab            1   \n",
      "1      \\x0c3e947cea964408987fe43e817613ebdcc1065b            9   \n",
      "2      \\x4eb42eb130995a5205db7388d5efa95da295dca1            1   \n",
      "3      \\x715cda131c5a036f733ecd5d58796d0e48e21043            1   \n",
      "4      \\x65ed9e91a1479aa16b2a51f8bc34ff24fc346d3d           16   \n",
      "...                                           ...          ...   \n",
      "14546  \\x44440aa675ae3196e2614c1a9ac897e5cd6f8545            2   \n",
      "14547  \\xec0adac48bff8373da4e56ce3523d6b6fe9b1c11            2   \n",
      "14548  \\x45411ab2652a29601c8f23fca501a7b0b396ef56            1   \n",
      "14549  \\xb7286b33f2b81d8275abb442f61dd2f9e07a747a            5   \n",
      "14550  \\x4c38a6962c8226ff4a7003cb66ca5c644ce0d1d2           79   \n",
      "\n",
      "       winsorized_transactions   z_value zscore  \n",
      "0                            1 -0.341458     10  \n",
      "1                            9  0.594527     20  \n",
      "2                            1 -0.341458     10  \n",
      "3                            1 -0.341458     10  \n",
      "4                           16  1.413514     30  \n",
      "...                        ...       ...    ...  \n",
      "14546                        2 -0.224460     10  \n",
      "14547                        2 -0.224460     10  \n",
      "14548                        1 -0.341458     10  \n",
      "14549                        5  0.126534     10  \n",
      "14550                       64  7.029423    100  \n",
      "\n",
      "[14551 rows x 5 columns]\n"
     ]
    }
   ],
   "source": [
    "import pandas as pd\n",
    "import numpy as np\n",
    "\n",
    "df_count = df_all.groupBy(\"buyer\").agg(count(\"*\").alias(\"number_txns\"))\n",
    "\n",
    "# score2 based on number_txns\n",
    "df_rule_number_txns_pd=df_count.toPandas()\n",
    "\n",
    "# winsorize the transaction counts\n",
    "p1, p99 = np.percentile(df_rule_number_txns_pd['number_txns'], [1, 99])\n",
    "df_rule_number_txns_pd['winsorized_transactions'] = np.clip(df_rule_number_txns_pd['number_txns'], p1, p99)\n",
    "\n",
    "# calculate the winsorized z-score of each transaction count\n",
    "mean = df_rule_number_txns_pd['winsorized_transactions'].mean()\n",
    "std = df_rule_number_txns_pd['winsorized_transactions'].std()\n",
    "df_rule_number_txns_pd['z_value'] = (df_rule_number_txns_pd['winsorized_transactions'] - mean) / std\n",
    "\n",
    "# assign scores based on the z-score\n",
    "df_rule_number_txns_pd['zscore'] = pd.cut(df_rule_number_txns_pd['z_value'],bins=10, labels=[10, 20, 30, 40, 50, 60, 70, 80, 90,100])\n",
    "\n",
    "print(df_rule_number_txns_pd)\n"
   ]
  },
  {
   "cell_type": "code",
   "execution_count": 24,
   "id": "82c4a419",
   "metadata": {},
   "outputs": [
    {
     "data": {
      "text/plain": [
       "10     13065\n",
       "20       685\n",
       "30       233\n",
       "40       184\n",
       "100      160\n",
       "50        84\n",
       "60        45\n",
       "70        45\n",
       "90        27\n",
       "80        23\n",
       "Name: zscore, dtype: int64"
      ]
     },
     "execution_count": 24,
     "metadata": {},
     "output_type": "execute_result"
    }
   ],
   "source": [
    "df_rule_number_txns_pd['zscore'].value_counts()"
   ]
  },
  {
   "cell_type": "code",
   "execution_count": 20,
   "id": "7db038ef",
   "metadata": {},
   "outputs": [],
   "source": [
    "# df_rule_number_txns_pd['Score3t'] = pd.qcut(df_rule_number_txns_pd['number_txns'], q=100, labels=False, duplicates='drop')\n",
    "\n",
    "# # normalize the scores to a scale of 1 to 100\n",
    "# max_score = df_rule_number_txns_pd['Score3t'].max()\n",
    "# df_rule_number_txns_pd['Score3t'] = (df_rule_number_txns_pd['Score3t'] / max_score) * 100\n",
    "\n",
    "# # set the score of the top 1% customers to 100\n",
    "# top_1_percent = int(len(df_rule_number_txns_pd) * 0.01)\n",
    "# top_1_percent_customers = df_rule_number_txns_pd.nlargest(top_1_percent, 'number_txns')\n",
    "# df_rule_number_txns_pd.loc[top_1_percent_customers.index, 'Score3t'] = 100\n",
    "\n",
    "# # print the dataframe with scores\n",
    "# print(df_rule_number_txns_pd)"
   ]
  },
  {
   "cell_type": "code",
   "execution_count": 21,
   "id": "9234d5e2",
   "metadata": {},
   "outputs": [
    {
     "data": {
      "text/plain": [
       "count    14551.000000\n",
       "mean         5.573912\n",
       "std         51.595104\n",
       "min          1.000000\n",
       "25%          1.000000\n",
       "50%          1.000000\n",
       "75%          3.000000\n",
       "max       5005.000000\n",
       "Name: number_txns, dtype: float64"
      ]
     },
     "execution_count": 21,
     "metadata": {},
     "output_type": "execute_result"
    }
   ],
   "source": [
    "df_rule_number_txns_pd['number_txns'].describe()"
   ]
  },
  {
   "cell_type": "code",
   "execution_count": 26,
   "id": "45de9fc2",
   "metadata": {},
   "outputs": [
    {
     "data": {
      "text/html": [
       "<div>\n",
       "<style scoped>\n",
       "    .dataframe tbody tr th:only-of-type {\n",
       "        vertical-align: middle;\n",
       "    }\n",
       "\n",
       "    .dataframe tbody tr th {\n",
       "        vertical-align: top;\n",
       "    }\n",
       "\n",
       "    .dataframe thead th {\n",
       "        text-align: right;\n",
       "    }\n",
       "</style>\n",
       "<table border=\"1\" class=\"dataframe\">\n",
       "  <thead>\n",
       "    <tr style=\"text-align: right;\">\n",
       "      <th></th>\n",
       "      <th>buyer</th>\n",
       "      <th>number_txns</th>\n",
       "      <th>winsorized_transactions</th>\n",
       "      <th>z_value</th>\n",
       "      <th>zscore</th>\n",
       "    </tr>\n",
       "  </thead>\n",
       "  <tbody>\n",
       "    <tr>\n",
       "      <th>6648</th>\n",
       "      <td>\\x3cca52f32d555d50d7e00dcdbd4303b6bc1872f2</td>\n",
       "      <td>5005</td>\n",
       "      <td>64</td>\n",
       "      <td>7.029423</td>\n",
       "      <td>100</td>\n",
       "    </tr>\n",
       "    <tr>\n",
       "      <th>5848</th>\n",
       "      <td>\\x4c606308287a43e7861761cb3246fdec821a7568</td>\n",
       "      <td>1892</td>\n",
       "      <td>64</td>\n",
       "      <td>7.029423</td>\n",
       "      <td>100</td>\n",
       "    </tr>\n",
       "    <tr>\n",
       "      <th>3641</th>\n",
       "      <td>\\x484585fe5b976c2afac0f2c912447059ef41bf78</td>\n",
       "      <td>1045</td>\n",
       "      <td>64</td>\n",
       "      <td>7.029423</td>\n",
       "      <td>100</td>\n",
       "    </tr>\n",
       "    <tr>\n",
       "      <th>10435</th>\n",
       "      <td>\\xc31328e68ba9770d4c3375fd2b7c79c9904c711f</td>\n",
       "      <td>988</td>\n",
       "      <td>64</td>\n",
       "      <td>7.029423</td>\n",
       "      <td>100</td>\n",
       "    </tr>\n",
       "    <tr>\n",
       "      <th>4075</th>\n",
       "      <td>\\x2062e18a512776ce12c1814785a90ef8d3a1d12b</td>\n",
       "      <td>921</td>\n",
       "      <td>64</td>\n",
       "      <td>7.029423</td>\n",
       "      <td>100</td>\n",
       "    </tr>\n",
       "    <tr>\n",
       "      <th>...</th>\n",
       "      <td>...</td>\n",
       "      <td>...</td>\n",
       "      <td>...</td>\n",
       "      <td>...</td>\n",
       "      <td>...</td>\n",
       "    </tr>\n",
       "    <tr>\n",
       "      <th>6080</th>\n",
       "      <td>\\xd77b93701b69961f4aebca450950c3fa25b0d103</td>\n",
       "      <td>1</td>\n",
       "      <td>1</td>\n",
       "      <td>-0.341458</td>\n",
       "      <td>10</td>\n",
       "    </tr>\n",
       "    <tr>\n",
       "      <th>6083</th>\n",
       "      <td>\\x77bb41b3a80982e19daae2cfe94403afcc613489</td>\n",
       "      <td>1</td>\n",
       "      <td>1</td>\n",
       "      <td>-0.341458</td>\n",
       "      <td>10</td>\n",
       "    </tr>\n",
       "    <tr>\n",
       "      <th>6085</th>\n",
       "      <td>\\x6270000e0d857a1aeae418bad12b14d022225475</td>\n",
       "      <td>1</td>\n",
       "      <td>1</td>\n",
       "      <td>-0.341458</td>\n",
       "      <td>10</td>\n",
       "    </tr>\n",
       "    <tr>\n",
       "      <th>6086</th>\n",
       "      <td>\\x4f099ff3ed7609df26d54f65531498c9748e5351</td>\n",
       "      <td>1</td>\n",
       "      <td>1</td>\n",
       "      <td>-0.341458</td>\n",
       "      <td>10</td>\n",
       "    </tr>\n",
       "    <tr>\n",
       "      <th>7275</th>\n",
       "      <td>\\x23ed0a371e49bb2cde9fcf5885a420bb6a7bd1bb</td>\n",
       "      <td>1</td>\n",
       "      <td>1</td>\n",
       "      <td>-0.341458</td>\n",
       "      <td>10</td>\n",
       "    </tr>\n",
       "  </tbody>\n",
       "</table>\n",
       "<p>14551 rows × 5 columns</p>\n",
       "</div>"
      ],
      "text/plain": [
       "                                            buyer  number_txns  \\\n",
       "6648   \\x3cca52f32d555d50d7e00dcdbd4303b6bc1872f2         5005   \n",
       "5848   \\x4c606308287a43e7861761cb3246fdec821a7568         1892   \n",
       "3641   \\x484585fe5b976c2afac0f2c912447059ef41bf78         1045   \n",
       "10435  \\xc31328e68ba9770d4c3375fd2b7c79c9904c711f          988   \n",
       "4075   \\x2062e18a512776ce12c1814785a90ef8d3a1d12b          921   \n",
       "...                                           ...          ...   \n",
       "6080   \\xd77b93701b69961f4aebca450950c3fa25b0d103            1   \n",
       "6083   \\x77bb41b3a80982e19daae2cfe94403afcc613489            1   \n",
       "6085   \\x6270000e0d857a1aeae418bad12b14d022225475            1   \n",
       "6086   \\x4f099ff3ed7609df26d54f65531498c9748e5351            1   \n",
       "7275   \\x23ed0a371e49bb2cde9fcf5885a420bb6a7bd1bb            1   \n",
       "\n",
       "       winsorized_transactions   z_value zscore  \n",
       "6648                        64  7.029423    100  \n",
       "5848                        64  7.029423    100  \n",
       "3641                        64  7.029423    100  \n",
       "10435                       64  7.029423    100  \n",
       "4075                        64  7.029423    100  \n",
       "...                        ...       ...    ...  \n",
       "6080                         1 -0.341458     10  \n",
       "6083                         1 -0.341458     10  \n",
       "6085                         1 -0.341458     10  \n",
       "6086                         1 -0.341458     10  \n",
       "7275                         1 -0.341458     10  \n",
       "\n",
       "[14551 rows x 5 columns]"
      ]
     },
     "execution_count": 26,
     "metadata": {},
     "output_type": "execute_result"
    }
   ],
   "source": [
    "df_rule_number_txns_pd.sort_values(by = 'number_txns', ascending = False)"
   ]
  },
  {
   "cell_type": "code",
   "execution_count": 194,
   "id": "0ed01e30",
   "metadata": {
    "scrolled": true
   },
   "outputs": [],
   "source": [
    "# df_count = df_all.groupBy(\"buyer\").agg(count(\"*\").alias(\"number_txns\"))\n",
    "# # score2 based on number_txns\n",
    "# df_rule_number_txns_pd=df_count.toPandas()\n",
    "# hist, bins=pd.cut(df_rule_number_txns_pd['number_txns'],bins=100,labels=False,retbins=True,right=False)\n",
    "# df_rule_number_txns_pd['Score2']=hist\n",
    "# df_rule_number_txns_pd['Score2']+=1\n",
    "# print(df_rule_number_txns_pd)\n",
    "# #print unique score2 values assigned\n",
    "# print(df_rule_number_txns_pd['Score2'].unique())\n",
    "# #converting to sparkdf\n",
    "# df_rule_number_txns=spark.createDataFrame(df_rule_number_txns_pd)"
   ]
  },
  {
   "cell_type": "code",
   "execution_count": 27,
   "id": "aa6cb6c6",
   "metadata": {},
   "outputs": [
    {
     "data": {
      "image/png": "[encoded data removed]",
      "text/plain": [
       "<Figure size 640x480 with 1 Axes>"
      ]
     },
     "metadata": {},
     "output_type": "display_data"
    },
    {
     "data": {
      "image/png": "[encoded data removed]",
      "text/plain": [
       "<Figure size 640x480 with 1 Axes>"
      ]
     },
     "metadata": {},
     "output_type": "display_data"
    }
   ],
   "source": [
    "df_rule_number_txns_pd['number_txns'].plot.kde()\n",
    "plt.xlabel('Number of Transactions')\n",
    "plt.ylabel('Density')\n",
    "plt.title(\"\")\n",
    "plt.xlim(-50,50)\n",
    "plt.show()\n",
    "\n",
    "df_rule_number_txns_pd['zscore'].astype(int).plot.kde()\n",
    "plt.xlabel('Score')\n",
    "plt.ylabel('Density')\n",
    "plt.title(\"\")\n",
    "plt.xlim(-20,120)\n",
    "plt.show()"
   ]
  },
  {
   "cell_type": "markdown",
   "id": "181a6eb5",
   "metadata": {},
   "source": [
    "# Diversity Ranking 3 - Number of Nft contract address held"
   ]
  },
  {
   "cell_type": "code",
   "execution_count": 34,
   "id": "797c8714",
   "metadata": {},
   "outputs": [
    {
     "name": "stdout",
     "output_type": "stream",
     "text": [
      "                                            buyer  num_nftcontract     Score3\n",
      "0      \\x9e89fc379bcc7a9519468cf540a7d77e6405b422                2  95.230568\n",
      "1      \\x0c3e947cea964408987fe43e817613ebdcc1065b                1  45.818157\n",
      "2      \\x9834feb2b16328f49f59324fcd999c4e8e934dea                1  45.818157\n",
      "3      \\x083be8c439fe468a5529108edfcbefd21a8b6da1                1  45.818157\n",
      "4      \\x9b9f361dae371263d98f842bcd7091d92057269d                1  45.818157\n",
      "...                                           ...              ...        ...\n",
      "14546  \\x3c5fb45df905eee411ecd579a2e6f60a4f860244                1  45.818157\n",
      "14547  \\x9371b66c542cd897c5f1a7d00b38f069e546df2e                1  45.818157\n",
      "14548  \\x85c35570fec7d32b3834ca5b85f1a5ce6016e0d8                1  45.818157\n",
      "14549  \\xd1816c9283e623663ea5a96f2435e565f627d1f1                1  45.818157\n",
      "14550  \\xaae13b24e44a7ded5cad777f91e67cb352cadc9a                1  45.818157\n",
      "\n",
      "[14551 rows x 3 columns]\n",
      "[95.23056835 45.81815683 99.84193526 99.28870868 99.96907429]\n"
     ]
    }
   ],
   "source": [
    "df_num_nftcontract = df_all.groupBy(\"buyer\").agg(countDistinct(\"nft_contract_address\").alias(\"num_nftcontract\"))\n",
    "# score3 based on num_nftcontract\n",
    "df_rule_num_nftcontract_pd=df_num_nftcontract.toPandas()\n",
    "\n",
    "percentiles = df_rule_num_nftcontract_pd['num_nftcontract'].rank(pct=True)\n",
    "df_rule_num_nftcontract_pd['Score3'] = percentiles * 100\n",
    "\n",
    "print(df_rule_num_nftcontract_pd)\n",
    "#print unique score3 values assigned\n",
    "print(df_rule_num_nftcontract_pd['Score3'].unique())\n",
    "#converting to sparkdf\n",
    "df_rule_num_nftcontract=spark.createDataFrame(df_rule_num_nftcontract_pd)"
   ]
  },
  {
   "cell_type": "code",
   "execution_count": null,
   "id": "4e648996",
   "metadata": {},
   "outputs": [],
   "source": [
    "min_score = 10\n",
    "max_score = 100\n",
    "\n",
    "\n",
    "df_rule_num_nftcontract_pd['Score3'] = min_score + (df['value'] - df['value'].min()) * (max_score - min_score) / (df['value'].max() - df['value'].min())\n",
    "\n",
    "print(df)\n"
   ]
  },
  {
   "cell_type": "code",
   "execution_count": 30,
   "id": "0438d649",
   "metadata": {},
   "outputs": [
    {
     "data": {
      "text/plain": [
       "1    13333\n",
       "2     1047\n",
       "3      134\n",
       "4       27\n",
       "5       10\n",
       "Name: num_nftcontract, dtype: int64"
      ]
     },
     "execution_count": 30,
     "metadata": {},
     "output_type": "execute_result"
    }
   ],
   "source": [
    "df_rule_num_nftcontract_pd['num_nftcontract'].value_counts()"
   ]
  },
  {
   "cell_type": "code",
   "execution_count": 32,
   "id": "a443c9cb",
   "metadata": {},
   "outputs": [
    {
     "data": {
      "text/html": [
       "<div>\n",
       "<style scoped>\n",
       "    .dataframe tbody tr th:only-of-type {\n",
       "        vertical-align: middle;\n",
       "    }\n",
       "\n",
       "    .dataframe tbody tr th {\n",
       "        vertical-align: top;\n",
       "    }\n",
       "\n",
       "    .dataframe thead th {\n",
       "        text-align: right;\n",
       "    }\n",
       "</style>\n",
       "<table border=\"1\" class=\"dataframe\">\n",
       "  <thead>\n",
       "    <tr style=\"text-align: right;\">\n",
       "      <th></th>\n",
       "      <th>buyer</th>\n",
       "      <th>num_nftcontract</th>\n",
       "      <th>Score3</th>\n",
       "    </tr>\n",
       "  </thead>\n",
       "  <tbody>\n",
       "    <tr>\n",
       "      <th>7275</th>\n",
       "      <td>\\xc076d4cbbaf777b580693a214d4c67b01358734f</td>\n",
       "      <td>1</td>\n",
       "      <td>45.818157</td>\n",
       "    </tr>\n",
       "    <tr>\n",
       "      <th>9489</th>\n",
       "      <td>\\x4156712fd12bf2c53ec4968004bf7810069e6fb2</td>\n",
       "      <td>1</td>\n",
       "      <td>45.818157</td>\n",
       "    </tr>\n",
       "    <tr>\n",
       "      <th>9490</th>\n",
       "      <td>\\xaf8a6306493389b7f14596c244581b1dfa3c251c</td>\n",
       "      <td>1</td>\n",
       "      <td>45.818157</td>\n",
       "    </tr>\n",
       "    <tr>\n",
       "      <th>9491</th>\n",
       "      <td>\\x2755f9fe42ec40d4469bebf5a8a468cbdb3cafd9</td>\n",
       "      <td>1</td>\n",
       "      <td>45.818157</td>\n",
       "    </tr>\n",
       "    <tr>\n",
       "      <th>9493</th>\n",
       "      <td>\\x8471a680d80c6edd1c6e8d879487510f000ee466</td>\n",
       "      <td>1</td>\n",
       "      <td>45.818157</td>\n",
       "    </tr>\n",
       "    <tr>\n",
       "      <th>...</th>\n",
       "      <td>...</td>\n",
       "      <td>...</td>\n",
       "      <td>...</td>\n",
       "    </tr>\n",
       "    <tr>\n",
       "      <th>5943</th>\n",
       "      <td>\\xd0a832b0ef33af4a8da6ada598409c8f8827f462</td>\n",
       "      <td>5</td>\n",
       "      <td>99.969074</td>\n",
       "    </tr>\n",
       "    <tr>\n",
       "      <th>2898</th>\n",
       "      <td>\\x40df5c0e9bf6c2ac0ba2fbeed6035dfe92d7bfe3</td>\n",
       "      <td>5</td>\n",
       "      <td>99.969074</td>\n",
       "    </tr>\n",
       "    <tr>\n",
       "      <th>8012</th>\n",
       "      <td>\\xff0c68cdc0dd46a6ed8ba68e887a2a673c46f4e6</td>\n",
       "      <td>5</td>\n",
       "      <td>99.969074</td>\n",
       "    </tr>\n",
       "    <tr>\n",
       "      <th>13486</th>\n",
       "      <td>\\x1a7f055d729bb444bb0dda196d772d2ba2b28fc6</td>\n",
       "      <td>5</td>\n",
       "      <td>99.969074</td>\n",
       "    </tr>\n",
       "    <tr>\n",
       "      <th>355</th>\n",
       "      <td>\\x67b849d6b7328510bd900348f8a07b83ae463bd8</td>\n",
       "      <td>5</td>\n",
       "      <td>99.969074</td>\n",
       "    </tr>\n",
       "  </tbody>\n",
       "</table>\n",
       "<p>14551 rows × 3 columns</p>\n",
       "</div>"
      ],
      "text/plain": [
       "                                            buyer  num_nftcontract     Score3\n",
       "7275   \\xc076d4cbbaf777b580693a214d4c67b01358734f                1  45.818157\n",
       "9489   \\x4156712fd12bf2c53ec4968004bf7810069e6fb2                1  45.818157\n",
       "9490   \\xaf8a6306493389b7f14596c244581b1dfa3c251c                1  45.818157\n",
       "9491   \\x2755f9fe42ec40d4469bebf5a8a468cbdb3cafd9                1  45.818157\n",
       "9493   \\x8471a680d80c6edd1c6e8d879487510f000ee466                1  45.818157\n",
       "...                                           ...              ...        ...\n",
       "5943   \\xd0a832b0ef33af4a8da6ada598409c8f8827f462                5  99.969074\n",
       "2898   \\x40df5c0e9bf6c2ac0ba2fbeed6035dfe92d7bfe3                5  99.969074\n",
       "8012   \\xff0c68cdc0dd46a6ed8ba68e887a2a673c46f4e6                5  99.969074\n",
       "13486  \\x1a7f055d729bb444bb0dda196d772d2ba2b28fc6                5  99.969074\n",
       "355    \\x67b849d6b7328510bd900348f8a07b83ae463bd8                5  99.969074\n",
       "\n",
       "[14551 rows x 3 columns]"
      ]
     },
     "execution_count": 32,
     "metadata": {},
     "output_type": "execute_result"
    }
   ],
   "source": [
    "df_rule_num_nftcontract_pd.sort_values(by = 'num_nftcontract', ascending = True)"
   ]
  },
  {
   "cell_type": "code",
   "execution_count": 106,
   "id": "53530b63",
   "metadata": {},
   "outputs": [],
   "source": [
    "#df_rule_num_nftcontract_pd.sort_values(by = \"num_nftcontract\", ascending = False)"
   ]
  },
  {
   "cell_type": "code",
   "execution_count": 101,
   "id": "35fd90be",
   "metadata": {},
   "outputs": [],
   "source": [
    "# df_num_nftcontract = df_all.groupBy(\"buyer\").agg(countDistinct(\"nft_contract_address\").alias(\"num_nftcontract\"))\n",
    "# # score3 based on num_nftcontract\n",
    "# df_rule_num_nftcontract_pd=df_num_nftcontract.toPandas()\n",
    "# hist, bins=pd.cut(df_rule_num_nftcontract_pd['num_nftcontract'],bins=100,labels=False,retbins=True,right=False)\n",
    "# df_rule_num_nftcontract_pd['Score3']=hist\n",
    "# df_rule_num_nftcontract_pd['Score3']+=1\n",
    "# print(df_rule_num_nftcontract_pd)\n",
    "# #print unique score3 values assigned\n",
    "# print(df_rule_num_nftcontract_pd['Score3'].unique())\n",
    "# #converting to sparkdf\n",
    "# df_rule_num_nftcontract=spark.createDataFrame(df_rule_num_nftcontract_pd)"
   ]
  },
  {
   "cell_type": "code",
   "execution_count": 105,
   "id": "5d3f8c33",
   "metadata": {},
   "outputs": [
    {
     "data": {
      "image/png": "[encoded data removed]",
      "text/plain": [
       "<Figure size 640x480 with 1 Axes>"
      ]
     },
     "metadata": {},
     "output_type": "display_data"
    },
    {
     "data": {
      "image/png": "[encoded data removed]",
      "text/plain": [
       "<Figure size 640x480 with 1 Axes>"
      ]
     },
     "metadata": {},
     "output_type": "display_data"
    }
   ],
   "source": [
    "df_rule_num_nftcontract_pd['num_nftcontract'].plot.kde()\n",
    "plt.xlabel('Number of NFT contracts owned')\n",
    "plt.ylabel('Density')\n",
    "plt.title(\"\")\n",
    "plt.xlim(-10,10)\n",
    "plt.show()\n",
    "\n",
    "df_rule_num_nftcontract_pd['Score3'].plot.kde()\n",
    "plt.xlabel('Score')\n",
    "plt.ylabel('Density')\n",
    "plt.title(\"\")\n",
    "plt.xlim(20,115)\n",
    "plt.show()"
   ]
  },
  {
   "cell_type": "markdown",
   "id": "349eb336",
   "metadata": {},
   "source": [
    "# Diversity Ranking 4 - Number of unique currencies transaction done in"
   ]
  },
  {
   "cell_type": "code",
   "execution_count": 109,
   "id": "17116c88",
   "metadata": {},
   "outputs": [],
   "source": [
    "unique_names = df_all.select(col(\"original_currency\")).distinct().rdd.flatMap(lambda x: x).collect()"
   ]
  },
  {
   "cell_type": "code",
   "execution_count": 114,
   "id": "44aaca5c",
   "metadata": {},
   "outputs": [
    {
     "data": {
      "text/plain": [
       "1    14324\n",
       "2      227\n",
       "Name: num_currency, dtype: int64"
      ]
     },
     "execution_count": 114,
     "metadata": {},
     "output_type": "execute_result"
    }
   ],
   "source": [
    "df_rule_num_currency_pd['num_currency'].value_counts()"
   ]
  },
  {
   "cell_type": "code",
   "execution_count": 118,
   "id": "0291f3ad",
   "metadata": {},
   "outputs": [
    {
     "name": "stdout",
     "output_type": "stream",
     "text": [
      "                                            buyer  num_currency     Score4\n",
      "0      \\x611418293744761822355b086eb853f248941a26             1  49.223421\n",
      "1      \\x65ed9e91a1479aa16b2a51f8bc34ff24fc346d3d             1  49.223421\n",
      "2      \\x002118dd32f5d78da2feba2f2e56e7683f28e5c0             1  49.223421\n",
      "3      \\xa39ab56babaab264fec46614f745235678999f08             1  49.223421\n",
      "4      \\x3ff9cffda13189398e637f22e4e8e4620a034cc7             1  49.223421\n",
      "...                                           ...           ...        ...\n",
      "14546  \\xf812eab8867076c5085f21cc7e461ce0dd076118             1  49.223421\n",
      "14547  \\x5b15a7e17bcf5811ebd137c16b27e49a02840d1e             1  49.223421\n",
      "14548  \\xa4663e48a4e2565d4d7c0ff85321294e2a313cfb             1  49.223421\n",
      "14549  \\xf42c2b956bcab51abb6555f5a06ee582e4581c71             1  49.223421\n",
      "14550  \\x4c38a6962c8226ff4a7003cb66ca5c644ce0d1d2             1  49.223421\n",
      "\n",
      "[14551 rows x 3 columns]\n",
      "[49.22342107 99.22342107]\n"
     ]
    }
   ],
   "source": [
    "df_currency = df_all.groupBy(\"buyer\").agg(countDistinct(\"original_currency\").alias(\"num_currency\"))\n",
    "# score4 based on num_currency\n",
    "df_rule_num_currency_pd=df_currency.toPandas()\n",
    "\n",
    "percentiles = df_rule_num_currency_pd['num_currency'].rank(pct=True)\n",
    "df_rule_num_currency_pd['Score4'] = percentiles * 100\n",
    "\n",
    "print(df_rule_num_currency_pd)\n",
    "#print unique score4 values assigned\n",
    "print(df_rule_num_currency_pd['Score4'].unique())\n",
    "#converting back to spark df\n",
    "df_rule_num_currency=spark.createDataFrame(df_rule_num_currency_pd)"
   ]
  },
  {
   "cell_type": "code",
   "execution_count": 119,
   "id": "058353a7",
   "metadata": {},
   "outputs": [],
   "source": [
    "# # df_currency = df_all.groupBy(\"buyer\").agg(countDistinct(\"original_currency\").alias(\"num_currency\")).orderBy(desc(\"num_currency\"))\n",
    "# df_currency = df_all.groupBy(\"buyer\").agg(countDistinct(\"original_currency\").alias(\"num_currency\"))\n",
    "# # score4 based on num_currency\n",
    "# df_rule_num_currency_pd=df_currency.toPandas()\n",
    "# hist, bins=pd.cut(df_rule_num_currency_pd['num_currency'],bins=100,labels=False,retbins=True,right=False)\n",
    "# df_rule_num_currency_pd['Score4']=hist\n",
    "# df_rule_num_currency_pd['Score4']+=1\n",
    "# print(df_rule_num_currency_pd)\n",
    "# #print unique score4 values assigned\n",
    "# print(df_rule_num_currency_pd['Score4'].unique())\n",
    "# #converting back to spark df\n",
    "# df_rule_num_currency=spark.createDataFrame(df_rule_num_currency_pd)"
   ]
  },
  {
   "cell_type": "code",
   "execution_count": 122,
   "id": "cee25725",
   "metadata": {},
   "outputs": [
    {
     "data": {
      "image/png": "[encoded data removed]",
      "text/plain": [
       "<Figure size 640x480 with 1 Axes>"
      ]
     },
     "metadata": {},
     "output_type": "display_data"
    },
    {
     "data": {
      "image/png": "[encoded data removed]",
      "text/plain": [
       "<Figure size 640x480 with 1 Axes>"
      ]
     },
     "metadata": {},
     "output_type": "display_data"
    }
   ],
   "source": [
    "df_rule_num_currency_pd['num_currency'].plot.kde()\n",
    "plt.xlabel('Number of currencies owned')\n",
    "plt.ylabel('Density')\n",
    "plt.title(\"\")\n",
    "plt.xlim(0,3)\n",
    "plt.show()\n",
    "\n",
    "df_rule_num_currency_pd['Score4'].plot.kde()\n",
    "plt.xlabel('Score')\n",
    "plt.ylabel('Density')\n",
    "plt.title(\"\")\n",
    "plt.xlim(20,110)\n",
    "plt.show()"
   ]
  },
  {
   "cell_type": "code",
   "execution_count": 22,
   "id": "8343fe47",
   "metadata": {},
   "outputs": [],
   "source": [
    "# data_collect = df_all.collect()"
   ]
  },
  {
   "cell_type": "markdown",
   "id": "3de7b98e",
   "metadata": {},
   "source": [
    "# Diversity Ranking 5 - Average Duration (in seconds)"
   ]
  },
  {
   "cell_type": "code",
   "execution_count": 124,
   "id": "aed31f7c",
   "metadata": {},
   "outputs": [],
   "source": [
    "# df_all = df_all.withColumn(\"duration\", (col(\"Sold_Timestamp\") - col(\"Bought_Timestamp\")))\n",
    "df_all = df_all.withColumn(\"duration\", (unix_timestamp(col(\"Sold_Timestamp\")) - unix_timestamp(col(\"Bought_Timestamp\"))))"
   ]
  },
  {
   "cell_type": "code",
   "execution_count": 125,
   "id": "0e888142",
   "metadata": {
    "scrolled": true
   },
   "outputs": [
    {
     "name": "stdout",
     "output_type": "stream",
     "text": [
      "+--------+\n",
      "|duration|\n",
      "+--------+\n",
      "|  194736|\n",
      "|25537934|\n",
      "|   54617|\n",
      "|   55842|\n",
      "|    2661|\n",
      "+--------+\n",
      "only showing top 5 rows\n",
      "\n"
     ]
    }
   ],
   "source": [
    "df_all.select('duration').show(5)"
   ]
  },
  {
   "cell_type": "code",
   "execution_count": 129,
   "id": "68d650d9",
   "metadata": {},
   "outputs": [
    {
     "name": "stdout",
     "output_type": "stream",
     "text": [
      "                                            buyer  avg_duration     Score5\n",
      "0      \\x19fc1b0697ea155a96b0824bd5a32492e01987ab  2.641374e+07  99.463954\n",
      "1      \\x0c3e947cea964408987fe43e817613ebdcc1065b  7.908306e+05  54.917188\n",
      "2      \\x4eb42eb130995a5205db7388d5efa95da295dca1  1.386550e+06  65.851144\n",
      "3      \\x715cda131c5a036f733ecd5d58796d0e48e21043  4.580353e+06  87.918356\n",
      "4      \\x65ed9e91a1479aa16b2a51f8bc34ff24fc346d3d  2.057049e+06  73.761254\n",
      "...                                           ...           ...        ...\n",
      "14546  \\x44440aa675ae3196e2614c1a9ac897e5cd6f8545  5.147450e+06  89.471514\n",
      "14547  \\xec0adac48bff8373da4e56ce3523d6b6fe9b1c11  1.610996e+06  69.149887\n",
      "14548  \\x45411ab2652a29601c8f23fca501a7b0b396ef56  3.435712e+06  83.197031\n",
      "14549  \\xb7286b33f2b81d8275abb442f61dd2f9e07a747a  6.209828e+05  49.474263\n",
      "14550  \\x4c38a6962c8226ff4a7003cb66ca5c644ce0d1d2  3.412537e+05  38.890798\n",
      "\n",
      "[14551 rows x 3 columns]\n",
      "[99.46395437 54.91718782 65.85114425 ... 83.19703113 49.47426294\n",
      " 38.89079788]\n"
     ]
    }
   ],
   "source": [
    "df_avg_duration = df_all.groupBy(\"buyer\").agg(avg(\"duration\").alias(\"avg_duration\"))\n",
    "# score4 based on num_currency\n",
    "df_rule_avg_duration_pd=df_avg_duration.toPandas()\n",
    "\n",
    "percentiles = df_rule_avg_duration_pd['avg_duration'].rank(pct=True)\n",
    "df_rule_avg_duration_pd['Score5'] = percentiles * 100\n",
    "\n",
    "print(df_rule_avg_duration_pd)\n",
    "#print unique score5 values assigned\n",
    "print(df_rule_avg_duration_pd['Score5'].unique())\n",
    "#converting to sparkdf\n",
    "df_rule_avg_duration=spark.createDataFrame(df_rule_avg_duration_pd)"
   ]
  },
  {
   "cell_type": "code",
   "execution_count": 138,
   "id": "e7591f78",
   "metadata": {},
   "outputs": [
    {
     "data": {
      "text/html": [
       "<div>\n",
       "<style scoped>\n",
       "    .dataframe tbody tr th:only-of-type {\n",
       "        vertical-align: middle;\n",
       "    }\n",
       "\n",
       "    .dataframe tbody tr th {\n",
       "        vertical-align: top;\n",
       "    }\n",
       "\n",
       "    .dataframe thead th {\n",
       "        text-align: right;\n",
       "    }\n",
       "</style>\n",
       "<table border=\"1\" class=\"dataframe\">\n",
       "  <thead>\n",
       "    <tr style=\"text-align: right;\">\n",
       "      <th></th>\n",
       "      <th>buyer</th>\n",
       "      <th>avg_duration</th>\n",
       "      <th>Score5</th>\n",
       "    </tr>\n",
       "  </thead>\n",
       "  <tbody>\n",
       "    <tr>\n",
       "      <th>9984</th>\n",
       "      <td>\\xf29155745c8ee222d4f7d6a2a7a50c1901f27de2</td>\n",
       "      <td>5.689628e+07</td>\n",
       "      <td>100.000000</td>\n",
       "    </tr>\n",
       "    <tr>\n",
       "      <th>5766</th>\n",
       "      <td>\\xeb1c22baacafac7836f20f684c946228401ff01c</td>\n",
       "      <td>4.542095e+07</td>\n",
       "      <td>99.993128</td>\n",
       "    </tr>\n",
       "    <tr>\n",
       "      <th>10067</th>\n",
       "      <td>\\xc6a7463a7ee700d035aff7bfd1ee198d680a4164</td>\n",
       "      <td>4.522751e+07</td>\n",
       "      <td>99.986255</td>\n",
       "    </tr>\n",
       "    <tr>\n",
       "      <th>4607</th>\n",
       "      <td>\\x54b174179ae825ed630da40b625bb3c883cd40ae</td>\n",
       "      <td>4.435452e+07</td>\n",
       "      <td>99.979383</td>\n",
       "    </tr>\n",
       "    <tr>\n",
       "      <th>10911</th>\n",
       "      <td>\\x8f04cb028b8a025bc4acf3a193db4a19d0de5bab</td>\n",
       "      <td>4.298729e+07</td>\n",
       "      <td>99.972510</td>\n",
       "    </tr>\n",
       "    <tr>\n",
       "      <th>...</th>\n",
       "      <td>...</td>\n",
       "      <td>...</td>\n",
       "      <td>...</td>\n",
       "    </tr>\n",
       "    <tr>\n",
       "      <th>13110</th>\n",
       "      <td>\\xcda54f82379d6d33b2a761c0f7f5fe248dd87710</td>\n",
       "      <td>1.680000e+02</td>\n",
       "      <td>0.037798</td>\n",
       "    </tr>\n",
       "    <tr>\n",
       "      <th>7963</th>\n",
       "      <td>\\x67e979444be34cfd3a772b29bfd923bc0740d264</td>\n",
       "      <td>1.580000e+02</td>\n",
       "      <td>0.027490</td>\n",
       "    </tr>\n",
       "    <tr>\n",
       "      <th>1389</th>\n",
       "      <td>\\x3e2040138c9c9ce4778df397e13acb65b5474ad6</td>\n",
       "      <td>1.570000e+02</td>\n",
       "      <td>0.020617</td>\n",
       "    </tr>\n",
       "    <tr>\n",
       "      <th>12709</th>\n",
       "      <td>\\x48180732eacbee90aeb2ee9f13c764cd12d9b5cb</td>\n",
       "      <td>1.140000e+02</td>\n",
       "      <td>0.013745</td>\n",
       "    </tr>\n",
       "    <tr>\n",
       "      <th>5460</th>\n",
       "      <td>\\xaa32a094e21ca249d44bc8305e6147f682932980</td>\n",
       "      <td>9.600000e+01</td>\n",
       "      <td>0.006872</td>\n",
       "    </tr>\n",
       "  </tbody>\n",
       "</table>\n",
       "<p>14551 rows × 3 columns</p>\n",
       "</div>"
      ],
      "text/plain": [
       "                                            buyer  avg_duration      Score5\n",
       "9984   \\xf29155745c8ee222d4f7d6a2a7a50c1901f27de2  5.689628e+07  100.000000\n",
       "5766   \\xeb1c22baacafac7836f20f684c946228401ff01c  4.542095e+07   99.993128\n",
       "10067  \\xc6a7463a7ee700d035aff7bfd1ee198d680a4164  4.522751e+07   99.986255\n",
       "4607   \\x54b174179ae825ed630da40b625bb3c883cd40ae  4.435452e+07   99.979383\n",
       "10911  \\x8f04cb028b8a025bc4acf3a193db4a19d0de5bab  4.298729e+07   99.972510\n",
       "...                                           ...           ...         ...\n",
       "13110  \\xcda54f82379d6d33b2a761c0f7f5fe248dd87710  1.680000e+02    0.037798\n",
       "7963   \\x67e979444be34cfd3a772b29bfd923bc0740d264  1.580000e+02    0.027490\n",
       "1389   \\x3e2040138c9c9ce4778df397e13acb65b5474ad6  1.570000e+02    0.020617\n",
       "12709  \\x48180732eacbee90aeb2ee9f13c764cd12d9b5cb  1.140000e+02    0.013745\n",
       "5460   \\xaa32a094e21ca249d44bc8305e6147f682932980  9.600000e+01    0.006872\n",
       "\n",
       "[14551 rows x 3 columns]"
      ]
     },
     "execution_count": 138,
     "metadata": {},
     "output_type": "execute_result"
    }
   ],
   "source": [
    "df_rule_avg_duration_pd.sort_values(by = \"avg_duration\", ascending = False)"
   ]
  },
  {
   "cell_type": "code",
   "execution_count": 130,
   "id": "49ff4691",
   "metadata": {},
   "outputs": [],
   "source": [
    "# df_avg_duration = df_all.groupBy(\"buyer\").agg(avg(\"duration\").alias(\"avg_duration\"))\n",
    "# # score4 based on num_currency\n",
    "# df_rule_avg_duration_pd=df_avg_duration.toPandas()\n",
    "# hist, bins=pd.cut(df_rule_avg_duration_pd['avg_duration'],bins=100,labels=False,retbins=True,right=False)\n",
    "# df_rule_avg_duration_pd['Score5']=hist\n",
    "# df_rule_avg_duration_pd['Score5']+=1\n",
    "# print(df_rule_avg_duration_pd)\n",
    "# #print unique score5 values assigned\n",
    "# print(df_rule_avg_duration_pd['Score5'].unique())\n",
    "# #converting to sparkdf\n",
    "# df_rule_avg_duration=spark.createDataFrame(df_rule_avg_duration_pd)"
   ]
  },
  {
   "cell_type": "code",
   "execution_count": 136,
   "id": "33d91f40",
   "metadata": {},
   "outputs": [
    {
     "data": {
      "image/png": "[encoded data removed]",
      "text/plain": [
       "<Figure size 640x480 with 1 Axes>"
      ]
     },
     "metadata": {},
     "output_type": "display_data"
    },
    {
     "data": {
      "image/png": "[encoded data removed]",
      "text/plain": [
       "<Figure size 640x480 with 1 Axes>"
      ]
     },
     "metadata": {},
     "output_type": "display_data"
    }
   ],
   "source": [
    "df_rule_avg_duration_pd['avg_duration'].plot.kde()\n",
    "plt.xlabel('Average duration')\n",
    "plt.ylabel('Density')\n",
    "plt.title(\"\")\n",
    "plt.xlim(0e+8,0.50e+8)\n",
    "plt.show()\n",
    "\n",
    "df_rule_avg_duration_pd['Score5'].plot.kde()\n",
    "plt.xlabel('Score')\n",
    "plt.ylabel('Density')\n",
    "plt.title(\"\")\n",
    "plt.xlim(-10,110)\n",
    "plt.show()"
   ]
  },
  {
   "cell_type": "code",
   "execution_count": 26,
   "id": "1198a960",
   "metadata": {},
   "outputs": [
    {
     "data": {
      "text/plain": [
       "pyspark.sql.dataframe.DataFrame"
      ]
     },
     "execution_count": 26,
     "metadata": {},
     "output_type": "execute_result"
    }
   ],
   "source": [
    "type(df_avg_duration)"
   ]
  },
  {
   "cell_type": "markdown",
   "id": "c9f43872",
   "metadata": {},
   "source": [
    "# Ranking 6 - Frequency of each transaction"
   ]
  },
  {
   "cell_type": "code",
   "execution_count": 139,
   "id": "5b400165",
   "metadata": {},
   "outputs": [],
   "source": [
    "from pyspark.sql.functions import split\n",
    "df_all = df_all.withColumn(\"date\", split(\"Bought_Timestamp\", \" \")[0])\n",
    "df_all = df_all.withColumn(\"time\", split(\"Bought_Timestamp\", \" \")[1])"
   ]
  },
  {
   "cell_type": "code",
   "execution_count": 187,
   "id": "13f954a1",
   "metadata": {},
   "outputs": [
    {
     "name": "stdout",
     "output_type": "stream",
     "text": [
      "                                            buyer  frequency     Score6\n",
      "0      \\x1b9d8d8c068330d3958dee92353d0610f87e3bc7          4  89.914782\n",
      "1      \\x715cda131c5a036f733ecd5d58796d0e48e21043          1  30.197237\n",
      "2      \\x044e7277804699835766bdd8a11e35a7df67c68b          4  89.914782\n",
      "3      \\x1386d7a006bd547b82d72d16ba52bb764106762e          2  70.252904\n",
      "4      \\x58eb0cdb3527439fb8ebaa3491c4b49bb1fdc37b          4  89.914782\n",
      "...                                           ...        ...        ...\n",
      "14546  \\xbecff511eb1f5889f07f79af7954c2271d5b4b78          1  30.197237\n",
      "14547  \\x5b15a7e17bcf5811ebd137c16b27e49a02840d1e          2  70.252904\n",
      "14548  \\x6e6669bafb001b598cbb17bd5e39077a24724b61          1  30.197237\n",
      "14549  \\x8bf9e70ee251a99788e020f51ee3e666d36a12f8          1  30.197237\n",
      "14550  \\xeb13fd2da222686623d728e72122cdfed370da82          1  30.197237\n",
      "\n",
      "[14551 rows x 3 columns]\n",
      "[ 89.91478249  30.1972373   70.25290358  96.32327675  84.07325957\n",
      "  92.99360869  99.26809154  99.15469727  99.04473919  97.22699471\n",
      "  94.99690743  97.83176414  98.769844    99.47082675  99.34712391\n",
      "  99.5910934   99.67356195  99.78008384  99.41241152  98.21661741\n",
      "  98.51900213  99.88316954  99.84537145  98.94508968  99.71136004\n",
      "  99.92096763  99.8969143   99.91065906  99.52924198  99.75603051\n",
      "  99.95876572  99.9312762   99.7938286   99.98625524  99.62889149\n",
      "  99.73541337  99.87629716  99.86942478  99.97251048  99.99312762\n",
      "  99.56704007  99.9656381   99.94502096  99.93814858  99.97938286\n",
      "  99.95189334  99.82475431  99.80757336  99.8625524  100.        ]\n"
     ]
    }
   ],
   "source": [
    "df_frequency = df_all.groupBy(\"buyer\").agg(countDistinct(\"time\").alias(\"frequency\"))\n",
    "df_rule_frequency_pd = df_frequency.toPandas()\n",
    "\n",
    "percentiles = df_rule_frequency_pd['frequency'].rank(pct=True)\n",
    "df_rule_frequency_pd['Score6'] = percentiles * 100\n",
    "\n",
    "print(df_rule_frequency_pd)\n",
    "#print unique score5 values assigned\n",
    "print(df_rule_frequency_pd['Score6'].unique())\n",
    "#converting to sparkdf\n",
    "df_rule_frequency=spark.createDataFrame(df_rule_frequency_pd)"
   ]
  },
  {
   "cell_type": "code",
   "execution_count": 182,
   "id": "02acf239",
   "metadata": {},
   "outputs": [],
   "source": [
    "#df_rule_frequency_pd['frequency'].value_counts()"
   ]
  },
  {
   "cell_type": "code",
   "execution_count": 177,
   "id": "c627bf08",
   "metadata": {},
   "outputs": [
    {
     "data": {
      "text/html": [
       "<div>\n",
       "<style scoped>\n",
       "    .dataframe tbody tr th:only-of-type {\n",
       "        vertical-align: middle;\n",
       "    }\n",
       "\n",
       "    .dataframe tbody tr th {\n",
       "        vertical-align: top;\n",
       "    }\n",
       "\n",
       "    .dataframe thead th {\n",
       "        text-align: right;\n",
       "    }\n",
       "</style>\n",
       "<table border=\"1\" class=\"dataframe\">\n",
       "  <thead>\n",
       "    <tr style=\"text-align: right;\">\n",
       "      <th></th>\n",
       "      <th>buyer</th>\n",
       "      <th>frequency</th>\n",
       "      <th>Score6</th>\n",
       "    </tr>\n",
       "  </thead>\n",
       "  <tbody>\n",
       "    <tr>\n",
       "      <th>14110</th>\n",
       "      <td>\\x8f12ba075bd3b1e560751751206d80fbefacd21f</td>\n",
       "      <td>95</td>\n",
       "      <td>100.000000</td>\n",
       "    </tr>\n",
       "    <tr>\n",
       "      <th>6642</th>\n",
       "      <td>\\x3cca52f32d555d50d7e00dcdbd4303b6bc1872f2</td>\n",
       "      <td>76</td>\n",
       "      <td>99.993128</td>\n",
       "    </tr>\n",
       "    <tr>\n",
       "      <th>4055</th>\n",
       "      <td>\\xb5e14dcf2520d154606254094f32c8d32d509115</td>\n",
       "      <td>66</td>\n",
       "      <td>99.986255</td>\n",
       "    </tr>\n",
       "    <tr>\n",
       "      <th>10146</th>\n",
       "      <td>\\x8f8482a18e81dc0c20ee2c9e47d9be0cc4683029</td>\n",
       "      <td>64</td>\n",
       "      <td>99.979383</td>\n",
       "    </tr>\n",
       "    <tr>\n",
       "      <th>6282</th>\n",
       "      <td>\\x6761bcaf2b2156c058634d9772f07374d6edef1d</td>\n",
       "      <td>59</td>\n",
       "      <td>99.972510</td>\n",
       "    </tr>\n",
       "    <tr>\n",
       "      <th>...</th>\n",
       "      <td>...</td>\n",
       "      <td>...</td>\n",
       "      <td>...</td>\n",
       "    </tr>\n",
       "    <tr>\n",
       "      <th>5992</th>\n",
       "      <td>\\x11af1e21528314fb733f95039efb5504a84add8d</td>\n",
       "      <td>1</td>\n",
       "      <td>30.197237</td>\n",
       "    </tr>\n",
       "    <tr>\n",
       "      <th>5993</th>\n",
       "      <td>\\xd98403ead18cd4351813580afcf2e231cd762309</td>\n",
       "      <td>1</td>\n",
       "      <td>30.197237</td>\n",
       "    </tr>\n",
       "    <tr>\n",
       "      <th>5994</th>\n",
       "      <td>\\xe2868b6115019c4bd31d358a6a1ef58da6d0b027</td>\n",
       "      <td>1</td>\n",
       "      <td>30.197237</td>\n",
       "    </tr>\n",
       "    <tr>\n",
       "      <th>5995</th>\n",
       "      <td>\\xbc8e5439fcfe654967728fc6bfbd80fba8fba8fb</td>\n",
       "      <td>1</td>\n",
       "      <td>30.197237</td>\n",
       "    </tr>\n",
       "    <tr>\n",
       "      <th>14550</th>\n",
       "      <td>\\xeb13fd2da222686623d728e72122cdfed370da82</td>\n",
       "      <td>1</td>\n",
       "      <td>30.197237</td>\n",
       "    </tr>\n",
       "  </tbody>\n",
       "</table>\n",
       "<p>14551 rows × 3 columns</p>\n",
       "</div>"
      ],
      "text/plain": [
       "                                            buyer  frequency      Score6\n",
       "14110  \\x8f12ba075bd3b1e560751751206d80fbefacd21f         95  100.000000\n",
       "6642   \\x3cca52f32d555d50d7e00dcdbd4303b6bc1872f2         76   99.993128\n",
       "4055   \\xb5e14dcf2520d154606254094f32c8d32d509115         66   99.986255\n",
       "10146  \\x8f8482a18e81dc0c20ee2c9e47d9be0cc4683029         64   99.979383\n",
       "6282   \\x6761bcaf2b2156c058634d9772f07374d6edef1d         59   99.972510\n",
       "...                                           ...        ...         ...\n",
       "5992   \\x11af1e21528314fb733f95039efb5504a84add8d          1   30.197237\n",
       "5993   \\xd98403ead18cd4351813580afcf2e231cd762309          1   30.197237\n",
       "5994   \\xe2868b6115019c4bd31d358a6a1ef58da6d0b027          1   30.197237\n",
       "5995   \\xbc8e5439fcfe654967728fc6bfbd80fba8fba8fb          1   30.197237\n",
       "14550  \\xeb13fd2da222686623d728e72122cdfed370da82          1   30.197237\n",
       "\n",
       "[14551 rows x 3 columns]"
      ]
     },
     "execution_count": 177,
     "metadata": {},
     "output_type": "execute_result"
    }
   ],
   "source": [
    "df_rule_frequency_pd.sort_values(by = 'frequency', ascending = False)"
   ]
  },
  {
   "cell_type": "code",
   "execution_count": 174,
   "id": "50320f3a",
   "metadata": {},
   "outputs": [],
   "source": [
    "# df_frequency = df_all.groupBy(\"buyer\").agg(countDistinct(\"time\").alias(\"frequency\"))\n",
    "# df_rule_frequency_pd = df_frequency.toPandas()\n",
    "# hist, bins=pd.cut(df_rule_frequency_pd['frequency'],bins=100,labels=False,retbins=True,right=False)\n",
    "# df_rule_frequency_pd['Score6']=hist\n",
    "# df_rule_frequency_pd['Score6']+=1\n",
    "# print(df_rule_frequency_pd)\n",
    "# #print unique score5 values assigned\n",
    "# print(df_rule_frequency_pd['Score6'].unique())\n",
    "# #converting to sparkdf\n",
    "# df_frequency=spark.createDataFrame(df_rule_frequency_pd)"
   ]
  },
  {
   "cell_type": "code",
   "execution_count": 184,
   "id": "918ceb81",
   "metadata": {},
   "outputs": [
    {
     "data": {
      "image/png": "[encoded data removed]",
      "text/plain": [
       "<Figure size 640x480 with 1 Axes>"
      ]
     },
     "metadata": {},
     "output_type": "display_data"
    },
    {
     "data": {
      "image/png": "[encoded data removed]",
      "text/plain": [
       "<Figure size 640x480 with 1 Axes>"
      ]
     },
     "metadata": {},
     "output_type": "display_data"
    }
   ],
   "source": [
    "df_rule_frequency_pd['frequency'].plot.kde()\n",
    "plt.xlabel('Frequency')\n",
    "plt.ylabel('Density')\n",
    "plt.title(\"\")\n",
    "plt.xlim(-10,100)\n",
    "plt.show()\n",
    "\n",
    "df_rule_frequency_pd['Score6'].plot.kde()\n",
    "plt.xlabel('Score')\n",
    "plt.ylabel('Density')\n",
    "plt.title(\"\")\n",
    "plt.xlim(0,110)\n",
    "plt.show()"
   ]
  },
  {
   "cell_type": "markdown",
   "id": "8fc3fc65",
   "metadata": {},
   "source": [
    "# Feature Extraction for Model"
   ]
  },
  {
   "cell_type": "code",
   "execution_count": 188,
   "id": "662b1fd3",
   "metadata": {},
   "outputs": [],
   "source": [
    "# modeldata = reduce(lambda x,y: pd.merge(x,y, on='buyer', how='outer'), [df_avg, df_count, df_num_nftcontract, df_currency, df_avg_duration])\n",
    "joined_df = df_avg.join(df_count, on='buyer', how='inner').join(df_num_nftcontract, on='buyer', how='inner').join(df_currency, on='buyer', how='inner').join(df_avg_duration, on='buyer', how='inner').join(df_frequency, on='buyer', how='inner')"
   ]
  },
  {
   "cell_type": "code",
   "execution_count": 189,
   "id": "36d41480",
   "metadata": {},
   "outputs": [
    {
     "name": "stdout",
     "output_type": "stream",
     "text": [
      "+--------------------+-------------------+-----------+---------------+------------+-----------------+---------+\n",
      "|               buyer|          avg_spent|number_txns|num_nftcontract|num_currency|     avg_duration|frequency|\n",
      "+--------------------+-------------------+-----------+---------------+------------+-----------------+---------+\n",
      "|\\x19fc1b0697ea155...|         -549.26512|          1|              1|           1|      2.6413743E7|        1|\n",
      "|\\x0c3e947cea96440...| -2.202985666666668|          9|              1|           2|790830.5555555555|        5|\n",
      "|\\x4eb42eb130995a5...|-155.52474999999998|          1|              1|           1|        1386550.0|        1|\n",
      "|\\x715cda131c5a036...|  80.91090000000003|          1|              1|           1|        4580353.0|        1|\n",
      "|\\x65ed9e91a1479aa...|-178.59019499999997|         16|              1|           1|        2057049.0|        4|\n",
      "+--------------------+-------------------+-----------+---------------+------------+-----------------+---------+\n",
      "only showing top 5 rows\n",
      "\n"
     ]
    }
   ],
   "source": [
    "joined_df.show(5)"
   ]
  },
  {
   "cell_type": "code",
   "execution_count": 190,
   "id": "73025c8f",
   "metadata": {},
   "outputs": [
    {
     "data": {
      "text/plain": [
       "14551"
      ]
     },
     "execution_count": 190,
     "metadata": {},
     "output_type": "execute_result"
    }
   ],
   "source": [
    "joined_df.count()"
   ]
  },
  {
   "cell_type": "code",
   "execution_count": 193,
   "id": "a81f5897",
   "metadata": {
    "scrolled": true
   },
   "outputs": [],
   "source": [
    "joined_scores = df_rule_avg_spent.join(df_rule_number_txns, on='buyer', how='inner').join(df_rule_num_nftcontract, on='buyer', how='inner').join(df_rule_num_currency, on='buyer', how='inner').join(df_rule_avg_duration, on='buyer', how='inner').join(df_rule_frequency, on='buyer', how='inner')\n",
    "joined_scores.show(5)"
   ]
  },
  {
   "cell_type": "code",
   "execution_count": null,
   "id": "adb2421c",
   "metadata": {},
   "outputs": [],
   "source": [
    "joined_scores.write.parquet(\"/Users/rose/Documents/ModelScores/\")\n"
   ]
  }
 ],
 "metadata": {
  "kernelspec": {
   "display_name": "Python 3 (ipykernel)",
   "language": "python",
   "name": "python3"
  },
  "language_info": {
   "codemirror_mode": {
    "name": "ipython",
    "version": 3
   },
   "file_extension": ".py",
   "mimetype": "text/x-python",
   "name": "python",
   "nbconvert_exporter": "python",
   "pygments_lexer": "ipython3",
   "version": "3.9.16"
  }
 },
 "nbformat": 4,
 "nbformat_minor": 5
}
