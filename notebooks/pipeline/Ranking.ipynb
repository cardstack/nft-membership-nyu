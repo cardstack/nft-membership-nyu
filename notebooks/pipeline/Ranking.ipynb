{
 "cells": [
  {
   "cell_type": "code",
   "execution_count": 1,
   "id": "6a863de5",
   "metadata": {},
   "outputs": [
    {
     "name": "stdout",
     "output_type": "stream",
     "text": [
      "Requirement already satisfied: dune-client in /Users/rose/opt/anaconda3/lib/python3.9/site-packages (1.0.0)\n",
      "Requirement already satisfied: types-requests>=2.28.9 in /Users/rose/opt/anaconda3/lib/python3.9/site-packages (from dune-client) (2.28.11.16)\n",
      "Requirement already satisfied: types-python-dateutil>=2.8.19 in /Users/rose/opt/anaconda3/lib/python3.9/site-packages (from dune-client) (2.8.19.11)\n",
      "Requirement already satisfied: python-dateutil>=2.8.2 in /Users/rose/opt/anaconda3/lib/python3.9/site-packages (from dune-client) (2.8.2)\n",
      "Requirement already satisfied: web3>=5.30.0 in /Users/rose/opt/anaconda3/lib/python3.9/site-packages (from dune-client) (6.0.0)\n",
      "Requirement already satisfied: aiohttp>=3.8.3 in /Users/rose/opt/anaconda3/lib/python3.9/site-packages (from dune-client) (3.8.4)\n",
      "Requirement already satisfied: types-PyYAML>=6.0.11 in /Users/rose/opt/anaconda3/lib/python3.9/site-packages (from dune-client) (6.0.12.9)\n",
      "Requirement already satisfied: requests>=2.28.1 in /Users/rose/opt/anaconda3/lib/python3.9/site-packages (from dune-client) (2.28.1)\n",
      "Requirement already satisfied: ndjson>=0.3.1 in /Users/rose/opt/anaconda3/lib/python3.9/site-packages (from dune-client) (0.3.1)\n",
      "Requirement already satisfied: attrs>=17.3.0 in /Users/rose/opt/anaconda3/lib/python3.9/site-packages (from aiohttp>=3.8.3->dune-client) (21.4.0)\n",
      "Requirement already satisfied: aiosignal>=1.1.2 in /Users/rose/opt/anaconda3/lib/python3.9/site-packages (from aiohttp>=3.8.3->dune-client) (1.3.1)\n",
      "Requirement already satisfied: async-timeout<5.0,>=4.0.0a3 in /Users/rose/opt/anaconda3/lib/python3.9/site-packages (from aiohttp>=3.8.3->dune-client) (4.0.2)\n",
      "Requirement already satisfied: frozenlist>=1.1.1 in /Users/rose/opt/anaconda3/lib/python3.9/site-packages (from aiohttp>=3.8.3->dune-client) (1.3.3)\n",
      "Requirement already satisfied: charset-normalizer<4.0,>=2.0 in /Users/rose/opt/anaconda3/lib/python3.9/site-packages (from aiohttp>=3.8.3->dune-client) (2.0.4)\n",
      "Requirement already satisfied: multidict<7.0,>=4.5 in /Users/rose/opt/anaconda3/lib/python3.9/site-packages (from aiohttp>=3.8.3->dune-client) (6.0.4)\n",
      "Requirement already satisfied: yarl<2.0,>=1.0 in /Users/rose/opt/anaconda3/lib/python3.9/site-packages (from aiohttp>=3.8.3->dune-client) (1.8.2)\n",
      "Requirement already satisfied: six>=1.5 in /Users/rose/opt/anaconda3/lib/python3.9/site-packages (from python-dateutil>=2.8.2->dune-client) (1.16.0)\n",
      "Requirement already satisfied: urllib3<1.27,>=1.21.1 in /Users/rose/opt/anaconda3/lib/python3.9/site-packages (from requests>=2.28.1->dune-client) (1.26.11)\n",
      "Requirement already satisfied: idna<4,>=2.5 in /Users/rose/opt/anaconda3/lib/python3.9/site-packages (from requests>=2.28.1->dune-client) (3.3)\n",
      "Requirement already satisfied: certifi>=2017.4.17 in /Users/rose/opt/anaconda3/lib/python3.9/site-packages (from requests>=2.28.1->dune-client) (2022.9.24)\n",
      "Requirement already satisfied: types-urllib3<1.27 in /Users/rose/opt/anaconda3/lib/python3.9/site-packages (from types-requests>=2.28.9->dune-client) (1.26.25.9)\n",
      "Requirement already satisfied: parsimonious==0.9.0 in /Users/rose/opt/anaconda3/lib/python3.9/site-packages (from web3>=5.30.0->dune-client) (0.9.0)\n",
      "Requirement already satisfied: jsonschema>=4.0.0 in /Users/rose/opt/anaconda3/lib/python3.9/site-packages (from web3>=5.30.0->dune-client) (4.16.0)\n",
      "Requirement already satisfied: eth-account>=0.8.0 in /Users/rose/opt/anaconda3/lib/python3.9/site-packages (from web3>=5.30.0->dune-client) (0.8.0)\n",
      "Requirement already satisfied: protobuf>=4.21.6 in /Users/rose/opt/anaconda3/lib/python3.9/site-packages (from web3>=5.30.0->dune-client) (4.22.1)\n",
      "Requirement already satisfied: eth-typing>=3.0.0 in /Users/rose/opt/anaconda3/lib/python3.9/site-packages (from web3>=5.30.0->dune-client) (3.3.0)\n",
      "Requirement already satisfied: eth-utils>=2.1.0 in /Users/rose/opt/anaconda3/lib/python3.9/site-packages (from web3>=5.30.0->dune-client) (2.1.0)\n",
      "Requirement already satisfied: eth-abi>=4.0.0-b.2 in /Users/rose/opt/anaconda3/lib/python3.9/site-packages (from web3>=5.30.0->dune-client) (4.0.0)\n",
      "Requirement already satisfied: hexbytes>=0.1.0 in /Users/rose/opt/anaconda3/lib/python3.9/site-packages (from web3>=5.30.0->dune-client) (0.3.0)\n",
      "Requirement already satisfied: eth-hash[pycryptodome]>=0.5.1 in /Users/rose/opt/anaconda3/lib/python3.9/site-packages (from web3>=5.30.0->dune-client) (0.5.1)\n",
      "Requirement already satisfied: websockets>=10.0.0 in /Users/rose/opt/anaconda3/lib/python3.9/site-packages (from web3>=5.30.0->dune-client) (10.4)\n",
      "Requirement already satisfied: lru-dict>=1.1.6 in /Users/rose/opt/anaconda3/lib/python3.9/site-packages (from web3>=5.30.0->dune-client) (1.1.8)\n",
      "Requirement already satisfied: regex>=2022.3.15 in /Users/rose/opt/anaconda3/lib/python3.9/site-packages (from parsimonious==0.9.0->web3>=5.30.0->dune-client) (2022.7.9)\n",
      "Requirement already satisfied: eth-keyfile<0.7.0,>=0.6.0 in /Users/rose/opt/anaconda3/lib/python3.9/site-packages (from eth-account>=0.8.0->web3>=5.30.0->dune-client) (0.6.1)\n",
      "Requirement already satisfied: bitarray<3,>=2.4.0 in /Users/rose/opt/anaconda3/lib/python3.9/site-packages (from eth-account>=0.8.0->web3>=5.30.0->dune-client) (2.5.1)\n",
      "Requirement already satisfied: rlp<4,>=1.0.0 in /Users/rose/opt/anaconda3/lib/python3.9/site-packages (from eth-account>=0.8.0->web3>=5.30.0->dune-client) (3.0.0)\n",
      "Requirement already satisfied: eth-keys<0.5,>=0.4.0 in /Users/rose/opt/anaconda3/lib/python3.9/site-packages (from eth-account>=0.8.0->web3>=5.30.0->dune-client) (0.4.0)\n",
      "Requirement already satisfied: eth-rlp<1,>=0.3.0 in /Users/rose/opt/anaconda3/lib/python3.9/site-packages (from eth-account>=0.8.0->web3>=5.30.0->dune-client) (0.3.0)\n",
      "Requirement already satisfied: pycryptodome<4,>=3.6.6 in /Users/rose/opt/anaconda3/lib/python3.9/site-packages (from eth-hash[pycryptodome]>=0.5.1->web3>=5.30.0->dune-client) (3.17)\n",
      "Requirement already satisfied: cytoolz>=0.10.1 in /Users/rose/opt/anaconda3/lib/python3.9/site-packages (from eth-utils>=2.1.0->web3>=5.30.0->dune-client) (0.11.0)\n",
      "Requirement already satisfied: pyrsistent!=0.17.0,!=0.17.1,!=0.17.2,>=0.14.0 in /Users/rose/opt/anaconda3/lib/python3.9/site-packages (from jsonschema>=4.0.0->web3>=5.30.0->dune-client) (0.18.0)\n",
      "Requirement already satisfied: toolz>=0.8.0 in /Users/rose/opt/anaconda3/lib/python3.9/site-packages (from cytoolz>=0.10.1->eth-utils>=2.1.0->web3>=5.30.0->dune-client) (0.11.2)\n",
      "Requirement already satisfied: pyarrow in /Users/rose/opt/anaconda3/lib/python3.9/site-packages (11.0.0)\n",
      "Requirement already satisfied: numpy>=1.16.6 in /Users/rose/opt/anaconda3/lib/python3.9/site-packages (from pyarrow) (1.21.5)\n"
     ]
    }
   ],
   "source": [
    "%run Imports.ipynb"
   ]
  },
  {
   "cell_type": "code",
   "execution_count": 2,
   "id": "cad0eadf",
   "metadata": {},
   "outputs": [
    {
     "name": "stdout",
     "output_type": "stream",
     "text": [
      "23/03/29 10:44:22 WARN Utils: Your hostname, localhost resolves to a loopback address: 127.0.0.1; using 10.0.0.124 instead (on interface en0)\n",
      "23/03/29 10:44:22 WARN Utils: Set SPARK_LOCAL_IP if you need to bind to another address\n"
     ]
    },
    {
     "name": "stderr",
     "output_type": "stream",
     "text": [
      "Setting default log level to \"WARN\".\n",
      "To adjust logging level use sc.setLogLevel(newLevel). For SparkR, use setLogLevel(newLevel).\n"
     ]
    },
    {
     "name": "stdout",
     "output_type": "stream",
     "text": [
      "23/03/29 10:44:23 WARN NativeCodeLoader: Unable to load native-hadoop library for your platform... using builtin-java classes where applicable\n",
      "23/03/29 10:44:24 WARN Utils: Service 'SparkUI' could not bind on port 4040. Attempting port 4041.\n"
     ]
    }
   ],
   "source": [
    "conf = pyspark.SparkConf()\n",
    "spark = SparkSession.builder.appName(\"Rank\").getOrCreate()"
   ]
  },
  {
   "cell_type": "code",
   "execution_count": 3,
   "id": "e8c7a72e",
   "metadata": {},
   "outputs": [
    {
     "name": "stderr",
     "output_type": "stream",
     "text": [
      "                                                                                \r"
     ]
    }
   ],
   "source": [
    "df1=spark.read.parquet(\"/Users/rose/Documents/CleanDuneData/*\")"
   ]
  },
  {
   "cell_type": "code",
   "execution_count": 4,
   "id": "982c8775",
   "metadata": {},
   "outputs": [
    {
     "data": {
      "text/plain": [
       "3898970"
      ]
     },
     "execution_count": 4,
     "metadata": {},
     "output_type": "execute_result"
    }
   ],
   "source": [
    "df1.count()"
   ]
  },
  {
   "cell_type": "code",
   "execution_count": 5,
   "id": "a09902d3",
   "metadata": {},
   "outputs": [],
   "source": [
    "df1.createOrReplaceTempView(\"Load\")"
   ]
  },
  {
   "cell_type": "code",
   "execution_count": 6,
   "id": "f36e32f9",
   "metadata": {},
   "outputs": [],
   "source": [
    "df_rule_1 = spark.sql(\"SELECT buyer, AVG(usd_amount) AS buying_power, COUNT(buyer) AS txn_buy FROM Load GROUP BY buyer\")"
   ]
  },
  {
   "cell_type": "code",
   "execution_count": 7,
   "id": "c1db134a",
   "metadata": {},
   "outputs": [
    {
     "name": "stderr",
     "output_type": "stream",
     "text": [
      "[Stage 4:==========================================>               (8 + 3) / 11]\r"
     ]
    },
    {
     "name": "stdout",
     "output_type": "stream",
     "text": [
      "+--------------------+------------------+-------+\n",
      "|               buyer|      buying_power|txn_buy|\n",
      "+--------------------+------------------+-------+\n",
      "|\\x4623b7a9eb459fd...|       2970.340307|     10|\n",
      "|\\xa3d773e4f9080ae...|466.26832299999995|      5|\n",
      "|\\x3c5b3a8287f759e...| 2.246813566666667|      3|\n",
      "|\\xb738397f0a03aa5...|         58.711685|      2|\n",
      "|\\x1386d7a006bd547...| 762.9974736110116|     31|\n",
      "|\\xc38d773623dbb7b...|1020.3994119999999|     12|\n",
      "|\\x2e43850af79290f...|         5.4629215|      4|\n",
      "|\\x4299b157abde3ef...|        153.630215|      2|\n",
      "|\\xfc2dd34349f9abd...|          674.5711|      3|\n",
      "|\\x08dd1e75fe3a46c...|     2222.25308322|     10|\n",
      "|\\x0cb540e8a237e57...|1207.6800986666665|      3|\n",
      "|\\x20f6db36863d7a5...| 560.1388333333333|      3|\n",
      "|\\x1bd93fb42ea6a03...| 678.9134799999999|      2|\n",
      "|\\x6b937c85f26d6b0...| 514.5364943333333|      6|\n",
      "|\\xa800f34505e8b34...|       6379.152486|      4|\n",
      "|\\x8ba659f0be00b59...|284.57286472403683|      6|\n",
      "|\\x09328f42f0bc356...|          39.09095|      2|\n",
      "|\\xf1de20b301eb00d...| 907.4251533333335|      3|\n",
      "|\\xa5082ca485329a1...|1462.1064333333334|     15|\n",
      "|\\x180f71c2bbcbe78...|1107.6466333333333|     12|\n",
      "+--------------------+------------------+-------+\n",
      "only showing top 20 rows\n",
      "\n"
     ]
    },
    {
     "name": "stderr",
     "output_type": "stream",
     "text": [
      "                                                                                \r"
     ]
    }
   ],
   "source": [
    "df_rule_1.show()"
   ]
  },
  {
   "cell_type": "markdown",
   "id": "fc998d58",
   "metadata": {},
   "source": [
    "# holding query"
   ]
  },
  {
   "cell_type": "code",
   "execution_count": 108,
   "id": "d7914056",
   "metadata": {},
   "outputs": [
    {
     "name": "stderr",
     "output_type": "stream",
     "text": [
      "                                                                                \r"
     ]
    },
    {
     "name": "stdout",
     "output_type": "stream",
     "text": [
      "                                            person  holding_duration  Score6\n",
      "0       \\x0000005c7dc69d405f09aaadca29068d4f88cde8            298840       1\n",
      "1       \\x00003e81818a2f1e1ffc41dc47d4b1716110b90a             37944       1\n",
      "2       \\x000422a87d6882570ca0f510e8756b20ee125000           1145188       2\n",
      "3       \\x000422a87d6882570ca0f510e8756b20ee125000           1008993       1\n",
      "4       \\x000422a87d6882570ca0f510e8756b20ee125000            210733       1\n",
      "...                                            ...               ...     ...\n",
      "642628  \\xffd88c6bf8c53b6c56a216cd1ca34c3f87486fd4           2080771       3\n",
      "642629  \\xffe4261a55f4d5ae916d1130ce4d9132f9adb262           7925204       8\n",
      "642630  \\xffea87fc3026d91896ec85d873b13b25e8b182cb           2933325       3\n",
      "642631  \\xfffb4e05ff7e83fb1329d740474ea8bb5c548b93            780259       1\n",
      "642632  \\xfffef84688fd0248155d06c0e603a04adabccc64           4979682       5\n",
      "\n",
      "[642633 rows x 3 columns]\n"
     ]
    }
   ],
   "source": [
    "df_holding = spark.sql(\"WITH buyer_table AS (SELECT buyer, nft_token_id, nft_contract_address, original_amount, usd_amount, block_time FROM load WHERE original_amount > 0.0 AND trade_type = 'Single Item Trade'), seller_table AS (SELECT seller, nft_token_id, nft_contract_address, original_amount, usd_amount, block_time FROM load WHERE original_amount > 0.0 AND trade_type = 'Single Item Trade') SELECT buyer_table.buyer as person, buyer_table.nft_token_id, buyer_table.original_amount as buy_price, seller_table.original_amount as sell_price, seller_table.original_amount - buyer_table.original_amount as eth_profit, seller_table.usd_amount - buyer_table.usd_amount as usd_profit, buyer_table.block_time as buy_time, seller_table.block_time as sell_time FROM buyer_table INNER JOIN seller_table on buyer_table.buyer = seller_table.seller AND buyer_table.nft_token_id = seller_table.nft_token_id AND buyer_table.nft_contract_address = seller_table.nft_contract_address\")\n",
    "#Calculating timestamp difference and converting to seconds\n",
    "df_holding2 = df_holding.withColumn(\"holding_duration\", (unix_timestamp(col(\"sell_time\")) - unix_timestamp(col(\"buy_time\"))))\n",
    "#selecting the two columns from df_holding2 dataframe\n",
    "from pyspark.sql.functions import abs\n",
    "df_holding3 = df_holding2.select(\"person\",\"holding_duration\")\n",
    "df_holding3= df_holding3.withColumn(\"holding_duration\", abs(df_holding3.holding_duration))\n",
    "df_holding3_pd=df_holding3.toPandas()\n",
    "hist, bins=pd.cut(df_holding3_pd['holding_duration'],bins=100,labels=False,retbins=True,right=False)\n",
    "df_holding3_pd['Score6']=hist\n",
    "df_holding3_pd['Score6']+=1\n",
    "print(df_holding3_pd)\n",
    "#converting to sparkdf\n",
    "df_rule_holding=spark.createDataFrame(df_holding3_pd)"
   ]
  },
  {
   "cell_type": "code",
   "execution_count": 87,
   "id": "a3cedf04",
   "metadata": {},
   "outputs": [
    {
     "data": {
      "image/png": "[encoded data removed]",
      "text/plain": [
       "<Figure size 640x480 with 1 Axes>"
      ]
     },
     "metadata": {},
     "output_type": "display_data"
    },
    {
     "name": "stdout",
     "output_type": "stream",
     "text": [
      "[  1   2   3   5   7   8   9   6   4  20  13  18  31  17  10  12  11  21\n",
      "  16  28  29  27  14  37  25  19  24  34  26  15  30  22  23  41  51  50\n",
      "  32  44  40  35  36  42  45  33  49  56  65  46  43  38  48  55  62  74\n",
      "  59  47  39  68  71  63  54  85  77  66  53  67  58  83  60  69  75  61\n",
      "  57  72  52  84  90  70 100  94  93  86  80]\n"
     ]
    }
   ],
   "source": [
    "plt.hist(df_holding3_pd[\"Score6\"])\n",
    "plt.xlabel(\"Score assigned\")\n",
    "plt.ylabel(\"No of users\")\n",
    "plt.title(\"\")\n",
    "plt.show()\n",
    "print(df_holding3_pd['Score6'].unique())"
   ]
  },
  {
   "cell_type": "markdown",
   "id": "381768bf",
   "metadata": {},
   "source": [
    "# rest of information query"
   ]
  },
  {
   "cell_type": "code",
   "execution_count": 16,
   "id": "beba8ea8",
   "metadata": {},
   "outputs": [],
   "source": [
    "df_all = spark.sql(\"SELECT * FROM ( SELECT n1.buyer, n1.original_currency, n1.nft_token_id, n1.nft_contract_address, n1.original_amount as Bought, n2.original_amount as Sold, n1.block_time as Bought_Timestamp, n2.block_time as Sold_Timestamp,n1.usd_amount as Bought_amount, n2.usd_amount as Sold_amount, (n2.usd_amount - n1.usd_amount) as net, n1.platform as n1platform, n2.platform as n2platform FROM Load n1, Load n2 where n1.buyer = n2.seller AND  n2.block_time > n1.block_time AND  n1.nft_token_id is not null AND n1.nft_token_id = n2.nft_token_id AND n1.nft_contract_address = n2.nft_contract_address) holdings\")"
   ]
  },
  {
   "cell_type": "code",
   "execution_count": 17,
   "id": "6bffd600",
   "metadata": {},
   "outputs": [
    {
     "data": {
      "text/plain": [
       "['buyer',\n",
       " 'original_currency',\n",
       " 'nft_token_id',\n",
       " 'nft_contract_address',\n",
       " 'Bought',\n",
       " 'Sold',\n",
       " 'Bought_Timestamp',\n",
       " 'Sold_Timestamp',\n",
       " 'Bought_amount',\n",
       " 'Sold_amount',\n",
       " 'net',\n",
       " 'n1platform',\n",
       " 'n2platform']"
      ]
     },
     "execution_count": 17,
     "metadata": {},
     "output_type": "execute_result"
    }
   ],
   "source": [
    "df_all.columns"
   ]
  },
  {
   "cell_type": "code",
   "execution_count": 18,
   "id": "5707991c",
   "metadata": {},
   "outputs": [
    {
     "data": {
      "text/plain": [
       "StructType([StructField('buyer', StringType(), True), StructField('original_currency', StringType(), True), StructField('nft_token_id', StringType(), True), StructField('nft_contract_address', StringType(), True), StructField('Bought', DoubleType(), True), StructField('Sold', DoubleType(), True), StructField('Bought_Timestamp', TimestampType(), True), StructField('Sold_Timestamp', TimestampType(), True), StructField('Bought_amount', DoubleType(), True), StructField('Sold_amount', DoubleType(), True), StructField('net', DoubleType(), True), StructField('n1platform', StringType(), True), StructField('n2platform', StringType(), True)])"
      ]
     },
     "execution_count": 18,
     "metadata": {},
     "output_type": "execute_result"
    }
   ],
   "source": [
    "df_all.schema"
   ]
  },
  {
   "cell_type": "code",
   "execution_count": 19,
   "id": "457f8936",
   "metadata": {},
   "outputs": [
    {
     "data": {
      "text/plain": [
       "pyspark.sql.dataframe.DataFrame"
      ]
     },
     "execution_count": 19,
     "metadata": {},
     "output_type": "execute_result"
    }
   ],
   "source": [
    "type(df_all)"
   ]
  },
  {
   "cell_type": "code",
   "execution_count": 20,
   "id": "28063341",
   "metadata": {
    "scrolled": true
   },
   "outputs": [
    {
     "name": "stderr",
     "output_type": "stream",
     "text": [
      "[Stage 26:>                                                         (0 + 1) / 1]\r"
     ]
    },
    {
     "name": "stdout",
     "output_type": "stream",
     "text": [
      "+--------------------+-------------+------------+-------------------+\n",
      "|               buyer|Bought_amount| Sold_amount|                net|\n",
      "+--------------------+-------------+------------+-------------------+\n",
      "|\\x0000005c7dc69d4...|    837.48308|    1078.273| 240.78991999999994|\n",
      "|\\x00003e81818a2f1...|   125.698549|  173.522188|          47.823639|\n",
      "|\\x0005bb8bdcbbf4a...|     775.9004|   1133.2491|           357.3487|\n",
      "|\\x00079e801ad1382...|    178.37568|   1289.0346| 1110.6589199999999|\n",
      "|\\x000cd27f10dffac...|     1405.935|   55277.167|          53871.232|\n",
      "|\\x000cef8f0ab0a2f...|    694.86968|1094.2062762| 399.33659620000003|\n",
      "|\\x000e0ed8a7307e1...|      905.931|   519.35032|-386.58068000000003|\n",
      "|\\x00110e09134aec0...|   200.720832|   188.68224|-12.038591999999994|\n",
      "|\\x00110e09134aec0...|   200.720832|  250.395432|            49.6746|\n",
      "|\\x00110e09134aec0...|   200.720832|   278.09376|  77.37292799999997|\n",
      "|\\x00110e09134aec0...|   200.720832|  248.424224|  47.70339200000001|\n",
      "|\\x00110e09134aec0...|   200.720832|  292.940582|           92.21975|\n",
      "|\\x00110e09134aec0...|   200.720832|  283.329662|  82.60882999999998|\n",
      "|\\x00110e09134aec0...|   200.720832|  230.800152| 30.079319999999996|\n",
      "|\\x00110e09134aec0...|   200.720832|  290.128548|  89.40771600000002|\n",
      "|\\x00110e09134aec0...|   268.121488|   278.09376|  9.972271999999975|\n",
      "|\\x00110e09134aec0...|   268.121488|  248.424224| -19.69726399999999|\n",
      "|\\x00110e09134aec0...|   268.121488|  292.940582| 24.819094000000007|\n",
      "|\\x00110e09134aec0...|   268.121488|  283.329662| 15.208173999999985|\n",
      "|\\x00110e09134aec0...|   268.121488|  230.800152|         -37.321336|\n",
      "+--------------------+-------------+------------+-------------------+\n",
      "only showing top 20 rows\n",
      "\n"
     ]
    },
    {
     "name": "stderr",
     "output_type": "stream",
     "text": [
      "                                                                                \r"
     ]
    }
   ],
   "source": [
    "df_all.select('buyer','Bought_amount','Sold_amount','net').show(20)"
   ]
  },
  {
   "cell_type": "markdown",
   "id": "9e81195c",
   "metadata": {},
   "source": [
    "# Ranking 1 - average amount spent (here profit , loss automatically done)"
   ]
  },
  {
   "cell_type": "code",
   "execution_count": 85,
   "id": "7dc3177c",
   "metadata": {
    "scrolled": true
   },
   "outputs": [
    {
     "name": "stderr",
     "output_type": "stream",
     "text": [
      "[Stage 238:==================================================>    (10 + 1) / 11]\r"
     ]
    },
    {
     "name": "stdout",
     "output_type": "stream",
     "text": [
      "23/03/29 14:20:23 WARN RowBasedKeyValueBatch: Calling spill() on RowBasedKeyValueBatch. Will not spill but return 0.\n",
      "23/03/29 14:20:23 WARN RowBasedKeyValueBatch: Calling spill() on RowBasedKeyValueBatch. Will not spill but return 0.\n",
      "23/03/29 14:20:23 WARN RowBasedKeyValueBatch: Calling spill() on RowBasedKeyValueBatch. Will not spill but return 0.\n",
      "23/03/29 14:20:23 WARN RowBasedKeyValueBatch: Calling spill() on RowBasedKeyValueBatch. Will not spill but return 0.\n",
      "23/03/29 14:20:23 WARN RowBasedKeyValueBatch: Calling spill() on RowBasedKeyValueBatch. Will not spill but return 0.\n",
      "23/03/29 14:20:23 WARN RowBasedKeyValueBatch: Calling spill() on RowBasedKeyValueBatch. Will not spill but return 0.\n",
      "23/03/29 14:20:23 WARN RowBasedKeyValueBatch: Calling spill() on RowBasedKeyValueBatch. Will not spill but return 0.\n",
      "23/03/29 14:20:23 WARN RowBasedKeyValueBatch: Calling spill() on RowBasedKeyValueBatch. Will not spill but return 0.\n"
     ]
    },
    {
     "name": "stderr",
     "output_type": "stream",
     "text": [
      "[Stage 241:>                                                       (0 + 8) / 10]\r"
     ]
    },
    {
     "name": "stdout",
     "output_type": "stream",
     "text": [
      "23/03/29 14:20:24 WARN RowBasedKeyValueBatch: Calling spill() on RowBasedKeyValueBatch. Will not spill but return 0.\n",
      "23/03/29 14:20:24 WARN RowBasedKeyValueBatch: Calling spill() on RowBasedKeyValueBatch. Will not spill but return 0.\n",
      "23/03/29 14:20:25 WARN RowBasedKeyValueBatch: Calling spill() on RowBasedKeyValueBatch. Will not spill but return 0.\n",
      "23/03/29 14:20:25 WARN RowBasedKeyValueBatch: Calling spill() on RowBasedKeyValueBatch. Will not spill but return 0.\n",
      "23/03/29 14:20:25 WARN RowBasedKeyValueBatch: Calling spill() on RowBasedKeyValueBatch. Will not spill but return 0.\n",
      "23/03/29 14:20:25 WARN RowBasedKeyValueBatch: Calling spill() on RowBasedKeyValueBatch. Will not spill but return 0.\n",
      "23/03/29 14:20:25 WARN RowBasedKeyValueBatch: Calling spill() on RowBasedKeyValueBatch. Will not spill but return 0.\n",
      "23/03/29 14:20:25 WARN RowBasedKeyValueBatch: Calling spill() on RowBasedKeyValueBatch. Will not spill but return 0.\n",
      "23/03/29 14:20:25 WARN RowBasedKeyValueBatch: Calling spill() on RowBasedKeyValueBatch. Will not spill but return 0.\n",
      "23/03/29 14:20:25 WARN RowBasedKeyValueBatch: Calling spill() on RowBasedKeyValueBatch. Will not spill but return 0.\n",
      "23/03/29 14:20:25 WARN RowBasedKeyValueBatch: Calling spill() on RowBasedKeyValueBatch. Will not spill but return 0.\n",
      "23/03/29 14:20:25 WARN RowBasedKeyValueBatch: Calling spill() on RowBasedKeyValueBatch. Will not spill but return 0.\n",
      "23/03/29 14:20:25 WARN RowBasedKeyValueBatch: Calling spill() on RowBasedKeyValueBatch. Will not spill but return 0.\n",
      "23/03/29 14:20:25 WARN RowBasedKeyValueBatch: Calling spill() on RowBasedKeyValueBatch. Will not spill but return 0.\n",
      "23/03/29 14:20:26 WARN RowBasedKeyValueBatch: Calling spill() on RowBasedKeyValueBatch. Will not spill but return 0.\n",
      "23/03/29 14:20:26 WARN RowBasedKeyValueBatch: Calling spill() on RowBasedKeyValueBatch. Will not spill but return 0.\n"
     ]
    },
    {
     "name": "stderr",
     "output_type": "stream",
     "text": [
      "                                                                                \r"
     ]
    },
    {
     "name": "stdout",
     "output_type": "stream",
     "text": [
      "                                             buyer    avg_spent  Score1\n",
      "0       \\x006b82530c7985fd0084382e866db39a6c5c0578  -252.267914      27\n",
      "1       \\x014fd068938fa1965be36a9244ddf6d37f6b88cb    89.940925      27\n",
      "2       \\x01981e7284ade335883f75927fae1b70fac44d71  -128.700244      27\n",
      "3       \\x0312b9e6627d9a49cf07a3b5af1f18ad8d8e39db  1866.865157      27\n",
      "4       \\x05379b307e6ae02e522fb134fad1254a4e7fbac1   -80.200510      27\n",
      "...                                            ...          ...     ...\n",
      "186030  \\xe25cf7322526cfef5ca841deb14323f9ada1234a  1839.846200      27\n",
      "186031  \\xe282780e50937a2490831e4539bbb5f3f564e004  -588.149493      27\n",
      "186032  \\xe73a7a0d3163d12ddf749c97433fac227e4cec3d   137.396000      27\n",
      "186033  \\xed1efb8184a6d9498e98695087da3903376b925a -3484.871500      27\n",
      "186034  \\xf49b67a2b2fc0904cb12a2c41c7d2007841c04a0    97.844091      27\n",
      "\n",
      "[186035 rows x 3 columns]\n",
      "[ 27  26  29  28  23  30  37  19  40  22  24  33  32  25  54  35  14  92\n",
      "  39  31  34  21  18  36  45  44  38 100   1  42  16   6  51  17]\n"
     ]
    },
    {
     "data": {
      "image/png": "[encoded data removed]",
      "text/plain": [
       "<Figure size 640x480 with 1 Axes>"
      ]
     },
     "metadata": {},
     "output_type": "display_data"
    }
   ],
   "source": [
    "df_avg = df_all.groupBy(\"buyer\").agg(avg(\"net\").alias(\"avg_spent\"))\n",
    "# score1 based on avg_spent\n",
    "df_rule_avg_spent_pd=df_avg.toPandas()\n",
    "hist, bins=pd.cut(df_rule_avg_spent_pd['avg_spent'],bins=100,labels=False,retbins=True,right=False)\n",
    "df_rule_avg_spent_pd['Score1']=hist\n",
    "df_rule_avg_spent_pd['Score1']+=1\n",
    "print(df_rule_avg_spent_pd)\n",
    "print(df_rule_avg_spent_pd['Score1'].unique())\n",
    "plt.hist(df_rule_avg_spent_pd[\"Score1\"])\n",
    "plt.xlabel(\"Score assigned\")\n",
    "plt.ylabel(\"No of users\")\n",
    "plt.title(\"\")\n",
    "plt.show()\n",
    "#converting to sparkdf\n",
    "df_rule_avg_spent=spark.createDataFrame(df_rule_avg_spent_pd)"
   ]
  },
  {
   "cell_type": "markdown",
   "id": "49396215",
   "metadata": {},
   "source": [
    "# Ranking 2 - number of transactions"
   ]
  },
  {
   "cell_type": "code",
   "execution_count": 95,
   "id": "0ed01e30",
   "metadata": {},
   "outputs": [
    {
     "name": "stderr",
     "output_type": "stream",
     "text": [
      "[Stage 298:========================================>               (8 + 3) / 11]\r"
     ]
    },
    {
     "name": "stdout",
     "output_type": "stream",
     "text": [
      "23/03/29 14:49:14 WARN RowBasedKeyValueBatch: Calling spill() on RowBasedKeyValueBatch. Will not spill but return 0.\n",
      "23/03/29 14:49:14 WARN RowBasedKeyValueBatch: Calling spill() on RowBasedKeyValueBatch. Will not spill but return 0.\n",
      "23/03/29 14:49:14 WARN RowBasedKeyValueBatch: Calling spill() on RowBasedKeyValueBatch. Will not spill but return 0.\n",
      "23/03/29 14:49:14 WARN RowBasedKeyValueBatch: Calling spill() on RowBasedKeyValueBatch. Will not spill but return 0.\n",
      "23/03/29 14:49:14 WARN RowBasedKeyValueBatch: Calling spill() on RowBasedKeyValueBatch. Will not spill but return 0.\n",
      "23/03/29 14:49:14 WARN RowBasedKeyValueBatch: Calling spill() on RowBasedKeyValueBatch. Will not spill but return 0.\n",
      "23/03/29 14:49:14 WARN RowBasedKeyValueBatch: Calling spill() on RowBasedKeyValueBatch. Will not spill but return 0.\n",
      "23/03/29 14:49:14 WARN RowBasedKeyValueBatch: Calling spill() on RowBasedKeyValueBatch. Will not spill but return 0.\n"
     ]
    },
    {
     "name": "stderr",
     "output_type": "stream",
     "text": [
      "[Stage 301:>                                                        (0 + 8) / 9]\r"
     ]
    },
    {
     "name": "stdout",
     "output_type": "stream",
     "text": [
      "23/03/29 14:49:15 WARN RowBasedKeyValueBatch: Calling spill() on RowBasedKeyValueBatch. Will not spill but return 0.\n",
      "23/03/29 14:49:15 WARN RowBasedKeyValueBatch: Calling spill() on RowBasedKeyValueBatch. Will not spill but return 0.\n",
      "23/03/29 14:49:15 WARN RowBasedKeyValueBatch: Calling spill() on RowBasedKeyValueBatch. Will not spill but return 0.\n",
      "23/03/29 14:49:16 WARN RowBasedKeyValueBatch: Calling spill() on RowBasedKeyValueBatch. Will not spill but return 0.\n",
      "23/03/29 14:49:16 WARN RowBasedKeyValueBatch: Calling spill() on RowBasedKeyValueBatch. Will not spill but return 0.\n",
      "23/03/29 14:49:16 WARN RowBasedKeyValueBatch: Calling spill() on RowBasedKeyValueBatch. Will not spill but return 0.\n",
      "23/03/29 14:49:16 WARN RowBasedKeyValueBatch: Calling spill() on RowBasedKeyValueBatch. Will not spill but return 0.\n",
      "23/03/29 14:49:16 WARN RowBasedKeyValueBatch: Calling spill() on RowBasedKeyValueBatch. Will not spill but return 0.\n",
      "23/03/29 14:49:16 WARN RowBasedKeyValueBatch: Calling spill() on RowBasedKeyValueBatch. Will not spill but return 0.\n",
      "23/03/29 14:49:16 WARN RowBasedKeyValueBatch: Calling spill() on RowBasedKeyValueBatch. Will not spill but return 0.\n",
      "23/03/29 14:49:16 WARN RowBasedKeyValueBatch: Calling spill() on RowBasedKeyValueBatch. Will not spill but return 0.\n",
      "23/03/29 14:49:16 WARN RowBasedKeyValueBatch: Calling spill() on RowBasedKeyValueBatch. Will not spill but return 0.\n",
      "23/03/29 14:49:16 WARN RowBasedKeyValueBatch: Calling spill() on RowBasedKeyValueBatch. Will not spill but return 0.\n",
      "23/03/29 14:49:16 WARN RowBasedKeyValueBatch: Calling spill() on RowBasedKeyValueBatch. Will not spill but return 0.\n",
      "23/03/29 14:49:17 WARN RowBasedKeyValueBatch: Calling spill() on RowBasedKeyValueBatch. Will not spill but return 0.\n",
      "23/03/29 14:49:17 WARN RowBasedKeyValueBatch: Calling spill() on RowBasedKeyValueBatch. Will not spill but return 0.\n"
     ]
    },
    {
     "name": "stderr",
     "output_type": "stream",
     "text": [
      "[Stage 301:=========================>                               (4 + 5) / 9]\r"
     ]
    },
    {
     "name": "stdout",
     "output_type": "stream",
     "text": [
      "23/03/29 14:49:19 WARN RowBasedKeyValueBatch: Calling spill() on RowBasedKeyValueBatch. Will not spill but return 0.\n"
     ]
    },
    {
     "name": "stderr",
     "output_type": "stream",
     "text": [
      "                                                                                \r"
     ]
    },
    {
     "name": "stdout",
     "output_type": "stream",
     "text": [
      "                                             buyer  number_txns  Score2\n",
      "0       \\x006b82530c7985fd0084382e866db39a6c5c0578           12       2\n",
      "1       \\x014fd068938fa1965be36a9244ddf6d37f6b88cb           19       3\n",
      "2       \\x01981e7284ade335883f75927fae1b70fac44d71           18       3\n",
      "3       \\x0312b9e6627d9a49cf07a3b5af1f18ad8d8e39db            6       1\n",
      "4       \\x03a3da04bd4a888ed473a9c6bd90a13165f78e72            1       1\n",
      "...                                            ...          ...     ...\n",
      "186030  \\xe0d3851eb01cde810436a054f4211e31a2fe0a82            1       1\n",
      "186031  \\xe25cf7322526cfef5ca841deb14323f9ada1234a            1       1\n",
      "186032  \\xe282780e50937a2490831e4539bbb5f3f564e004            2       1\n",
      "186033  \\xe73a7a0d3163d12ddf749c97433fac227e4cec3d            1       1\n",
      "186034  \\xf49b67a2b2fc0904cb12a2c41c7d2007841c04a0            1       1\n",
      "\n",
      "[186035 rows x 3 columns]\n",
      "[  2   3   1   5   8   4   6  12   9  17  10  11  26  15   7  19  20  14\n",
      "  13  22  29  30  38  27  21  54  18  39  16  24  81  44  34  28  33  35\n",
      "  25  23  31  36  46  56  98  40  51  37  42  48  41 100  50  55]\n"
     ]
    },
    {
     "data": {
      "image/png": "[encoded data removed]",
      "text/plain": [
       "<Figure size 640x480 with 1 Axes>"
      ]
     },
     "metadata": {},
     "output_type": "display_data"
    }
   ],
   "source": [
    "df_count = df_all.groupBy(\"buyer\").agg(count(\"*\").alias(\"number_txns\"))\n",
    "# score2 based on number_txns\n",
    "df_rule_number_txns_pd=df_count.toPandas()\n",
    "hist, bins=pd.cut(df_rule_number_txns_pd['number_txns'],bins=100,labels=False,retbins=True,right=False)\n",
    "df_rule_number_txns_pd['Score2']=hist\n",
    "df_rule_number_txns_pd['Score2']+=1\n",
    "print(df_rule_number_txns_pd)\n",
    "#print unique score2 values assigned\n",
    "print(df_rule_number_txns_pd['Score2'].unique())\n",
    "#plot histogram\n",
    "plt.hist(df_rule_number_txns_pd[\"Score2\"])\n",
    "plt.xlabel(\"Score assigned\")\n",
    "plt.ylabel(\"No of users\")\n",
    "plt.title(\"\")\n",
    "plt.show()\n",
    "#converting to sparkdf\n",
    "df_rule_number_txns=spark.createDataFrame(df_rule_number_txns_pd)"
   ]
  },
  {
   "cell_type": "markdown",
   "id": "181a6eb5",
   "metadata": {},
   "source": [
    "# Diversity Ranking 3 - Number of Nft contract address held"
   ]
  },
  {
   "cell_type": "code",
   "execution_count": 96,
   "id": "35fd90be",
   "metadata": {},
   "outputs": [
    {
     "name": "stderr",
     "output_type": "stream",
     "text": [
      "[Stage 307:=============================================>          (9 + 2) / 11]\r"
     ]
    },
    {
     "name": "stdout",
     "output_type": "stream",
     "text": [
      "23/03/29 14:51:38 WARN RowBasedKeyValueBatch: Calling spill() on RowBasedKeyValueBatch. Will not spill but return 0.\n",
      "23/03/29 14:51:38 WARN RowBasedKeyValueBatch: Calling spill() on RowBasedKeyValueBatch. Will not spill but return 0.\n",
      "23/03/29 14:51:39 WARN RowBasedKeyValueBatch: Calling spill() on RowBasedKeyValueBatch. Will not spill but return 0.\n",
      "23/03/29 14:51:39 WARN RowBasedKeyValueBatch: Calling spill() on RowBasedKeyValueBatch. Will not spill but return 0.\n",
      "23/03/29 14:51:39 WARN RowBasedKeyValueBatch: Calling spill() on RowBasedKeyValueBatch. Will not spill but return 0.\n",
      "23/03/29 14:51:39 WARN RowBasedKeyValueBatch: Calling spill() on RowBasedKeyValueBatch. Will not spill but return 0.\n",
      "23/03/29 14:51:39 WARN RowBasedKeyValueBatch: Calling spill() on RowBasedKeyValueBatch. Will not spill but return 0.\n",
      "23/03/29 14:51:39 WARN RowBasedKeyValueBatch: Calling spill() on RowBasedKeyValueBatch. Will not spill but return 0.\n"
     ]
    },
    {
     "name": "stderr",
     "output_type": "stream",
     "text": [
      "[Stage 310:>                                                        (0 + 8) / 9]\r"
     ]
    },
    {
     "name": "stdout",
     "output_type": "stream",
     "text": [
      "23/03/29 14:51:40 WARN RowBasedKeyValueBatch: Calling spill() on RowBasedKeyValueBatch. Will not spill but return 0.\n",
      "23/03/29 14:51:40 WARN RowBasedKeyValueBatch: Calling spill() on RowBasedKeyValueBatch. Will not spill but return 0.\n",
      "23/03/29 14:51:40 WARN RowBasedKeyValueBatch: Calling spill() on RowBasedKeyValueBatch. Will not spill but return 0.\n",
      "23/03/29 14:51:41 WARN RowBasedKeyValueBatch: Calling spill() on RowBasedKeyValueBatch. Will not spill but return 0.\n",
      "23/03/29 14:51:41 WARN RowBasedKeyValueBatch: Calling spill() on RowBasedKeyValueBatch. Will not spill but return 0.\n",
      "23/03/29 14:51:41 WARN RowBasedKeyValueBatch: Calling spill() on RowBasedKeyValueBatch. Will not spill but return 0.\n",
      "23/03/29 14:51:41 WARN RowBasedKeyValueBatch: Calling spill() on RowBasedKeyValueBatch. Will not spill but return 0.\n",
      "23/03/29 14:51:41 WARN RowBasedKeyValueBatch: Calling spill() on RowBasedKeyValueBatch. Will not spill but return 0.\n",
      "23/03/29 14:51:41 WARN RowBasedKeyValueBatch: Calling spill() on RowBasedKeyValueBatch. Will not spill but return 0.\n",
      "23/03/29 14:51:41 WARN RowBasedKeyValueBatch: Calling spill() on RowBasedKeyValueBatch. Will not spill but return 0.\n",
      "23/03/29 14:51:41 WARN RowBasedKeyValueBatch: Calling spill() on RowBasedKeyValueBatch. Will not spill but return 0.\n",
      "23/03/29 14:51:41 WARN RowBasedKeyValueBatch: Calling spill() on RowBasedKeyValueBatch. Will not spill but return 0.\n",
      "23/03/29 14:51:41 WARN RowBasedKeyValueBatch: Calling spill() on RowBasedKeyValueBatch. Will not spill but return 0.\n",
      "23/03/29 14:51:41 WARN RowBasedKeyValueBatch: Calling spill() on RowBasedKeyValueBatch. Will not spill but return 0.\n",
      "23/03/29 14:51:42 WARN RowBasedKeyValueBatch: Calling spill() on RowBasedKeyValueBatch. Will not spill but return 0.\n",
      "23/03/29 14:51:42 WARN RowBasedKeyValueBatch: Calling spill() on RowBasedKeyValueBatch. Will not spill but return 0.\n"
     ]
    },
    {
     "name": "stderr",
     "output_type": "stream",
     "text": [
      "                                                                                \r"
     ]
    },
    {
     "name": "stdout",
     "output_type": "stream",
     "text": [
      "                                             buyer  num_nftcontract  Score3\n",
      "0       \\x006b82530c7985fd0084382e866db39a6c5c0578               12       2\n",
      "1       \\x014fd068938fa1965be36a9244ddf6d37f6b88cb               19       3\n",
      "2       \\x01981e7284ade335883f75927fae1b70fac44d71               18       3\n",
      "3       \\x0312b9e6627d9a49cf07a3b5af1f18ad8d8e39db                6       1\n",
      "4       \\x03a3da04bd4a888ed473a9c6bd90a13165f78e72                1       1\n",
      "...                                            ...              ...     ...\n",
      "186030  \\xe0d3851eb01cde810436a054f4211e31a2fe0a82                1       1\n",
      "186031  \\xe25cf7322526cfef5ca841deb14323f9ada1234a                1       1\n",
      "186032  \\xe282780e50937a2490831e4539bbb5f3f564e004                2       1\n",
      "186033  \\xe73a7a0d3163d12ddf749c97433fac227e4cec3d                1       1\n",
      "186034  \\xf49b67a2b2fc0904cb12a2c41c7d2007841c04a0                1       1\n",
      "\n",
      "[186035 rows x 3 columns]\n",
      "[  2   3   1   5   8   4   6  12   9  17  10  11  26  15   7  19  20  14\n",
      "  13  22  29  30  38  27  21  54  18  39  16  24  81  44  34  28  33  35\n",
      "  25  23  31  36  46  56  98  40  51  37  42  48  41 100  50  55]\n"
     ]
    },
    {
     "data": {
      "image/png": "[encoded data removed]",
      "text/plain": [
       "<Figure size 640x480 with 1 Axes>"
      ]
     },
     "metadata": {},
     "output_type": "display_data"
    }
   ],
   "source": [
    "df_num_nftcontract = df_all.groupBy(\"buyer\").agg(count(\"nft_contract_address\").alias(\"num_nftcontract\"))\n",
    "# score3 based on num_nftcontract\n",
    "df_rule_num_nftcontract_pd=df_num_nftcontract.toPandas()\n",
    "hist, bins=pd.cut(df_rule_num_nftcontract_pd['num_nftcontract'],bins=100,labels=False,retbins=True,right=False)\n",
    "df_rule_num_nftcontract_pd['Score3']=hist\n",
    "df_rule_num_nftcontract_pd['Score3']+=1\n",
    "print(df_rule_num_nftcontract_pd)\n",
    "#print unique score3 values assigned\n",
    "print(df_rule_num_nftcontract_pd['Score3'].unique())\n",
    "#plot histogram\n",
    "plt.hist(df_rule_num_nftcontract_pd[\"Score3\"])\n",
    "plt.xlabel(\"Score assigned\")\n",
    "plt.ylabel(\"No of users\")\n",
    "plt.title(\"\")\n",
    "plt.show()\n",
    "#converting to sparkdf\n",
    "df_rule_num_nftcontract=spark.createDataFrame(df_rule_num_nftcontract_pd)"
   ]
  },
  {
   "cell_type": "markdown",
   "id": "349eb336",
   "metadata": {},
   "source": [
    "# Diversity Ranking 4 - Number of unique currencies transaction done in"
   ]
  },
  {
   "cell_type": "code",
   "execution_count": 24,
   "id": "17116c88",
   "metadata": {},
   "outputs": [
    {
     "name": "stderr",
     "output_type": "stream",
     "text": [
      "                                                                                \r"
     ]
    }
   ],
   "source": [
    "unique_names = df_all.select(col(\"original_currency\")).distinct().rdd.flatMap(lambda x: x).collect()"
   ]
  },
  {
   "cell_type": "code",
   "execution_count": 97,
   "id": "058353a7",
   "metadata": {},
   "outputs": [
    {
     "name": "stderr",
     "output_type": "stream",
     "text": [
      "                                                                                \r"
     ]
    },
    {
     "name": "stdout",
     "output_type": "stream",
     "text": [
      "                                             buyer  num_currency  Score4\n",
      "0       \\x375751f0159c9bb29ec2945a5767bb9d3874712f             1       1\n",
      "1       \\x3bd12ee645be8734170c4e7a86448a410903eaed             1       1\n",
      "2       \\xf9e5db0610350385f83e6290e040fe99365548da             1       1\n",
      "3       \\x1773fb4569491ccd6da5f4eed8359bf61f9bf095             1       1\n",
      "4       \\x890652186e45f7be558eadfdde949307249a47f0             1       1\n",
      "...                                            ...           ...     ...\n",
      "186030  \\xe73a7a0d3163d12ddf749c97433fac227e4cec3d             1       1\n",
      "186031  \\xb40cab161bf5f5f0669ce661c7d9d6e269461d9a             1       1\n",
      "186032  \\x69942f8e403b9d505e2da8a7a2056d9638805dcd             1       1\n",
      "186033  \\x7a44d5004b9498534c44c5fe21620e183f13546d             1       1\n",
      "186034  \\xc5bd99f6fd29d26beba91a171d519107c6d60201             1       1\n",
      "\n",
      "[186035 rows x 3 columns]\n",
      "[  1  34  67 100]\n"
     ]
    },
    {
     "data": {
      "image/png": "[encoded data removed]",
      "text/plain": [
       "<Figure size 640x480 with 1 Axes>"
      ]
     },
     "metadata": {},
     "output_type": "display_data"
    }
   ],
   "source": [
    "# df_currency = df_all.groupBy(\"buyer\").agg(countDistinct(\"original_currency\").alias(\"num_currency\")).orderBy(desc(\"num_currency\"))\n",
    "df_currency = df_all.groupBy(\"buyer\").agg(countDistinct(\"original_currency\").alias(\"num_currency\"))\n",
    "# score4 based on num_currency\n",
    "df_rule_num_currency_pd=df_currency.toPandas()\n",
    "hist, bins=pd.cut(df_rule_num_currency_pd['num_currency'],bins=100,labels=False,retbins=True,right=False)\n",
    "df_rule_num_currency_pd['Score4']=hist\n",
    "df_rule_num_currency_pd['Score4']+=1\n",
    "print(df_rule_num_currency_pd)\n",
    "#print unique score4 values assigned\n",
    "print(df_rule_num_currency_pd['Score4'].unique())\n",
    "#plot histogram\n",
    "plt.hist(df_rule_num_currency_pd[\"Score4\"])\n",
    "plt.xlabel(\"Score assigned\")\n",
    "plt.ylabel(\"No of users\")\n",
    "plt.title(\"\")\n",
    "plt.show()\n",
    "#converting back to spark df\n",
    "df_rule_num_currency=spark.createDataFrame(df_rule_num_currency_pd)"
   ]
  },
  {
   "cell_type": "code",
   "execution_count": 26,
   "id": "8343fe47",
   "metadata": {},
   "outputs": [],
   "source": [
    "# data_collect = df_all.collect()"
   ]
  },
  {
   "cell_type": "markdown",
   "id": "3de7b98e",
   "metadata": {},
   "source": [
    "# Diversity Ranking 5 - Average Duration (in seconds)"
   ]
  },
  {
   "cell_type": "code",
   "execution_count": 27,
   "id": "aed31f7c",
   "metadata": {},
   "outputs": [],
   "source": [
    "# df_all = df_all.withColumn(\"duration\", (col(\"Sold_Timestamp\") - col(\"Bought_Timestamp\")))\n",
    "df_all = df_all.withColumn(\"duration\", (unix_timestamp(col(\"Sold_Timestamp\")) - unix_timestamp(col(\"Bought_Timestamp\"))))"
   ]
  },
  {
   "cell_type": "code",
   "execution_count": 28,
   "id": "0e888142",
   "metadata": {
    "scrolled": true
   },
   "outputs": [
    {
     "name": "stderr",
     "output_type": "stream",
     "text": [
      "[Stage 81:>                                                         (0 + 1) / 1]\r"
     ]
    },
    {
     "name": "stdout",
     "output_type": "stream",
     "text": [
      "+--------+\n",
      "|duration|\n",
      "+--------+\n",
      "|  298840|\n",
      "|   37944|\n",
      "|   91081|\n",
      "| 4252760|\n",
      "| 6705652|\n",
      "+--------+\n",
      "only showing top 5 rows\n",
      "\n"
     ]
    },
    {
     "name": "stderr",
     "output_type": "stream",
     "text": [
      "                                                                                \r"
     ]
    }
   ],
   "source": [
    "df_all.select('duration').show(5)"
   ]
  },
  {
   "cell_type": "code",
   "execution_count": 98,
   "id": "49ff4691",
   "metadata": {},
   "outputs": [
    {
     "name": "stderr",
     "output_type": "stream",
     "text": [
      "[Stage 330:=============================================>          (9 + 2) / 11]\r"
     ]
    },
    {
     "name": "stdout",
     "output_type": "stream",
     "text": [
      "23/03/29 14:53:58 WARN RowBasedKeyValueBatch: Calling spill() on RowBasedKeyValueBatch. Will not spill but return 0.\n",
      "23/03/29 14:53:58 WARN RowBasedKeyValueBatch: Calling spill() on RowBasedKeyValueBatch. Will not spill but return 0.\n",
      "23/03/29 14:53:58 WARN RowBasedKeyValueBatch: Calling spill() on RowBasedKeyValueBatch. Will not spill but return 0.\n",
      "23/03/29 14:53:58 WARN RowBasedKeyValueBatch: Calling spill() on RowBasedKeyValueBatch. Will not spill but return 0.\n",
      "23/03/29 14:53:58 WARN RowBasedKeyValueBatch: Calling spill() on RowBasedKeyValueBatch. Will not spill but return 0.\n",
      "23/03/29 14:53:58 WARN RowBasedKeyValueBatch: Calling spill() on RowBasedKeyValueBatch. Will not spill but return 0.\n",
      "23/03/29 14:53:58 WARN RowBasedKeyValueBatch: Calling spill() on RowBasedKeyValueBatch. Will not spill but return 0.\n",
      "23/03/29 14:53:58 WARN RowBasedKeyValueBatch: Calling spill() on RowBasedKeyValueBatch. Will not spill but return 0.\n"
     ]
    },
    {
     "name": "stderr",
     "output_type": "stream",
     "text": [
      "[Stage 333:>                                                        (0 + 8) / 9]\r"
     ]
    },
    {
     "name": "stdout",
     "output_type": "stream",
     "text": [
      "23/03/29 14:53:59 WARN RowBasedKeyValueBatch: Calling spill() on RowBasedKeyValueBatch. Will not spill but return 0.\n",
      "23/03/29 14:54:00 WARN RowBasedKeyValueBatch: Calling spill() on RowBasedKeyValueBatch. Will not spill but return 0.\n",
      "23/03/29 14:54:00 WARN RowBasedKeyValueBatch: Calling spill() on RowBasedKeyValueBatch. Will not spill but return 0.\n",
      "23/03/29 14:54:00 WARN RowBasedKeyValueBatch: Calling spill() on RowBasedKeyValueBatch. Will not spill but return 0.\n",
      "23/03/29 14:54:00 WARN RowBasedKeyValueBatch: Calling spill() on RowBasedKeyValueBatch. Will not spill but return 0.\n",
      "23/03/29 14:54:00 WARN RowBasedKeyValueBatch: Calling spill() on RowBasedKeyValueBatch. Will not spill but return 0.\n",
      "23/03/29 14:54:00 WARN RowBasedKeyValueBatch: Calling spill() on RowBasedKeyValueBatch. Will not spill but return 0.\n",
      "23/03/29 14:54:00 WARN RowBasedKeyValueBatch: Calling spill() on RowBasedKeyValueBatch. Will not spill but return 0.\n",
      "23/03/29 14:54:00 WARN RowBasedKeyValueBatch: Calling spill() on RowBasedKeyValueBatch. Will not spill but return 0.\n",
      "23/03/29 14:54:00 WARN RowBasedKeyValueBatch: Calling spill() on RowBasedKeyValueBatch. Will not spill but return 0.\n",
      "23/03/29 14:54:00 WARN RowBasedKeyValueBatch: Calling spill() on RowBasedKeyValueBatch. Will not spill but return 0.\n",
      "23/03/29 14:54:00 WARN RowBasedKeyValueBatch: Calling spill() on RowBasedKeyValueBatch. Will not spill but return 0.\n",
      "23/03/29 14:54:00 WARN RowBasedKeyValueBatch: Calling spill() on RowBasedKeyValueBatch. Will not spill but return 0.\n",
      "23/03/29 14:54:01 WARN RowBasedKeyValueBatch: Calling spill() on RowBasedKeyValueBatch. Will not spill but return 0.\n",
      "23/03/29 14:54:01 WARN RowBasedKeyValueBatch: Calling spill() on RowBasedKeyValueBatch. Will not spill but return 0.\n",
      "23/03/29 14:54:01 WARN RowBasedKeyValueBatch: Calling spill() on RowBasedKeyValueBatch. Will not spill but return 0.\n"
     ]
    },
    {
     "name": "stderr",
     "output_type": "stream",
     "text": [
      "[Stage 333:======>                                                  (1 + 8) / 9]\r"
     ]
    },
    {
     "name": "stdout",
     "output_type": "stream",
     "text": [
      "23/03/29 14:54:02 WARN RowBasedKeyValueBatch: Calling spill() on RowBasedKeyValueBatch. Will not spill but return 0.\n"
     ]
    },
    {
     "name": "stderr",
     "output_type": "stream",
     "text": [
      "                                                                                \r"
     ]
    },
    {
     "name": "stdout",
     "output_type": "stream",
     "text": [
      "                                             buyer  avg_duration  Score5\n",
      "0       \\x006b82530c7985fd0084382e866db39a6c5c0578  3.849958e+06       5\n",
      "1       \\x014fd068938fa1965be36a9244ddf6d37f6b88cb  1.528443e+06       2\n",
      "2       \\x01981e7284ade335883f75927fae1b70fac44d71  8.420664e+05       1\n",
      "3       \\x0312b9e6627d9a49cf07a3b5af1f18ad8d8e39db  2.391315e+06       3\n",
      "4       \\x03a3da04bd4a888ed473a9c6bd90a13165f78e72  8.280000e+02       1\n",
      "...                                            ...           ...     ...\n",
      "186030  \\xe0d3851eb01cde810436a054f4211e31a2fe0a82  1.754641e+06       2\n",
      "186031  \\xe25cf7322526cfef5ca841deb14323f9ada1234a  5.060740e+05       1\n",
      "186032  \\xe282780e50937a2490831e4539bbb5f3f564e004  6.212410e+05       1\n",
      "186033  \\xe73a7a0d3163d12ddf749c97433fac227e4cec3d  9.421300e+04       1\n",
      "186034  \\xf49b67a2b2fc0904cb12a2c41c7d2007841c04a0  1.046440e+07      12\n",
      "\n",
      "[186035 rows x 3 columns]\n",
      "[  5   2   1   3   9   8   4   6  34  27   7  15  13  17  16  10  12  29\n",
      "  21  19  14  24  11  18  26  35  20  22  23  38  30  36  45  33  31  41\n",
      "  25  40  46  28  32  50  44  37  95  68  42  84  47  55  43  39  65  86\n",
      "  69  56  53  48  54  83  71  57  59  49  52  74  80  76 100  66  51  70\n",
      "  61  67  77  82  90  58  78  64  79  73  72  63  75  94]\n"
     ]
    },
    {
     "data": {
      "image/png": "[encoded data removed]",
      "text/plain": [
       "<Figure size 640x480 with 1 Axes>"
      ]
     },
     "metadata": {},
     "output_type": "display_data"
    }
   ],
   "source": [
    "df_avg_duration = df_all.groupBy(\"buyer\").agg(avg(\"duration\").alias(\"avg_duration\"))\n",
    "# score4 based on num_currency\n",
    "df_rule_avg_duration_pd=df_avg_duration.toPandas()\n",
    "hist, bins=pd.cut(df_rule_avg_duration_pd['avg_duration'],bins=100,labels=False,retbins=True,right=False)\n",
    "df_rule_avg_duration_pd['Score5']=hist\n",
    "df_rule_avg_duration_pd['Score5']+=1\n",
    "print(df_rule_avg_duration_pd)\n",
    "#print unique score5 values assigned\n",
    "print(df_rule_avg_duration_pd['Score5'].unique())\n",
    "#plot histogram\n",
    "plt.hist(df_rule_avg_duration_pd[\"Score5\"])\n",
    "plt.xlabel(\"Score assigned\")\n",
    "plt.ylabel(\"No of users\")\n",
    "plt.title(\"\")\n",
    "plt.show()\n",
    "#converting to sparkdf\n",
    "df_rule_avg_duration=spark.createDataFrame(df_rule_avg_duration_pd)"
   ]
  },
  {
   "cell_type": "code",
   "execution_count": 30,
   "id": "1198a960",
   "metadata": {},
   "outputs": [
    {
     "data": {
      "text/plain": [
       "pyspark.sql.dataframe.DataFrame"
      ]
     },
     "execution_count": 30,
     "metadata": {},
     "output_type": "execute_result"
    }
   ],
   "source": [
    "type(df_avg_duration)"
   ]
  },
  {
   "cell_type": "markdown",
   "id": "8fc3fc65",
   "metadata": {},
   "source": [
    "# Feature Extraction for Model"
   ]
  },
  {
   "cell_type": "code",
   "execution_count": 31,
   "id": "662b1fd3",
   "metadata": {},
   "outputs": [],
   "source": [
    "# modeldata = reduce(lambda x,y: pd.merge(x,y, on='buyer', how='outer'), [df_avg, df_count, df_num_nftcontract, df_currency, df_avg_duration])\n",
    "joined_df = df_avg.join(df_count, on='buyer', how='inner').join(df_num_nftcontract, on='buyer', how='inner').join(df_currency, on='buyer', how='inner').join(df_avg_duration, on='buyer', how='inner')"
   ]
  },
  {
   "cell_type": "code",
   "execution_count": 32,
   "id": "36d41480",
   "metadata": {},
   "outputs": [
    {
     "name": "stderr",
     "output_type": "stream",
     "text": [
      "[Stage 95:==>(8 + 3) / 11][Stage 98:>  (0 + 5) / 10][Stage 101:>  (0 + 0) / 9]0]\r"
     ]
    },
    {
     "name": "stdout",
     "output_type": "stream",
     "text": [
      "23/03/29 10:47:47 WARN RowBasedKeyValueBatch: Calling spill() on RowBasedKeyValueBatch. Will not spill but return 0.\n"
     ]
    },
    {
     "name": "stderr",
     "output_type": "stream",
     "text": [
      "[Stage 95:==>(9 + 2) / 11][Stage 98:>  (0 + 6) / 10][Stage 101:>  (0 + 0) / 9]\r"
     ]
    },
    {
     "name": "stdout",
     "output_type": "stream",
     "text": [
      "23/03/29 10:47:47 WARN RowBasedKeyValueBatch: Calling spill() on RowBasedKeyValueBatch. Will not spill but return 0.\n",
      "23/03/29 10:47:47 WARN RowBasedKeyValueBatch: Calling spill() on RowBasedKeyValueBatch. Will not spill but return 0.\n",
      "23/03/29 10:47:48 WARN RowBasedKeyValueBatch: Calling spill() on RowBasedKeyValueBatch. Will not spill but return 0.\n",
      "23/03/29 10:47:48 WARN RowBasedKeyValueBatch: Calling spill() on RowBasedKeyValueBatch. Will not spill but return 0.\n"
     ]
    },
    {
     "name": "stderr",
     "output_type": "stream",
     "text": [
      "[Stage 98:>  (0 + 8) / 10][Stage 101:>  (0 + 0) / 9][Stage 102:>  (0 + 0) / 9]\r"
     ]
    },
    {
     "name": "stdout",
     "output_type": "stream",
     "text": [
      "23/03/29 10:47:48 WARN RowBasedKeyValueBatch: Calling spill() on RowBasedKeyValueBatch. Will not spill but return 0.\n",
      "23/03/29 10:47:49 WARN RowBasedKeyValueBatch: Calling spill() on RowBasedKeyValueBatch. Will not spill but return 0.\n",
      "23/03/29 10:47:49 WARN RowBasedKeyValueBatch: Calling spill() on RowBasedKeyValueBatch. Will not spill but return 0.\n",
      "23/03/29 10:47:49 WARN RowBasedKeyValueBatch: Calling spill() on RowBasedKeyValueBatch. Will not spill but return 0.\n",
      "23/03/29 10:47:49 WARN RowBasedKeyValueBatch: Calling spill() on RowBasedKeyValueBatch. Will not spill but return 0.\n",
      "23/03/29 10:47:49 WARN RowBasedKeyValueBatch: Calling spill() on RowBasedKeyValueBatch. Will not spill but return 0.\n",
      "23/03/29 10:47:50 WARN RowBasedKeyValueBatch: Calling spill() on RowBasedKeyValueBatch. Will not spill but return 0.\n",
      "23/03/29 10:47:50 WARN RowBasedKeyValueBatch: Calling spill() on RowBasedKeyValueBatch. Will not spill but return 0.\n",
      "23/03/29 10:47:50 WARN RowBasedKeyValueBatch: Calling spill() on RowBasedKeyValueBatch. Will not spill but return 0.\n",
      "23/03/29 10:47:50 WARN RowBasedKeyValueBatch: Calling spill() on RowBasedKeyValueBatch. Will not spill but return 0.\n",
      "23/03/29 10:47:50 WARN RowBasedKeyValueBatch: Calling spill() on RowBasedKeyValueBatch. Will not spill but return 0.\n",
      "23/03/29 10:47:50 WARN RowBasedKeyValueBatch: Calling spill() on RowBasedKeyValueBatch. Will not spill but return 0.\n",
      "23/03/29 10:47:50 WARN RowBasedKeyValueBatch: Calling spill() on RowBasedKeyValueBatch. Will not spill but return 0.\n",
      "23/03/29 10:47:50 WARN RowBasedKeyValueBatch: Calling spill() on RowBasedKeyValueBatch. Will not spill but return 0.\n",
      "23/03/29 10:47:51 WARN RowBasedKeyValueBatch: Calling spill() on RowBasedKeyValueBatch. Will not spill but return 0.\n",
      "23/03/29 10:47:51 WARN RowBasedKeyValueBatch: Calling spill() on RowBasedKeyValueBatch. Will not spill but return 0.\n"
     ]
    },
    {
     "name": "stderr",
     "output_type": "stream",
     "text": [
      "[Stage 98:>  (2 + 8) / 10][Stage 101:>  (0 + 0) / 9][Stage 102:>  (0 + 0) / 9]\r"
     ]
    },
    {
     "name": "stdout",
     "output_type": "stream",
     "text": [
      "23/03/29 10:47:53 WARN RowBasedKeyValueBatch: Calling spill() on RowBasedKeyValueBatch. Will not spill but return 0.\n",
      "23/03/29 10:47:53 WARN RowBasedKeyValueBatch: Calling spill() on RowBasedKeyValueBatch. Will not spill but return 0.\n"
     ]
    },
    {
     "name": "stderr",
     "output_type": "stream",
     "text": [
      "[Stage 98:>  (3 + 7) / 10][Stage 101:>  (0 + 1) / 9][Stage 102:>  (0 + 0) / 9]\r"
     ]
    },
    {
     "name": "stdout",
     "output_type": "stream",
     "text": [
      "23/03/29 10:47:54 WARN RowBasedKeyValueBatch: Calling spill() on RowBasedKeyValueBatch. Will not spill but return 0.\n"
     ]
    },
    {
     "name": "stderr",
     "output_type": "stream",
     "text": [
      "[Stage 98:=> (6 + 4) / 10][Stage 101:>  (0 + 4) / 9][Stage 102:>  (0 + 0) / 9]\r"
     ]
    },
    {
     "name": "stdout",
     "output_type": "stream",
     "text": [
      "23/03/29 10:47:55 WARN RowBasedKeyValueBatch: Calling spill() on RowBasedKeyValueBatch. Will not spill but return 0.\n",
      "23/03/29 10:47:55 WARN RowBasedKeyValueBatch: Calling spill() on RowBasedKeyValueBatch. Will not spill but return 0.\n",
      "23/03/29 10:47:55 WARN RowBasedKeyValueBatch: Calling spill() on RowBasedKeyValueBatch. Will not spill but return 0.\n"
     ]
    },
    {
     "name": "stderr",
     "output_type": "stream",
     "text": [
      "[Stage 98:==>(8 + 2) / 10][Stage 101:>  (0 + 6) / 9][Stage 102:>  (0 + 0) / 9]\r"
     ]
    },
    {
     "name": "stdout",
     "output_type": "stream",
     "text": [
      "23/03/29 10:47:55 WARN RowBasedKeyValueBatch: Calling spill() on RowBasedKeyValueBatch. Will not spill but return 0.\n",
      "23/03/29 10:47:55 WARN RowBasedKeyValueBatch: Calling spill() on RowBasedKeyValueBatch. Will not spill but return 0.\n",
      "23/03/29 10:47:55 WARN RowBasedKeyValueBatch: Calling spill() on RowBasedKeyValueBatch. Will not spill but return 0.\n",
      "23/03/29 10:47:55 WARN RowBasedKeyValueBatch: Calling spill() on RowBasedKeyValueBatch. Will not spill but return 0.\n",
      "23/03/29 10:47:56 WARN RowBasedKeyValueBatch: Calling spill() on RowBasedKeyValueBatch. Will not spill but return 0.\n",
      "23/03/29 10:47:56 WARN RowBasedKeyValueBatch: Calling spill() on RowBasedKeyValueBatch. Will not spill but return 0.\n",
      "23/03/29 10:47:57 WARN RowBasedKeyValueBatch: Calling spill() on RowBasedKeyValueBatch. Will not spill but return 0.\n",
      "23/03/29 10:47:57 WARN RowBasedKeyValueBatch: Calling spill() on RowBasedKeyValueBatch. Will not spill but return 0.\n",
      "23/03/29 10:47:57 WARN RowBasedKeyValueBatch: Calling spill() on RowBasedKeyValueBatch. Will not spill but return 0.\n",
      "23/03/29 10:47:57 WARN RowBasedKeyValueBatch: Calling spill() on RowBasedKeyValueBatch. Will not spill but return 0.\n",
      "23/03/29 10:47:57 WARN RowBasedKeyValueBatch: Calling spill() on RowBasedKeyValueBatch. Will not spill but return 0.\n",
      "23/03/29 10:47:57 WARN RowBasedKeyValueBatch: Calling spill() on RowBasedKeyValueBatch. Will not spill but return 0.\n",
      "23/03/29 10:47:57 WARN RowBasedKeyValueBatch: Calling spill() on RowBasedKeyValueBatch. Will not spill but return 0.\n",
      "23/03/29 10:47:57 WARN RowBasedKeyValueBatch: Calling spill() on RowBasedKeyValueBatch. Will not spill but return 0.\n",
      "23/03/29 10:47:57 WARN RowBasedKeyValueBatch: Calling spill() on RowBasedKeyValueBatch. Will not spill but return 0.\n",
      "23/03/29 10:47:58 WARN RowBasedKeyValueBatch: Calling spill() on RowBasedKeyValueBatch. Will not spill but return 0.\n",
      "23/03/29 10:47:58 WARN RowBasedKeyValueBatch: Calling spill() on RowBasedKeyValueBatch. Will not spill but return 0.\n",
      "23/03/29 10:47:58 WARN RowBasedKeyValueBatch: Calling spill() on RowBasedKeyValueBatch. Will not spill but return 0.\n"
     ]
    },
    {
     "name": "stderr",
     "output_type": "stream",
     "text": [
      "[Stage 101:>  (0 + 8) / 9][Stage 102:>  (0 + 0) / 9][Stage 103:>  (0 + 0) / 9]\r"
     ]
    },
    {
     "name": "stdout",
     "output_type": "stream",
     "text": [
      "23/03/29 10:47:59 WARN RowBasedKeyValueBatch: Calling spill() on RowBasedKeyValueBatch. Will not spill but return 0.\n",
      "23/03/29 10:47:59 WARN RowBasedKeyValueBatch: Calling spill() on RowBasedKeyValueBatch. Will not spill but return 0.\n",
      "23/03/29 10:48:01 WARN RowBasedKeyValueBatch: Calling spill() on RowBasedKeyValueBatch. Will not spill but return 0.\n",
      "23/03/29 10:48:01 WARN RowBasedKeyValueBatch: Calling spill() on RowBasedKeyValueBatch. Will not spill but return 0.\n"
     ]
    },
    {
     "name": "stderr",
     "output_type": "stream",
     "text": [
      "[Stage 101:=> (3 + 6) / 9][Stage 102:>  (0 + 2) / 9][Stage 103:>  (0 + 0) / 9]\r"
     ]
    },
    {
     "name": "stdout",
     "output_type": "stream",
     "text": [
      "23/03/29 10:48:02 WARN RowBasedKeyValueBatch: Calling spill() on RowBasedKeyValueBatch. Will not spill but return 0.\n",
      "23/03/29 10:48:02 WARN RowBasedKeyValueBatch: Calling spill() on RowBasedKeyValueBatch. Will not spill but return 0.\n",
      "23/03/29 10:48:02 WARN RowBasedKeyValueBatch: Calling spill() on RowBasedKeyValueBatch. Will not spill but return 0.\n",
      "23/03/29 10:48:03 WARN RowBasedKeyValueBatch: Calling spill() on RowBasedKeyValueBatch. Will not spill but return 0.\n"
     ]
    },
    {
     "name": "stderr",
     "output_type": "stream",
     "text": [
      "[Stage 101:=> (4 + 5) / 9][Stage 102:>  (0 + 3) / 9][Stage 103:>  (0 + 0) / 9]\r"
     ]
    },
    {
     "name": "stdout",
     "output_type": "stream",
     "text": [
      "23/03/29 10:48:03 WARN RowBasedKeyValueBatch: Calling spill() on RowBasedKeyValueBatch. Will not spill but return 0.\n",
      "23/03/29 10:48:03 WARN RowBasedKeyValueBatch: Calling spill() on RowBasedKeyValueBatch. Will not spill but return 0.\n"
     ]
    },
    {
     "name": "stderr",
     "output_type": "stream",
     "text": [
      "[Stage 101:==>(6 + 3) / 9][Stage 102:>  (0 + 5) / 9][Stage 103:>  (0 + 0) / 9]\r"
     ]
    },
    {
     "name": "stdout",
     "output_type": "stream",
     "text": [
      "23/03/29 10:48:04 WARN RowBasedKeyValueBatch: Calling spill() on RowBasedKeyValueBatch. Will not spill but return 0.\n",
      "23/03/29 10:48:04 WARN RowBasedKeyValueBatch: Calling spill() on RowBasedKeyValueBatch. Will not spill but return 0.\n",
      "23/03/29 10:48:04 WARN RowBasedKeyValueBatch: Calling spill() on RowBasedKeyValueBatch. Will not spill but return 0.\n",
      "23/03/29 10:48:04 WARN RowBasedKeyValueBatch: Calling spill() on RowBasedKeyValueBatch. Will not spill but return 0.\n",
      "23/03/29 10:48:04 WARN RowBasedKeyValueBatch: Calling spill() on RowBasedKeyValueBatch. Will not spill but return 0.\n",
      "23/03/29 10:48:04 WARN RowBasedKeyValueBatch: Calling spill() on RowBasedKeyValueBatch. Will not spill but return 0.\n",
      "23/03/29 10:48:05 WARN RowBasedKeyValueBatch: Calling spill() on RowBasedKeyValueBatch. Will not spill but return 0.\n",
      "23/03/29 10:48:05 WARN RowBasedKeyValueBatch: Calling spill() on RowBasedKeyValueBatch. Will not spill but return 0.\n",
      "23/03/29 10:48:05 WARN RowBasedKeyValueBatch: Calling spill() on RowBasedKeyValueBatch. Will not spill but return 0.\n",
      "23/03/29 10:48:05 WARN RowBasedKeyValueBatch: Calling spill() on RowBasedKeyValueBatch. Will not spill but return 0.\n",
      "23/03/29 10:48:05 WARN RowBasedKeyValueBatch: Calling spill() on RowBasedKeyValueBatch. Will not spill but return 0.\n",
      "23/03/29 10:48:06 WARN RowBasedKeyValueBatch: Calling spill() on RowBasedKeyValueBatch. Will not spill but return 0.\n",
      "23/03/29 10:48:06 WARN RowBasedKeyValueBatch: Calling spill() on RowBasedKeyValueBatch. Will not spill but return 0.\n"
     ]
    },
    {
     "name": "stderr",
     "output_type": "stream",
     "text": [
      "[Stage 102:>  (0 + 8) / 9][Stage 103:>  (0 + 0) / 9][Stage 105:>  (0 + 0) / 9]\r"
     ]
    },
    {
     "name": "stdout",
     "output_type": "stream",
     "text": [
      "23/03/29 10:48:07 WARN RowBasedKeyValueBatch: Calling spill() on RowBasedKeyValueBatch. Will not spill but return 0.\n",
      "23/03/29 10:48:07 WARN RowBasedKeyValueBatch: Calling spill() on RowBasedKeyValueBatch. Will not spill but return 0.\n",
      "23/03/29 10:48:07 WARN RowBasedKeyValueBatch: Calling spill() on RowBasedKeyValueBatch. Will not spill but return 0.\n",
      "23/03/29 10:48:09 WARN RowBasedKeyValueBatch: Calling spill() on RowBasedKeyValueBatch. Will not spill but return 0.\n",
      "23/03/29 10:48:09 WARN RowBasedKeyValueBatch: Calling spill() on RowBasedKeyValueBatch. Will not spill but return 0.\n",
      "23/03/29 10:48:09 WARN RowBasedKeyValueBatch: Calling spill() on RowBasedKeyValueBatch. Will not spill but return 0.\n"
     ]
    },
    {
     "name": "stderr",
     "output_type": "stream",
     "text": [
      "[Stage 102:>  (2 + 7) / 9][Stage 103:>  (0 + 1) / 9][Stage 105:>  (0 + 0) / 9]\r"
     ]
    },
    {
     "name": "stdout",
     "output_type": "stream",
     "text": [
      "23/03/29 10:48:10 WARN RowBasedKeyValueBatch: Calling spill() on RowBasedKeyValueBatch. Will not spill but return 0.\n",
      "23/03/29 10:48:10 WARN RowBasedKeyValueBatch: Calling spill() on RowBasedKeyValueBatch. Will not spill but return 0.\n",
      "23/03/29 10:48:10 WARN RowBasedKeyValueBatch: Calling spill() on RowBasedKeyValueBatch. Will not spill but return 0.\n"
     ]
    },
    {
     "name": "stderr",
     "output_type": "stream",
     "text": [
      "[Stage 102:=> (3 + 6) / 9][Stage 103:>  (0 + 2) / 9][Stage 105:>  (0 + 0) / 9]\r"
     ]
    },
    {
     "name": "stdout",
     "output_type": "stream",
     "text": [
      "23/03/29 10:48:10 WARN RowBasedKeyValueBatch: Calling spill() on RowBasedKeyValueBatch. Will not spill but return 0.\n",
      "23/03/29 10:48:10 WARN RowBasedKeyValueBatch: Calling spill() on RowBasedKeyValueBatch. Will not spill but return 0.\n",
      "23/03/29 10:48:11 WARN RowBasedKeyValueBatch: Calling spill() on RowBasedKeyValueBatch. Will not spill but return 0.\n"
     ]
    },
    {
     "name": "stderr",
     "output_type": "stream",
     "text": [
      "[Stage 102:=> (5 + 4) / 9][Stage 103:>  (0 + 4) / 9][Stage 105:>  (0 + 0) / 9]\r"
     ]
    },
    {
     "name": "stdout",
     "output_type": "stream",
     "text": [
      "23/03/29 10:48:11 WARN RowBasedKeyValueBatch: Calling spill() on RowBasedKeyValueBatch. Will not spill but return 0.\n",
      "23/03/29 10:48:11 WARN RowBasedKeyValueBatch: Calling spill() on RowBasedKeyValueBatch. Will not spill but return 0.\n",
      "23/03/29 10:48:11 WARN RowBasedKeyValueBatch: Calling spill() on RowBasedKeyValueBatch. Will not spill but return 0.\n",
      "23/03/29 10:48:12 WARN RowBasedKeyValueBatch: Calling spill() on RowBasedKeyValueBatch. Will not spill but return 0.\n",
      "23/03/29 10:48:12 WARN RowBasedKeyValueBatch: Calling spill() on RowBasedKeyValueBatch. Will not spill but return 0.\n",
      "23/03/29 10:48:12 WARN RowBasedKeyValueBatch: Calling spill() on RowBasedKeyValueBatch. Will not spill but return 0.\n",
      "23/03/29 10:48:12 WARN RowBasedKeyValueBatch: Calling spill() on RowBasedKeyValueBatch. Will not spill but return 0.\n",
      "23/03/29 10:48:12 WARN RowBasedKeyValueBatch: Calling spill() on RowBasedKeyValueBatch. Will not spill but return 0.\n",
      "23/03/29 10:48:13 WARN RowBasedKeyValueBatch: Calling spill() on RowBasedKeyValueBatch. Will not spill but return 0.\n"
     ]
    },
    {
     "name": "stderr",
     "output_type": "stream",
     "text": [
      "[Stage 102:==>(8 + 1) / 9][Stage 103:>  (0 + 7) / 9][Stage 105:>  (0 + 0) / 9]\r"
     ]
    },
    {
     "name": "stdout",
     "output_type": "stream",
     "text": [
      "23/03/29 10:48:13 WARN RowBasedKeyValueBatch: Calling spill() on RowBasedKeyValueBatch. Will not spill but return 0.\n",
      "23/03/29 10:48:13 WARN RowBasedKeyValueBatch: Calling spill() on RowBasedKeyValueBatch. Will not spill but return 0.\n",
      "23/03/29 10:48:13 WARN RowBasedKeyValueBatch: Calling spill() on RowBasedKeyValueBatch. Will not spill but return 0.\n",
      "23/03/29 10:48:14 WARN RowBasedKeyValueBatch: Calling spill() on RowBasedKeyValueBatch. Will not spill but return 0.\n",
      "23/03/29 10:48:14 WARN RowBasedKeyValueBatch: Calling spill() on RowBasedKeyValueBatch. Will not spill but return 0.\n",
      "23/03/29 10:48:14 WARN RowBasedKeyValueBatch: Calling spill() on RowBasedKeyValueBatch. Will not spill but return 0.\n"
     ]
    },
    {
     "name": "stderr",
     "output_type": "stream",
     "text": [
      "[Stage 103:>                (0 + 8) / 9][Stage 105:>                (0 + 0) / 9]\r"
     ]
    },
    {
     "name": "stdout",
     "output_type": "stream",
     "text": [
      "23/03/29 10:48:14 WARN RowBasedKeyValueBatch: Calling spill() on RowBasedKeyValueBatch. Will not spill but return 0.\n",
      "23/03/29 10:48:15 WARN RowBasedKeyValueBatch: Calling spill() on RowBasedKeyValueBatch. Will not spill but return 0.\n",
      "23/03/29 10:48:15 WARN RowBasedKeyValueBatch: Calling spill() on RowBasedKeyValueBatch. Will not spill but return 0.\n",
      "23/03/29 10:48:15 WARN RowBasedKeyValueBatch: Calling spill() on RowBasedKeyValueBatch. Will not spill but return 0.\n",
      "23/03/29 10:48:16 WARN RowBasedKeyValueBatch: Calling spill() on RowBasedKeyValueBatch. Will not spill but return 0.\n",
      "23/03/29 10:48:16 WARN RowBasedKeyValueBatch: Calling spill() on RowBasedKeyValueBatch. Will not spill but return 0.\n",
      "23/03/29 10:48:16 WARN RowBasedKeyValueBatch: Calling spill() on RowBasedKeyValueBatch. Will not spill but return 0.\n",
      "23/03/29 10:48:16 WARN RowBasedKeyValueBatch: Calling spill() on RowBasedKeyValueBatch. Will not spill but return 0.\n"
     ]
    },
    {
     "name": "stderr",
     "output_type": "stream",
     "text": [
      "[Stage 103:=>               (1 + 8) / 9][Stage 105:>                (0 + 0) / 9]\r"
     ]
    },
    {
     "name": "stdout",
     "output_type": "stream",
     "text": [
      "23/03/29 10:48:16 WARN RowBasedKeyValueBatch: Calling spill() on RowBasedKeyValueBatch. Will not spill but return 0.\n",
      "23/03/29 10:48:16 WARN RowBasedKeyValueBatch: Calling spill() on RowBasedKeyValueBatch. Will not spill but return 0.\n"
     ]
    },
    {
     "name": "stderr",
     "output_type": "stream",
     "text": [
      "[Stage 103:=======>         (4 + 5) / 9][Stage 105:>                (0 + 3) / 9]\r"
     ]
    },
    {
     "name": "stdout",
     "output_type": "stream",
     "text": [
      "23/03/29 10:48:18 WARN RowBasedKeyValueBatch: Calling spill() on RowBasedKeyValueBatch. Will not spill but return 0.\n",
      "23/03/29 10:48:18 WARN RowBasedKeyValueBatch: Calling spill() on RowBasedKeyValueBatch. Will not spill but return 0.\n"
     ]
    },
    {
     "name": "stderr",
     "output_type": "stream",
     "text": [
      "[Stage 109:=======>                                                 (1 + 7) / 8]\r"
     ]
    },
    {
     "name": "stdout",
     "output_type": "stream",
     "text": [
      "+--------------------+-------------------+-----------+---------------+------------+------------------+\n",
      "|               buyer|          avg_spent|number_txns|num_nftcontract|num_currency|      avg_duration|\n",
      "+--------------------+-------------------+-----------+---------------+------------+------------------+\n",
      "|\\x000000000027634...|-1094.1415000000002|          2|              2|           1|         1012977.0|\n",
      "|\\x0000002b94395a5...| 18.830347000000003|          1|              1|           1|           53640.0|\n",
      "|\\x00052fb2f4c461b...|         5686.01735|          2|              2|           2|         1696346.0|\n",
      "|\\x0005bb8bdcbbf4a...| 288.20619921428573|          7|              7|           1|256193.85714285713|\n",
      "|\\x0007a07be3fc1a3...|-305.52065600000003|          1|              1|           1|          208449.0|\n",
      "+--------------------+-------------------+-----------+---------------+------------+------------------+\n",
      "only showing top 5 rows\n",
      "\n"
     ]
    },
    {
     "name": "stderr",
     "output_type": "stream",
     "text": [
      "                                                                                \r"
     ]
    }
   ],
   "source": [
    "joined_df.show(5)"
   ]
  },
  {
   "cell_type": "code",
   "execution_count": 33,
   "id": "73025c8f",
   "metadata": {},
   "outputs": [
    {
     "name": "stderr",
     "output_type": "stream",
     "text": [
      "                                                                                \r"
     ]
    },
    {
     "data": {
      "text/plain": [
       "186035"
      ]
     },
     "execution_count": 33,
     "metadata": {},
     "output_type": "execute_result"
    }
   ],
   "source": [
    "joined_df.count()"
   ]
  },
  {
   "cell_type": "code",
   "execution_count": 109,
   "id": "a81f5897",
   "metadata": {
    "scrolled": true
   },
   "outputs": [
    {
     "name": "stdout",
     "output_type": "stream",
     "text": [
      "23/03/29 15:22:03 WARN TaskSetManager: Stage 359 contains a task of very large size (1280 KiB). The maximum recommended task size is 1000 KiB.\n",
      "23/03/29 15:22:03 WARN TaskSetManager: Stage 360 contains a task of very large size (1126 KiB). The maximum recommended task size is 1000 KiB.\n",
      "23/03/29 15:22:03 WARN TaskSetManager: Stage 361 contains a task of very large size (1126 KiB). The maximum recommended task size is 1000 KiB.\n"
     ]
    },
    {
     "name": "stderr",
     "output_type": "stream",
     "text": [
      "[Stage 361:=> (5 + 3) / 8][Stage 362:>  (0 + 5) / 8][Stage 363:>  (0 + 0) / 8]\r"
     ]
    },
    {
     "name": "stdout",
     "output_type": "stream",
     "text": [
      "23/03/29 15:22:04 WARN TaskSetManager: Stage 362 contains a task of very large size (1126 KiB). The maximum recommended task size is 1000 KiB.\n",
      "23/03/29 15:22:04 WARN TaskSetManager: Stage 363 contains a task of very large size (1280 KiB). The maximum recommended task size is 1000 KiB.\n"
     ]
    },
    {
     "name": "stderr",
     "output_type": "stream",
     "text": [
      "[Stage 363:============================>                            (4 + 4) / 8]\r"
     ]
    },
    {
     "name": "stdout",
     "output_type": "stream",
     "text": [
      "+--------------------+-------------------+------+-----------+------+---------------+------+------------+------+------------------+------+\n",
      "|               buyer|          avg_spent|Score1|number_txns|Score2|num_nftcontract|Score3|num_currency|Score4|      avg_duration|Score5|\n",
      "+--------------------+-------------------+------+-----------+------+---------------+------+------------+------+------------------+------+\n",
      "|\\x000000000027634...|-1094.1415000000002|    27|          2|     1|              2|     1|           1|     1|         1012977.0|     2|\n",
      "|\\x0000002b94395a5...| 18.830347000000003|    27|          1|     1|              1|     1|           1|     1|           53640.0|     1|\n",
      "|\\x00052fb2f4c461b...|         5686.01735|    27|          2|     1|              2|     1|           2|    34|         1696346.0|     2|\n",
      "|\\x0005bb8bdcbbf4a...| 288.20619921428573|    27|          7|     1|              7|     1|           1|     1|256193.85714285713|     1|\n",
      "|\\x0007a07be3fc1a3...|-305.52065600000003|    27|          1|     1|              1|     1|           1|     1|          208449.0|     1|\n",
      "+--------------------+-------------------+------+-----------+------+---------------+------+------------+------+------------------+------+\n",
      "only showing top 5 rows\n",
      "\n"
     ]
    },
    {
     "name": "stderr",
     "output_type": "stream",
     "text": [
      "                                                                                \r"
     ]
    }
   ],
   "source": [
    "joined_scores = df_rule_avg_spent.join(df_rule_number_txns, on='buyer', how='inner').join(df_rule_num_nftcontract, on='buyer', how='inner').join(df_rule_num_currency, on='buyer', how='inner').join(df_rule_avg_duration, on='buyer', how='inner')\n",
    "joined_scores.show(5)"
   ]
  }
 ],
 "metadata": {
  "kernelspec": {
   "display_name": "Python 3 (ipykernel)",
   "language": "python",
   "name": "python3"
  },
  "language_info": {
   "codemirror_mode": {
    "name": "ipython",
    "version": 3
   },
   "file_extension": ".py",
   "mimetype": "text/x-python",
   "name": "python",
   "nbconvert_exporter": "python",
   "pygments_lexer": "ipython3",
   "version": "3.9.13"
  }
 },
 "nbformat": 4,
 "nbformat_minor": 5
}
