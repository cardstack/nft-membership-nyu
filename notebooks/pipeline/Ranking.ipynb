{
 "cells": [
  {
   "cell_type": "code",
   "execution_count": 54,
   "id": "6a863de5",
   "metadata": {
    "scrolled": true
   },
   "outputs": [],
   "source": [
    "%run Imports.ipynb"
   ]
  },
  {
   "cell_type": "code",
   "execution_count": 55,
   "id": "cad0eadf",
   "metadata": {
    "scrolled": true
   },
   "outputs": [],
   "source": [
    "conf = pyspark.SparkConf()\n",
    "spark = SparkSession.builder.appName(\"Rank\").getOrCreate()"
   ]
  },
  {
   "cell_type": "code",
   "execution_count": 56,
   "id": "e8c7a72e",
   "metadata": {},
   "outputs": [],
   "source": [
    "df1=spark.read.parquet(\"/Users/Yashasvi/Documents/CleanDuneData/*\")"
   ]
  },
  {
   "cell_type": "code",
   "execution_count": 57,
   "id": "982c8775",
   "metadata": {},
   "outputs": [
    {
     "data": {
      "text/plain": [
       "3898970"
      ]
     },
     "execution_count": 57,
     "metadata": {},
     "output_type": "execute_result"
    }
   ],
   "source": [
    "df1.count()"
   ]
  },
  {
   "cell_type": "code",
   "execution_count": 58,
   "id": "a09902d3",
   "metadata": {},
   "outputs": [],
   "source": [
    "df1.createOrReplaceTempView(\"Load\")"
   ]
  },
  {
   "cell_type": "markdown",
   "id": "381768bf",
   "metadata": {},
   "source": [
    "Main Query"
   ]
  },
  {
   "cell_type": "code",
   "execution_count": 59,
   "id": "beba8ea8",
   "metadata": {},
   "outputs": [],
   "source": [
    "df_all = spark.sql(\"SELECT * FROM ( SELECT n1.buyer, n1.original_currency, n1.nft_token_id, n1.nft_contract_address, n1.original_amount as Bought, n2.original_amount as Sold, n1.block_time as Bought_Timestamp, n2.block_time as Sold_Timestamp,n1.usd_amount as Bought_amount, n2.usd_amount as Sold_amount, (n2.usd_amount - n1.usd_amount) as net, n1.platform as n1platform, n2.platform as n2platform FROM Load n1, Load n2 where n1.buyer = n2.seller AND  n2.block_time > n1.block_time AND  n1.nft_token_id is not null AND n1.nft_token_id = n2.nft_token_id AND n1.nft_contract_address = n2.nft_contract_address) holdings\")"
   ]
  },
  {
   "cell_type": "code",
   "execution_count": 60,
   "id": "6bffd600",
   "metadata": {},
   "outputs": [
    {
     "data": {
      "text/plain": [
       "['buyer',\n",
       " 'original_currency',\n",
       " 'nft_token_id',\n",
       " 'nft_contract_address',\n",
       " 'Bought',\n",
       " 'Sold',\n",
       " 'Bought_Timestamp',\n",
       " 'Sold_Timestamp',\n",
       " 'Bought_amount',\n",
       " 'Sold_amount',\n",
       " 'net',\n",
       " 'n1platform',\n",
       " 'n2platform']"
      ]
     },
     "execution_count": 60,
     "metadata": {},
     "output_type": "execute_result"
    }
   ],
   "source": [
    "df_all.columns"
   ]
  },
  {
   "cell_type": "code",
   "execution_count": 61,
   "id": "5707991c",
   "metadata": {},
   "outputs": [
    {
     "data": {
      "text/plain": [
       "StructType(List(StructField(buyer,StringType,true),StructField(original_currency,StringType,true),StructField(nft_token_id,StringType,true),StructField(nft_contract_address,StringType,true),StructField(Bought,DoubleType,true),StructField(Sold,DoubleType,true),StructField(Bought_Timestamp,TimestampType,true),StructField(Sold_Timestamp,TimestampType,true),StructField(Bought_amount,DoubleType,true),StructField(Sold_amount,DoubleType,true),StructField(net,DoubleType,true),StructField(n1platform,StringType,true),StructField(n2platform,StringType,true)))"
      ]
     },
     "execution_count": 61,
     "metadata": {},
     "output_type": "execute_result"
    }
   ],
   "source": [
    "df_all.schema"
   ]
  },
  {
   "cell_type": "code",
   "execution_count": 15,
   "id": "457f8936",
   "metadata": {},
   "outputs": [
    {
     "data": {
      "text/plain": [
       "pyspark.sql.dataframe.DataFrame"
      ]
     },
     "execution_count": 15,
     "metadata": {},
     "output_type": "execute_result"
    }
   ],
   "source": [
    "type(df_all)"
   ]
  },
  {
   "cell_type": "code",
   "execution_count": 62,
   "id": "28063341",
   "metadata": {
    "scrolled": true
   },
   "outputs": [
    {
     "name": "stderr",
     "output_type": "stream",
     "text": [
      "[Stage 278:==============================>                         (6 + 5) / 11]\r"
     ]
    },
    {
     "name": "stdout",
     "output_type": "stream",
     "text": [
      "+--------------------+-------------+------------+-------------------+\n",
      "|               buyer|Bought_amount| Sold_amount|                net|\n",
      "+--------------------+-------------+------------+-------------------+\n",
      "|\\x0000005c7dc69d4...|    837.48308|    1078.273| 240.78991999999994|\n",
      "|\\x00003e81818a2f1...|   125.698549|  173.522188|          47.823639|\n",
      "|\\x0005bb8bdcbbf4a...|     775.9004|   1133.2491|           357.3487|\n",
      "|\\x00079e801ad1382...|    178.37568|   1289.0346| 1110.6589199999999|\n",
      "|\\x000cd27f10dffac...|     1405.935|   55277.167|          53871.232|\n",
      "|\\x000cef8f0ab0a2f...|    694.86968|1094.2062762| 399.33659620000003|\n",
      "|\\x000e0ed8a7307e1...|      905.931|   519.35032|-386.58068000000003|\n",
      "|\\x00110e09134aec0...|   200.720832|   188.68224|-12.038591999999994|\n",
      "|\\x00110e09134aec0...|   200.720832|  250.395432|            49.6746|\n",
      "|\\x00110e09134aec0...|   200.720832|   278.09376|  77.37292799999997|\n",
      "|\\x00110e09134aec0...|   200.720832|  248.424224|  47.70339200000001|\n",
      "|\\x00110e09134aec0...|   200.720832|  292.940582|           92.21975|\n",
      "|\\x00110e09134aec0...|   200.720832|  283.329662|  82.60882999999998|\n",
      "|\\x00110e09134aec0...|   200.720832|  230.800152| 30.079319999999996|\n",
      "|\\x00110e09134aec0...|   200.720832|  290.128548|  89.40771600000002|\n",
      "|\\x00110e09134aec0...|   268.121488|   278.09376|  9.972271999999975|\n",
      "|\\x00110e09134aec0...|   268.121488|  248.424224| -19.69726399999999|\n",
      "|\\x00110e09134aec0...|   268.121488|  292.940582| 24.819094000000007|\n",
      "|\\x00110e09134aec0...|   268.121488|  283.329662| 15.208173999999985|\n",
      "|\\x00110e09134aec0...|   268.121488|  230.800152|         -37.321336|\n",
      "+--------------------+-------------+------------+-------------------+\n",
      "only showing top 20 rows\n",
      "\n"
     ]
    },
    {
     "name": "stderr",
     "output_type": "stream",
     "text": [
      "\r",
      "                                                                                \r"
     ]
    }
   ],
   "source": [
    "df_all.select('buyer','Bought_amount','Sold_amount','net').show(20)"
   ]
  },
  {
   "cell_type": "markdown",
   "id": "9e81195c",
   "metadata": {},
   "source": [
    "# Ranking 1 - average amount spent (here profit , loss automatically done)"
   ]
  },
  {
   "cell_type": "code",
   "execution_count": 63,
   "id": "7dc3177c",
   "metadata": {
    "scrolled": false
   },
   "outputs": [
    {
     "name": "stderr",
     "output_type": "stream",
     "text": [
      "23/04/12 14:43:30 WARN RowBasedKeyValueBatch: Calling spill() on RowBasedKeyValueBatch. Will not spill but return 0.\n",
      "23/04/12 14:43:30 WARN RowBasedKeyValueBatch: Calling spill() on RowBasedKeyValueBatch. Will not spill but return 0.\n",
      "23/04/12 14:43:30 WARN RowBasedKeyValueBatch: Calling spill() on RowBasedKeyValueBatch. Will not spill but return 0.\n",
      "23/04/12 14:43:30 WARN RowBasedKeyValueBatch: Calling spill() on RowBasedKeyValueBatch. Will not spill but return 0.\n",
      "23/04/12 14:43:30 WARN RowBasedKeyValueBatch: Calling spill() on RowBasedKeyValueBatch. Will not spill but return 0.\n",
      "23/04/12 14:43:30 WARN RowBasedKeyValueBatch: Calling spill() on RowBasedKeyValueBatch. Will not spill but return 0.\n",
      "23/04/12 14:43:30 WARN RowBasedKeyValueBatch: Calling spill() on RowBasedKeyValueBatch. Will not spill but return 0.\n",
      "23/04/12 14:43:30 WARN RowBasedKeyValueBatch: Calling spill() on RowBasedKeyValueBatch. Will not spill but return 0.\n",
      "23/04/12 14:43:31 WARN RowBasedKeyValueBatch: Calling spill() on RowBasedKeyValueBatch. Will not spill but return 0.\n",
      "23/04/12 14:43:31 WARN RowBasedKeyValueBatch: Calling spill() on RowBasedKeyValueBatch. Will not spill but return 0.\n",
      "23/04/12 14:43:31 WARN RowBasedKeyValueBatch: Calling spill() on RowBasedKeyValueBatch. Will not spill but return 0.\n",
      "23/04/12 14:43:31 WARN RowBasedKeyValueBatch: Calling spill() on RowBasedKeyValueBatch. Will not spill but return 0.\n",
      "23/04/12 14:43:31 WARN RowBasedKeyValueBatch: Calling spill() on RowBasedKeyValueBatch. Will not spill but return 0.\n",
      "23/04/12 14:43:31 WARN RowBasedKeyValueBatch: Calling spill() on RowBasedKeyValueBatch. Will not spill but return 0.\n",
      "23/04/12 14:43:31 WARN RowBasedKeyValueBatch: Calling spill() on RowBasedKeyValueBatch. Will not spill but return 0.\n",
      "23/04/12 14:43:31 WARN RowBasedKeyValueBatch: Calling spill() on RowBasedKeyValueBatch. Will not spill but return 0.\n",
      "23/04/12 14:43:32 WARN RowBasedKeyValueBatch: Calling spill() on RowBasedKeyValueBatch. Will not spill but return 0.\n",
      "23/04/12 14:43:32 WARN RowBasedKeyValueBatch: Calling spill() on RowBasedKeyValueBatch. Will not spill but return 0.\n",
      "23/04/12 14:43:32 WARN RowBasedKeyValueBatch: Calling spill() on RowBasedKeyValueBatch. Will not spill but return 0.\n",
      "23/04/12 14:43:32 WARN RowBasedKeyValueBatch: Calling spill() on RowBasedKeyValueBatch. Will not spill but return 0.\n",
      "23/04/12 14:43:32 WARN RowBasedKeyValueBatch: Calling spill() on RowBasedKeyValueBatch. Will not spill but return 0.\n",
      "23/04/12 14:43:32 WARN RowBasedKeyValueBatch: Calling spill() on RowBasedKeyValueBatch. Will not spill but return 0.\n",
      "23/04/12 14:43:32 WARN RowBasedKeyValueBatch: Calling spill() on RowBasedKeyValueBatch. Will not spill but return 0.\n",
      "23/04/12 14:43:32 WARN RowBasedKeyValueBatch: Calling spill() on RowBasedKeyValueBatch. Will not spill but return 0.\n",
      "23/04/12 14:43:32 WARN RowBasedKeyValueBatch: Calling spill() on RowBasedKeyValueBatch. Will not spill but return 0.\n",
      "23/04/12 14:43:32 WARN RowBasedKeyValueBatch: Calling spill() on RowBasedKeyValueBatch. Will not spill but return 0.\n",
      "23/04/12 14:43:32 WARN RowBasedKeyValueBatch: Calling spill() on RowBasedKeyValueBatch. Will not spill but return 0.\n",
      "23/04/12 14:43:32 WARN RowBasedKeyValueBatch: Calling spill() on RowBasedKeyValueBatch. Will not spill but return 0.\n",
      "23/04/12 14:43:32 WARN RowBasedKeyValueBatch: Calling spill() on RowBasedKeyValueBatch. Will not spill but return 0.\n",
      "23/04/12 14:43:32 WARN RowBasedKeyValueBatch: Calling spill() on RowBasedKeyValueBatch. Will not spill but return 0.\n",
      "23/04/12 14:43:32 WARN RowBasedKeyValueBatch: Calling spill() on RowBasedKeyValueBatch. Will not spill but return 0.\n",
      "23/04/12 14:43:32 WARN RowBasedKeyValueBatch: Calling spill() on RowBasedKeyValueBatch. Will not spill but return 0.\n",
      "                                                                                \r"
     ]
    },
    {
     "name": "stdout",
     "output_type": "stream",
     "text": [
      "                                             buyer    avg_spent  Score1\n",
      "0       \\x006b82530c7985fd0084382e866db39a6c5c0578  -252.267914      27\n",
      "1       \\x014fd068938fa1965be36a9244ddf6d37f6b88cb    89.940925      27\n",
      "2       \\x01981e7284ade335883f75927fae1b70fac44d71  -128.700244      27\n",
      "3       \\x0312b9e6627d9a49cf07a3b5af1f18ad8d8e39db  1866.865157      27\n",
      "4       \\x05379b307e6ae02e522fb134fad1254a4e7fbac1   -80.200510      27\n",
      "...                                            ...          ...     ...\n",
      "186030  \\xe25cf7322526cfef5ca841deb14323f9ada1234a  1839.846200      27\n",
      "186031  \\xe282780e50937a2490831e4539bbb5f3f564e004  -588.149493      27\n",
      "186032  \\xe73a7a0d3163d12ddf749c97433fac227e4cec3d   137.396000      27\n",
      "186033  \\xed1efb8184a6d9498e98695087da3903376b925a -3484.871500      27\n",
      "186034  \\xf49b67a2b2fc0904cb12a2c41c7d2007841c04a0    97.844091      27\n",
      "\n",
      "[186035 rows x 3 columns]\n",
      "[ 27  26  29  28  23  30  37  19  40  22  24  33  32  25  54  35  14  92\n",
      "  39  31  34  21  18  36  45  44  38 100   1  42  16   6  51  17]\n"
     ]
    },
    {
     "data": {
      "image/png": "[encoded data removed]",
      "text/plain": [
       "<Figure size 640x480 with 1 Axes>"
      ]
     },
     "metadata": {},
     "output_type": "display_data"
    },
    {
     "name": "stderr",
     "output_type": "stream",
     "text": [
      "/Users/yashasvi/opt/anaconda3/envs/itp/lib/python3.9/site-packages/pyspark/sql/pandas/conversion.py:371: FutureWarning: iteritems is deprecated and will be removed in a future version. Use .items instead.\n",
      "  for column, series in pdf.iteritems():\n"
     ]
    }
   ],
   "source": [
    "df_avg = df_all.groupBy(\"buyer\").agg(avg(\"net\").alias(\"avg_spent\"))\n",
    "# score1 based on avg_spent\n",
    "df_rule_avg_spent_pd=df_avg.toPandas()\n",
    "hist, bins=pd.cut(df_rule_avg_spent_pd['avg_spent'],bins=100,labels=False,retbins=True,right=False)\n",
    "df_rule_avg_spent_pd['Score1']=hist\n",
    "df_rule_avg_spent_pd['Score1']+=1\n",
    "print(df_rule_avg_spent_pd)\n",
    "print(df_rule_avg_spent_pd['Score1'].unique())\n",
    "plt.hist(df_rule_avg_spent_pd[\"Score1\"])\n",
    "plt.xlabel(\"Score assigned\")\n",
    "plt.ylabel(\"No of users\")\n",
    "plt.title(\"\")\n",
    "plt.show()\n",
    "#converting to sparkdf\n",
    "df_rule_avg_spent=spark.createDataFrame(df_rule_avg_spent_pd)"
   ]
  },
  {
   "cell_type": "code",
   "execution_count": 64,
   "id": "989b8f86",
   "metadata": {},
   "outputs": [],
   "source": [
    "# # import seaborn as sns\n",
    "# df_rule_avg_spent_pd['avg_spent'].plot.kde()\n",
    "# plt.xlabel('avg_spent')\n",
    "# plt.ylabel('Density')\n",
    "# plt.title(\"\")\n",
    "# plt.xlim(-25000,25000)\n",
    "# plt.show()\n",
    "# df_rule_avg_spent_pd['Score1'].plot.kde()\n",
    "# plt.xlabel('Score')\n",
    "# plt.ylabel('Density')\n",
    "# plt.title(\"\")\n",
    "# plt.xlim(26.75,27.25)\n",
    "# plt.show()\n",
    "\n",
    "# # sns.kdeplot(data=df_rule_avg_spent_pd, x='avg_spent')\n",
    "# # sns.set_xlim(0,2)\n",
    "# # plt.show()"
   ]
  },
  {
   "cell_type": "markdown",
   "id": "49396215",
   "metadata": {},
   "source": [
    "# Ranking 2 - number of transactions"
   ]
  },
  {
   "cell_type": "code",
   "execution_count": 65,
   "id": "0ed01e30",
   "metadata": {
    "scrolled": true
   },
   "outputs": [
    {
     "name": "stderr",
     "output_type": "stream",
     "text": [
      "23/04/12 14:43:49 WARN RowBasedKeyValueBatch: Calling spill() on RowBasedKeyValueBatch. Will not spill but return 0.\n",
      "23/04/12 14:43:49 WARN RowBasedKeyValueBatch: Calling spill() on RowBasedKeyValueBatch. Will not spill but return 0.\n",
      "23/04/12 14:43:49 WARN RowBasedKeyValueBatch: Calling spill() on RowBasedKeyValueBatch. Will not spill but return 0.\n",
      "23/04/12 14:43:49 WARN RowBasedKeyValueBatch: Calling spill() on RowBasedKeyValueBatch. Will not spill but return 0.\n",
      "23/04/12 14:43:49 WARN RowBasedKeyValueBatch: Calling spill() on RowBasedKeyValueBatch. Will not spill but return 0.\n",
      "23/04/12 14:43:49 WARN RowBasedKeyValueBatch: Calling spill() on RowBasedKeyValueBatch. Will not spill but return 0.\n",
      "23/04/12 14:43:49 WARN RowBasedKeyValueBatch: Calling spill() on RowBasedKeyValueBatch. Will not spill but return 0.\n",
      "23/04/12 14:43:49 WARN RowBasedKeyValueBatch: Calling spill() on RowBasedKeyValueBatch. Will not spill but return 0.\n",
      "23/04/12 14:43:49 WARN RowBasedKeyValueBatch: Calling spill() on RowBasedKeyValueBatch. Will not spill but return 0.\n",
      "23/04/12 14:43:49 WARN RowBasedKeyValueBatch: Calling spill() on RowBasedKeyValueBatch. Will not spill but return 0.\n",
      "23/04/12 14:43:49 WARN RowBasedKeyValueBatch: Calling spill() on RowBasedKeyValueBatch. Will not spill but return 0.\n",
      "23/04/12 14:43:49 WARN RowBasedKeyValueBatch: Calling spill() on RowBasedKeyValueBatch. Will not spill but return 0.\n",
      "23/04/12 14:43:49 WARN RowBasedKeyValueBatch: Calling spill() on RowBasedKeyValueBatch. Will not spill but return 0.\n",
      "23/04/12 14:43:49 WARN RowBasedKeyValueBatch: Calling spill() on RowBasedKeyValueBatch. Will not spill but return 0.\n",
      "23/04/12 14:43:49 WARN RowBasedKeyValueBatch: Calling spill() on RowBasedKeyValueBatch. Will not spill but return 0.\n",
      "23/04/12 14:43:50 WARN RowBasedKeyValueBatch: Calling spill() on RowBasedKeyValueBatch. Will not spill but return 0.\n",
      "23/04/12 14:43:50 WARN RowBasedKeyValueBatch: Calling spill() on RowBasedKeyValueBatch. Will not spill but return 0.\n",
      "23/04/12 14:43:50 WARN RowBasedKeyValueBatch: Calling spill() on RowBasedKeyValueBatch. Will not spill but return 0.\n",
      "23/04/12 14:43:50 WARN RowBasedKeyValueBatch: Calling spill() on RowBasedKeyValueBatch. Will not spill but return 0.\n",
      "23/04/12 14:43:50 WARN RowBasedKeyValueBatch: Calling spill() on RowBasedKeyValueBatch. Will not spill but return 0.\n",
      "23/04/12 14:43:50 WARN RowBasedKeyValueBatch: Calling spill() on RowBasedKeyValueBatch. Will not spill but return 0.\n",
      "23/04/12 14:43:50 WARN RowBasedKeyValueBatch: Calling spill() on RowBasedKeyValueBatch. Will not spill but return 0.\n",
      "23/04/12 14:43:50 WARN RowBasedKeyValueBatch: Calling spill() on RowBasedKeyValueBatch. Will not spill but return 0.\n",
      "23/04/12 14:43:50 WARN RowBasedKeyValueBatch: Calling spill() on RowBasedKeyValueBatch. Will not spill but return 0.\n",
      "23/04/12 14:43:50 WARN RowBasedKeyValueBatch: Calling spill() on RowBasedKeyValueBatch. Will not spill but return 0.\n",
      "23/04/12 14:43:50 WARN RowBasedKeyValueBatch: Calling spill() on RowBasedKeyValueBatch. Will not spill but return 0.\n",
      "23/04/12 14:43:50 WARN RowBasedKeyValueBatch: Calling spill() on RowBasedKeyValueBatch. Will not spill but return 0.\n",
      "23/04/12 14:43:50 WARN RowBasedKeyValueBatch: Calling spill() on RowBasedKeyValueBatch. Will not spill but return 0.\n",
      "23/04/12 14:43:50 WARN RowBasedKeyValueBatch: Calling spill() on RowBasedKeyValueBatch. Will not spill but return 0.\n",
      "23/04/12 14:43:50 WARN RowBasedKeyValueBatch: Calling spill() on RowBasedKeyValueBatch. Will not spill but return 0.\n",
      "23/04/12 14:43:50 WARN RowBasedKeyValueBatch: Calling spill() on RowBasedKeyValueBatch. Will not spill but return 0.\n",
      "23/04/12 14:43:50 WARN RowBasedKeyValueBatch: Calling spill() on RowBasedKeyValueBatch. Will not spill but return 0.\n",
      "                                                                                \r"
     ]
    },
    {
     "name": "stdout",
     "output_type": "stream",
     "text": [
      "                                             buyer  number_txns  Score2\n",
      "0       \\x006b82530c7985fd0084382e866db39a6c5c0578           12       2\n",
      "1       \\x014fd068938fa1965be36a9244ddf6d37f6b88cb           19       3\n",
      "2       \\x01981e7284ade335883f75927fae1b70fac44d71           18       3\n",
      "3       \\x0312b9e6627d9a49cf07a3b5af1f18ad8d8e39db            6       1\n",
      "4       \\x03a3da04bd4a888ed473a9c6bd90a13165f78e72            1       1\n",
      "...                                            ...          ...     ...\n",
      "186030  \\xe0d3851eb01cde810436a054f4211e31a2fe0a82            1       1\n",
      "186031  \\xe25cf7322526cfef5ca841deb14323f9ada1234a            1       1\n",
      "186032  \\xe282780e50937a2490831e4539bbb5f3f564e004            2       1\n",
      "186033  \\xe73a7a0d3163d12ddf749c97433fac227e4cec3d            1       1\n",
      "186034  \\xf49b67a2b2fc0904cb12a2c41c7d2007841c04a0            1       1\n",
      "\n",
      "[186035 rows x 3 columns]\n",
      "[  2   3   1   5   8   4   6  12   9  17  10  11  26  15   7  19  20  14\n",
      "  13  22  29  30  38  27  21  54  18  39  16  24  81  44  34  28  33  35\n",
      "  25  23  31  36  46  56  98  40  51  37  42  48  41 100  50  55]\n"
     ]
    },
    {
     "name": "stderr",
     "output_type": "stream",
     "text": [
      "/Users/yashasvi/opt/anaconda3/envs/itp/lib/python3.9/site-packages/pyspark/sql/pandas/conversion.py:371: FutureWarning: iteritems is deprecated and will be removed in a future version. Use .items instead.\n",
      "  for column, series in pdf.iteritems():\n"
     ]
    }
   ],
   "source": [
    "df_count = df_all.groupBy(\"buyer\").agg(count(\"*\").alias(\"number_txns\"))\n",
    "# score2 based on number_txns\n",
    "df_rule_number_txns_pd=df_count.toPandas()\n",
    "hist, bins=pd.cut(df_rule_number_txns_pd['number_txns'],bins=100,labels=False,retbins=True,right=False)\n",
    "df_rule_number_txns_pd['Score2']=hist\n",
    "df_rule_number_txns_pd['Score2']+=1\n",
    "print(df_rule_number_txns_pd)\n",
    "#print unique score2 values assigned\n",
    "print(df_rule_number_txns_pd['Score2'].unique())\n",
    "#converting to sparkdf\n",
    "df_rule_number_txns=spark.createDataFrame(df_rule_number_txns_pd)"
   ]
  },
  {
   "cell_type": "code",
   "execution_count": 66,
   "id": "aa6cb6c6",
   "metadata": {},
   "outputs": [],
   "source": [
    "# df_rule_number_txns_pd['number_txns'].plot.kde()\n",
    "# plt.xlabel('Number of Transactions')\n",
    "# plt.ylabel('Density')\n",
    "# plt.title(\"\")\n",
    "# plt.xlim(0,50)\n",
    "# plt.show()\n",
    "\n",
    "# df_rule_number_txns_pd['Score2'].plot.kde()\n",
    "# plt.xlabel('Score')\n",
    "# plt.ylabel('Density')\n",
    "# plt.title(\"\")\n",
    "# plt.xlim(0,10)\n",
    "# plt.show()"
   ]
  },
  {
   "cell_type": "markdown",
   "id": "181a6eb5",
   "metadata": {},
   "source": [
    "# Diversity Ranking 3 - Number of Nft contract address held"
   ]
  },
  {
   "cell_type": "code",
   "execution_count": 67,
   "id": "35fd90be",
   "metadata": {},
   "outputs": [
    {
     "name": "stderr",
     "output_type": "stream",
     "text": [
      "23/04/12 14:44:05 WARN RowBasedKeyValueBatch: Calling spill() on RowBasedKeyValueBatch. Will not spill but return 0.\n",
      "23/04/12 14:44:05 WARN RowBasedKeyValueBatch: Calling spill() on RowBasedKeyValueBatch. Will not spill but return 0.\n",
      "23/04/12 14:44:05 WARN RowBasedKeyValueBatch: Calling spill() on RowBasedKeyValueBatch. Will not spill but return 0.\n",
      "23/04/12 14:44:05 WARN RowBasedKeyValueBatch: Calling spill() on RowBasedKeyValueBatch. Will not spill but return 0.\n",
      "23/04/12 14:44:05 WARN RowBasedKeyValueBatch: Calling spill() on RowBasedKeyValueBatch. Will not spill but return 0.\n",
      "23/04/12 14:44:05 WARN RowBasedKeyValueBatch: Calling spill() on RowBasedKeyValueBatch. Will not spill but return 0.\n",
      "23/04/12 14:44:05 WARN RowBasedKeyValueBatch: Calling spill() on RowBasedKeyValueBatch. Will not spill but return 0.\n",
      "23/04/12 14:44:05 WARN RowBasedKeyValueBatch: Calling spill() on RowBasedKeyValueBatch. Will not spill but return 0.\n",
      "23/04/12 14:44:06 WARN RowBasedKeyValueBatch: Calling spill() on RowBasedKeyValueBatch. Will not spill but return 0.\n",
      "23/04/12 14:44:06 WARN RowBasedKeyValueBatch: Calling spill() on RowBasedKeyValueBatch. Will not spill but return 0.\n",
      "23/04/12 14:44:06 WARN RowBasedKeyValueBatch: Calling spill() on RowBasedKeyValueBatch. Will not spill but return 0.\n",
      "23/04/12 14:44:06 WARN RowBasedKeyValueBatch: Calling spill() on RowBasedKeyValueBatch. Will not spill but return 0.\n",
      "23/04/12 14:44:06 WARN RowBasedKeyValueBatch: Calling spill() on RowBasedKeyValueBatch. Will not spill but return 0.\n",
      "23/04/12 14:44:06 WARN RowBasedKeyValueBatch: Calling spill() on RowBasedKeyValueBatch. Will not spill but return 0.\n",
      "23/04/12 14:44:06 WARN RowBasedKeyValueBatch: Calling spill() on RowBasedKeyValueBatch. Will not spill but return 0.\n",
      "23/04/12 14:44:06 WARN RowBasedKeyValueBatch: Calling spill() on RowBasedKeyValueBatch. Will not spill but return 0.\n",
      "23/04/12 14:44:06 WARN RowBasedKeyValueBatch: Calling spill() on RowBasedKeyValueBatch. Will not spill but return 0.\n",
      "23/04/12 14:44:06 WARN RowBasedKeyValueBatch: Calling spill() on RowBasedKeyValueBatch. Will not spill but return 0.\n",
      "23/04/12 14:44:06 WARN RowBasedKeyValueBatch: Calling spill() on RowBasedKeyValueBatch. Will not spill but return 0.\n",
      "23/04/12 14:44:06 WARN RowBasedKeyValueBatch: Calling spill() on RowBasedKeyValueBatch. Will not spill but return 0.\n",
      "23/04/12 14:44:06 WARN RowBasedKeyValueBatch: Calling spill() on RowBasedKeyValueBatch. Will not spill but return 0.\n",
      "23/04/12 14:44:06 WARN RowBasedKeyValueBatch: Calling spill() on RowBasedKeyValueBatch. Will not spill but return 0.\n",
      "23/04/12 14:44:06 WARN RowBasedKeyValueBatch: Calling spill() on RowBasedKeyValueBatch. Will not spill but return 0.\n",
      "23/04/12 14:44:06 WARN RowBasedKeyValueBatch: Calling spill() on RowBasedKeyValueBatch. Will not spill but return 0.\n",
      "23/04/12 14:44:07 WARN RowBasedKeyValueBatch: Calling spill() on RowBasedKeyValueBatch. Will not spill but return 0.\n",
      "23/04/12 14:44:07 WARN RowBasedKeyValueBatch: Calling spill() on RowBasedKeyValueBatch. Will not spill but return 0.\n",
      "23/04/12 14:44:07 WARN RowBasedKeyValueBatch: Calling spill() on RowBasedKeyValueBatch. Will not spill but return 0.\n",
      "23/04/12 14:44:07 WARN RowBasedKeyValueBatch: Calling spill() on RowBasedKeyValueBatch. Will not spill but return 0.\n",
      "23/04/12 14:44:07 WARN RowBasedKeyValueBatch: Calling spill() on RowBasedKeyValueBatch. Will not spill but return 0.\n",
      "23/04/12 14:44:07 WARN RowBasedKeyValueBatch: Calling spill() on RowBasedKeyValueBatch. Will not spill but return 0.\n",
      "23/04/12 14:44:07 WARN RowBasedKeyValueBatch: Calling spill() on RowBasedKeyValueBatch. Will not spill but return 0.\n",
      "23/04/12 14:44:07 WARN RowBasedKeyValueBatch: Calling spill() on RowBasedKeyValueBatch. Will not spill but return 0.\n",
      "                                                                                \r"
     ]
    },
    {
     "name": "stdout",
     "output_type": "stream",
     "text": [
      "                                             buyer  num_nftcontract  Score3\n",
      "0       \\x006b82530c7985fd0084382e866db39a6c5c0578               12       2\n",
      "1       \\x014fd068938fa1965be36a9244ddf6d37f6b88cb               19       3\n",
      "2       \\x01981e7284ade335883f75927fae1b70fac44d71               18       3\n",
      "3       \\x0312b9e6627d9a49cf07a3b5af1f18ad8d8e39db                6       1\n",
      "4       \\x03a3da04bd4a888ed473a9c6bd90a13165f78e72                1       1\n",
      "...                                            ...              ...     ...\n",
      "186030  \\xe0d3851eb01cde810436a054f4211e31a2fe0a82                1       1\n",
      "186031  \\xe25cf7322526cfef5ca841deb14323f9ada1234a                1       1\n",
      "186032  \\xe282780e50937a2490831e4539bbb5f3f564e004                2       1\n",
      "186033  \\xe73a7a0d3163d12ddf749c97433fac227e4cec3d                1       1\n",
      "186034  \\xf49b67a2b2fc0904cb12a2c41c7d2007841c04a0                1       1\n",
      "\n",
      "[186035 rows x 3 columns]\n",
      "[  2   3   1   5   8   4   6  12   9  17  10  11  26  15   7  19  20  14\n",
      "  13  22  29  30  38  27  21  54  18  39  16  24  81  44  34  28  33  35\n",
      "  25  23  31  36  46  56  98  40  51  37  42  48  41 100  50  55]\n"
     ]
    },
    {
     "name": "stderr",
     "output_type": "stream",
     "text": [
      "/Users/yashasvi/opt/anaconda3/envs/itp/lib/python3.9/site-packages/pyspark/sql/pandas/conversion.py:371: FutureWarning: iteritems is deprecated and will be removed in a future version. Use .items instead.\n",
      "  for column, series in pdf.iteritems():\n"
     ]
    }
   ],
   "source": [
    "df_num_nftcontract = df_all.groupBy(\"buyer\").agg(count(\"nft_contract_address\").alias(\"num_nftcontract\"))\n",
    "# score3 based on num_nftcontract\n",
    "df_rule_num_nftcontract_pd=df_num_nftcontract.toPandas()\n",
    "hist, bins=pd.cut(df_rule_num_nftcontract_pd['num_nftcontract'],bins=100,labels=False,retbins=True,right=False)\n",
    "df_rule_num_nftcontract_pd['Score3']=hist\n",
    "df_rule_num_nftcontract_pd['Score3']+=1\n",
    "print(df_rule_num_nftcontract_pd)\n",
    "#print unique score3 values assigned\n",
    "print(df_rule_num_nftcontract_pd['Score3'].unique())\n",
    "#converting to sparkdf\n",
    "df_rule_num_nftcontract=spark.createDataFrame(df_rule_num_nftcontract_pd)"
   ]
  },
  {
   "cell_type": "code",
   "execution_count": 68,
   "id": "5d3f8c33",
   "metadata": {},
   "outputs": [],
   "source": [
    "# df_rule_num_nftcontract_pd['num_nftcontract'].plot.kde()\n",
    "# plt.xlabel('Number of NFT contracts owned')\n",
    "# plt.ylabel('Density')\n",
    "# plt.title(\"\")\n",
    "# plt.xlim(0,50)\n",
    "# plt.show()\n",
    "\n",
    "# df_rule_num_nftcontract_pd['Score3'].plot.kde()\n",
    "# plt.xlabel('Score')\n",
    "# plt.ylabel('Density')\n",
    "# plt.title(\"\")\n",
    "# plt.xlim(0,10)\n",
    "# plt.show()"
   ]
  },
  {
   "cell_type": "markdown",
   "id": "349eb336",
   "metadata": {},
   "source": [
    "# Diversity Ranking 4 - Number of unique currencies transaction done in"
   ]
  },
  {
   "cell_type": "code",
   "execution_count": 69,
   "id": "17116c88",
   "metadata": {},
   "outputs": [
    {
     "name": "stderr",
     "output_type": "stream",
     "text": [
      "                                                                                \r"
     ]
    }
   ],
   "source": [
    "unique_names = df_all.select(col(\"original_currency\")).distinct().rdd.flatMap(lambda x: x).collect()"
   ]
  },
  {
   "cell_type": "code",
   "execution_count": 70,
   "id": "058353a7",
   "metadata": {},
   "outputs": [
    {
     "name": "stderr",
     "output_type": "stream",
     "text": [
      "                                                                                \r"
     ]
    },
    {
     "name": "stdout",
     "output_type": "stream",
     "text": [
      "                                             buyer  num_currency  Score4\n",
      "0       \\x375751f0159c9bb29ec2945a5767bb9d3874712f             1       1\n",
      "1       \\x3bd12ee645be8734170c4e7a86448a410903eaed             1       1\n",
      "2       \\xf9e5db0610350385f83e6290e040fe99365548da             1       1\n",
      "3       \\x1773fb4569491ccd6da5f4eed8359bf61f9bf095             1       1\n",
      "4       \\x890652186e45f7be558eadfdde949307249a47f0             1       1\n",
      "...                                            ...           ...     ...\n",
      "186030  \\xe73a7a0d3163d12ddf749c97433fac227e4cec3d             1       1\n",
      "186031  \\xb40cab161bf5f5f0669ce661c7d9d6e269461d9a             1       1\n",
      "186032  \\x69942f8e403b9d505e2da8a7a2056d9638805dcd             1       1\n",
      "186033  \\x7a44d5004b9498534c44c5fe21620e183f13546d             1       1\n",
      "186034  \\xc5bd99f6fd29d26beba91a171d519107c6d60201             1       1\n",
      "\n",
      "[186035 rows x 3 columns]\n",
      "[  1  34  67 100]\n"
     ]
    },
    {
     "name": "stderr",
     "output_type": "stream",
     "text": [
      "/Users/yashasvi/opt/anaconda3/envs/itp/lib/python3.9/site-packages/pyspark/sql/pandas/conversion.py:371: FutureWarning: iteritems is deprecated and will be removed in a future version. Use .items instead.\n",
      "  for column, series in pdf.iteritems():\n"
     ]
    }
   ],
   "source": [
    "# df_currency = df_all.groupBy(\"buyer\").agg(countDistinct(\"original_currency\").alias(\"num_currency\")).orderBy(desc(\"num_currency\"))\n",
    "df_currency = df_all.groupBy(\"buyer\").agg(countDistinct(\"original_currency\").alias(\"num_currency\"))\n",
    "# score4 based on num_currency\n",
    "df_rule_num_currency_pd=df_currency.toPandas()\n",
    "hist, bins=pd.cut(df_rule_num_currency_pd['num_currency'],bins=100,labels=False,retbins=True,right=False)\n",
    "df_rule_num_currency_pd['Score4']=hist\n",
    "df_rule_num_currency_pd['Score4']+=1\n",
    "print(df_rule_num_currency_pd)\n",
    "#print unique score4 values assigned\n",
    "print(df_rule_num_currency_pd['Score4'].unique())\n",
    "#converting back to spark df\n",
    "df_rule_num_currency=spark.createDataFrame(df_rule_num_currency_pd)"
   ]
  },
  {
   "cell_type": "code",
   "execution_count": 71,
   "id": "cee25725",
   "metadata": {},
   "outputs": [],
   "source": [
    "# df_rule_num_currency_pd['num_currency'].plot.kde()\n",
    "# plt.xlabel('Number of currencies owned')\n",
    "# plt.ylabel('Density')\n",
    "# plt.title(\"\")\n",
    "# plt.xlim(0,3)\n",
    "# plt.show()\n",
    "\n",
    "# df_rule_num_currency_pd['Score4'].plot.kde()\n",
    "# plt.xlabel('Score')\n",
    "# plt.ylabel('Density')\n",
    "# plt.title(\"\")\n",
    "# plt.xlim(0,50)\n",
    "# plt.show()"
   ]
  },
  {
   "cell_type": "code",
   "execution_count": 22,
   "id": "8343fe47",
   "metadata": {},
   "outputs": [],
   "source": [
    "# data_collect = df_all.collect()"
   ]
  },
  {
   "cell_type": "markdown",
   "id": "3de7b98e",
   "metadata": {},
   "source": [
    "# Diversity Ranking 5 - Average Duration (in seconds)"
   ]
  },
  {
   "cell_type": "code",
   "execution_count": 72,
   "id": "aed31f7c",
   "metadata": {},
   "outputs": [],
   "source": [
    "# df_all = df_all.withColumn(\"duration\", (col(\"Sold_Timestamp\") - col(\"Bought_Timestamp\")))\n",
    "df_all = df_all.withColumn(\"duration\", (unix_timestamp(col(\"Sold_Timestamp\")) - unix_timestamp(col(\"Bought_Timestamp\"))))"
   ]
  },
  {
   "cell_type": "code",
   "execution_count": 73,
   "id": "0e888142",
   "metadata": {
    "scrolled": true
   },
   "outputs": [
    {
     "name": "stderr",
     "output_type": "stream",
     "text": [
      "[Stage 336:>                                                        (0 + 1) / 1]\r"
     ]
    },
    {
     "name": "stdout",
     "output_type": "stream",
     "text": [
      "+--------+\n",
      "|duration|\n",
      "+--------+\n",
      "|  298840|\n",
      "|   37944|\n",
      "|   91081|\n",
      "| 4252760|\n",
      "| 6705652|\n",
      "+--------+\n",
      "only showing top 5 rows\n",
      "\n"
     ]
    },
    {
     "name": "stderr",
     "output_type": "stream",
     "text": [
      "\r",
      "                                                                                \r"
     ]
    }
   ],
   "source": [
    "df_all.select('duration').show(5)"
   ]
  },
  {
   "cell_type": "code",
   "execution_count": 74,
   "id": "49ff4691",
   "metadata": {},
   "outputs": [
    {
     "name": "stderr",
     "output_type": "stream",
     "text": [
      "23/04/12 14:44:57 WARN RowBasedKeyValueBatch: Calling spill() on RowBasedKeyValueBatch. Will not spill but return 0.\n",
      "23/04/12 14:44:57 WARN RowBasedKeyValueBatch: Calling spill() on RowBasedKeyValueBatch. Will not spill but return 0.\n",
      "23/04/12 14:44:57 WARN RowBasedKeyValueBatch: Calling spill() on RowBasedKeyValueBatch. Will not spill but return 0.\n",
      "23/04/12 14:44:57 WARN RowBasedKeyValueBatch: Calling spill() on RowBasedKeyValueBatch. Will not spill but return 0.\n",
      "23/04/12 14:44:57 WARN RowBasedKeyValueBatch: Calling spill() on RowBasedKeyValueBatch. Will not spill but return 0.\n",
      "23/04/12 14:44:57 WARN RowBasedKeyValueBatch: Calling spill() on RowBasedKeyValueBatch. Will not spill but return 0.\n",
      "23/04/12 14:44:57 WARN RowBasedKeyValueBatch: Calling spill() on RowBasedKeyValueBatch. Will not spill but return 0.\n",
      "23/04/12 14:44:57 WARN RowBasedKeyValueBatch: Calling spill() on RowBasedKeyValueBatch. Will not spill but return 0.\n",
      "23/04/12 14:44:57 WARN RowBasedKeyValueBatch: Calling spill() on RowBasedKeyValueBatch. Will not spill but return 0.\n",
      "23/04/12 14:44:57 WARN RowBasedKeyValueBatch: Calling spill() on RowBasedKeyValueBatch. Will not spill but return 0.\n",
      "23/04/12 14:44:57 WARN RowBasedKeyValueBatch: Calling spill() on RowBasedKeyValueBatch. Will not spill but return 0.\n",
      "23/04/12 14:44:57 WARN RowBasedKeyValueBatch: Calling spill() on RowBasedKeyValueBatch. Will not spill but return 0.\n",
      "23/04/12 14:44:57 WARN RowBasedKeyValueBatch: Calling spill() on RowBasedKeyValueBatch. Will not spill but return 0.\n",
      "23/04/12 14:44:57 WARN RowBasedKeyValueBatch: Calling spill() on RowBasedKeyValueBatch. Will not spill but return 0.\n",
      "23/04/12 14:44:57 WARN RowBasedKeyValueBatch: Calling spill() on RowBasedKeyValueBatch. Will not spill but return 0.\n",
      "23/04/12 14:44:57 WARN RowBasedKeyValueBatch: Calling spill() on RowBasedKeyValueBatch. Will not spill but return 0.\n",
      "23/04/12 14:44:58 WARN RowBasedKeyValueBatch: Calling spill() on RowBasedKeyValueBatch. Will not spill but return 0.\n",
      "23/04/12 14:44:58 WARN RowBasedKeyValueBatch: Calling spill() on RowBasedKeyValueBatch. Will not spill but return 0.\n",
      "23/04/12 14:44:58 WARN RowBasedKeyValueBatch: Calling spill() on RowBasedKeyValueBatch. Will not spill but return 0.\n",
      "23/04/12 14:44:58 WARN RowBasedKeyValueBatch: Calling spill() on RowBasedKeyValueBatch. Will not spill but return 0.\n",
      "23/04/12 14:44:58 WARN RowBasedKeyValueBatch: Calling spill() on RowBasedKeyValueBatch. Will not spill but return 0.\n",
      "23/04/12 14:44:58 WARN RowBasedKeyValueBatch: Calling spill() on RowBasedKeyValueBatch. Will not spill but return 0.\n",
      "23/04/12 14:44:58 WARN RowBasedKeyValueBatch: Calling spill() on RowBasedKeyValueBatch. Will not spill but return 0.\n",
      "23/04/12 14:44:58 WARN RowBasedKeyValueBatch: Calling spill() on RowBasedKeyValueBatch. Will not spill but return 0.\n",
      "23/04/12 14:44:58 WARN RowBasedKeyValueBatch: Calling spill() on RowBasedKeyValueBatch. Will not spill but return 0.\n",
      "23/04/12 14:44:58 WARN RowBasedKeyValueBatch: Calling spill() on RowBasedKeyValueBatch. Will not spill but return 0.\n",
      "23/04/12 14:44:58 WARN RowBasedKeyValueBatch: Calling spill() on RowBasedKeyValueBatch. Will not spill but return 0.\n",
      "23/04/12 14:44:58 WARN RowBasedKeyValueBatch: Calling spill() on RowBasedKeyValueBatch. Will not spill but return 0.\n",
      "23/04/12 14:44:58 WARN RowBasedKeyValueBatch: Calling spill() on RowBasedKeyValueBatch. Will not spill but return 0.\n",
      "23/04/12 14:44:58 WARN RowBasedKeyValueBatch: Calling spill() on RowBasedKeyValueBatch. Will not spill but return 0.\n",
      "23/04/12 14:44:58 WARN RowBasedKeyValueBatch: Calling spill() on RowBasedKeyValueBatch. Will not spill but return 0.\n",
      "23/04/12 14:44:58 WARN RowBasedKeyValueBatch: Calling spill() on RowBasedKeyValueBatch. Will not spill but return 0.\n",
      "                                                                                \r"
     ]
    },
    {
     "name": "stdout",
     "output_type": "stream",
     "text": [
      "                                             buyer  avg_duration  Score5\n",
      "0       \\x006b82530c7985fd0084382e866db39a6c5c0578  3.849958e+06       5\n",
      "1       \\x014fd068938fa1965be36a9244ddf6d37f6b88cb  1.528443e+06       2\n",
      "2       \\x01981e7284ade335883f75927fae1b70fac44d71  8.420664e+05       1\n",
      "3       \\x0312b9e6627d9a49cf07a3b5af1f18ad8d8e39db  2.391315e+06       3\n",
      "4       \\x03a3da04bd4a888ed473a9c6bd90a13165f78e72  8.280000e+02       1\n",
      "...                                            ...           ...     ...\n",
      "186030  \\xe0d3851eb01cde810436a054f4211e31a2fe0a82  1.754641e+06       2\n",
      "186031  \\xe25cf7322526cfef5ca841deb14323f9ada1234a  5.060740e+05       1\n",
      "186032  \\xe282780e50937a2490831e4539bbb5f3f564e004  6.212410e+05       1\n",
      "186033  \\xe73a7a0d3163d12ddf749c97433fac227e4cec3d  9.421300e+04       1\n",
      "186034  \\xf49b67a2b2fc0904cb12a2c41c7d2007841c04a0  1.046440e+07      12\n",
      "\n",
      "[186035 rows x 3 columns]\n",
      "[  5   2   1   3   9   8   4   6  34  27   7  15  13  17  16  10  12  29\n",
      "  21  19  14  24  11  18  26  35  20  22  23  38  30  36  45  33  31  41\n",
      "  25  40  46  28  32  50  44  37  95  68  42  84  47  55  43  39  65  86\n",
      "  69  56  53  48  54  83  71  57  59  49  52  74  80  76 100  66  51  70\n",
      "  61  67  77  82  90  58  78  64  79  73  72  63  75  94]\n"
     ]
    },
    {
     "name": "stderr",
     "output_type": "stream",
     "text": [
      "/Users/yashasvi/opt/anaconda3/envs/itp/lib/python3.9/site-packages/pyspark/sql/pandas/conversion.py:371: FutureWarning: iteritems is deprecated and will be removed in a future version. Use .items instead.\n",
      "  for column, series in pdf.iteritems():\n"
     ]
    }
   ],
   "source": [
    "df_avg_duration = df_all.groupBy(\"buyer\").agg(avg(\"duration\").alias(\"avg_duration\"))\n",
    "# score4 based on num_currency\n",
    "df_rule_avg_duration_pd=df_avg_duration.toPandas()\n",
    "hist, bins=pd.cut(df_rule_avg_duration_pd['avg_duration'],bins=100,labels=False,retbins=True,right=False)\n",
    "df_rule_avg_duration_pd['Score5']=hist\n",
    "df_rule_avg_duration_pd['Score5']+=1\n",
    "print(df_rule_avg_duration_pd)\n",
    "#print unique score5 values assigned\n",
    "print(df_rule_avg_duration_pd['Score5'].unique())\n",
    "#converting to sparkdf\n",
    "df_rule_avg_duration=spark.createDataFrame(df_rule_avg_duration_pd)"
   ]
  },
  {
   "cell_type": "code",
   "execution_count": 75,
   "id": "33d91f40",
   "metadata": {},
   "outputs": [],
   "source": [
    "# df_rule_avg_duration_pd['avg_duration'].plot.kde()\n",
    "# plt.xlabel('Average duration')\n",
    "# plt.ylabel('Density')\n",
    "# plt.title(\"\")\n",
    "# plt.xlim(0e+8,0.50e+8)\n",
    "# plt.show()\n",
    "\n",
    "# df_rule_avg_duration_pd['Score5'].plot.kde()\n",
    "# plt.xlabel('Score')\n",
    "# plt.ylabel('Density')\n",
    "# plt.title(\"\")\n",
    "# plt.xlim(0,50)\n",
    "# plt.show()"
   ]
  },
  {
   "cell_type": "code",
   "execution_count": 26,
   "id": "1198a960",
   "metadata": {},
   "outputs": [
    {
     "data": {
      "text/plain": [
       "pyspark.sql.dataframe.DataFrame"
      ]
     },
     "execution_count": 26,
     "metadata": {},
     "output_type": "execute_result"
    }
   ],
   "source": [
    "type(df_avg_duration)"
   ]
  },
  {
   "cell_type": "markdown",
   "id": "aa9b267f",
   "metadata": {},
   "source": [
    "# Ranking 6 - Frequency of each transaction"
   ]
  },
  {
   "cell_type": "code",
   "execution_count": 79,
   "id": "8eef2ad5",
   "metadata": {},
   "outputs": [],
   "source": [
    "from pyspark.sql.functions import split\n",
    "df_all = df_all.withColumn(\"date\", split(\"Bought_Timestamp\", \" \")[0])\n",
    "df_all = df_all.withColumn(\"time\", split(\"Bought_Timestamp\", \" \")[1])"
   ]
  },
  {
   "cell_type": "code",
   "execution_count": 80,
   "id": "72e7b585",
   "metadata": {},
   "outputs": [
    {
     "name": "stderr",
     "output_type": "stream",
     "text": [
      "                                                                                \r"
     ]
    },
    {
     "name": "stdout",
     "output_type": "stream",
     "text": [
      "                                             buyer  frequency  Score6\n",
      "0       \\x2fddb28767a612ce6e76da99a32b1e9a69f8e432          4       6\n",
      "1       \\x79141804d6c87dcb4e7ebb7d8aeb4db782518ec9          4       6\n",
      "2       \\xaa145a17cab61c4bfcfa30d1a80229852f1bdb8c          3       4\n",
      "3       \\xbdbb84bc1d8106b20b7ee96a7227e7544ef1fc2b          2       2\n",
      "4       \\x2821b96b96e8e85dad078eefbd98662a4df8ec0b         10      17\n",
      "...                                            ...        ...     ...\n",
      "186030  \\xe282780e50937a2490831e4539bbb5f3f564e004          1       1\n",
      "186031  \\xe0d3851eb01cde810436a054f4211e31a2fe0a82          1       1\n",
      "186032  \\xe73a7a0d3163d12ddf749c97433fac227e4cec3d          1       1\n",
      "186033  \\xafee0a90deb063c23b8ca78a19669c09ac53b8c4          1       1\n",
      "186034  \\x3e59244480f4941076aea8d5083dc0309bac2992          1       1\n",
      "\n",
      "[186035 rows x 3 columns]\n",
      "[  6   4   2  17   1   8  11  22  24  15   9  13  18  20  29  25  38  34\n",
      "  27  42  33  43  31  65  70  40  81  54  56  47  52  49  59  36  45  72\n",
      "  50  92  97  63  83  67  88  79  58  84  61  74 100  93  77]\n"
     ]
    },
    {
     "name": "stderr",
     "output_type": "stream",
     "text": [
      "/Users/yashasvi/opt/anaconda3/envs/itp/lib/python3.9/site-packages/pyspark/sql/pandas/conversion.py:371: FutureWarning: iteritems is deprecated and will be removed in a future version. Use .items instead.\n",
      "  for column, series in pdf.iteritems():\n"
     ]
    }
   ],
   "source": [
    "df_frequency = df_all.groupBy(\"buyer\").agg(countDistinct(\"time\").alias(\"frequency\"))\n",
    "df_rule_frequency_pd = df_frequency.toPandas()\n",
    "hist, bins=pd.cut(df_rule_frequency_pd['frequency'],bins=100,labels=False,retbins=True,right=False)\n",
    "df_rule_frequency_pd['Score6']=hist\n",
    "df_rule_frequency_pd['Score6']+=1\n",
    "print(df_rule_frequency_pd)\n",
    "#print unique score5 values assigned\n",
    "print(df_rule_frequency_pd['Score6'].unique())\n",
    "#converting to sparkdf\n",
    "df_frequency=spark.createDataFrame(df_rule_frequency_pd)"
   ]
  },
  {
   "cell_type": "code",
   "execution_count": 82,
   "id": "59f2977f",
   "metadata": {},
   "outputs": [
    {
     "name": "stderr",
     "output_type": "stream",
     "text": [
      "23/04/12 14:45:34 WARN TaskSetManager: Stage 371 contains a task of very large size (1126 KiB). The maximum recommended task size is 1000 KiB.\n"
     ]
    },
    {
     "data": {
      "text/plain": [
       "186035"
      ]
     },
     "execution_count": 82,
     "metadata": {},
     "output_type": "execute_result"
    }
   ],
   "source": [
    "df_frequency.count()"
   ]
  },
  {
   "cell_type": "code",
   "execution_count": 76,
   "id": "ea78faf1",
   "metadata": {},
   "outputs": [],
   "source": [
    "# df_rule_frequency_pd['frequency'].plot.kde()\n",
    "# plt.xlabel('Frequency')\n",
    "# plt.ylabel('Density')\n",
    "# plt.title(\"\")\n",
    "# plt.xlim(0e+2,0.50e+2)\n",
    "# plt.show()\n",
    "\n",
    "# df_rule_frequency_pd['Score6'].plot.kde()\n",
    "# plt.xlabel('Score')\n",
    "# plt.ylabel('Density')\n",
    "# plt.title(\"\")\n",
    "# plt.xlim(0,50)\n",
    "# plt.show()"
   ]
  },
  {
   "cell_type": "markdown",
   "id": "8fc3fc65",
   "metadata": {},
   "source": [
    "# Feature Extraction for Model"
   ]
  },
  {
   "cell_type": "code",
   "execution_count": 27,
   "id": "662b1fd3",
   "metadata": {},
   "outputs": [],
   "source": [
    "# modeldata = reduce(lambda x,y: pd.merge(x,y, on='buyer', how='outer'), [df_avg, df_count, df_num_nftcontract, df_currency, df_avg_duration])\n",
    "joined_df = df_avg.join(df_count, on='buyer', how='inner').join(df_num_nftcontract, on='buyer', how='inner').join(df_currency, on='buyer', how='inner').join(df_avg_duration, on='buyer', how='inner')"
   ]
  },
  {
   "cell_type": "code",
   "execution_count": 30,
   "id": "73025c8f",
   "metadata": {},
   "outputs": [
    {
     "name": "stderr",
     "output_type": "stream",
     "text": [
      "                                                                                \r"
     ]
    },
    {
     "data": {
      "text/plain": [
       "186035"
      ]
     },
     "execution_count": 30,
     "metadata": {},
     "output_type": "execute_result"
    }
   ],
   "source": [
    "joined_df.count()"
   ]
  },
  {
   "cell_type": "code",
   "execution_count": 77,
   "id": "a81f5897",
   "metadata": {
    "scrolled": true
   },
   "outputs": [
    {
     "name": "stderr",
     "output_type": "stream",
     "text": [
      "23/04/12 14:45:06 WARN TaskSetManager: Stage 346 contains a task of very large size (1280 KiB). The maximum recommended task size is 1000 KiB.\n",
      "23/04/12 14:45:07 WARN TaskSetManager: Stage 347 contains a task of very large size (1126 KiB). The maximum recommended task size is 1000 KiB.\n",
      "23/04/12 14:45:07 WARN TaskSetManager: Stage 348 contains a task of very large size (1126 KiB). The maximum recommended task size is 1000 KiB.\n",
      "23/04/12 14:45:07 WARN TaskSetManager: Stage 349 contains a task of very large size (1126 KiB). The maximum recommended task size is 1000 KiB.\n",
      "23/04/12 14:45:08 WARN TaskSetManager: Stage 350 contains a task of very large size (1280 KiB). The maximum recommended task size is 1000 KiB.\n"
     ]
    },
    {
     "name": "stdout",
     "output_type": "stream",
     "text": [
      "+--------------------+-------------------+------+-----------+------+---------------+------+------------+------+------------------+------+\n",
      "|               buyer|          avg_spent|Score1|number_txns|Score2|num_nftcontract|Score3|num_currency|Score4|      avg_duration|Score5|\n",
      "+--------------------+-------------------+------+-----------+------+---------------+------+------------+------+------------------+------+\n",
      "|\\x000000000027634...|-1094.1415000000002|    27|          2|     1|              2|     1|           1|     1|         1012977.0|     2|\n",
      "|\\x0000002b94395a5...| 18.830347000000003|    27|          1|     1|              1|     1|           1|     1|           53640.0|     1|\n",
      "|\\x00052fb2f4c461b...|         5686.01735|    27|          2|     1|              2|     1|           2|    34|         1696346.0|     2|\n",
      "|\\x0005bb8bdcbbf4a...| 288.20619921428573|    27|          7|     1|              7|     1|           1|     1|256193.85714285713|     1|\n",
      "|\\x0007a07be3fc1a3...|-305.52065600000003|    27|          1|     1|              1|     1|           1|     1|          208449.0|     1|\n",
      "+--------------------+-------------------+------+-----------+------+---------------+------+------------+------+------------------+------+\n",
      "only showing top 5 rows\n",
      "\n"
     ]
    },
    {
     "name": "stderr",
     "output_type": "stream",
     "text": [
      "\r",
      "                                                                                \r"
     ]
    }
   ],
   "source": [
    "joined_scores = df_rule_avg_spent.join(df_rule_number_txns, on='buyer', how='inner').join(df_rule_num_nftcontract, on='buyer', how='inner').join(df_rule_num_currency, on='buyer', how='inner').join(df_rule_avg_duration, on='buyer', how='inner')\n",
    "joined_scores.show(5)"
   ]
  },
  {
   "cell_type": "code",
   "execution_count": 86,
   "id": "5e58c403",
   "metadata": {},
   "outputs": [
    {
     "name": "stderr",
     "output_type": "stream",
     "text": [
      "23/04/12 14:47:00 WARN TaskSetManager: Stage 387 contains a task of very large size (1280 KiB). The maximum recommended task size is 1000 KiB.\n",
      "23/04/12 14:47:00 WARN TaskSetManager: Stage 388 contains a task of very large size (1126 KiB). The maximum recommended task size is 1000 KiB.\n",
      "23/04/12 14:47:00 WARN TaskSetManager: Stage 389 contains a task of very large size (1126 KiB). The maximum recommended task size is 1000 KiB.\n",
      "23/04/12 14:47:01 WARN TaskSetManager: Stage 390 contains a task of very large size (1126 KiB). The maximum recommended task size is 1000 KiB.\n",
      "23/04/12 14:47:01 WARN TaskSetManager: Stage 391 contains a task of very large size (1280 KiB). The maximum recommended task size is 1000 KiB.\n",
      "23/04/12 14:47:01 WARN TaskSetManager: Stage 392 contains a task of very large size (1126 KiB). The maximum recommended task size is 1000 KiB.\n",
      "                                                                                \r"
     ]
    },
    {
     "data": {
      "text/plain": [
       "186035"
      ]
     },
     "execution_count": 86,
     "metadata": {},
     "output_type": "execute_result"
    }
   ],
   "source": [
    "joined_scores.count()"
   ]
  },
  {
   "cell_type": "code",
   "execution_count": 83,
   "id": "46308ad9",
   "metadata": {},
   "outputs": [],
   "source": [
    "joined_scores = joined_scores.join(df_frequency, on='buyer', how='inner')"
   ]
  },
  {
   "cell_type": "code",
   "execution_count": 85,
   "id": "adb2421c",
   "metadata": {},
   "outputs": [
    {
     "name": "stderr",
     "output_type": "stream",
     "text": [
      "23/04/12 14:46:49 WARN TaskSetManager: Stage 374 contains a task of very large size (1280 KiB). The maximum recommended task size is 1000 KiB.\n",
      "23/04/12 14:46:50 WARN TaskSetManager: Stage 375 contains a task of very large size (1126 KiB). The maximum recommended task size is 1000 KiB.\n",
      "23/04/12 14:46:50 WARN TaskSetManager: Stage 376 contains a task of very large size (1126 KiB). The maximum recommended task size is 1000 KiB.\n",
      "23/04/12 14:46:50 WARN TaskSetManager: Stage 377 contains a task of very large size (1126 KiB). The maximum recommended task size is 1000 KiB.\n",
      "23/04/12 14:46:50 WARN TaskSetManager: Stage 378 contains a task of very large size (1280 KiB). The maximum recommended task size is 1000 KiB.\n",
      "23/04/12 14:46:50 WARN TaskSetManager: Stage 379 contains a task of very large size (1126 KiB). The maximum recommended task size is 1000 KiB.\n",
      "23/04/12 14:46:52 WARN MemoryManager: Total allocation exceeds 95.00% (919,443,854 bytes) of heap memory\n",
      "Scaling row group sizes to 97.86% for 7 writers\n",
      "23/04/12 14:46:52 WARN MemoryManager: Total allocation exceeds 95.00% (919,443,854 bytes) of heap memory\n",
      "Scaling row group sizes to 85.63% for 8 writers\n",
      "23/04/12 14:46:53 WARN MemoryManager: Total allocation exceeds 95.00% (919,443,854 bytes) of heap memory\n",
      "Scaling row group sizes to 97.86% for 7 writers\n",
      "                                                                                \r"
     ]
    }
   ],
   "source": [
    "joined_scores.write.parquet(\"/Users/yashasvi/Documents/ModelScoresupdated/\")\n"
   ]
  },
  {
   "cell_type": "code",
   "execution_count": null,
   "id": "231c46e6",
   "metadata": {},
   "outputs": [],
   "source": []
  }
 ],
 "metadata": {
  "kernelspec": {
   "display_name": "Python [conda env:itp]",
   "language": "python",
   "name": "conda-env-itp-py"
  },
  "language_info": {
   "codemirror_mode": {
    "name": "ipython",
    "version": 3
   },
   "file_extension": ".py",
   "mimetype": "text/x-python",
   "name": "python",
   "nbconvert_exporter": "python",
   "pygments_lexer": "ipython3",
   "version": "3.9.16"
  }
 },
 "nbformat": 4,
 "nbformat_minor": 5
}
