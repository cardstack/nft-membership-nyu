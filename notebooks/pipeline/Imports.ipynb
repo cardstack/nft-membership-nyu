{
 "cells": [
  {
   "cell_type": "code",
   "execution_count": 2,
   "id": "55a12927",
   "metadata": {},
   "outputs": [],
   "source": [
    "import os\n",
    "import pyspark\n",
    "import pandas as pd\n",
    "import numpy as np\n",
    "from pyspark.sql import SparkSession\n",
    "from pyspark.sql import SQLContext\n",
    "from pyspark.sql.types import StructType\n",
    "from pyspark.sql.types import StructField\n",
    "from pyspark.sql.types import IntegerType\n",
    "from pyspark.sql.types import TimestampType\n",
    "from pyspark.sql.types import StringType\n",
    "from pyspark.sql.types import FloatType\n",
    "from pyspark.sql.functions import col, expr\n",
    "from pyspark.sql.functions import sum,avg,max,count\n",
    "from pyspark.sql.functions import countDistinct\n",
    "from pyspark.sql.functions import desc, asc\n",
    "from pyspark.sql.functions import col, unix_timestamp, from_unixtime\n",
    "from functools import reduce\n",
    "\n",
    "\n",
    "from pyspark.sql import functions as f\n",
    "from pyspark.sql.functions import when\n",
    "import matplotlib.pyplot as plt\n",
    "\n",
    "from dune_client.types import QueryParameter\n",
    "from dune_client.client import DuneClient\n",
    "from dune_client.query import Query\n",
    "\n",
    "from pyspark.ml.feature import VectorAssembler, StandardScaler\n",
    "from pyspark.ml.clustering import KMeans"
   ]
  },
  {
   "cell_type": "code",
   "execution_count": 3,
   "id": "51a9c283",
   "metadata": {},
   "outputs": [],
   "source": [
    "simpleSchema = StructType((\n",
    "    StructField(\"block_number\",FloatType(),True),\n",
    "    StructField(\"block_time\",TimestampType(),True),\n",
    "    StructField(\"buyer\",StringType(),True),\n",
    "    StructField(\"category\", StringType(), True),\n",
    "    StructField(\"evt_type\", StringType(), True),\n",
    "    StructField(\"nft_contract_address\", StringType(), True),\n",
    "    StructField(\"nft_contract_addresses_array\", StringType(), True),\n",
    "    StructField(\"nft_project_name\", StringType(), True),\n",
    "    StructField(\"nft_token_id\", StringType(), True),\n",
    "    StructField(\"nft_token_ids_array\", StringType(), True),\n",
    "    StructField(\"number_of_items\", StringType(), True),\n",
    "    StructField(\"original_amount\", StringType(), True),\n",
    "    StructField(\"original_currency\", StringType(), True),\n",
    "    StructField(\"platform\", StringType(), True),\n",
    "    StructField(\"seller\", StringType(), True),\n",
    "    StructField(\"trade_id\", IntegerType(), True),\n",
    "    StructField(\"trade_type\", StringType(), True),\n",
    "    StructField(\"usd_amount\", FloatType(), True),\n",
    "  ))"
   ]
  },
  {
   "cell_type": "code",
   "execution_count": 4,
   "id": "d3c0993b",
   "metadata": {},
   "outputs": [
    {
     "name": "stderr",
     "output_type": "stream",
     "text": [
      "/Users/yashasvi/opt/anaconda3/envs/itpcowdune/lib/python3.9/site-packages/tqdm/auto.py:21: TqdmWarning: IProgress not found. Please update jupyter and ipywidgets. See https://ipywidgets.readthedocs.io/en/stable/user_install.html\n",
      "  from .autonotebook import tqdm as notebook_tqdm\n"
     ]
    }
   ],
   "source": [
    "from tqdm.auto import tqdm\n",
    "import pyarrow as pa\n",
    "import pyarrow.parquet as pq"
   ]
  },
  {
   "cell_type": "code",
   "execution_count": 5,
   "id": "1108616a",
   "metadata": {},
   "outputs": [],
   "source": [
    "# import pyarrow as pa\n",
    "\n",
    "# simpleSchemap = pa.schema([\n",
    "#     pa.field('block_number', pa.float64()),\n",
    "#     pa.field('block_time', pa.timestamp('ns', tz='UTC')),\n",
    "#     pa.field('buyer', pa.string()),\n",
    "#     pa.field('category', pa.string()),\n",
    "#     pa.field('evt_type', pa.string()),\n",
    "#     pa.field('nft_contract_address', pa.string()),\n",
    "#     pa.field('nft_contract_addresses_array', pa.string()),\n",
    "#     pa.field('nft_project_name', pa.string()),\n",
    "#     pa.field('nft_token_id', pa.string()),\n",
    "#     pa.field('nft_token_ids_array', pa.string()),\n",
    "#     pa.field('number_of_items', pa.float64()),\n",
    "#     pa.field('original_amount', pa.float64()),\n",
    "#     pa.field('original_currency', pa.string()),\n",
    "#     pa.field('platform', pa.string()),\n",
    "#     pa.field('seller', pa.string()),\n",
    "#     pa.field('trade_id', pa.int64()),\n",
    "#     pa.field('trade_type', pa.string()),\n",
    "#     pa.field('usd_amount', pa.float64()),\n",
    "#   ])"
   ]
  },
  {
   "cell_type": "code",
   "execution_count": 6,
   "id": "ba59fe9c",
   "metadata": {},
   "outputs": [],
   "source": [
    "dune = DuneClient(\"DUNE_API_KEY\")"
   ]
  },
  {
   "cell_type": "code",
   "execution_count": null,
   "id": "efda441d",
   "metadata": {},
   "outputs": [],
   "source": []
  }
 ],
 "metadata": {
  "kernelspec": {
   "display_name": "Python [conda env:itpcowdune]",
   "language": "python",
   "name": "conda-env-itpcowdune-py"
  },
  "language_info": {
   "codemirror_mode": {
    "name": "ipython",
    "version": 3
   },
   "file_extension": ".py",
   "mimetype": "text/x-python",
   "name": "python",
   "nbconvert_exporter": "python",
   "pygments_lexer": "ipython3",
   "version": "3.9.16"
  }
 },
 "nbformat": 4,
 "nbformat_minor": 5
}
