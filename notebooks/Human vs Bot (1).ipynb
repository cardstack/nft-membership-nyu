{
 "cells": [
  {
   "cell_type": "markdown",
   "id": "5124fd01",
   "metadata": {},
   "source": [
    "# Dune Query 1"
   ]
  },
  {
   "cell_type": "markdown",
   "id": "87fcb851",
   "metadata": {},
   "source": [
    "SELECT * FROM\n",
    "(SELECT a.buyer, b.seller, a.nft_token_id, a.block_time as buyer_time, b.block_time as seller_time, b.block_time - a.block_time as holding_time \n",
    "FROM nft.\"trades\" a\n",
    "INNER JOIN nft.\"trades\" b\n",
    "ON  a.buyer = b.seller AND a.nft_token_id = b.nft_token_id\n",
    "where a.block_time < b.block_time and a.nft_token_id IS NOT NULL AND b.nft_token_id IS NOT NULL ) AB\n",
    "WHERE (EXTRACT(MINUTES FROM holding_time)) < 1 AND (EXTRACT(HOURS FROM holding_time)) = 0 AND (EXTRACT(DAYS FROM holding_time)) = 0 \n",
    "order by holding_time asc;\n"
   ]
  },
  {
   "cell_type": "code",
   "execution_count": 10,
   "id": "88fc05fb",
   "metadata": {},
   "outputs": [],
   "source": [
    "from dunebuggy import Dune\n",
    "import matplotlib.pyplot as plt"
   ]
  },
  {
   "cell_type": "code",
   "execution_count": 2,
   "id": "578c918f",
   "metadata": {},
   "outputs": [],
   "source": [
    "dune = Dune()"
   ]
  },
  {
   "cell_type": "code",
   "execution_count": 4,
   "id": "01f616aa",
   "metadata": {},
   "outputs": [
    {
     "data": {
      "text/html": [
       "<div>\n",
       "<style scoped>\n",
       "    .dataframe tbody tr th:only-of-type {\n",
       "        vertical-align: middle;\n",
       "    }\n",
       "\n",
       "    .dataframe tbody tr th {\n",
       "        vertical-align: top;\n",
       "    }\n",
       "\n",
       "    .dataframe thead th {\n",
       "        text-align: right;\n",
       "    }\n",
       "</style>\n",
       "<table border=\"1\" class=\"dataframe\">\n",
       "  <thead>\n",
       "    <tr style=\"text-align: right;\">\n",
       "      <th></th>\n",
       "      <th>buyer</th>\n",
       "      <th>buyer_time</th>\n",
       "      <th>holding_time</th>\n",
       "      <th>nft_token_id</th>\n",
       "      <th>seller</th>\n",
       "      <th>seller_time</th>\n",
       "    </tr>\n",
       "  </thead>\n",
       "  <tbody>\n",
       "    <tr>\n",
       "      <th>0</th>\n",
       "      <td>\\x4d46355d83a368a386ec591b4849757d81700184</td>\n",
       "      <td>2022-09-06T17:24:08+00:00</td>\n",
       "      <td>00:00:01</td>\n",
       "      <td>7421</td>\n",
       "      <td>\\x4d46355d83a368a386ec591b4849757d81700184</td>\n",
       "      <td>2022-09-06T17:24:09+00:00</td>\n",
       "    </tr>\n",
       "    <tr>\n",
       "      <th>1</th>\n",
       "      <td>\\x00000069a7d8f98918898ecddfa27b6dac67b055</td>\n",
       "      <td>2022-09-02T02:29:46+00:00</td>\n",
       "      <td>00:00:01</td>\n",
       "      <td>1217</td>\n",
       "      <td>\\x00000069a7d8f98918898ecddfa27b6dac67b055</td>\n",
       "      <td>2022-09-02T02:29:47+00:00</td>\n",
       "    </tr>\n",
       "    <tr>\n",
       "      <th>2</th>\n",
       "      <td>\\x1ae94af0b6a7c33718d006091b7be2dc3b7186be</td>\n",
       "      <td>2022-02-17T09:26:57+00:00</td>\n",
       "      <td>00:00:01</td>\n",
       "      <td>939824641387058878002342664738943389958845765593</td>\n",
       "      <td>\\x1ae94af0b6a7c33718d006091b7be2dc3b7186be</td>\n",
       "      <td>2022-02-17T09:26:58+00:00</td>\n",
       "    </tr>\n",
       "    <tr>\n",
       "      <th>3</th>\n",
       "      <td>\\x20c016d298b887dc551975783afc17a3a007330c</td>\n",
       "      <td>2022-02-20T22:57:19+00:00</td>\n",
       "      <td>00:00:01</td>\n",
       "      <td>1160620905764764203075057627959092720772661278070</td>\n",
       "      <td>\\x20c016d298b887dc551975783afc17a3a007330c</td>\n",
       "      <td>2022-02-20T22:57:20+00:00</td>\n",
       "    </tr>\n",
       "    <tr>\n",
       "      <th>4</th>\n",
       "      <td>\\xb3f0771103120f80ee3f2fdedf9c856a3af683b1</td>\n",
       "      <td>2022-05-18T21:06:00+00:00</td>\n",
       "      <td>00:00:01</td>\n",
       "      <td>418887828631962816209501594254970665547263081310</td>\n",
       "      <td>\\xb3f0771103120f80ee3f2fdedf9c856a3af683b1</td>\n",
       "      <td>2022-05-18T21:06:01+00:00</td>\n",
       "    </tr>\n",
       "    <tr>\n",
       "      <th>...</th>\n",
       "      <td>...</td>\n",
       "      <td>...</td>\n",
       "      <td>...</td>\n",
       "      <td>...</td>\n",
       "      <td>...</td>\n",
       "      <td>...</td>\n",
       "    </tr>\n",
       "    <tr>\n",
       "      <th>3214</th>\n",
       "      <td>\\xcafed27971f6c41261831c4a5d16dfa2ed4d166a</td>\n",
       "      <td>2022-03-24T05:52:45+00:00</td>\n",
       "      <td>00:00:59</td>\n",
       "      <td>194614810077665556227291340742559715127296018758</td>\n",
       "      <td>\\xcafed27971f6c41261831c4a5d16dfa2ed4d166a</td>\n",
       "      <td>2022-03-24T05:53:44+00:00</td>\n",
       "    </tr>\n",
       "    <tr>\n",
       "      <th>3215</th>\n",
       "      <td>\\xaa8d1d1a31da6d3f5e68e66ae03c8139d2adfb0e</td>\n",
       "      <td>2022-05-31T02:45:50+00:00</td>\n",
       "      <td>00:00:59</td>\n",
       "      <td>894892305433177046675126371728335731958336160262</td>\n",
       "      <td>\\xaa8d1d1a31da6d3f5e68e66ae03c8139d2adfb0e</td>\n",
       "      <td>2022-05-31T02:46:49+00:00</td>\n",
       "    </tr>\n",
       "    <tr>\n",
       "      <th>3216</th>\n",
       "      <td>\\x8951f25adcc7c3256dd9b521ed726fb587a46d52</td>\n",
       "      <td>2022-05-16T16:21:48+00:00</td>\n",
       "      <td>00:00:59</td>\n",
       "      <td>677668021345358981606164135027115080888164484653</td>\n",
       "      <td>\\x8951f25adcc7c3256dd9b521ed726fb587a46d52</td>\n",
       "      <td>2022-05-16T16:22:47+00:00</td>\n",
       "    </tr>\n",
       "    <tr>\n",
       "      <th>3217</th>\n",
       "      <td>\\x4690ffa52c9ffcfcf911dd2e4e0ab122b6f9f88d</td>\n",
       "      <td>2022-03-03T20:56:34+00:00</td>\n",
       "      <td>00:00:59</td>\n",
       "      <td>981732869473597156637196778355201242911148309317</td>\n",
       "      <td>\\x4690ffa52c9ffcfcf911dd2e4e0ab122b6f9f88d</td>\n",
       "      <td>2022-03-03T20:57:33+00:00</td>\n",
       "    </tr>\n",
       "    <tr>\n",
       "      <th>3218</th>\n",
       "      <td>\\x48c44fcb5628a085cac79e8eebd0034fdee818d5</td>\n",
       "      <td>2022-03-06T07:33:11+00:00</td>\n",
       "      <td>00:00:59</td>\n",
       "      <td>946444292558113680407272644739609862460838161805</td>\n",
       "      <td>\\x48c44fcb5628a085cac79e8eebd0034fdee818d5</td>\n",
       "      <td>2022-03-06T07:34:10+00:00</td>\n",
       "    </tr>\n",
       "  </tbody>\n",
       "</table>\n",
       "<p>3219 rows × 6 columns</p>\n",
       "</div>"
      ],
      "text/plain": [
       "                                           buyer                 buyer_time  \\\n",
       "0     \\x4d46355d83a368a386ec591b4849757d81700184  2022-09-06T17:24:08+00:00   \n",
       "1     \\x00000069a7d8f98918898ecddfa27b6dac67b055  2022-09-02T02:29:46+00:00   \n",
       "2     \\x1ae94af0b6a7c33718d006091b7be2dc3b7186be  2022-02-17T09:26:57+00:00   \n",
       "3     \\x20c016d298b887dc551975783afc17a3a007330c  2022-02-20T22:57:19+00:00   \n",
       "4     \\xb3f0771103120f80ee3f2fdedf9c856a3af683b1  2022-05-18T21:06:00+00:00   \n",
       "...                                          ...                        ...   \n",
       "3214  \\xcafed27971f6c41261831c4a5d16dfa2ed4d166a  2022-03-24T05:52:45+00:00   \n",
       "3215  \\xaa8d1d1a31da6d3f5e68e66ae03c8139d2adfb0e  2022-05-31T02:45:50+00:00   \n",
       "3216  \\x8951f25adcc7c3256dd9b521ed726fb587a46d52  2022-05-16T16:21:48+00:00   \n",
       "3217  \\x4690ffa52c9ffcfcf911dd2e4e0ab122b6f9f88d  2022-03-03T20:56:34+00:00   \n",
       "3218  \\x48c44fcb5628a085cac79e8eebd0034fdee818d5  2022-03-06T07:33:11+00:00   \n",
       "\n",
       "     holding_time                                       nft_token_id  \\\n",
       "0        00:00:01                                               7421   \n",
       "1        00:00:01                                               1217   \n",
       "2        00:00:01   939824641387058878002342664738943389958845765593   \n",
       "3        00:00:01  1160620905764764203075057627959092720772661278070   \n",
       "4        00:00:01   418887828631962816209501594254970665547263081310   \n",
       "...           ...                                                ...   \n",
       "3214     00:00:59   194614810077665556227291340742559715127296018758   \n",
       "3215     00:00:59   894892305433177046675126371728335731958336160262   \n",
       "3216     00:00:59   677668021345358981606164135027115080888164484653   \n",
       "3217     00:00:59   981732869473597156637196778355201242911148309317   \n",
       "3218     00:00:59   946444292558113680407272644739609862460838161805   \n",
       "\n",
       "                                          seller                seller_time  \n",
       "0     \\x4d46355d83a368a386ec591b4849757d81700184  2022-09-06T17:24:09+00:00  \n",
       "1     \\x00000069a7d8f98918898ecddfa27b6dac67b055  2022-09-02T02:29:47+00:00  \n",
       "2     \\x1ae94af0b6a7c33718d006091b7be2dc3b7186be  2022-02-17T09:26:58+00:00  \n",
       "3     \\x20c016d298b887dc551975783afc17a3a007330c  2022-02-20T22:57:20+00:00  \n",
       "4     \\xb3f0771103120f80ee3f2fdedf9c856a3af683b1  2022-05-18T21:06:01+00:00  \n",
       "...                                          ...                        ...  \n",
       "3214  \\xcafed27971f6c41261831c4a5d16dfa2ed4d166a  2022-03-24T05:53:44+00:00  \n",
       "3215  \\xaa8d1d1a31da6d3f5e68e66ae03c8139d2adfb0e  2022-05-31T02:46:49+00:00  \n",
       "3216  \\x8951f25adcc7c3256dd9b521ed726fb587a46d52  2022-05-16T16:22:47+00:00  \n",
       "3217  \\x4690ffa52c9ffcfcf911dd2e4e0ab122b6f9f88d  2022-03-03T20:57:33+00:00  \n",
       "3218  \\x48c44fcb5628a085cac79e8eebd0034fdee818d5  2022-03-06T07:34:10+00:00  \n",
       "\n",
       "[3219 rows x 6 columns]"
      ]
     },
     "execution_count": 4,
     "metadata": {},
     "output_type": "execute_result"
    }
   ],
   "source": [
    "query = dune.fetch_query(2082952)\n",
    "query.df"
   ]
  },
  {
   "cell_type": "code",
   "execution_count": 7,
   "id": "10066914",
   "metadata": {},
   "outputs": [
    {
     "data": {
      "text/plain": [
       "buyer           3219\n",
       "buyer_time      3219\n",
       "holding_time    3219\n",
       "nft_token_id    3219\n",
       "seller          3219\n",
       "seller_time     3219\n",
       "dtype: int64"
      ]
     },
     "execution_count": 7,
     "metadata": {},
     "output_type": "execute_result"
    }
   ],
   "source": [
    "query.df.count()"
   ]
  },
  {
   "cell_type": "code",
   "execution_count": 18,
   "id": "72d5f420",
   "metadata": {},
   "outputs": [
    {
     "data": {
      "text/plain": [
       "[<matplotlib.lines.Line2D at 0x13d6d578a60>]"
      ]
     },
     "execution_count": 18,
     "metadata": {},
     "output_type": "execute_result"
    },
    {
     "data": {
      "image/png": "[encoded data removed]",
      "text/plain": [
       "<Figure size 500x1100 with 1 Axes>"
      ]
     },
     "metadata": {},
     "output_type": "display_data"
    }
   ],
   "source": [
    "plt.figure(figsize = (5,11))\n",
    "plt.plot(query.df['holding_time'])"
   ]
  },
  {
   "cell_type": "markdown",
   "id": "a1cf8484",
   "metadata": {},
   "source": [
    "# Query 2"
   ]
  },
  {
   "cell_type": "markdown",
   "id": "15b77ac1",
   "metadata": {},
   "source": [
    "WITH transactions AS (\n",
    "    SELECT \n",
    "        \"tokenId\" AS token_id,\n",
    "        \"to\" AS to_address,\n",
    "        ROW_NUMBER() OVER (PARTITION BY \"tokenId\" ORDER BY evt_block_time DESC) AS transction_rank\n",
    "    FROM erc721.\"ERC721_evt_Transfer\"\n",
    "    WHERE \n",
    "        contract_address = '\\xbCe3781ae7Ca1a5e050Bd9C4c77369867eBc307e'\n",
    "        AND evt_block_time >= '2022-05-19'\n",
    ")\n",
    "\n",
    "SELECT \n",
    "    COUNT(DISTINCT to_address) AS count_wallet_holders,\n",
    "    COUNT(*)*1.0 / COUNT(DISTINCT to_address)*1.0 AS avg_nft_per_wallet\n",
    "FROM transactions\n",
    "WHERE transction_rank = 1"
   ]
  },
  {
   "cell_type": "code",
   "execution_count": 20,
   "id": "17d53e08",
   "metadata": {},
   "outputs": [
    {
     "data": {
      "text/html": [
       "<div>\n",
       "<style scoped>\n",
       "    .dataframe tbody tr th:only-of-type {\n",
       "        vertical-align: middle;\n",
       "    }\n",
       "\n",
       "    .dataframe tbody tr th {\n",
       "        vertical-align: top;\n",
       "    }\n",
       "\n",
       "    .dataframe thead th {\n",
       "        text-align: right;\n",
       "    }\n",
       "</style>\n",
       "<table border=\"1\" class=\"dataframe\">\n",
       "  <thead>\n",
       "    <tr style=\"text-align: right;\">\n",
       "      <th></th>\n",
       "      <th>avg_nft_per_wallet</th>\n",
       "      <th>count_wallet_holders</th>\n",
       "    </tr>\n",
       "  </thead>\n",
       "  <tbody>\n",
       "    <tr>\n",
       "      <th>0</th>\n",
       "      <td>2.051919</td>\n",
       "      <td>4873</td>\n",
       "    </tr>\n",
       "  </tbody>\n",
       "</table>\n",
       "</div>"
      ],
      "text/plain": [
       "   avg_nft_per_wallet  count_wallet_holders\n",
       "0            2.051919                  4873"
      ]
     },
     "execution_count": 20,
     "metadata": {},
     "output_type": "execute_result"
    }
   ],
   "source": [
    "query = dune.fetch_query(2174066)\n",
    "query.df"
   ]
  }
 ],
 "metadata": {
  "kernelspec": {
   "display_name": "Python [conda env:itp]",
   "language": "python",
   "name": "conda-env-itp-py"
  },
  "language_info": {
   "codemirror_mode": {
    "name": "ipython",
    "version": 3
   },
   "file_extension": ".py",
   "mimetype": "text/x-python",
   "name": "python",
   "nbconvert_exporter": "python",
   "pygments_lexer": "ipython3",
   "version": "3.9.16"
  }
 },
 "nbformat": 4,
 "nbformat_minor": 5
}
