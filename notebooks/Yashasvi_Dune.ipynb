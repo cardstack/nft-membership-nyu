{
 "cells": [
  {
   "cell_type": "code",
   "execution_count": 1,
   "id": "29791cba",
   "metadata": {},
   "outputs": [],
   "source": [
    "from dunebuggy import Dune"
   ]
  },
  {
   "cell_type": "code",
   "execution_count": 2,
   "id": "14db4eaa",
   "metadata": {},
   "outputs": [],
   "source": [
    "dune = Dune()"
   ]
  },
  {
   "cell_type": "code",
   "execution_count": 3,
   "id": "694a9c9f",
   "metadata": {},
   "outputs": [],
   "source": [
    "query = dune.fetch_query(2081547)"
   ]
  },
  {
   "cell_type": "code",
   "execution_count": 4,
   "id": "e78d45dc",
   "metadata": {},
   "outputs": [
    {
     "name": "stdout",
     "output_type": "stream",
     "text": [
      "          trade_type\n",
      "0  Single Item Trade\n",
      "1       Bundle Trade\n",
      "2      Bulk Purchase\n"
     ]
    }
   ],
   "source": [
    "print(query.df.head())"
   ]
  },
  {
   "cell_type": "markdown",
   "id": "ae3a5e5a",
   "metadata": {},
   "source": [
    "# select  count(*) \"popular\", date_trunc('day', block_time) as day, \n",
    "#         platform\n",
    "# from nft.trades \n",
    "# group by platform, day\n",
    "# # order by popular desc"
   ]
  },
  {
   "cell_type": "code",
   "execution_count": 5,
   "id": "952c4a85",
   "metadata": {},
   "outputs": [],
   "source": [
    "popularPlatforms = dune.fetch_query(2099089)"
   ]
  },
  {
   "cell_type": "code",
   "execution_count": 8,
   "id": "303f30b3",
   "metadata": {},
   "outputs": [
    {
     "data": {
      "text/html": [
       "<div>\n",
       "<style scoped>\n",
       "    .dataframe tbody tr th:only-of-type {\n",
       "        vertical-align: middle;\n",
       "    }\n",
       "\n",
       "    .dataframe tbody tr th {\n",
       "        vertical-align: top;\n",
       "    }\n",
       "\n",
       "    .dataframe thead th {\n",
       "        text-align: right;\n",
       "    }\n",
       "</style>\n",
       "<table border=\"1\" class=\"dataframe\">\n",
       "  <thead>\n",
       "    <tr style=\"text-align: right;\">\n",
       "      <th></th>\n",
       "      <th>day</th>\n",
       "      <th>platform</th>\n",
       "      <th>popular</th>\n",
       "    </tr>\n",
       "  </thead>\n",
       "  <tbody>\n",
       "    <tr>\n",
       "      <th>0</th>\n",
       "      <td>2022-04-04T00:00:00+00:00</td>\n",
       "      <td>OpenSea</td>\n",
       "      <td>224390</td>\n",
       "    </tr>\n",
       "    <tr>\n",
       "      <th>1</th>\n",
       "      <td>2022-04-08T00:00:00+00:00</td>\n",
       "      <td>OpenSea</td>\n",
       "      <td>221473</td>\n",
       "    </tr>\n",
       "    <tr>\n",
       "      <th>2</th>\n",
       "      <td>2022-05-29T00:00:00+00:00</td>\n",
       "      <td>OpenSea</td>\n",
       "      <td>217947</td>\n",
       "    </tr>\n",
       "    <tr>\n",
       "      <th>3</th>\n",
       "      <td>2022-04-24T00:00:00+00:00</td>\n",
       "      <td>OpenSea</td>\n",
       "      <td>214790</td>\n",
       "    </tr>\n",
       "    <tr>\n",
       "      <th>4</th>\n",
       "      <td>2022-05-26T00:00:00+00:00</td>\n",
       "      <td>OpenSea</td>\n",
       "      <td>211308</td>\n",
       "    </tr>\n",
       "  </tbody>\n",
       "</table>\n",
       "</div>"
      ],
      "text/plain": [
       "                         day platform  popular\n",
       "0  2022-04-04T00:00:00+00:00  OpenSea   224390\n",
       "1  2022-04-08T00:00:00+00:00  OpenSea   221473\n",
       "2  2022-05-29T00:00:00+00:00  OpenSea   217947\n",
       "3  2022-04-24T00:00:00+00:00  OpenSea   214790\n",
       "4  2022-05-26T00:00:00+00:00  OpenSea   211308"
      ]
     },
     "execution_count": 8,
     "metadata": {},
     "output_type": "execute_result"
    }
   ],
   "source": [
    "popularPlatforms.df.head()"
   ]
  },
  {
   "cell_type": "code",
   "execution_count": 14,
   "id": "bdcdd911",
   "metadata": {},
   "outputs": [],
   "source": [
    "popularPlatforms.df.to_csv('popularPlatformsByTrade.csv')"
   ]
  },
  {
   "cell_type": "markdown",
   "id": "bd3a8489",
   "metadata": {},
   "source": [
    "# select  sum(usd_amount), \n",
    "#         date_trunc('day', block_time) as day, \n",
    "#         platform\n",
    "# from nft.trades \n",
    "# group by platform, day\n",
    "# order by sum(usd_amount) desc\n"
   ]
  },
  {
   "cell_type": "code",
   "execution_count": 10,
   "id": "1e99cc7f",
   "metadata": {},
   "outputs": [],
   "source": [
    "sumMoneyPlatforms = dune.fetch_query(2084711)"
   ]
  },
  {
   "cell_type": "code",
   "execution_count": 11,
   "id": "e32352c2",
   "metadata": {},
   "outputs": [
    {
     "name": "stdout",
     "output_type": "stream",
     "text": [
      "                         day            platform           sum\n",
      "0  2023-03-02T00:00:00+00:00  LarvaLabs Contract           NaN\n",
      "1  2022-04-04T00:00:00+00:00             OpenSea  1.444313e+11\n",
      "2  2022-04-26T00:00:00+00:00             OpenSea  1.001561e+11\n",
      "3  2022-03-23T00:00:00+00:00             OpenSea  7.810440e+10\n",
      "4  2022-06-06T00:00:00+00:00             OpenSea  5.007891e+10\n"
     ]
    }
   ],
   "source": [
    "print(sumMoneyPlatforms.df.head())"
   ]
  },
  {
   "cell_type": "code",
   "execution_count": 17,
   "id": "97a9ef1d",
   "metadata": {},
   "outputs": [],
   "source": [
    "sumMoneyPlatforms.df.to_csv('sumPlatform.csv')"
   ]
  },
  {
   "cell_type": "code",
   "execution_count": 9,
   "id": "0c889885",
   "metadata": {},
   "outputs": [],
   "source": [
    "import pandas as pd\n",
    "import numpy as np\n",
    "import datetime\n",
    "import matplotlib.pyplot as plt\n",
    "import matplotlib.dates as mdates"
   ]
  },
  {
   "cell_type": "markdown",
   "id": "7e4a704f",
   "metadata": {},
   "source": [
    "# popular platform"
   ]
  },
  {
   "cell_type": "code",
   "execution_count": 10,
   "id": "28ee0cba",
   "metadata": {},
   "outputs": [],
   "source": [
    "moneyWise = 'sumPlatform.csv'\n",
    "dfm = pd.read_csv(moneyWise)"
   ]
  },
  {
   "cell_type": "code",
   "execution_count": 11,
   "id": "abc389e6",
   "metadata": {},
   "outputs": [],
   "source": [
    "dfm['DATE'] = pd.to_datetime(dfm['day']).dt.date"
   ]
  },
  {
   "cell_type": "code",
   "execution_count": 12,
   "id": "96a5c997",
   "metadata": {},
   "outputs": [],
   "source": [
    "dfm['day_t'] = dfm['DATE'].apply(lambda x: x.strftime('%-d')) \n",
    "dfm['month'] = dfm['DATE'].apply(lambda x: x.strftime('%-m')) \n",
    "dfm['year'] = dfm['DATE'].apply(lambda x: x.strftime('%Y')) \n",
    "dfm['DayOfYear'] = dfm['DATE'].apply(lambda x: x.strftime('%-j')) \n",
    "dfm['DayOfYear'] = dfm['DATE'].apply(lambda x: x.strftime('%A'))"
   ]
  },
  {
   "cell_type": "code",
   "execution_count": 13,
   "id": "e27a4161",
   "metadata": {},
   "outputs": [
    {
     "data": {
      "text/html": [
       "<div>\n",
       "<style scoped>\n",
       "    .dataframe tbody tr th:only-of-type {\n",
       "        vertical-align: middle;\n",
       "    }\n",
       "\n",
       "    .dataframe tbody tr th {\n",
       "        vertical-align: top;\n",
       "    }\n",
       "\n",
       "    .dataframe thead th {\n",
       "        text-align: right;\n",
       "    }\n",
       "</style>\n",
       "<table border=\"1\" class=\"dataframe\">\n",
       "  <thead>\n",
       "    <tr style=\"text-align: right;\">\n",
       "      <th></th>\n",
       "      <th>Unnamed: 0</th>\n",
       "      <th>day</th>\n",
       "      <th>platform</th>\n",
       "      <th>sum</th>\n",
       "      <th>DATE</th>\n",
       "      <th>day_t</th>\n",
       "      <th>month</th>\n",
       "      <th>year</th>\n",
       "      <th>DayOfYear</th>\n",
       "    </tr>\n",
       "  </thead>\n",
       "  <tbody>\n",
       "    <tr>\n",
       "      <th>0</th>\n",
       "      <td>0</td>\n",
       "      <td>2022-04-04T00:00:00+00:00</td>\n",
       "      <td>OpenSea</td>\n",
       "      <td>1.444313e+11</td>\n",
       "      <td>2022-04-04</td>\n",
       "      <td>4</td>\n",
       "      <td>4</td>\n",
       "      <td>2022</td>\n",
       "      <td>Monday</td>\n",
       "    </tr>\n",
       "    <tr>\n",
       "      <th>1</th>\n",
       "      <td>1</td>\n",
       "      <td>2022-04-26T00:00:00+00:00</td>\n",
       "      <td>OpenSea</td>\n",
       "      <td>1.001561e+11</td>\n",
       "      <td>2022-04-26</td>\n",
       "      <td>26</td>\n",
       "      <td>4</td>\n",
       "      <td>2022</td>\n",
       "      <td>Tuesday</td>\n",
       "    </tr>\n",
       "    <tr>\n",
       "      <th>2</th>\n",
       "      <td>2</td>\n",
       "      <td>2022-03-23T00:00:00+00:00</td>\n",
       "      <td>OpenSea</td>\n",
       "      <td>7.810440e+10</td>\n",
       "      <td>2022-03-23</td>\n",
       "      <td>23</td>\n",
       "      <td>3</td>\n",
       "      <td>2022</td>\n",
       "      <td>Wednesday</td>\n",
       "    </tr>\n",
       "    <tr>\n",
       "      <th>3</th>\n",
       "      <td>3</td>\n",
       "      <td>2022-06-06T00:00:00+00:00</td>\n",
       "      <td>OpenSea</td>\n",
       "      <td>5.007891e+10</td>\n",
       "      <td>2022-06-06</td>\n",
       "      <td>6</td>\n",
       "      <td>6</td>\n",
       "      <td>2022</td>\n",
       "      <td>Monday</td>\n",
       "    </tr>\n",
       "    <tr>\n",
       "      <th>4</th>\n",
       "      <td>4</td>\n",
       "      <td>2022-05-07T00:00:00+00:00</td>\n",
       "      <td>OpenSea</td>\n",
       "      <td>2.298900e+09</td>\n",
       "      <td>2022-05-07</td>\n",
       "      <td>7</td>\n",
       "      <td>5</td>\n",
       "      <td>2022</td>\n",
       "      <td>Saturday</td>\n",
       "    </tr>\n",
       "  </tbody>\n",
       "</table>\n",
       "</div>"
      ],
      "text/plain": [
       "   Unnamed: 0                        day platform           sum        DATE  \\\n",
       "0           0  2022-04-04T00:00:00+00:00  OpenSea  1.444313e+11  2022-04-04   \n",
       "1           1  2022-04-26T00:00:00+00:00  OpenSea  1.001561e+11  2022-04-26   \n",
       "2           2  2022-03-23T00:00:00+00:00  OpenSea  7.810440e+10  2022-03-23   \n",
       "3           3  2022-06-06T00:00:00+00:00  OpenSea  5.007891e+10  2022-06-06   \n",
       "4           4  2022-05-07T00:00:00+00:00  OpenSea  2.298900e+09  2022-05-07   \n",
       "\n",
       "  day_t month  year  DayOfYear  \n",
       "0     4     4  2022     Monday  \n",
       "1    26     4  2022    Tuesday  \n",
       "2    23     3  2022  Wednesday  \n",
       "3     6     6  2022     Monday  \n",
       "4     7     5  2022   Saturday  "
      ]
     },
     "execution_count": 13,
     "metadata": {},
     "output_type": "execute_result"
    }
   ],
   "source": [
    "dfm.head()"
   ]
  },
  {
   "cell_type": "code",
   "execution_count": 14,
   "id": "b1be88ab",
   "metadata": {},
   "outputs": [
    {
     "name": "stdout",
     "output_type": "stream",
     "text": [
      "['2022' '2021' '2023' '2020' '2019' '2018' '2017']\n",
      "['OpenSea' 'LooksRare' 'LarvaLabs Contract' 'SuperRare' 'Foundation'\n",
      " 'NFTX' 'Rarible']\n"
     ]
    }
   ],
   "source": [
    "print(dfm[\"year\"].unique())\n",
    "print(dfm[\"platform\"].unique())"
   ]
  },
  {
   "cell_type": "code",
   "execution_count": 15,
   "id": "daf665c9",
   "metadata": {},
   "outputs": [],
   "source": [
    "sumtemp = dfm.pivot_table('sum', ['year', 'platform'], aggfunc='sum').reset_index()"
   ]
  },
  {
   "cell_type": "code",
   "execution_count": 16,
   "id": "bb25e503",
   "metadata": {},
   "outputs": [
    {
     "data": {
      "text/html": [
       "<div>\n",
       "<style scoped>\n",
       "    .dataframe tbody tr th:only-of-type {\n",
       "        vertical-align: middle;\n",
       "    }\n",
       "\n",
       "    .dataframe tbody tr th {\n",
       "        vertical-align: top;\n",
       "    }\n",
       "\n",
       "    .dataframe thead th {\n",
       "        text-align: right;\n",
       "    }\n",
       "</style>\n",
       "<table border=\"1\" class=\"dataframe\">\n",
       "  <thead>\n",
       "    <tr style=\"text-align: right;\">\n",
       "      <th></th>\n",
       "      <th>year</th>\n",
       "      <th>platform</th>\n",
       "      <th>sum</th>\n",
       "    </tr>\n",
       "  </thead>\n",
       "  <tbody>\n",
       "    <tr>\n",
       "      <th>21</th>\n",
       "      <td>2022</td>\n",
       "      <td>OpenSea</td>\n",
       "      <td>4.068503e+11</td>\n",
       "    </tr>\n",
       "    <tr>\n",
       "      <th>19</th>\n",
       "      <td>2022</td>\n",
       "      <td>LooksRare</td>\n",
       "      <td>2.714777e+10</td>\n",
       "    </tr>\n",
       "    <tr>\n",
       "      <th>14</th>\n",
       "      <td>2021</td>\n",
       "      <td>OpenSea</td>\n",
       "      <td>1.543232e+10</td>\n",
       "    </tr>\n",
       "    <tr>\n",
       "      <th>12</th>\n",
       "      <td>2021</td>\n",
       "      <td>LarvaLabs Contract</td>\n",
       "      <td>2.404471e+09</td>\n",
       "    </tr>\n",
       "    <tr>\n",
       "      <th>18</th>\n",
       "      <td>2022</td>\n",
       "      <td>LarvaLabs Contract</td>\n",
       "      <td>5.874074e+08</td>\n",
       "    </tr>\n",
       "    <tr>\n",
       "      <th>15</th>\n",
       "      <td>2021</td>\n",
       "      <td>Rarible</td>\n",
       "      <td>2.436790e+08</td>\n",
       "    </tr>\n",
       "    <tr>\n",
       "      <th>16</th>\n",
       "      <td>2021</td>\n",
       "      <td>SuperRare</td>\n",
       "      <td>2.073056e+08</td>\n",
       "    </tr>\n",
       "    <tr>\n",
       "      <th>26</th>\n",
       "      <td>2023</td>\n",
       "      <td>LooksRare</td>\n",
       "      <td>2.017869e+08</td>\n",
       "    </tr>\n",
       "    <tr>\n",
       "      <th>11</th>\n",
       "      <td>2021</td>\n",
       "      <td>Foundation</td>\n",
       "      <td>1.350000e+08</td>\n",
       "    </tr>\n",
       "    <tr>\n",
       "      <th>20</th>\n",
       "      <td>2022</td>\n",
       "      <td>NFTX</td>\n",
       "      <td>1.049796e+08</td>\n",
       "    </tr>\n",
       "    <tr>\n",
       "      <th>13</th>\n",
       "      <td>2021</td>\n",
       "      <td>NFTX</td>\n",
       "      <td>9.080980e+07</td>\n",
       "    </tr>\n",
       "    <tr>\n",
       "      <th>17</th>\n",
       "      <td>2022</td>\n",
       "      <td>Foundation</td>\n",
       "      <td>4.891017e+07</td>\n",
       "    </tr>\n",
       "    <tr>\n",
       "      <th>25</th>\n",
       "      <td>2023</td>\n",
       "      <td>LarvaLabs Contract</td>\n",
       "      <td>4.135681e+07</td>\n",
       "    </tr>\n",
       "    <tr>\n",
       "      <th>23</th>\n",
       "      <td>2022</td>\n",
       "      <td>SuperRare</td>\n",
       "      <td>2.426482e+07</td>\n",
       "    </tr>\n",
       "    <tr>\n",
       "      <th>8</th>\n",
       "      <td>2020</td>\n",
       "      <td>OpenSea</td>\n",
       "      <td>2.420826e+07</td>\n",
       "    </tr>\n",
       "    <tr>\n",
       "      <th>9</th>\n",
       "      <td>2020</td>\n",
       "      <td>Rarible</td>\n",
       "      <td>2.317458e+07</td>\n",
       "    </tr>\n",
       "    <tr>\n",
       "      <th>28</th>\n",
       "      <td>2023</td>\n",
       "      <td>OpenSea</td>\n",
       "      <td>2.192367e+07</td>\n",
       "    </tr>\n",
       "    <tr>\n",
       "      <th>22</th>\n",
       "      <td>2022</td>\n",
       "      <td>Rarible</td>\n",
       "      <td>1.997794e+07</td>\n",
       "    </tr>\n",
       "    <tr>\n",
       "      <th>4</th>\n",
       "      <td>2019</td>\n",
       "      <td>OpenSea</td>\n",
       "      <td>7.407580e+06</td>\n",
       "    </tr>\n",
       "    <tr>\n",
       "      <th>10</th>\n",
       "      <td>2020</td>\n",
       "      <td>SuperRare</td>\n",
       "      <td>6.204787e+06</td>\n",
       "    </tr>\n",
       "    <tr>\n",
       "      <th>27</th>\n",
       "      <td>2023</td>\n",
       "      <td>NFTX</td>\n",
       "      <td>4.597441e+06</td>\n",
       "    </tr>\n",
       "    <tr>\n",
       "      <th>7</th>\n",
       "      <td>2020</td>\n",
       "      <td>LarvaLabs Contract</td>\n",
       "      <td>3.915070e+06</td>\n",
       "    </tr>\n",
       "    <tr>\n",
       "      <th>24</th>\n",
       "      <td>2023</td>\n",
       "      <td>Foundation</td>\n",
       "      <td>3.202561e+06</td>\n",
       "    </tr>\n",
       "    <tr>\n",
       "      <th>2</th>\n",
       "      <td>2018</td>\n",
       "      <td>OpenSea</td>\n",
       "      <td>4.720329e+05</td>\n",
       "    </tr>\n",
       "    <tr>\n",
       "      <th>6</th>\n",
       "      <td>2019</td>\n",
       "      <td>SuperRare</td>\n",
       "      <td>2.954019e+05</td>\n",
       "    </tr>\n",
       "    <tr>\n",
       "      <th>0</th>\n",
       "      <td>2017</td>\n",
       "      <td>LarvaLabs Contract</td>\n",
       "      <td>1.536781e+05</td>\n",
       "    </tr>\n",
       "    <tr>\n",
       "      <th>1</th>\n",
       "      <td>2018</td>\n",
       "      <td>LarvaLabs Contract</td>\n",
       "      <td>1.307661e+05</td>\n",
       "    </tr>\n",
       "    <tr>\n",
       "      <th>3</th>\n",
       "      <td>2019</td>\n",
       "      <td>LarvaLabs Contract</td>\n",
       "      <td>1.168192e+05</td>\n",
       "    </tr>\n",
       "    <tr>\n",
       "      <th>29</th>\n",
       "      <td>2023</td>\n",
       "      <td>SuperRare</td>\n",
       "      <td>8.053185e+04</td>\n",
       "    </tr>\n",
       "    <tr>\n",
       "      <th>5</th>\n",
       "      <td>2019</td>\n",
       "      <td>Rarible</td>\n",
       "      <td>1.068575e+02</td>\n",
       "    </tr>\n",
       "  </tbody>\n",
       "</table>\n",
       "</div>"
      ],
      "text/plain": [
       "    year            platform           sum\n",
       "21  2022             OpenSea  4.068503e+11\n",
       "19  2022           LooksRare  2.714777e+10\n",
       "14  2021             OpenSea  1.543232e+10\n",
       "12  2021  LarvaLabs Contract  2.404471e+09\n",
       "18  2022  LarvaLabs Contract  5.874074e+08\n",
       "15  2021             Rarible  2.436790e+08\n",
       "16  2021           SuperRare  2.073056e+08\n",
       "26  2023           LooksRare  2.017869e+08\n",
       "11  2021          Foundation  1.350000e+08\n",
       "20  2022                NFTX  1.049796e+08\n",
       "13  2021                NFTX  9.080980e+07\n",
       "17  2022          Foundation  4.891017e+07\n",
       "25  2023  LarvaLabs Contract  4.135681e+07\n",
       "23  2022           SuperRare  2.426482e+07\n",
       "8   2020             OpenSea  2.420826e+07\n",
       "9   2020             Rarible  2.317458e+07\n",
       "28  2023             OpenSea  2.192367e+07\n",
       "22  2022             Rarible  1.997794e+07\n",
       "4   2019             OpenSea  7.407580e+06\n",
       "10  2020           SuperRare  6.204787e+06\n",
       "27  2023                NFTX  4.597441e+06\n",
       "7   2020  LarvaLabs Contract  3.915070e+06\n",
       "24  2023          Foundation  3.202561e+06\n",
       "2   2018             OpenSea  4.720329e+05\n",
       "6   2019           SuperRare  2.954019e+05\n",
       "0   2017  LarvaLabs Contract  1.536781e+05\n",
       "1   2018  LarvaLabs Contract  1.307661e+05\n",
       "3   2019  LarvaLabs Contract  1.168192e+05\n",
       "29  2023           SuperRare  8.053185e+04\n",
       "5   2019             Rarible  1.068575e+02"
      ]
     },
     "execution_count": 16,
     "metadata": {},
     "output_type": "execute_result"
    }
   ],
   "source": [
    "sumtemp.sort_values(by=\"sum\",ascending=False)"
   ]
  },
  {
   "cell_type": "code",
   "execution_count": 17,
   "id": "0752f4ea",
   "metadata": {},
   "outputs": [],
   "source": [
    "sumt = sumtemp[sumtemp.platform != \"OpenSea\"]\n",
    "sumfinal = sumt[sumt.platform != \"LooksRare\"]"
   ]
  },
  {
   "cell_type": "code",
   "execution_count": 18,
   "id": "67e9d6df",
   "metadata": {},
   "outputs": [
    {
     "data": {
      "image/png": "[encoded data removed]",
      "text/plain": [
       "<Figure size 1000x700 with 1 Axes>"
      ]
     },
     "metadata": {},
     "output_type": "display_data"
    }
   ],
   "source": [
    "platform = sumfinal['platform']\n",
    "sums = sumfinal['sum']\n",
    "fig = plt.figure(figsize =(10, 7))\n",
    "plt.bar(platform, sums)\n",
    "plt.show()"
   ]
  },
  {
   "cell_type": "code",
   "execution_count": 19,
   "id": "fad76a76",
   "metadata": {},
   "outputs": [
    {
     "data": {
      "image/png": "[encoded data removed]",
      "text/plain": [
       "<Figure size 640x480 with 2 Axes>"
      ]
     },
     "metadata": {},
     "output_type": "display_data"
    }
   ],
   "source": [
    "piv = pd.pivot_table(sumfinal, values=\"sum\",index=[\"year\"], columns=[\"platform\"], fill_value=0)\n",
    "fig, ax = plt.subplots()\n",
    "im = ax.imshow(piv, cmap=\"Greens\")\n",
    "fig.colorbar(im, ax=ax)\n",
    "\n",
    "ax.set_xticks(range(len(piv.columns)))\n",
    "ax.set_yticks(range(len(piv.index)))\n",
    "ax.set_xticklabels(piv.columns, rotation=90)\n",
    "ax.set_yticklabels(piv.index)\n",
    "ax.set_xlabel(\"Platform\")\n",
    "ax.set_ylabel(\"month\")\n",
    "\n",
    "plt.tight_layout()\n",
    "plt.show()"
   ]
  },
  {
   "cell_type": "markdown",
   "id": "2544e9ca",
   "metadata": {},
   "source": [
    "# by trade"
   ]
  },
  {
   "cell_type": "code",
   "execution_count": 91,
   "id": "eb58502a",
   "metadata": {},
   "outputs": [],
   "source": [
    "tradeWise = 'popularPlatformsByTrade.csv'\n",
    "dfm = pd.read_csv(tradeWise)\n",
    "dfm['DATE'] = pd.to_datetime(dfm['day']).dt.date\n",
    "dfm['day_t'] = dfm['DATE'].apply(lambda x: x.strftime('%-d')) \n",
    "dfm['month'] = dfm['DATE'].apply(lambda x: x.strftime('%-m')) \n",
    "dfm['year'] = dfm['DATE'].apply(lambda x: x.strftime('%Y')) \n",
    "dfm['DayOfYear'] = dfm['DATE'].apply(lambda x: x.strftime('%-j')) \n",
    "dfm['DayOfYear'] = dfm['DATE'].apply(lambda x: x.strftime('%A'))\n",
    "\n"
   ]
  },
  {
   "cell_type": "code",
   "execution_count": 92,
   "id": "bb5a01e4",
   "metadata": {},
   "outputs": [
    {
     "data": {
      "text/html": [
       "<div>\n",
       "<style scoped>\n",
       "    .dataframe tbody tr th:only-of-type {\n",
       "        vertical-align: middle;\n",
       "    }\n",
       "\n",
       "    .dataframe tbody tr th {\n",
       "        vertical-align: top;\n",
       "    }\n",
       "\n",
       "    .dataframe thead th {\n",
       "        text-align: right;\n",
       "    }\n",
       "</style>\n",
       "<table border=\"1\" class=\"dataframe\">\n",
       "  <thead>\n",
       "    <tr style=\"text-align: right;\">\n",
       "      <th></th>\n",
       "      <th>year</th>\n",
       "      <th>platform</th>\n",
       "      <th>popular</th>\n",
       "    </tr>\n",
       "  </thead>\n",
       "  <tbody>\n",
       "    <tr>\n",
       "      <th>15</th>\n",
       "      <td>2021</td>\n",
       "      <td>Rarible</td>\n",
       "      <td>193659</td>\n",
       "    </tr>\n",
       "    <tr>\n",
       "      <th>20</th>\n",
       "      <td>2022</td>\n",
       "      <td>NFTX</td>\n",
       "      <td>171583</td>\n",
       "    </tr>\n",
       "    <tr>\n",
       "      <th>9</th>\n",
       "      <td>2020</td>\n",
       "      <td>Rarible</td>\n",
       "      <td>86643</td>\n",
       "    </tr>\n",
       "    <tr>\n",
       "      <th>11</th>\n",
       "      <td>2021</td>\n",
       "      <td>Foundation</td>\n",
       "      <td>50236</td>\n",
       "    </tr>\n",
       "    <tr>\n",
       "      <th>17</th>\n",
       "      <td>2022</td>\n",
       "      <td>Foundation</td>\n",
       "      <td>47011</td>\n",
       "    </tr>\n",
       "    <tr>\n",
       "      <th>13</th>\n",
       "      <td>2021</td>\n",
       "      <td>NFTX</td>\n",
       "      <td>46199</td>\n",
       "    </tr>\n",
       "    <tr>\n",
       "      <th>22</th>\n",
       "      <td>2022</td>\n",
       "      <td>Rarible</td>\n",
       "      <td>20141</td>\n",
       "    </tr>\n",
       "    <tr>\n",
       "      <th>16</th>\n",
       "      <td>2021</td>\n",
       "      <td>SuperRare</td>\n",
       "      <td>13665</td>\n",
       "    </tr>\n",
       "    <tr>\n",
       "      <th>27</th>\n",
       "      <td>2023</td>\n",
       "      <td>NFTX</td>\n",
       "      <td>12768</td>\n",
       "    </tr>\n",
       "    <tr>\n",
       "      <th>12</th>\n",
       "      <td>2021</td>\n",
       "      <td>LarvaLabs Contract</td>\n",
       "      <td>12077</td>\n",
       "    </tr>\n",
       "    <tr>\n",
       "      <th>10</th>\n",
       "      <td>2020</td>\n",
       "      <td>SuperRare</td>\n",
       "      <td>9428</td>\n",
       "    </tr>\n",
       "    <tr>\n",
       "      <th>24</th>\n",
       "      <td>2023</td>\n",
       "      <td>Foundation</td>\n",
       "      <td>6567</td>\n",
       "    </tr>\n",
       "    <tr>\n",
       "      <th>18</th>\n",
       "      <td>2022</td>\n",
       "      <td>LarvaLabs Contract</td>\n",
       "      <td>3599</td>\n",
       "    </tr>\n",
       "    <tr>\n",
       "      <th>6</th>\n",
       "      <td>2019</td>\n",
       "      <td>SuperRare</td>\n",
       "      <td>3291</td>\n",
       "    </tr>\n",
       "    <tr>\n",
       "      <th>7</th>\n",
       "      <td>2020</td>\n",
       "      <td>LarvaLabs Contract</td>\n",
       "      <td>2877</td>\n",
       "    </tr>\n",
       "    <tr>\n",
       "      <th>0</th>\n",
       "      <td>2017</td>\n",
       "      <td>LarvaLabs Contract</td>\n",
       "      <td>1286</td>\n",
       "    </tr>\n",
       "    <tr>\n",
       "      <th>23</th>\n",
       "      <td>2022</td>\n",
       "      <td>SuperRare</td>\n",
       "      <td>1160</td>\n",
       "    </tr>\n",
       "    <tr>\n",
       "      <th>3</th>\n",
       "      <td>2019</td>\n",
       "      <td>LarvaLabs Contract</td>\n",
       "      <td>1068</td>\n",
       "    </tr>\n",
       "    <tr>\n",
       "      <th>1</th>\n",
       "      <td>2018</td>\n",
       "      <td>LarvaLabs Contract</td>\n",
       "      <td>899</td>\n",
       "    </tr>\n",
       "    <tr>\n",
       "      <th>25</th>\n",
       "      <td>2023</td>\n",
       "      <td>LarvaLabs Contract</td>\n",
       "      <td>394</td>\n",
       "    </tr>\n",
       "    <tr>\n",
       "      <th>29</th>\n",
       "      <td>2023</td>\n",
       "      <td>SuperRare</td>\n",
       "      <td>32</td>\n",
       "    </tr>\n",
       "    <tr>\n",
       "      <th>5</th>\n",
       "      <td>2019</td>\n",
       "      <td>Rarible</td>\n",
       "      <td>22</td>\n",
       "    </tr>\n",
       "  </tbody>\n",
       "</table>\n",
       "</div>"
      ],
      "text/plain": [
       "    year            platform  popular\n",
       "15  2021             Rarible   193659\n",
       "20  2022                NFTX   171583\n",
       "9   2020             Rarible    86643\n",
       "11  2021          Foundation    50236\n",
       "17  2022          Foundation    47011\n",
       "13  2021                NFTX    46199\n",
       "22  2022             Rarible    20141\n",
       "16  2021           SuperRare    13665\n",
       "27  2023                NFTX    12768\n",
       "12  2021  LarvaLabs Contract    12077\n",
       "10  2020           SuperRare     9428\n",
       "24  2023          Foundation     6567\n",
       "18  2022  LarvaLabs Contract     3599\n",
       "6   2019           SuperRare     3291\n",
       "7   2020  LarvaLabs Contract     2877\n",
       "0   2017  LarvaLabs Contract     1286\n",
       "23  2022           SuperRare     1160\n",
       "3   2019  LarvaLabs Contract     1068\n",
       "1   2018  LarvaLabs Contract      899\n",
       "25  2023  LarvaLabs Contract      394\n",
       "29  2023           SuperRare       32\n",
       "5   2019             Rarible       22"
      ]
     },
     "execution_count": 92,
     "metadata": {},
     "output_type": "execute_result"
    }
   ],
   "source": [
    "tradet = dfm.pivot_table('popular', ['year', 'platform'], aggfunc='sum').reset_index()\n",
    "trader = tradet[tradet.platform != \"OpenSea\"]\n",
    "tradefinal = trader[sumt.platform != \"LooksRare\"]\n",
    "\n",
    "\n",
    "tradefinal.sort_values(by=\"popular\",ascending=False)"
   ]
  },
  {
   "cell_type": "code",
   "execution_count": 93,
   "id": "9ba253df",
   "metadata": {},
   "outputs": [
    {
     "data": {
      "image/png": "[encoded data removed]",
      "text/plain": [
       "<Figure size 1000x700 with 1 Axes>"
      ]
     },
     "metadata": {},
     "output_type": "display_data"
    }
   ],
   "source": [
    "platform = tradefinal['platform']\n",
    "tradeCount = tradefinal['popular']\n",
    "fig = plt.figure(figsize =(10, 7))\n",
    "plt.bar(platform, tradeCount)\n",
    "plt.show()"
   ]
  },
  {
   "cell_type": "code",
   "execution_count": 95,
   "id": "90721fc4",
   "metadata": {},
   "outputs": [
    {
     "data": {
      "image/png": "[encoded data removed]",
      "text/plain": [
       "<Figure size 640x480 with 2 Axes>"
      ]
     },
     "metadata": {},
     "output_type": "display_data"
    }
   ],
   "source": [
    "piv = pd.pivot_table(tradefinal, values=\"popular\",index=[\"year\"], columns=[\"platform\"], fill_value=0)\n",
    "fig, ax = plt.subplots()\n",
    "im = ax.imshow(piv, cmap=\"Reds\")\n",
    "fig.colorbar(im, ax=ax)\n",
    "\n",
    "ax.set_xticks(range(len(piv.columns)))\n",
    "ax.set_yticks(range(len(piv.index)))\n",
    "ax.set_xticklabels(piv.columns, rotation=90)\n",
    "ax.set_yticklabels(piv.index)\n",
    "ax.set_xlabel(\"Platform\")\n",
    "ax.set_ylabel(\"month\")\n",
    "\n",
    "plt.tight_layout()\n",
    "plt.show()"
   ]
  },
  {
   "cell_type": "code",
   "execution_count": null,
   "id": "ed2453d8",
   "metadata": {},
   "outputs": [],
   "source": []
  }
 ],
 "metadata": {
  "kernelspec": {
   "display_name": "Python [conda env:itp]",
   "language": "python",
   "name": "conda-env-itp-py"
  },
  "language_info": {
   "codemirror_mode": {
    "name": "ipython",
    "version": 3
   },
   "file_extension": ".py",
   "mimetype": "text/x-python",
   "name": "python",
   "nbconvert_exporter": "python",
   "pygments_lexer": "ipython3",
   "version": "3.9.16"
  }
 },
 "nbformat": 4,
 "nbformat_minor": 5
}
